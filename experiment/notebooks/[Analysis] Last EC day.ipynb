{
 "cells": [
  {
   "cell_type": "code",
   "execution_count": 1,
   "id": "4da0cd0d-476d-49db-8095-e587c6e4d762",
   "metadata": {
    "tags": []
   },
   "outputs": [],
   "source": [
    "# !gsutil cp -r gs://volume_ai_1yr_daily_data/* /home/jupyter/lstm/"
   ]
  },
  {
   "cell_type": "code",
   "execution_count": 176,
   "id": "1383dc60-bc41-4b25-a404-4ba57a87282f",
   "metadata": {
    "collapsed": true,
    "jupyter": {
     "outputs_hidden": true
    },
    "tags": []
   },
   "outputs": [
    {
     "name": "stdout",
     "output_type": "stream",
     "text": [
      "Collecting captum\n",
      "  Downloading captum-0.7.0-py3-none-any.whl.metadata (26 kB)\n",
      "Requirement already satisfied: matplotlib in /opt/conda/lib/python3.10/site-packages (from captum) (3.7.3)\n",
      "Requirement already satisfied: numpy in /opt/conda/lib/python3.10/site-packages (from captum) (1.25.2)\n",
      "Requirement already satisfied: torch>=1.6 in /opt/conda/lib/python3.10/site-packages (from captum) (2.2.0+cu121)\n",
      "Requirement already satisfied: tqdm in /opt/conda/lib/python3.10/site-packages (from captum) (4.66.2)\n",
      "Requirement already satisfied: filelock in /opt/conda/lib/python3.10/site-packages (from torch>=1.6->captum) (3.13.1)\n",
      "Requirement already satisfied: typing-extensions>=4.8.0 in /opt/conda/lib/python3.10/site-packages (from torch>=1.6->captum) (4.10.0)\n",
      "Requirement already satisfied: sympy in /opt/conda/lib/python3.10/site-packages (from torch>=1.6->captum) (1.12)\n",
      "Requirement already satisfied: networkx in /opt/conda/lib/python3.10/site-packages (from torch>=1.6->captum) (3.2.1)\n",
      "Requirement already satisfied: jinja2 in /opt/conda/lib/python3.10/site-packages (from torch>=1.6->captum) (3.1.3)\n",
      "Requirement already satisfied: fsspec in /opt/conda/lib/python3.10/site-packages (from torch>=1.6->captum) (2024.3.1)\n",
      "Requirement already satisfied: nvidia-cuda-nvrtc-cu12==12.1.105 in /opt/conda/lib/python3.10/site-packages (from torch>=1.6->captum) (12.1.105)\n",
      "Requirement already satisfied: nvidia-cuda-runtime-cu12==12.1.105 in /opt/conda/lib/python3.10/site-packages (from torch>=1.6->captum) (12.1.105)\n",
      "Requirement already satisfied: nvidia-cuda-cupti-cu12==12.1.105 in /opt/conda/lib/python3.10/site-packages (from torch>=1.6->captum) (12.1.105)\n",
      "Requirement already satisfied: nvidia-cudnn-cu12==8.9.2.26 in /opt/conda/lib/python3.10/site-packages (from torch>=1.6->captum) (8.9.2.26)\n",
      "Requirement already satisfied: nvidia-cublas-cu12==12.1.3.1 in /opt/conda/lib/python3.10/site-packages (from torch>=1.6->captum) (12.1.3.1)\n",
      "Requirement already satisfied: nvidia-cufft-cu12==11.0.2.54 in /opt/conda/lib/python3.10/site-packages (from torch>=1.6->captum) (11.0.2.54)\n",
      "Requirement already satisfied: nvidia-curand-cu12==10.3.2.106 in /opt/conda/lib/python3.10/site-packages (from torch>=1.6->captum) (10.3.2.106)\n",
      "Requirement already satisfied: nvidia-cusolver-cu12==11.4.5.107 in /opt/conda/lib/python3.10/site-packages (from torch>=1.6->captum) (11.4.5.107)\n",
      "Requirement already satisfied: nvidia-cusparse-cu12==12.1.0.106 in /opt/conda/lib/python3.10/site-packages (from torch>=1.6->captum) (12.1.0.106)\n",
      "Requirement already satisfied: nvidia-nccl-cu12==2.19.3 in /opt/conda/lib/python3.10/site-packages (from torch>=1.6->captum) (2.19.3)\n",
      "Requirement already satisfied: nvidia-nvtx-cu12==12.1.105 in /opt/conda/lib/python3.10/site-packages (from torch>=1.6->captum) (12.1.105)\n",
      "Requirement already satisfied: triton==2.2.0 in /opt/conda/lib/python3.10/site-packages (from torch>=1.6->captum) (2.2.0)\n",
      "Requirement already satisfied: nvidia-nvjitlink-cu12 in /opt/conda/lib/python3.10/site-packages (from nvidia-cusolver-cu12==11.4.5.107->torch>=1.6->captum) (12.4.99)\n",
      "Requirement already satisfied: contourpy>=1.0.1 in /opt/conda/lib/python3.10/site-packages (from matplotlib->captum) (1.2.0)\n",
      "Requirement already satisfied: cycler>=0.10 in /opt/conda/lib/python3.10/site-packages (from matplotlib->captum) (0.12.1)\n",
      "Requirement already satisfied: fonttools>=4.22.0 in /opt/conda/lib/python3.10/site-packages (from matplotlib->captum) (4.50.0)\n",
      "Requirement already satisfied: kiwisolver>=1.0.1 in /opt/conda/lib/python3.10/site-packages (from matplotlib->captum) (1.4.5)\n",
      "Requirement already satisfied: packaging>=20.0 in /opt/conda/lib/python3.10/site-packages (from matplotlib->captum) (24.0)\n",
      "Requirement already satisfied: pillow>=6.2.0 in /opt/conda/lib/python3.10/site-packages (from matplotlib->captum) (10.2.0)\n",
      "Requirement already satisfied: pyparsing>=2.3.1 in /opt/conda/lib/python3.10/site-packages (from matplotlib->captum) (3.1.2)\n",
      "Requirement already satisfied: python-dateutil>=2.7 in /opt/conda/lib/python3.10/site-packages (from matplotlib->captum) (2.9.0)\n",
      "Requirement already satisfied: six>=1.5 in /opt/conda/lib/python3.10/site-packages (from python-dateutil>=2.7->matplotlib->captum) (1.16.0)\n",
      "Requirement already satisfied: MarkupSafe>=2.0 in /opt/conda/lib/python3.10/site-packages (from jinja2->torch>=1.6->captum) (2.1.5)\n",
      "Requirement already satisfied: mpmath>=0.19 in /opt/conda/lib/python3.10/site-packages (from sympy->torch>=1.6->captum) (1.3.0)\n",
      "Downloading captum-0.7.0-py3-none-any.whl (1.3 MB)\n",
      "\u001b[2K   \u001b[90m━━━━━━━━━━━━━━━━━━━━━━━━━━━━━━━━━━━━━━━━\u001b[0m \u001b[32m1.3/1.3 MB\u001b[0m \u001b[31m6.6 MB/s\u001b[0m eta \u001b[36m0:00:00\u001b[0ma \u001b[36m0:00:01\u001b[0m\n",
      "\u001b[?25hInstalling collected packages: captum\n",
      "Successfully installed captum-0.7.0\n"
     ]
    }
   ],
   "source": [
    "# !pip install captum"
   ]
  },
  {
   "cell_type": "markdown",
   "id": "b2d50e4e-5aad-43f1-acad-6a8c9f6b9ab3",
   "metadata": {},
   "source": [
    "## Install Package"
   ]
  },
  {
   "cell_type": "code",
   "execution_count": 1,
   "id": "b825cdd6-e04f-482b-97a6-9725630ec112",
   "metadata": {
    "tags": []
   },
   "outputs": [],
   "source": [
    "import pandas as pd\n",
    "import numpy as np\n",
    "from sklearn.preprocessing import MinMaxScaler, StandardScaler\n",
    "from sklearn.model_selection import train_test_split\n",
    "import torch\n",
    "import torch.nn as nn\n",
    "import torch.optim as optim\n",
    "import tqdm\n",
    "from plotnine import *\n",
    "from plotnine.data import *\n",
    "import random\n",
    "from sklearn.utils import resample\n",
    "from torch.utils.data import DataLoader, TensorDataset\n",
    "from sklearn.metrics import classification_report\n",
    "from sklearn.metrics import roc_curve, auc\n",
    "import matplotlib.pyplot as plt\n",
    "from torch.optim.lr_scheduler import ExponentialLR, OneCycleLR\n",
    "from captum.attr import IntegratedGradients\n",
    "from plotnine.data import *\n",
    "import seaborn as sns\n",
    "import gc"
   ]
  },
  {
   "cell_type": "markdown",
   "id": "46fb362b-d80e-4210-9fbd-5e620f6ea160",
   "metadata": {},
   "source": [
    "## Read Data"
   ]
  },
  {
   "cell_type": "markdown",
   "id": "eaaca05a-3ba1-4473-840a-dba8b00853d0",
   "metadata": {
    "tags": []
   },
   "source": [
    "### Behavior Event data"
   ]
  },
  {
   "cell_type": "code",
   "execution_count": 6,
   "id": "d8172e5a-b321-4c89-be37-7951b724ca28",
   "metadata": {
    "tags": []
   },
   "outputs": [
    {
     "data": {
      "text/plain": [
       "(43407210, 6)"
      ]
     },
     "execution_count": 6,
     "metadata": {},
     "output_type": "execute_result"
    }
   ],
   "source": [
    "fea_data = pd.concat([pd.read_csv('/home/jupyter/lstm/data/VolumeAI_nonactive_ec_data_aggregate_1yr.csv')\n",
    "                , pd.read_csv('/home/jupyter/lstm/data/VolumeAI_nonactive_feature__data_aggregate_1yr.csv')\n",
    "                , pd.read_csv('/home/jupyter/lstm/data/VolumeAI_nonactive_popup__data_aggregate_1yr.csv')\n",
    "                ])\n",
    "fea_data['expired_date'] = fea_data['expired_date'].str[:10]\n",
    "fea_data.shape"
   ]
  },
  {
   "cell_type": "code",
   "execution_count": 3,
   "id": "97179d1e-d206-4c7e-bd3b-c2a3946985d0",
   "metadata": {
    "tags": []
   },
   "outputs": [],
   "source": [
    "fea_data_202401 = fea_data[fea_data['expired_date']=='2024-01-31']\n",
    "feature_table_202401 = pd.pivot_table(fea_data_202401, values=['event_'], index=['hashed_sn', 'expired_date', 'event_day_diff'], columns=['event'], aggfunc=\"max\", fill_value=0)"
   ]
  },
  {
   "cell_type": "code",
   "execution_count": 4,
   "id": "cb56d0e9-775a-4055-9af8-d4ab68e7092e",
   "metadata": {
    "tags": []
   },
   "outputs": [],
   "source": [
    "fea_data_202402 = fea_data[fea_data['expired_date']=='2024-02-29']\n",
    "feature_table_202402 = pd.pivot_table(fea_data_202402, values=['event_'], index=['hashed_sn', 'expired_date', 'event_day_diff'], columns=['event'], aggfunc=\"max\", fill_value=0)"
   ]
  },
  {
   "cell_type": "code",
   "execution_count": 5,
   "id": "8fed9100-8a7e-4756-83a7-28fd715c76e1",
   "metadata": {
    "tags": []
   },
   "outputs": [],
   "source": [
    "fea_data_202403 = fea_data[fea_data['expired_date']=='2024-03-31']\n",
    "feature_table_202403 = pd.pivot_table(fea_data_202403, values=['event_'], index=['hashed_sn', 'expired_date', 'event_day_diff'], columns=['event'], aggfunc=\"max\", fill_value=0)"
   ]
  },
  {
   "cell_type": "code",
   "execution_count": 7,
   "id": "3d7df98e-071e-4fcc-b36e-d4cd30610a97",
   "metadata": {
    "tags": []
   },
   "outputs": [],
   "source": [
    "feature_table_202401 = feature_table_202401.reset_index()\n",
    "feature_table_202402 = feature_table_202402.reset_index()\n",
    "feature_table_202403 = feature_table_202403.reset_index()"
   ]
  },
  {
   "cell_type": "code",
   "execution_count": 8,
   "id": "2b661d2a-7770-4422-9bcf-bd8b8dca3f7d",
   "metadata": {
    "tags": []
   },
   "outputs": [],
   "source": [
    "feature_table_202401.columns = [''.join(col).strip() if isinstance(col, tuple) else col for col in feature_table_202401.columns]\n",
    "feature_table_202402.columns = [''.join(col).strip() if isinstance(col, tuple) else col for col in feature_table_202402.columns]\n",
    "feature_table_202403.columns = [''.join(col).strip() if isinstance(col, tuple) else col for col in feature_table_202403.columns]"
   ]
  },
  {
   "cell_type": "code",
   "execution_count": 9,
   "id": "365835cf-4600-462d-807d-17db1db7a93f",
   "metadata": {
    "tags": []
   },
   "outputs": [],
   "source": [
    "event_day_diff = pd.DataFrame({'event_day_diff': list(range(0, 391, 1))})\n",
    "sn_202401 = feature_table_202401[['hashed_sn', 'expired_date']].drop_duplicates().reset_index(drop=True)\n",
    "sn_202401 = sn_202401.merge(event_day_diff, how='cross')\n",
    "\n",
    "sn_202402 = feature_table_202402[['hashed_sn', 'expired_date']].drop_duplicates().reset_index(drop=True)\n",
    "sn_202402 = sn_202402.merge(event_day_diff, how='cross')\n",
    "\n",
    "sn_202403 = feature_table_202403[['hashed_sn', 'expired_date']].drop_duplicates().reset_index(drop=True)\n",
    "sn_202403 = sn_202403.merge(event_day_diff, how='cross')"
   ]
  },
  {
   "cell_type": "code",
   "execution_count": 10,
   "id": "4e15b2e8-63e7-4a29-93d1-2904c4dbd46a",
   "metadata": {
    "tags": []
   },
   "outputs": [
    {
     "data": {
      "text/html": [
       "<div>\n",
       "<style scoped>\n",
       "    .dataframe tbody tr th:only-of-type {\n",
       "        vertical-align: middle;\n",
       "    }\n",
       "\n",
       "    .dataframe tbody tr th {\n",
       "        vertical-align: top;\n",
       "    }\n",
       "\n",
       "    .dataframe thead th {\n",
       "        text-align: right;\n",
       "    }\n",
       "</style>\n",
       "<table border=\"1\" class=\"dataframe\">\n",
       "  <thead>\n",
       "    <tr style=\"text-align: right;\">\n",
       "      <th></th>\n",
       "      <th>hashed_sn</th>\n",
       "      <th>expired_date</th>\n",
       "      <th>event_day_diff</th>\n",
       "      <th>event_DP_introduction-end</th>\n",
       "      <th>event_DP_introduction-start</th>\n",
       "      <th>event_DTP_introduction-end</th>\n",
       "      <th>event_DTP_introduction-start</th>\n",
       "      <th>event_FS_introduction-end</th>\n",
       "      <th>event_FS_introduction-start</th>\n",
       "      <th>event_OpenMonthlyReportPopup</th>\n",
       "      <th>...</th>\n",
       "      <th>event_privacy_scanner_tb</th>\n",
       "      <th>event_pt_scan</th>\n",
       "      <th>event_quickScan</th>\n",
       "      <th>event_schedule_scan</th>\n",
       "      <th>event_secure_erase</th>\n",
       "      <th>event_stopRegularScan</th>\n",
       "      <th>event_updateManually</th>\n",
       "      <th>event_wifi_check</th>\n",
       "      <th>event_wtp</th>\n",
       "      <th>event_wtp_tb</th>\n",
       "    </tr>\n",
       "  </thead>\n",
       "  <tbody>\n",
       "  </tbody>\n",
       "</table>\n",
       "<p>0 rows × 75 columns</p>\n",
       "</div>"
      ],
      "text/plain": [
       "Empty DataFrame\n",
       "Columns: [hashed_sn, expired_date, event_day_diff, event_DP_introduction-end, event_DP_introduction-start, event_DTP_introduction-end, event_DTP_introduction-start, event_FS_introduction-end, event_FS_introduction-start, event_OpenMonthlyReportPopup, event_PC_introduction-end, event_PC_introduction-start, event_PP_Detection, event_PP_Detection_, event_PP_Detection_1, event_PP_Detection_2, event_PP_Detection_3, event_PP_Detection_4, event_PP_Feature, event_PP_Feature_, event_PP_Feature_1, event_PP_Feature_2, event_PP_Feature_3, event_PP_Feature_4, event_PP_Info, event_PP_Info_1, event_PP_Info_2, event_PP_Info_3, event_PP_Info_4, event_PP_Product, event_PP_Product_1, event_PP_Product_2, event_PP_Product_3, event_PP_Product_4, event_PP_Unknown, event_RTS_ML, event_SE_introduction-end, event_SE_introduction-start, event_VT_introduction-end, event_VT_introduction-start, event_access_security_report, event_ad_block_tb, event_add_mute_mode_program, event_air_support, event_anti_exploit, event_anti_spam, event_bns, event_browser_exploit, event_checkDetailReport, event_checkDetailReportMakeFurtherImprovement, event_customizedScan, event_download_scan, event_dr_scan, event_eclog, event_emailreport, event_firewall_booster, event_folder_shield_th, event_fraud_buster, event_fraud_buster_tb, event_fullScan, event_mail_scan, event_manual_scan, event_openMainConsole, event_pay_guard, event_pay_guard_tb, event_privacy_scanner_tb, event_pt_scan, event_quickScan, event_schedule_scan, event_secure_erase, event_stopRegularScan, event_updateManually, event_wifi_check, event_wtp, event_wtp_tb]\n",
       "Index: []\n",
       "\n",
       "[0 rows x 75 columns]"
      ]
     },
     "execution_count": 10,
     "metadata": {},
     "output_type": "execute_result"
    }
   ],
   "source": [
    "feature_table_202401[feature_table_202401.isna().any(axis=1)]\n",
    "feature_table_202402[feature_table_202402.isna().any(axis=1)]\n",
    "feature_table_202403[feature_table_202403.isna().any(axis=1)]"
   ]
  },
  {
   "cell_type": "code",
   "execution_count": 13,
   "id": "02a7de24-97d8-44b1-baf2-c59b41e0d370",
   "metadata": {
    "tags": []
   },
   "outputs": [],
   "source": [
    "feature_table_202401 = sn_202401.merge(feature_table_202401, how='left', on=['hashed_sn', 'expired_date', 'event_day_diff']).fillna(0)\n",
    "feature_table_202401.to_csv('/home/jupyter/lstm/temp_table/df_feature_202401.csv', index=False)"
   ]
  },
  {
   "cell_type": "code",
   "execution_count": null,
   "id": "4574a3e8-093f-4bd9-99f8-c77a0c8965ec",
   "metadata": {},
   "outputs": [],
   "source": [
    "gc.collect()"
   ]
  },
  {
   "cell_type": "code",
   "execution_count": 15,
   "id": "e6b4fa33-0510-4154-b086-b6d6f58b325d",
   "metadata": {
    "tags": []
   },
   "outputs": [
    {
     "data": {
      "text/plain": [
       "0"
      ]
     },
     "execution_count": 15,
     "metadata": {},
     "output_type": "execute_result"
    }
   ],
   "source": [
    "feature_table_202402 = sn_202402.merge(feature_table_202402, how='left', on=['hashed_sn', 'expired_date', 'event_day_diff']).fillna(0)\n",
    "feature_table_202402.to_csv('/home/jupyter/lstm/temp_table/df_feature_202402.csv', index=False)"
   ]
  },
  {
   "cell_type": "code",
   "execution_count": null,
   "id": "72c7f429-be68-4321-b40a-7c12853bac05",
   "metadata": {},
   "outputs": [],
   "source": [
    "gc.collect()"
   ]
  },
  {
   "cell_type": "code",
   "execution_count": 11,
   "id": "bcbd6b86-b5ec-4412-8ebf-d56f3fafc79e",
   "metadata": {
    "tags": []
   },
   "outputs": [],
   "source": [
    "feature_table_202403 = sn_202403.merge(feature_table_202403, how='left', on=['hashed_sn', 'expired_date', 'event_day_diff']).fillna(0)\n",
    "feature_table_202403.to_csv('/home/jupyter/lstm/temp_table/df_feature_202403.csv', index=False)"
   ]
  },
  {
   "cell_type": "code",
   "execution_count": null,
   "id": "20cec17c-e817-4295-b6a3-681bf4140614",
   "metadata": {
    "tags": []
   },
   "outputs": [],
   "source": [
    "gc.collect()"
   ]
  },
  {
   "cell_type": "markdown",
   "id": "4fd5392c",
   "metadata": {},
   "source": [
    "### Analyze last ec day"
   ]
  },
  {
   "cell_type": "code",
   "execution_count": null,
   "id": "6ff52002",
   "metadata": {},
   "outputs": [],
   "source": [
    "df_feature_202401 = pd.read_csv('/home/jupyter/lstm/temp_table/df_feature_202401.csv')"
   ]
  },
  {
   "cell_type": "code",
   "execution_count": null,
   "id": "b5c07bf5",
   "metadata": {},
   "outputs": [
    {
     "data": {
      "text/plain": [
       "22020"
      ]
     },
     "metadata": {},
     "output_type": "display_data"
    }
   ],
   "source": [
    "user_list = pd.read_csv('/home/jupyter/lstm/data/VolumeAI_nonactive_sn_list_1yr.csv')\n",
    "user_list['expiry_date'] = user_list['expiry_date'].str[:10]\n",
    "expiry_date_list = ['2024-01-31']\n",
    "user_list = user_list[user_list['expiry_date'].isin(expiry_date_list)]\n",
    "user_list['hashed_sn'].nunique()"
   ]
  },
  {
   "cell_type": "code",
   "execution_count": null,
   "id": "2bdd1115",
   "metadata": {},
   "outputs": [],
   "source": [
    "df_ec = df_feature_202401[['hashed_sn', 'event_day_diff', 'event_eclog']]"
   ]
  },
  {
   "cell_type": "code",
   "execution_count": null,
   "id": "0e15d4be",
   "metadata": {},
   "outputs": [
    {
     "data": {
      "text/plain": [
       "20383"
      ]
     },
     "metadata": {},
     "output_type": "display_data"
    }
   ],
   "source": [
    "df_ec['hashed_sn'].nunique()"
   ]
  },
  {
   "cell_type": "code",
   "execution_count": null,
   "id": "61518350",
   "metadata": {},
   "outputs": [
    {
     "data": {
      "text/html": [
       "<div>\n",
       "<style scoped>\n",
       "    .dataframe tbody tr th:only-of-type {\n",
       "        vertical-align: middle;\n",
       "    }\n",
       "\n",
       "    .dataframe tbody tr th {\n",
       "        vertical-align: top;\n",
       "    }\n",
       "\n",
       "    .dataframe thead th {\n",
       "        text-align: right;\n",
       "    }\n",
       "</style>\n",
       "<table border=\"1\" class=\"dataframe\">\n",
       "  <thead>\n",
       "    <tr style=\"text-align: right;\">\n",
       "      <th></th>\n",
       "      <th>hashed_sn</th>\n",
       "      <th>expired_date</th>\n",
       "      <th>Renew</th>\n",
       "      <th>Churn2</th>\n",
       "    </tr>\n",
       "  </thead>\n",
       "  <tbody>\n",
       "    <tr>\n",
       "      <th>0</th>\n",
       "      <td>dc342fa7a7ca9c9b4efdb8118c744a411e67355d</td>\n",
       "      <td>2024-01-31T00:00:00Z</td>\n",
       "      <td>1</td>\n",
       "      <td>0</td>\n",
       "    </tr>\n",
       "    <tr>\n",
       "      <th>1</th>\n",
       "      <td>af4a5e27e1d002b7110c2e360af6f2d13c31d6f0</td>\n",
       "      <td>2024-01-31T00:00:00Z</td>\n",
       "      <td>0</td>\n",
       "      <td>1</td>\n",
       "    </tr>\n",
       "    <tr>\n",
       "      <th>2</th>\n",
       "      <td>6cde3462315d0922280ac24200e2ed4c779b09f7</td>\n",
       "      <td>2024-01-31T00:00:00Z</td>\n",
       "      <td>0</td>\n",
       "      <td>1</td>\n",
       "    </tr>\n",
       "    <tr>\n",
       "      <th>3</th>\n",
       "      <td>6aa20a851f13b815d082405d1715ca117c842858</td>\n",
       "      <td>2024-01-31T00:00:00Z</td>\n",
       "      <td>1</td>\n",
       "      <td>0</td>\n",
       "    </tr>\n",
       "    <tr>\n",
       "      <th>4</th>\n",
       "      <td>a106f89b04013c468d40321a2700a391e32ef04c</td>\n",
       "      <td>2024-01-31T00:00:00Z</td>\n",
       "      <td>1</td>\n",
       "      <td>0</td>\n",
       "    </tr>\n",
       "    <tr>\n",
       "      <th>...</th>\n",
       "      <td>...</td>\n",
       "      <td>...</td>\n",
       "      <td>...</td>\n",
       "      <td>...</td>\n",
       "    </tr>\n",
       "    <tr>\n",
       "      <th>147337</th>\n",
       "      <td>18e71dd400d799e31481d4a75f5746de5670abb5</td>\n",
       "      <td>2024-01-31T00:00:00Z</td>\n",
       "      <td>1</td>\n",
       "      <td>0</td>\n",
       "    </tr>\n",
       "    <tr>\n",
       "      <th>147338</th>\n",
       "      <td>5b4c9e494550885a3a2e123866fad23272ea5d27</td>\n",
       "      <td>2024-01-31T00:00:00Z</td>\n",
       "      <td>0</td>\n",
       "      <td>1</td>\n",
       "    </tr>\n",
       "    <tr>\n",
       "      <th>147339</th>\n",
       "      <td>981af2c5ecd8fa2633a5daab9a5e6ef78868b0a0</td>\n",
       "      <td>2024-01-31T00:00:00Z</td>\n",
       "      <td>1</td>\n",
       "      <td>0</td>\n",
       "    </tr>\n",
       "    <tr>\n",
       "      <th>147340</th>\n",
       "      <td>7947e094514c525ccea4fefee8de4fad7a5e1e80</td>\n",
       "      <td>2024-01-31T00:00:00Z</td>\n",
       "      <td>1</td>\n",
       "      <td>0</td>\n",
       "    </tr>\n",
       "    <tr>\n",
       "      <th>147341</th>\n",
       "      <td>92d5e3bd09f2a6e34c1cabddc453a82f77ffbdad</td>\n",
       "      <td>2024-01-31T00:00:00Z</td>\n",
       "      <td>0</td>\n",
       "      <td>1</td>\n",
       "    </tr>\n",
       "  </tbody>\n",
       "</table>\n",
       "<p>147342 rows × 4 columns</p>\n",
       "</div>"
      ],
      "text/plain": [
       "                                       hashed_sn          expired_date  Renew  \\\n",
       "0       dc342fa7a7ca9c9b4efdb8118c744a411e67355d  2024-01-31T00:00:00Z      1   \n",
       "1       af4a5e27e1d002b7110c2e360af6f2d13c31d6f0  2024-01-31T00:00:00Z      0   \n",
       "2       6cde3462315d0922280ac24200e2ed4c779b09f7  2024-01-31T00:00:00Z      0   \n",
       "3       6aa20a851f13b815d082405d1715ca117c842858  2024-01-31T00:00:00Z      1   \n",
       "4       a106f89b04013c468d40321a2700a391e32ef04c  2024-01-31T00:00:00Z      1   \n",
       "...                                          ...                   ...    ...   \n",
       "147337  18e71dd400d799e31481d4a75f5746de5670abb5  2024-01-31T00:00:00Z      1   \n",
       "147338  5b4c9e494550885a3a2e123866fad23272ea5d27  2024-01-31T00:00:00Z      0   \n",
       "147339  981af2c5ecd8fa2633a5daab9a5e6ef78868b0a0  2024-01-31T00:00:00Z      1   \n",
       "147340  7947e094514c525ccea4fefee8de4fad7a5e1e80  2024-01-31T00:00:00Z      1   \n",
       "147341  92d5e3bd09f2a6e34c1cabddc453a82f77ffbdad  2024-01-31T00:00:00Z      0   \n",
       "\n",
       "        Churn2  \n",
       "0            0  \n",
       "1            1  \n",
       "2            1  \n",
       "3            0  \n",
       "4            0  \n",
       "...        ...  \n",
       "147337       0  \n",
       "147338       1  \n",
       "147339       0  \n",
       "147340       0  \n",
       "147341       1  \n",
       "\n",
       "[147342 rows x 4 columns]"
      ]
     },
     "metadata": {},
     "output_type": "display_data"
    }
   ],
   "source": [
    "user_renew = pd.read_csv('/home/jupyter/lstm/data/user_label_202401.csv')\n",
    "user_renew"
   ]
  },
  {
   "cell_type": "code",
   "execution_count": null,
   "id": "3a4ba15b",
   "metadata": {},
   "outputs": [
    {
     "name": "stderr",
     "output_type": "stream",
     "text": [
      "/var/tmp/ipykernel_3379/2171617093.py:1: SettingWithCopyWarning: \n",
      "A value is trying to be set on a copy of a slice from a DataFrame.\n",
      "Try using .loc[row_indexer,col_indexer] = value instead\n",
      "\n",
      "See the caveats in the documentation: https://pandas.pydata.org/pandas-docs/stable/user_guide/indexing.html#returning-a-view-versus-a-copy\n"
     ]
    }
   ],
   "source": [
    "df_ec['event_day_diff'] = df_ec['event_day_diff']*(-1)"
   ]
  },
  {
   "cell_type": "code",
   "execution_count": null,
   "id": "93a9e37a",
   "metadata": {},
   "outputs": [
    {
     "name": "stderr",
     "output_type": "stream",
     "text": [
      "/var/tmp/ipykernel_3379/3231274296.py:1: SettingWithCopyWarning: \n",
      "A value is trying to be set on a copy of a slice from a DataFrame.\n",
      "Try using .loc[row_indexer,col_indexer] = value instead\n",
      "\n",
      "See the caveats in the documentation: https://pandas.pydata.org/pandas-docs/stable/user_guide/indexing.html#returning-a-view-versus-a-copy\n"
     ]
    }
   ],
   "source": [
    "df_ec['event_day_diff'] = df_ec['event_day_diff'].fillna(-400)"
   ]
  },
  {
   "cell_type": "code",
   "execution_count": null,
   "id": "88d3f5f8",
   "metadata": {},
   "outputs": [],
   "source": [
    "df_ec = df_ec[df_ec['event_eclog']==1]"
   ]
  },
  {
   "cell_type": "code",
   "execution_count": null,
   "id": "f17cd9db",
   "metadata": {},
   "outputs": [],
   "source": [
    "# max ec day\n",
    "df_ec_last = df_ec.groupby(['hashed_sn'])['event_day_diff'].max().reset_index()"
   ]
  },
  {
   "cell_type": "code",
   "execution_count": null,
   "id": "0788e344",
   "metadata": {},
   "outputs": [],
   "source": [
    "df_ec_last = df_ec_last.merge(user_renew[['hashed_sn', 'Renew']], how='left', on='hashed_sn')\n",
    "df_ec_last = df_ec_last.merge(user_list, how='left', on='hashed_sn')"
   ]
  },
  {
   "cell_type": "code",
   "execution_count": null,
   "id": "bb284a5b",
   "metadata": {},
   "outputs": [
    {
     "data": {
      "text/html": [
       "<div>\n",
       "<style scoped>\n",
       "    .dataframe tbody tr th:only-of-type {\n",
       "        vertical-align: middle;\n",
       "    }\n",
       "\n",
       "    .dataframe tbody tr th {\n",
       "        vertical-align: top;\n",
       "    }\n",
       "\n",
       "    .dataframe thead th {\n",
       "        text-align: right;\n",
       "    }\n",
       "</style>\n",
       "<table border=\"1\" class=\"dataframe\">\n",
       "  <thead>\n",
       "    <tr style=\"text-align: right;\">\n",
       "      <th></th>\n",
       "      <th>hashed_sn</th>\n",
       "    </tr>\n",
       "  </thead>\n",
       "  <tbody>\n",
       "    <tr>\n",
       "      <th>0</th>\n",
       "      <td>0008b2604e621b61740b50255a6b0eba0c1e139e</td>\n",
       "    </tr>\n",
       "    <tr>\n",
       "      <th>1</th>\n",
       "      <td>001159d7bda5935cead291f3a8f97fa7d9155f90</td>\n",
       "    </tr>\n",
       "    <tr>\n",
       "      <th>2</th>\n",
       "      <td>00162cd75cac32f350b0c42aff2f6d1a9910e059</td>\n",
       "    </tr>\n",
       "    <tr>\n",
       "      <th>3</th>\n",
       "      <td>001631cda48fb0f2c692109cee3c3f045cfe6ab3</td>\n",
       "    </tr>\n",
       "    <tr>\n",
       "      <th>4</th>\n",
       "      <td>001758d7a32b7d42f9fbb0d6cf0cdd35277b9d79</td>\n",
       "    </tr>\n",
       "    <tr>\n",
       "      <th>...</th>\n",
       "      <td>...</td>\n",
       "    </tr>\n",
       "    <tr>\n",
       "      <th>20273</th>\n",
       "      <td>ffeeb1ef976b3a20d1bc0a381f6c70aa347e9258</td>\n",
       "    </tr>\n",
       "    <tr>\n",
       "      <th>20274</th>\n",
       "      <td>fff4adafaf5abc382cf70ea509982544b1a1d1b3</td>\n",
       "    </tr>\n",
       "    <tr>\n",
       "      <th>20275</th>\n",
       "      <td>fff4b9f1c51e9f2b8688f21e5af042fcec1d2519</td>\n",
       "    </tr>\n",
       "    <tr>\n",
       "      <th>20276</th>\n",
       "      <td>fff4ffa932f99594ab650ab15d317d3676eff397</td>\n",
       "    </tr>\n",
       "    <tr>\n",
       "      <th>20277</th>\n",
       "      <td>fff5b1eb180c0874a16d471910d439a90885d016</td>\n",
       "    </tr>\n",
       "  </tbody>\n",
       "</table>\n",
       "<p>20278 rows × 1 columns</p>\n",
       "</div>"
      ],
      "text/plain": [
       "                                      hashed_sn\n",
       "0      0008b2604e621b61740b50255a6b0eba0c1e139e\n",
       "1      001159d7bda5935cead291f3a8f97fa7d9155f90\n",
       "2      00162cd75cac32f350b0c42aff2f6d1a9910e059\n",
       "3      001631cda48fb0f2c692109cee3c3f045cfe6ab3\n",
       "4      001758d7a32b7d42f9fbb0d6cf0cdd35277b9d79\n",
       "...                                         ...\n",
       "20273  ffeeb1ef976b3a20d1bc0a381f6c70aa347e9258\n",
       "20274  fff4adafaf5abc382cf70ea509982544b1a1d1b3\n",
       "20275  fff4b9f1c51e9f2b8688f21e5af042fcec1d2519\n",
       "20276  fff4ffa932f99594ab650ab15d317d3676eff397\n",
       "20277  fff5b1eb180c0874a16d471910d439a90885d016\n",
       "\n",
       "[20278 rows x 1 columns]"
      ]
     },
     "metadata": {},
     "output_type": "display_data"
    }
   ],
   "source": [
    "# specific ec range\n",
    "df_ec_sn = pd.DataFrame({'hashed_sn': np.array(df_ec['hashed_sn'].unique())})\n",
    "df_ec_sn"
   ]
  },
  {
   "cell_type": "code",
   "execution_count": null,
   "id": "3eac14ab",
   "metadata": {},
   "outputs": [
    {
     "data": {
      "text/html": [
       "<div>\n",
       "<style scoped>\n",
       "    .dataframe tbody tr th:only-of-type {\n",
       "        vertical-align: middle;\n",
       "    }\n",
       "\n",
       "    .dataframe tbody tr th {\n",
       "        vertical-align: top;\n",
       "    }\n",
       "\n",
       "    .dataframe thead th {\n",
       "        text-align: right;\n",
       "    }\n",
       "</style>\n",
       "<table border=\"1\" class=\"dataframe\">\n",
       "  <thead>\n",
       "    <tr style=\"text-align: right;\">\n",
       "      <th></th>\n",
       "      <th>hashed_sn</th>\n",
       "      <th>event_eclog</th>\n",
       "      <th>Renew</th>\n",
       "    </tr>\n",
       "  </thead>\n",
       "  <tbody>\n",
       "    <tr>\n",
       "      <th>0</th>\n",
       "      <td>0008b2604e621b61740b50255a6b0eba0c1e139e</td>\n",
       "      <td>1.0</td>\n",
       "      <td>1</td>\n",
       "    </tr>\n",
       "    <tr>\n",
       "      <th>1</th>\n",
       "      <td>001159d7bda5935cead291f3a8f97fa7d9155f90</td>\n",
       "      <td>1.0</td>\n",
       "      <td>1</td>\n",
       "    </tr>\n",
       "    <tr>\n",
       "      <th>2</th>\n",
       "      <td>00162cd75cac32f350b0c42aff2f6d1a9910e059</td>\n",
       "      <td>1.0</td>\n",
       "      <td>0</td>\n",
       "    </tr>\n",
       "    <tr>\n",
       "      <th>3</th>\n",
       "      <td>001631cda48fb0f2c692109cee3c3f045cfe6ab3</td>\n",
       "      <td>1.0</td>\n",
       "      <td>1</td>\n",
       "    </tr>\n",
       "    <tr>\n",
       "      <th>4</th>\n",
       "      <td>001758d7a32b7d42f9fbb0d6cf0cdd35277b9d79</td>\n",
       "      <td>1.0</td>\n",
       "      <td>0</td>\n",
       "    </tr>\n",
       "    <tr>\n",
       "      <th>...</th>\n",
       "      <td>...</td>\n",
       "      <td>...</td>\n",
       "      <td>...</td>\n",
       "    </tr>\n",
       "    <tr>\n",
       "      <th>20273</th>\n",
       "      <td>ffeeb1ef976b3a20d1bc0a381f6c70aa347e9258</td>\n",
       "      <td>1.0</td>\n",
       "      <td>0</td>\n",
       "    </tr>\n",
       "    <tr>\n",
       "      <th>20274</th>\n",
       "      <td>fff4adafaf5abc382cf70ea509982544b1a1d1b3</td>\n",
       "      <td>1.0</td>\n",
       "      <td>1</td>\n",
       "    </tr>\n",
       "    <tr>\n",
       "      <th>20275</th>\n",
       "      <td>fff4b9f1c51e9f2b8688f21e5af042fcec1d2519</td>\n",
       "      <td>1.0</td>\n",
       "      <td>0</td>\n",
       "    </tr>\n",
       "    <tr>\n",
       "      <th>20276</th>\n",
       "      <td>fff4ffa932f99594ab650ab15d317d3676eff397</td>\n",
       "      <td>1.0</td>\n",
       "      <td>1</td>\n",
       "    </tr>\n",
       "    <tr>\n",
       "      <th>20277</th>\n",
       "      <td>fff5b1eb180c0874a16d471910d439a90885d016</td>\n",
       "      <td>1.0</td>\n",
       "      <td>1</td>\n",
       "    </tr>\n",
       "  </tbody>\n",
       "</table>\n",
       "<p>20278 rows × 3 columns</p>\n",
       "</div>"
      ],
      "text/plain": [
       "                                      hashed_sn  event_eclog  Renew\n",
       "0      0008b2604e621b61740b50255a6b0eba0c1e139e          1.0      1\n",
       "1      001159d7bda5935cead291f3a8f97fa7d9155f90          1.0      1\n",
       "2      00162cd75cac32f350b0c42aff2f6d1a9910e059          1.0      0\n",
       "3      001631cda48fb0f2c692109cee3c3f045cfe6ab3          1.0      1\n",
       "4      001758d7a32b7d42f9fbb0d6cf0cdd35277b9d79          1.0      0\n",
       "...                                         ...          ...    ...\n",
       "20273  ffeeb1ef976b3a20d1bc0a381f6c70aa347e9258          1.0      0\n",
       "20274  fff4adafaf5abc382cf70ea509982544b1a1d1b3          1.0      1\n",
       "20275  fff4b9f1c51e9f2b8688f21e5af042fcec1d2519          1.0      0\n",
       "20276  fff4ffa932f99594ab650ab15d317d3676eff397          1.0      1\n",
       "20277  fff5b1eb180c0874a16d471910d439a90885d016          1.0      1\n",
       "\n",
       "[20278 rows x 3 columns]"
      ]
     },
     "metadata": {},
     "output_type": "display_data"
    }
   ],
   "source": [
    "# specific range: the 5th month\n",
    "df_5th_ec = df_ec[(df_ec['event_day_diff']>-240) & (df_ec['event_day_diff']<=-210)][['hashed_sn', 'event_eclog']].drop_duplicates().reset_index(drop=True)\n",
    "df_5th_ec = df_ec_sn.merge(df_5th_ec, how='left', on='hashed_sn')\n",
    "df_5th_ec['event_eclog'] = df_5th_ec['event_eclog'].fillna(0)\n",
    "df_5th_ec = df_5th_ec.merge(user_renew[['hashed_sn', 'Renew']], how='left', on='hashed_sn')\n",
    "df_5th_ec"
   ]
  },
  {
   "cell_type": "code",
   "execution_count": null,
   "id": "c5b89a4b",
   "metadata": {},
   "outputs": [
    {
     "data": {
      "text/html": [
       "<div>\n",
       "<style scoped>\n",
       "    .dataframe tbody tr th:only-of-type {\n",
       "        vertical-align: middle;\n",
       "    }\n",
       "\n",
       "    .dataframe tbody tr th {\n",
       "        vertical-align: top;\n",
       "    }\n",
       "\n",
       "    .dataframe thead th {\n",
       "        text-align: right;\n",
       "    }\n",
       "</style>\n",
       "<table border=\"1\" class=\"dataframe\">\n",
       "  <thead>\n",
       "    <tr style=\"text-align: right;\">\n",
       "      <th></th>\n",
       "      <th>event_eclog</th>\n",
       "      <th>Renew</th>\n",
       "      <th>hashed_sn</th>\n",
       "      <th>TTL_count</th>\n",
       "      <th>Renew_rate</th>\n",
       "    </tr>\n",
       "  </thead>\n",
       "  <tbody>\n",
       "    <tr>\n",
       "      <th>0</th>\n",
       "      <td>0.0</td>\n",
       "      <td>0</td>\n",
       "      <td>1685</td>\n",
       "      <td>20278</td>\n",
       "      <td>0.083095</td>\n",
       "    </tr>\n",
       "    <tr>\n",
       "      <th>1</th>\n",
       "      <td>0.0</td>\n",
       "      <td>1</td>\n",
       "      <td>1210</td>\n",
       "      <td>20278</td>\n",
       "      <td>0.059671</td>\n",
       "    </tr>\n",
       "    <tr>\n",
       "      <th>2</th>\n",
       "      <td>1.0</td>\n",
       "      <td>0</td>\n",
       "      <td>6412</td>\n",
       "      <td>20278</td>\n",
       "      <td>0.316205</td>\n",
       "    </tr>\n",
       "    <tr>\n",
       "      <th>3</th>\n",
       "      <td>1.0</td>\n",
       "      <td>1</td>\n",
       "      <td>10971</td>\n",
       "      <td>20278</td>\n",
       "      <td>0.541030</td>\n",
       "    </tr>\n",
       "  </tbody>\n",
       "</table>\n",
       "</div>"
      ],
      "text/plain": [
       "   event_eclog  Renew  hashed_sn  TTL_count  Renew_rate\n",
       "0          0.0      0       1685      20278    0.083095\n",
       "1          0.0      1       1210      20278    0.059671\n",
       "2          1.0      0       6412      20278    0.316205\n",
       "3          1.0      1      10971      20278    0.541030"
      ]
     },
     "metadata": {},
     "output_type": "display_data"
    }
   ],
   "source": [
    "df_5th_ec_check = df_5th_ec.groupby(['event_eclog', 'Renew'])['hashed_sn'].nunique().reset_index()\n",
    "df_5th_ec_check['TTL_count'] = df_5th_ec_check['hashed_sn'].sum()\n",
    "df_5th_ec_check['Renew_rate'] = df_5th_ec_check['hashed_sn'] / df_5th_ec_check['TTL_count']\n",
    "df_5th_ec_check"
   ]
  },
  {
   "cell_type": "code",
   "execution_count": null,
   "id": "ddb2823a",
   "metadata": {},
   "outputs": [
    {
     "data": {
      "image/png": "[encoded data removed]"
     },
     "metadata": {},
     "output_type": "display_data"
    }
   ],
   "source": [
    "df_ec_last['Renew'] = df_ec_last['Renew'].astype(str)\n",
    "p = ggplot(df_ec_last, aes(x='event_day_diff', fill='Renew')) + geom_histogram(alpha=0.7, bins=400)\n",
    "display(p)"
   ]
  },
  {
   "cell_type": "code",
   "execution_count": null,
   "id": "a084a6be",
   "metadata": {},
   "outputs": [
    {
     "name": "stderr",
     "output_type": "stream",
     "text": [
      "/var/tmp/ipykernel_8268/2127658650.py:2: SettingWithCopyWarning: \n",
      "A value is trying to be set on a copy of a slice from a DataFrame.\n",
      "Try using .loc[row_indexer,col_indexer] = value instead\n",
      "\n",
      "See the caveats in the documentation: https://pandas.pydata.org/pandas-docs/stable/user_guide/indexing.html#returning-a-view-versus-a-copy\n",
      "/opt/conda/lib/python3.10/site-packages/plotnine/stats/stat_bin.py:109: PlotnineWarning: 'stat_bin()' using 'bins = 13'. Pick better value with 'binwidth'.\n"
     ]
    },
    {
     "data": {
      "image/png": "[encoded data removed]"
     },
     "metadata": {},
     "output_type": "display_data"
    }
   ],
   "source": [
    "check = df_ec_last[(df_ec_last['hashed_sn'].isin(df_ec_last[df_ec_last['non_active1']==True]['hashed_sn'].tolist()))]\n",
    "check['Renew'] = check['Renew'].astype(str)\n",
    "p = ggplot(check, aes(x='event_day_diff', fill='Renew')) + geom_histogram(alpha=0.7)  #\n",
    "display(p)"
   ]
  },
  {
   "cell_type": "code",
   "execution_count": null,
   "id": "7ade1ee5",
   "metadata": {},
   "outputs": [
    {
     "data": {
      "text/html": [
       "<div>\n",
       "<style scoped>\n",
       "    .dataframe tbody tr th:only-of-type {\n",
       "        vertical-align: middle;\n",
       "    }\n",
       "\n",
       "    .dataframe tbody tr th {\n",
       "        vertical-align: top;\n",
       "    }\n",
       "\n",
       "    .dataframe thead th {\n",
       "        text-align: right;\n",
       "    }\n",
       "</style>\n",
       "<table border=\"1\" class=\"dataframe\">\n",
       "  <thead>\n",
       "    <tr style=\"text-align: right;\">\n",
       "      <th></th>\n",
       "      <th>non_active1</th>\n",
       "      <th>Renew</th>\n",
       "      <th>hashed_sn</th>\n",
       "      <th>TTL_count</th>\n",
       "      <th>Renew_rate</th>\n",
       "    </tr>\n",
       "  </thead>\n",
       "  <tbody>\n",
       "    <tr>\n",
       "      <th>0</th>\n",
       "      <td>False</td>\n",
       "      <td>0</td>\n",
       "      <td>5828</td>\n",
       "      <td>20278</td>\n",
       "      <td>0.287405</td>\n",
       "    </tr>\n",
       "    <tr>\n",
       "      <th>1</th>\n",
       "      <td>False</td>\n",
       "      <td>1</td>\n",
       "      <td>10609</td>\n",
       "      <td>20278</td>\n",
       "      <td>0.523178</td>\n",
       "    </tr>\n",
       "    <tr>\n",
       "      <th>2</th>\n",
       "      <td>True</td>\n",
       "      <td>0</td>\n",
       "      <td>2269</td>\n",
       "      <td>20278</td>\n",
       "      <td>0.111895</td>\n",
       "    </tr>\n",
       "    <tr>\n",
       "      <th>3</th>\n",
       "      <td>True</td>\n",
       "      <td>1</td>\n",
       "      <td>1572</td>\n",
       "      <td>20278</td>\n",
       "      <td>0.077522</td>\n",
       "    </tr>\n",
       "  </tbody>\n",
       "</table>\n",
       "</div>"
      ],
      "text/plain": [
       "   non_active1  Renew  hashed_sn  TTL_count  Renew_rate\n",
       "0        False      0       5828      20278    0.287405\n",
       "1        False      1      10609      20278    0.523178\n",
       "2         True      0       2269      20278    0.111895\n",
       "3         True      1       1572      20278    0.077522"
      ]
     },
     "metadata": {},
     "output_type": "display_data"
    }
   ],
   "source": [
    "df_ec_check = df_ec_last.groupby(['non_active1', 'Renew'])['hashed_sn'].nunique().reset_index()\n",
    "df_ec_check['TTL_count'] = df_ec_check['hashed_sn'].sum()\n",
    "df_ec_check['Renew_rate'] = df_ec_check['hashed_sn'] / df_ec_check['TTL_count']\n",
    "df_ec_check"
   ]
  },
  {
   "cell_type": "code",
   "execution_count": null,
   "id": "1889b6fa",
   "metadata": {},
   "outputs": [
    {
     "data": {
      "text/html": [
       "<div>\n",
       "<style scoped>\n",
       "    .dataframe tbody tr th:only-of-type {\n",
       "        vertical-align: middle;\n",
       "    }\n",
       "\n",
       "    .dataframe tbody tr th {\n",
       "        vertical-align: top;\n",
       "    }\n",
       "\n",
       "    .dataframe thead th {\n",
       "        text-align: right;\n",
       "    }\n",
       "</style>\n",
       "<table border=\"1\" class=\"dataframe\">\n",
       "  <thead>\n",
       "    <tr style=\"text-align: right;\">\n",
       "      <th></th>\n",
       "      <th>non_active2</th>\n",
       "      <th>Renew</th>\n",
       "      <th>hashed_sn</th>\n",
       "      <th>TTL_count</th>\n",
       "      <th>Renew_rate</th>\n",
       "    </tr>\n",
       "  </thead>\n",
       "  <tbody>\n",
       "    <tr>\n",
       "      <th>0</th>\n",
       "      <td>False</td>\n",
       "      <td>0</td>\n",
       "      <td>5944</td>\n",
       "      <td>20278</td>\n",
       "      <td>0.293126</td>\n",
       "    </tr>\n",
       "    <tr>\n",
       "      <th>1</th>\n",
       "      <td>False</td>\n",
       "      <td>1</td>\n",
       "      <td>10850</td>\n",
       "      <td>20278</td>\n",
       "      <td>0.535063</td>\n",
       "    </tr>\n",
       "    <tr>\n",
       "      <th>2</th>\n",
       "      <td>True</td>\n",
       "      <td>0</td>\n",
       "      <td>2153</td>\n",
       "      <td>20278</td>\n",
       "      <td>0.106174</td>\n",
       "    </tr>\n",
       "    <tr>\n",
       "      <th>3</th>\n",
       "      <td>True</td>\n",
       "      <td>1</td>\n",
       "      <td>1331</td>\n",
       "      <td>20278</td>\n",
       "      <td>0.065638</td>\n",
       "    </tr>\n",
       "  </tbody>\n",
       "</table>\n",
       "</div>"
      ],
      "text/plain": [
       "   non_active2  Renew  hashed_sn  TTL_count  Renew_rate\n",
       "0        False      0       5944      20278    0.293126\n",
       "1        False      1      10850      20278    0.535063\n",
       "2         True      0       2153      20278    0.106174\n",
       "3         True      1       1331      20278    0.065638"
      ]
     },
     "metadata": {},
     "output_type": "display_data"
    }
   ],
   "source": [
    "df_ec_check = df_ec_last.groupby(['non_active2', 'Renew'])['hashed_sn'].nunique().reset_index()\n",
    "df_ec_check['TTL_count'] = df_ec_check['hashed_sn'].sum()\n",
    "df_ec_check['Renew_rate'] = df_ec_check['hashed_sn'] / df_ec_check['TTL_count']\n",
    "df_ec_check"
   ]
  },
  {
   "cell_type": "code",
   "execution_count": null,
   "id": "72787e96",
   "metadata": {},
   "outputs": [
    {
     "data": {
      "text/html": [
       "<div>\n",
       "<style scoped>\n",
       "    .dataframe tbody tr th:only-of-type {\n",
       "        vertical-align: middle;\n",
       "    }\n",
       "\n",
       "    .dataframe tbody tr th {\n",
       "        vertical-align: top;\n",
       "    }\n",
       "\n",
       "    .dataframe thead th {\n",
       "        text-align: right;\n",
       "    }\n",
       "</style>\n",
       "<table border=\"1\" class=\"dataframe\">\n",
       "  <thead>\n",
       "    <tr style=\"text-align: right;\">\n",
       "      <th></th>\n",
       "      <th>non_active3</th>\n",
       "      <th>Renew</th>\n",
       "      <th>hashed_sn</th>\n",
       "      <th>TTL_count</th>\n",
       "      <th>Renew_rate</th>\n",
       "    </tr>\n",
       "  </thead>\n",
       "  <tbody>\n",
       "    <tr>\n",
       "      <th>0</th>\n",
       "      <td>False</td>\n",
       "      <td>0</td>\n",
       "      <td>5782</td>\n",
       "      <td>20278</td>\n",
       "      <td>0.285137</td>\n",
       "    </tr>\n",
       "    <tr>\n",
       "      <th>1</th>\n",
       "      <td>False</td>\n",
       "      <td>1</td>\n",
       "      <td>10822</td>\n",
       "      <td>20278</td>\n",
       "      <td>0.533682</td>\n",
       "    </tr>\n",
       "    <tr>\n",
       "      <th>2</th>\n",
       "      <td>True</td>\n",
       "      <td>0</td>\n",
       "      <td>2315</td>\n",
       "      <td>20278</td>\n",
       "      <td>0.114163</td>\n",
       "    </tr>\n",
       "    <tr>\n",
       "      <th>3</th>\n",
       "      <td>True</td>\n",
       "      <td>1</td>\n",
       "      <td>1359</td>\n",
       "      <td>20278</td>\n",
       "      <td>0.067018</td>\n",
       "    </tr>\n",
       "  </tbody>\n",
       "</table>\n",
       "</div>"
      ],
      "text/plain": [
       "   non_active3  Renew  hashed_sn  TTL_count  Renew_rate\n",
       "0        False      0       5782      20278    0.285137\n",
       "1        False      1      10822      20278    0.533682\n",
       "2         True      0       2315      20278    0.114163\n",
       "3         True      1       1359      20278    0.067018"
      ]
     },
     "metadata": {},
     "output_type": "display_data"
    }
   ],
   "source": [
    "df_ec_check = df_ec_last.groupby(['non_active3', 'Renew'])['hashed_sn'].nunique().reset_index()\n",
    "df_ec_check['TTL_count'] = df_ec_check['hashed_sn'].sum()\n",
    "df_ec_check['Renew_rate'] = df_ec_check['hashed_sn'] / df_ec_check['TTL_count']\n",
    "df_ec_check"
   ]
  },
  {
   "cell_type": "code",
   "execution_count": null,
   "id": "b9b7dd94",
   "metadata": {},
   "outputs": [
    {
     "data": {
      "text/html": [
       "<div>\n",
       "<style scoped>\n",
       "    .dataframe tbody tr th:only-of-type {\n",
       "        vertical-align: middle;\n",
       "    }\n",
       "\n",
       "    .dataframe tbody tr th {\n",
       "        vertical-align: top;\n",
       "    }\n",
       "\n",
       "    .dataframe thead th {\n",
       "        text-align: right;\n",
       "    }\n",
       "</style>\n",
       "<table border=\"1\" class=\"dataframe\">\n",
       "  <thead>\n",
       "    <tr style=\"text-align: right;\">\n",
       "      <th></th>\n",
       "      <th>Renew</th>\n",
       "      <th>hashed_sn</th>\n",
       "      <th>TTL_count</th>\n",
       "      <th>Renew_rate</th>\n",
       "    </tr>\n",
       "  </thead>\n",
       "  <tbody>\n",
       "    <tr>\n",
       "      <th>0</th>\n",
       "      <td>0</td>\n",
       "      <td>8097</td>\n",
       "      <td>20278</td>\n",
       "      <td>0.3993</td>\n",
       "    </tr>\n",
       "    <tr>\n",
       "      <th>1</th>\n",
       "      <td>1</td>\n",
       "      <td>12181</td>\n",
       "      <td>20278</td>\n",
       "      <td>0.6007</td>\n",
       "    </tr>\n",
       "  </tbody>\n",
       "</table>\n",
       "</div>"
      ],
      "text/plain": [
       "   Renew  hashed_sn  TTL_count  Renew_rate\n",
       "0      0       8097      20278      0.3993\n",
       "1      1      12181      20278      0.6007"
      ]
     },
     "metadata": {},
     "output_type": "display_data"
    }
   ],
   "source": [
    "df_ec_check2 = df_ec_last.groupby(['Renew'])['hashed_sn'].nunique().reset_index()\n",
    "df_ec_check2['TTL_count'] = df_ec_check2['hashed_sn'].sum()\n",
    "df_ec_check2['Renew_rate'] = df_ec_check2['hashed_sn'] / df_ec_check2['TTL_count']\n",
    "df_ec_check2"
   ]
  },
  {
   "cell_type": "code",
   "execution_count": null,
   "id": "eee9f825",
   "metadata": {},
   "outputs": [
    {
     "data": {
      "text/plain": [
       "Text(0.5, 1.0, 'Last Active Days Distribution')"
      ]
     },
     "metadata": {},
     "output_type": "display_data"
    },
    {
     "data": {
      "image/png": "[encoded data removed]",
      "text/plain": [
       "<Figure size 640x480 with 1 Axes>"
      ]
     },
     "metadata": {},
     "output_type": "display_data"
    }
   ],
   "source": [
    "df_ec_last['event_day_diff'].hist(bins=list(np.linspace(-400, 0, 13)), alpha=0.5)\n",
    "plt.xlabel('Days before Expiration Date')\n",
    "plt.ylabel('User Counts')\n",
    "plt.title('Last Active Days Distribution')"
   ]
  },
  {
   "cell_type": "code",
   "execution_count": null,
   "id": "4909ca8a",
   "metadata": {},
   "outputs": [
    {
     "name": "stdout",
     "output_type": "stream",
     "text": [
      "18850\n",
      "1428\n"
     ]
    }
   ],
   "source": [
    "print(df_ec_last[df_ec_last['event_day_diff']>-180]['hashed_sn'].nunique())\n",
    "print(df_ec_last[df_ec_last['event_day_diff']<=-180]['hashed_sn'].nunique())"
   ]
  },
  {
   "cell_type": "code",
   "execution_count": null,
   "id": "99affd8e",
   "metadata": {},
   "outputs": [],
   "source": [
    "renewal_start_day = -90\n",
    "non_active_group = eclog_dist_last[eclog_dist_last['event_day_diff']<=renewal_start_day]"
   ]
  },
  {
   "cell_type": "code",
   "execution_count": null,
   "id": "f84b927a",
   "metadata": {},
   "outputs": [
    {
     "name": "stdout",
     "output_type": "stream",
     "text": [
      "2160\n"
     ]
    },
    {
     "data": {
      "text/plain": [
       "<Axes: >"
      ]
     },
     "metadata": {},
     "output_type": "display_data"
    },
    {
     "data": {
      "image/png": "[encoded data removed]",
      "text/plain": [
       "<Figure size 640x480 with 1 Axes>"
      ]
     },
     "metadata": {},
     "output_type": "display_data"
    }
   ],
   "source": [
    "print(non_active_group['hashed_sn'].nunique())\n",
    "non_active_group['event_day_diff'].hist(bins=list(np.linspace(-400, -90, 10)))"
   ]
  },
  {
   "cell_type": "code",
   "execution_count": null,
   "id": "4fd19416",
   "metadata": {},
   "outputs": [],
   "source": [
    "never_active = eclog_dist[eclog_dist['event_day_diff']==-400]"
   ]
  },
  {
   "cell_type": "code",
   "execution_count": null,
   "id": "7fc1aa80",
   "metadata": {},
   "outputs": [
    {
     "name": "stdout",
     "output_type": "stream",
     "text": [
      "19084\n",
      "20278\n"
     ]
    }
   ],
   "source": [
    "print(eclog_dist_last[eclog_dist_last['event_day_diff']>-210]['hashed_sn'].count())\n",
    "print(eclog_dist_last['hashed_sn'].count())"
   ]
  }
 ],
 "metadata": {
  "environment": {
   "kernel": "python3",
   "name": ".m119",
   "type": "gcloud",
   "uri": "us-docker.pkg.dev/deeplearning-platform-release/gcr.io/:m119"
  },
  "kernelspec": {
   "display_name": "Python 3",
   "language": "python",
   "name": "python3"
  },
  "language_info": {
   "codemirror_mode": {
    "name": "ipython",
    "version": 3
   },
   "file_extension": ".py",
   "mimetype": "text/x-python",
   "name": "python",
   "nbconvert_exporter": "python",
   "pygments_lexer": "ipython3",
   "version": "3.10.12"
  },
  "toc-autonumbering": true,
  "toc-showcode": false,
  "toc-showmarkdowntxt": false
 },
 "nbformat": 4,
 "nbformat_minor": 5
}
