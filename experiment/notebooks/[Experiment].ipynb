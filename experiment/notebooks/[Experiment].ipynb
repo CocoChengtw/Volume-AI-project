{
 "cells": [
  {
   "cell_type": "code",
   "execution_count": 1,
   "id": "4da0cd0d-476d-49db-8095-e587c6e4d762",
   "metadata": {
    "tags": []
   },
   "outputs": [],
   "source": [
    "# !gsutil cp -r gs://volume_ai_1yr_daily_data/* /home/jupyter/lstm/"
   ]
  },
  {
   "cell_type": "code",
   "execution_count": null,
   "id": "1383dc60-bc41-4b25-a404-4ba57a87282f",
   "metadata": {
    "collapsed": true,
    "jupyter": {
     "outputs_hidden": true
    },
    "tags": []
   },
   "outputs": [],
   "source": [
    "# !pip install captum"
   ]
  },
  {
   "cell_type": "markdown",
   "id": "b2d50e4e-5aad-43f1-acad-6a8c9f6b9ab3",
   "metadata": {},
   "source": [
    "## Install Package"
   ]
  },
  {
   "cell_type": "code",
   "execution_count": 1,
   "id": "b825cdd6-e04f-482b-97a6-9725630ec112",
   "metadata": {
    "tags": []
   },
   "outputs": [],
   "source": [
    "import pandas as pd\n",
    "import numpy as np\n",
    "from sklearn.preprocessing import MinMaxScaler, StandardScaler\n",
    "from sklearn.model_selection import train_test_split\n",
    "import torch\n",
    "import torch.nn as nn\n",
    "import torch.optim as optim\n",
    "import tqdm\n",
    "from plotnine import *\n",
    "from plotnine.data import *\n",
    "import random\n",
    "from sklearn.utils import resample\n",
    "from torch.utils.data import DataLoader, TensorDataset\n",
    "from sklearn.metrics import classification_report\n",
    "from sklearn.metrics import roc_curve, auc\n",
    "import matplotlib.pyplot as plt\n",
    "from torch.optim.lr_scheduler import ExponentialLR, OneCycleLR\n",
    "from captum.attr import IntegratedGradients\n",
    "from plotnine.data import *\n",
    "import seaborn as sns\n",
    "import gc"
   ]
  },
  {
   "cell_type": "markdown",
   "id": "2d3e7828-bb07-4085-8eb9-d15717bdf301",
   "metadata": {},
   "source": [
    "## Import Training Data"
   ]
  },
  {
   "cell_type": "code",
   "execution_count": 5,
   "id": "25af9aa3-1fe3-46fc-80cd-7f4e2ad592c9",
   "metadata": {
    "tags": []
   },
   "outputs": [],
   "source": [
    "X_30d_minmaxscaler = np.load('/home/jupyter/lstm/training_array/X_30d_minmaxscaler_feaonly_first4mon_202401_03.npy')\n",
    "y_30d_minmaxscaler = np.load('/home/jupyter/lstm/training_array/y_30d_minmaxscaler_feaonly_first4mon_202401_03.npy')"
   ]
  },
  {
   "cell_type": "code",
   "execution_count": 28,
   "id": "edd6b70c-a129-43ef-b8bd-eb63261f1762",
   "metadata": {
    "tags": []
   },
   "outputs": [],
   "source": [
    "user_df_minmaxscaler = np.load('/home/jupyter/lstm/training_array/static_array_first4mon_202401_03.npy')"
   ]
  },
  {
   "cell_type": "markdown",
   "id": "7d2dccde-46f9-44e0-a2fd-df5adc79d9ac",
   "metadata": {},
   "source": [
    "### Split Train-Test data"
   ]
  },
  {
   "cell_type": "code",
   "execution_count": 6,
   "id": "6a0b04da-9c25-4362-9b27-1bc1faaaa1f2",
   "metadata": {
    "tags": []
   },
   "outputs": [],
   "source": [
    "X_train_all, X_test, y_train_all, y_test, fea_train_all, fea_test = train_test_split(X_30d_minmaxscaler, y_30d_minmaxscaler, user_array, test_size=0.2, random_state=42)\n",
    "X_train, X_val, y_train, y_val, fea_train, fea_val = train_test_split(X_train_all, y_train_all, fea_train_all, test_size=0.1, random_state=42)"
   ]
  },
  {
   "cell_type": "code",
   "execution_count": 7,
   "id": "ebc64340-a765-40f1-a9fa-a0c96c26f58a",
   "metadata": {
    "tags": []
   },
   "outputs": [
    {
     "data": {
      "text/plain": [
       "0.8392102252946735"
      ]
     },
     "execution_count": 7,
     "metadata": {},
     "output_type": "execute_result"
    }
   ],
   "source": [
    "y_train.sum()/len(y_train)"
   ]
  },
  {
   "cell_type": "code",
   "execution_count": 8,
   "id": "48041ca6-6049-4a4a-8a5f-eec9b76eef55",
   "metadata": {
    "tags": []
   },
   "outputs": [
    {
     "data": {
      "text/plain": [
       "0.8376152537821144"
      ]
     },
     "execution_count": 8,
     "metadata": {},
     "output_type": "execute_result"
    }
   ],
   "source": [
    "y_test.sum()/len(y_test)"
   ]
  },
  {
   "cell_type": "code",
   "execution_count": 9,
   "id": "8fd5a595-5200-4cdf-9da2-954e6a31f981",
   "metadata": {
    "tags": []
   },
   "outputs": [
    {
     "data": {
      "text/plain": [
       "0.8379950771984784"
      ]
     },
     "execution_count": 9,
     "metadata": {},
     "output_type": "execute_result"
    }
   ],
   "source": [
    "y_val.sum()/len(y_val)"
   ]
  },
  {
   "cell_type": "code",
   "execution_count": 10,
   "id": "861edbb7-3ddc-4cc0-bbb1-d5cba787f900",
   "metadata": {
    "tags": []
   },
   "outputs": [
    {
     "data": {
      "text/plain": [
       "(40214, 4, 69)"
      ]
     },
     "execution_count": 10,
     "metadata": {},
     "output_type": "execute_result"
    }
   ],
   "source": [
    "X_train.shape"
   ]
  },
  {
   "cell_type": "code",
   "execution_count": 11,
   "id": "e6171e9d-66e0-4caf-b27c-71f83ecedda0",
   "metadata": {
    "tags": []
   },
   "outputs": [
    {
     "data": {
      "text/plain": [
       "(40214, 29)"
      ]
     },
     "execution_count": 11,
     "metadata": {},
     "output_type": "execute_result"
    }
   ],
   "source": [
    "fea_train.shape"
   ]
  },
  {
   "cell_type": "code",
   "execution_count": 12,
   "id": "3c793004-b90e-41ba-bde2-f976e8861437",
   "metadata": {
    "tags": []
   },
   "outputs": [
    {
     "data": {
      "text/plain": [
       "(40214,)"
      ]
     },
     "execution_count": 12,
     "metadata": {},
     "output_type": "execute_result"
    }
   ],
   "source": [
    "y_train.shape"
   ]
  },
  {
   "cell_type": "code",
   "execution_count": 13,
   "id": "3cb1dc65-cf7f-4022-9bcd-b2b6b85da77a",
   "metadata": {
    "tags": []
   },
   "outputs": [],
   "source": [
    "X_train = torch.from_numpy(X_train).float()\n",
    "y_train = torch.from_numpy(y_train).float().unsqueeze(-1)\n",
    "fea_train = torch.from_numpy(fea_train).float()\n",
    "X_test = torch.from_numpy(X_test).float()\n",
    "y_test = torch.from_numpy(y_test).float().unsqueeze(-1)\n",
    "fea_test = torch.from_numpy(fea_test).float()\n",
    "X_val = torch.from_numpy(X_val).float()\n",
    "y_val = torch.from_numpy(y_val).float().unsqueeze(-1)\n",
    "fea_val = torch.from_numpy(fea_val).float()"
   ]
  },
  {
   "cell_type": "code",
   "execution_count": 14,
   "id": "2aff3850-8c5c-4318-83d0-b3f390c62f17",
   "metadata": {
    "tags": []
   },
   "outputs": [],
   "source": [
    "# analysis use\n",
    "X_torch = torch.from_numpy(X_30d_minmaxscaler).float()\n",
    "y_torch = torch.from_numpy(y_30d_minmaxscaler).float().unsqueeze(-1)\n",
    "fea_torch = torch.from_numpy(user_array).float()"
   ]
  },
  {
   "cell_type": "markdown",
   "id": "69453a17-886a-4587-8aee-eddbc53bf70f",
   "metadata": {
    "jp-MarkdownHeadingCollapsed": true,
    "tags": []
   },
   "source": [
    "### Upsampling"
   ]
  },
  {
   "cell_type": "code",
   "execution_count": 125,
   "id": "8e7ba270-cba8-496f-8006-020edcbd1e81",
   "metadata": {
    "tags": []
   },
   "outputs": [],
   "source": [
    "active_indices = np.where(y_train_all == 1)[0]\n",
    "non_active_indices = np.where(y_train_all == 0)[0]"
   ]
  },
  {
   "cell_type": "code",
   "execution_count": 126,
   "id": "70c29d81-7b8c-4960-946d-1e7b193dd8c5",
   "metadata": {
    "tags": []
   },
   "outputs": [],
   "source": [
    "non_active_upsampled = resample(non_active_indices, replace=True, n_samples=len(active_indices), random_state=0)\n",
    "balanced_indices = np.concatenate([active_indices, non_active_upsampled])"
   ]
  },
  {
   "cell_type": "code",
   "execution_count": 127,
   "id": "4f7d2eee-f063-43af-b065-4c8e567ba13e",
   "metadata": {
    "tags": []
   },
   "outputs": [],
   "source": [
    "X_train_all_balanced = X_train_all[balanced_indices]\n",
    "y_train_all_balanced = y_train_all[balanced_indices]"
   ]
  },
  {
   "cell_type": "code",
   "execution_count": 128,
   "id": "1aab4208-2d23-43a1-b49a-3fc7ffb928d2",
   "metadata": {
    "tags": []
   },
   "outputs": [],
   "source": [
    "X_train, X_val, y_train, y_val = train_test_split(X_train_all_balanced, y_train_all_balanced, test_size=0.1, random_state=42)"
   ]
  },
  {
   "cell_type": "code",
   "execution_count": 129,
   "id": "89bc116a-d9f4-4ddb-a54e-c22e2300f7bc",
   "metadata": {
    "tags": []
   },
   "outputs": [
    {
     "data": {
      "text/plain": [
       "0.49926614481409004"
      ]
     },
     "execution_count": 129,
     "metadata": {},
     "output_type": "execute_result"
    }
   ],
   "source": [
    "y_train.sum()/len(y_train)"
   ]
  },
  {
   "cell_type": "code",
   "execution_count": 130,
   "id": "4876aeef-024e-4a80-8cdb-bd47d5578ed5",
   "metadata": {
    "tags": []
   },
   "outputs": [
    {
     "data": {
      "text/plain": [
       "0.5066042927903137"
      ]
     },
     "execution_count": 130,
     "metadata": {},
     "output_type": "execute_result"
    }
   ],
   "source": [
    "y_val.sum()/len(y_val)"
   ]
  },
  {
   "cell_type": "code",
   "execution_count": 131,
   "id": "0e4f9281-bb8f-470d-8323-314fddc2c745",
   "metadata": {
    "tags": []
   },
   "outputs": [],
   "source": [
    "X_train = torch.from_numpy(X_train).float()\n",
    "y_train = torch.from_numpy(y_train).float().unsqueeze(-1)\n",
    "# X_test = torch.from_numpy(X_test).float()\n",
    "# y_test = torch.from_numpy(y_test).float().unsqueeze(-1)\n",
    "X_val = torch.from_numpy(X_val).float()\n",
    "y_val = torch.from_numpy(y_val).float().unsqueeze(-1)"
   ]
  },
  {
   "cell_type": "markdown",
   "id": "f774f9bb-ce02-4bf7-b958-057f544f19dc",
   "metadata": {},
   "source": [
    "## Performance Evaluation Function"
   ]
  },
  {
   "cell_type": "code",
   "execution_count": 108,
   "id": "540d7d04-4526-409f-9dcf-4aa72e58a00a",
   "metadata": {
    "tags": []
   },
   "outputs": [],
   "source": [
    "def evaluate_model(model, X_test, y_test):\n",
    "    model.eval()\n",
    "    with torch.no_grad():\n",
    "        y_test_list = []\n",
    "        y_pred_list = [] \n",
    "        for seq, labels in zip(X_test, y_test):\n",
    "            seq, labels = seq.to(device).float(), labels.to(device).float()\n",
    "            y_pred = model(seq.unsqueeze(0))\n",
    "            y_pred = (y_pred > 0.5).float()\n",
    "            \n",
    "            y_test_list.append(labels.squeeze().tolist())\n",
    "            y_pred_list.append(y_pred.squeeze().tolist())\n",
    "    \n",
    "    \n",
    "    target_names = ['Non-Active', 'Active']\n",
    "    print(classification_report(y_test_list, y_pred_list, target_names=target_names))"
   ]
  },
  {
   "cell_type": "code",
   "execution_count": 15,
   "id": "745695f4-19fb-4653-8ed2-12b7d66ee181",
   "metadata": {
    "tags": []
   },
   "outputs": [],
   "source": [
    "def evaluate_model(model, X_test, y_test, fea_test):\n",
    "    model.eval()\n",
    "    with torch.no_grad():\n",
    "        y_test_list = []\n",
    "        y_pred_list = [] \n",
    "        for seq, labels, feature in zip(X_test, y_test, fea_test):\n",
    "            seq, labels, feature = seq.to(device).float(), labels.to(device).float(), feature.to(device).float()\n",
    "            y_pred = model(seq.unsqueeze(0), feature.unsqueeze(0))\n",
    "            y_pred = (y_pred > 0.5).float()\n",
    "            \n",
    "            y_test_list.append(labels.squeeze().tolist())\n",
    "            y_pred_list.append(y_pred.squeeze().tolist())\n",
    "    \n",
    "    \n",
    "    target_names = ['Non-Active', 'Active']\n",
    "    print(classification_report(y_test_list, y_pred_list, target_names=target_names))"
   ]
  },
  {
   "cell_type": "markdown",
   "id": "181269f9-303b-4ca2-adae-5ab38681015b",
   "metadata": {},
   "source": [
    "## GRU Model, Add Static feature layer"
   ]
  },
  {
   "cell_type": "code",
   "execution_count": 17,
   "id": "8fec3fda-2392-4874-a987-4898d0b108bd",
   "metadata": {
    "tags": []
   },
   "outputs": [],
   "source": [
    "device = torch.device('cuda' if torch.cuda.is_available() else 'cpu')"
   ]
  },
  {
   "cell_type": "code",
   "execution_count": 20,
   "id": "d3fe725c-8181-4175-9e08-2e8a7d867164",
   "metadata": {
    "tags": []
   },
   "outputs": [],
   "source": [
    "batch_size = 32\n",
    "\n",
    "dataset_train = TensorDataset(X_train, y_train, fea_train)\n",
    "dataloader_train = DataLoader(dataset_train, batch_size=batch_size, shuffle=True)\n",
    "\n",
    "dataset_val = TensorDataset(X_val, y_val, fea_val)\n",
    "dataloader_val = DataLoader(dataset_val, batch_size=batch_size, shuffle=True)"
   ]
  },
  {
   "cell_type": "code",
   "execution_count": 21,
   "id": "77927e21-8ef5-4665-b12d-ce9a5540532c",
   "metadata": {
    "tags": []
   },
   "outputs": [],
   "source": [
    "class GRUModel(nn.Module):\n",
    "    def __init__(self, input_dim, hidden_dim, output_dim, feature_dim, num_layers=2):\n",
    "        super(GRUModel, self).__init__()\n",
    "        self.relu = nn.ReLU()\n",
    "        self.dropout = nn.Dropout(p=0.5)\n",
    "        self.extracter = nn.Linear(input_dim, input_dim)\n",
    "        self.gru = nn.GRU(input_dim, hidden_dim, num_layers, batch_first=True)\n",
    "        self.mid_fc = nn.Linear(hidden_dim, hidden_dim)\n",
    "        # self.fc = nn.Linear(hidden_dim, output_dim)\n",
    "        self.fc = nn.Linear(hidden_dim + feature_dim, output_dim)\n",
    "    \n",
    "    def forward(self, x, important_features):\n",
    "        # x: (batch_size, seq_len, input_dim)\n",
    "        x = self.dropout(self.relu(self.extracter(x)))\n",
    "        output, hidden = self.gru(x)\n",
    "        mid_output = self.dropout(self.relu(self.mid_fc(output[:, -1, :])))\n",
    "        concat_input = torch.cat((mid_output, important_features), dim=1)  # (batch_size, hidden_dim + feature_dim)\n",
    "        output = torch.sigmoid(self.fc(concat_input))\n",
    "        return output"
   ]
  },
  {
   "cell_type": "code",
   "execution_count": 22,
   "id": "4cfca9fe-4fb1-4030-a877-e1051251734e",
   "metadata": {
    "tags": []
   },
   "outputs": [],
   "source": [
    "model = GRUModel(input_dim=X_train.shape[2], hidden_dim=128, output_dim=y_train.shape[1], feature_dim=fea_train.shape[1]).to(device) # input_dim, hidden_dim, output_dim\n",
    "\n",
    "# Loss function & Optimizer\n",
    "loss_function = nn.BCELoss()\n",
    "optimizer = torch.optim.AdamW(model.parameters(), lr=0.00001, weight_decay=0.01) # , weight_decay=0.01\n",
    "\n",
    "# Learning rate scheduler\n",
    "epochs = 100\n",
    "total_steps = len(dataloader_train) * epochs\n",
    "scheduler = OneCycleLR(optimizer, max_lr=0.0001, total_steps=total_steps, epochs=epochs)"
   ]
  },
  {
   "cell_type": "code",
   "execution_count": 23,
   "id": "d7dfcf89-16a2-44a0-9ad2-395fb5db1955",
   "metadata": {
    "tags": []
   },
   "outputs": [],
   "source": [
    "def train_model(model, optimizer, dataloader_train, dataloader_val, scheduler, epochs):\n",
    "    \n",
    "    # patience = 20\n",
    "    best_val_loss = float('inf')\n",
    "    # counter = 0\n",
    "    # epoch = 0\n",
    "\n",
    "    train_losses = []\n",
    "    val_losses = []\n",
    "    \n",
    "    for epoch in tqdm.tqdm(range(epochs)):\n",
    "        model.train()\n",
    "        epoch += 1\n",
    "        for batch in dataloader_train:\n",
    "            seqs, labels, features = batch\n",
    "            seqs, labels, features = seqs.to(device).float(), labels.to(device).float(), features.to(device).float(),\n",
    "            optimizer.zero_grad()\n",
    "\n",
    "            y_pred = model(seqs, features)\n",
    "            loss = loss_function(y_pred, labels)\n",
    "            loss.backward()\n",
    "            optimizer.step()\n",
    "            scheduler.step()\n",
    "        \n",
    "        train_losses.append(loss.item())\n",
    "        \n",
    "        \n",
    "        model.eval()\n",
    "        with torch.no_grad():\n",
    "            for batch in dataloader_val:\n",
    "                seqs, labels, features = batch\n",
    "                seqs, labels, features = seqs.to(device).float(), labels.to(device).float(), features.to(device).float(),\n",
    "                val_pred = model(seqs, features)\n",
    "                val_pred = val_pred\n",
    "                labels = labels\n",
    "                val_loss = loss_function(val_pred, labels)\n",
    "            val_losses.append(val_loss.item())\n",
    "        \n",
    "        if epoch % 10 == 0:\n",
    "            print(f'Epoch {epoch:3}, Train Loss: {loss.item():10.8f}, Val Loss: {val_loss.item():10.8f}')\n",
    "            current_lr = scheduler.get_last_lr()[0]\n",
    "            print(f'Epoch {epoch:3}, Loss: {loss.item()}, Learning Rate: {current_lr}')\n",
    "\n",
    "\n",
    "                \n",
    "        # best model weight\n",
    "        if val_loss < best_val_loss:\n",
    "            best_val_loss = val_loss\n",
    "            torch.save(model.state_dict(), f'/home/jupyter/lstm/model/gru_best_model_weightdecay001_staticfea_first4mon.pt')\n",
    "    \n",
    "    \n",
    "    plt.plot(list(range(1, epochs+1, 1)), val_losses)\n",
    "    plt.plot(list(range(1, epochs+1, 1)), train_losses)\n",
    "    plt.xlabel('Model Complexity')\n",
    "    plt.ylabel('Validation Loss')\n",
    "    plt.title('Validation Loss vs. Model Complexity')\n",
    "    plt.show()"
   ]
  },
  {
   "cell_type": "markdown",
   "id": "4f2e8edc-1aff-4d9c-8e55-d1b6884a4b75",
   "metadata": {},
   "source": [
    "### Static Data Concat"
   ]
  },
  {
   "cell_type": "markdown",
   "id": "b25e3578-52a8-4836-b257-e8217e412424",
   "metadata": {},
   "source": [
    "#### Final Model"
   ]
  },
  {
   "cell_type": "code",
   "execution_count": 42,
   "id": "b7842dc3-e325-49a8-9b0f-0fb09a2cfc29",
   "metadata": {
    "tags": []
   },
   "outputs": [
    {
     "name": "stderr",
     "output_type": "stream",
     "text": [
      " 10%|█         | 10/100 [00:38<05:47,  3.86s/it]"
     ]
    },
    {
     "name": "stdout",
     "output_type": "stream",
     "text": [
      "Epoch  10, Train Loss: 0.17129144, Val Loss: 0.33350199\n",
      "Epoch  10, Loss: 0.17129144072532654, Learning Rate: 2.800115440700391e-05\n"
     ]
    },
    {
     "name": "stderr",
     "output_type": "stream",
     "text": [
      " 20%|██        | 20/100 [01:17<05:07,  3.85s/it]"
     ]
    },
    {
     "name": "stdout",
     "output_type": "stream",
     "text": [
      "Epoch  20, Train Loss: 0.29069829, Val Loss: 0.29834172\n",
      "Epoch  20, Loss: 0.2906982898712158, Learning Rate: 7.60023087584805e-05\n"
     ]
    },
    {
     "name": "stderr",
     "output_type": "stream",
     "text": [
      " 30%|███       | 30/100 [01:55<04:28,  3.83s/it]"
     ]
    },
    {
     "name": "stdout",
     "output_type": "stream",
     "text": [
      "Epoch  30, Train Loss: 0.29749402, Val Loss: 0.12137920\n",
      "Epoch  30, Loss: 0.2974940240383148, Learning Rate: 9.999999996813078e-05\n"
     ]
    },
    {
     "name": "stderr",
     "output_type": "stream",
     "text": [
      " 40%|████      | 40/100 [02:34<03:49,  3.82s/it]"
     ]
    },
    {
     "name": "stdout",
     "output_type": "stream",
     "text": [
      "Epoch  40, Train Loss: 0.25750342, Val Loss: 0.27815869\n",
      "Epoch  40, Loss: 0.2575034201145172, Learning Rate: 9.504768860705023e-05\n"
     ]
    },
    {
     "name": "stderr",
     "output_type": "stream",
     "text": [
      " 50%|█████     | 50/100 [03:12<03:11,  3.83s/it]"
     ]
    },
    {
     "name": "stdout",
     "output_type": "stream",
     "text": [
      "Epoch  50, Train Loss: 0.21424437, Val Loss: 0.24807462\n",
      "Epoch  50, Loss: 0.21424436569213867, Learning Rate: 8.117316965615154e-05\n"
     ]
    },
    {
     "name": "stderr",
     "output_type": "stream",
     "text": [
      " 60%|██████    | 60/100 [03:50<02:32,  3.82s/it]"
     ]
    },
    {
     "name": "stdout",
     "output_type": "stream",
     "text": [
      "Epoch  60, Train Loss: 0.17890437, Val Loss: 0.18598947\n",
      "Epoch  60, Loss: 0.17890436947345734, Learning Rate: 6.112446175346842e-05\n"
     ]
    },
    {
     "name": "stderr",
     "output_type": "stream",
     "text": [
      " 70%|███████   | 70/100 [04:28<01:54,  3.80s/it]"
     ]
    },
    {
     "name": "stdout",
     "output_type": "stream",
     "text": [
      "Epoch  70, Train Loss: 0.27366138, Val Loss: 0.27417797\n",
      "Epoch  70, Loss: 0.27366137504577637, Learning Rate: 3.88724573803937e-05\n"
     ]
    },
    {
     "name": "stderr",
     "output_type": "stream",
     "text": [
      " 80%|████████  | 80/100 [05:07<01:17,  3.87s/it]"
     ]
    },
    {
     "name": "stdout",
     "output_type": "stream",
     "text": [
      "Epoch  80, Train Loss: 0.32966918, Val Loss: 0.26438719\n",
      "Epoch  80, Loss: 0.32966917753219604, Learning Rate: 1.8824438905939206e-05\n"
     ]
    },
    {
     "name": "stderr",
     "output_type": "stream",
     "text": [
      " 90%|█████████ | 90/100 [05:45<00:38,  3.83s/it]"
     ]
    },
    {
     "name": "stdout",
     "output_type": "stream",
     "text": [
      "Epoch  90, Train Loss: 0.35073099, Val Loss: 0.10550983\n",
      "Epoch  90, Loss: 0.3507309854030609, Learning Rate: 4.951162261781821e-06\n"
     ]
    },
    {
     "name": "stderr",
     "output_type": "stream",
     "text": [
      "100%|██████████| 100/100 [06:24<00:00,  3.84s/it]"
     ]
    },
    {
     "name": "stdout",
     "output_type": "stream",
     "text": [
      "Epoch 100, Train Loss: 0.19502337, Val Loss: 0.14021774\n",
      "Epoch 100, Loss: 0.19502337276935577, Learning Rate: 4.000318692185736e-10\n"
     ]
    },
    {
     "name": "stderr",
     "output_type": "stream",
     "text": [
      "\n"
     ]
    },
    {
     "data": {
      "image/png": "[encoded data removed]",
      "text/plain": [
       "<Figure size 640x480 with 1 Axes>"
      ]
     },
     "metadata": {},
     "output_type": "display_data"
    }
   ],
   "source": [
    "# Min-max Scaler (Final Version)\n",
    "train_model(model, optimizer, dataloader_train, dataloader_val, scheduler, epochs)"
   ]
  },
  {
   "cell_type": "code",
   "execution_count": 44,
   "id": "febee9f5-88e3-4b73-9cb9-ed5e11caaf8b",
   "metadata": {
    "tags": []
   },
   "outputs": [
    {
     "data": {
      "text/plain": [
       "<All keys matched successfully>"
      ]
     },
     "execution_count": 44,
     "metadata": {},
     "output_type": "execute_result"
    }
   ],
   "source": [
    "best_model_path = '/home/jupyter/lstm/model/gru_best_model_weightdecay001_staticfea3.pt'\n",
    "best_model = GRUModel(input_dim=X_train.shape[2], hidden_dim=128, output_dim=y_train.shape[1], feature_dim=fea_train.shape[1]).to(device)\n",
    "best_model.load_state_dict(torch.load(best_model_path))"
   ]
  },
  {
   "cell_type": "code",
   "execution_count": 47,
   "id": "b63edffe-8049-42aa-8d99-cc3e8d36efe4",
   "metadata": {
    "tags": []
   },
   "outputs": [
    {
     "name": "stdout",
     "output_type": "stream",
     "text": [
      "              precision    recall  f1-score   support\n",
      "\n",
      "  Non-Active       0.77      0.72      0.74      2080\n",
      "      Active       0.94      0.95      0.94      9091\n",
      "\n",
      "    accuracy                           0.91     11171\n",
      "   macro avg       0.85      0.84      0.84     11171\n",
      "weighted avg       0.91      0.91      0.91     11171\n",
      "\n"
     ]
    }
   ],
   "source": [
    "evaluate_model(model, X_test, y_test, fea_test)"
   ]
  },
  {
   "cell_type": "code",
   "execution_count": 45,
   "id": "b8ab8cae-1045-43cf-874f-fd8f5e5b9b66",
   "metadata": {
    "tags": []
   },
   "outputs": [
    {
     "name": "stdout",
     "output_type": "stream",
     "text": [
      "              precision    recall  f1-score   support\n",
      "\n",
      "  Non-Active       0.79      0.73      0.76      7503\n",
      "      Active       0.94      0.96      0.95     32711\n",
      "\n",
      "    accuracy                           0.91     40214\n",
      "   macro avg       0.87      0.84      0.85     40214\n",
      "weighted avg       0.91      0.91      0.91     40214\n",
      "\n"
     ]
    }
   ],
   "source": [
    "evaluate_model(best_model, X_train, y_train, fea_train)"
   ]
  },
  {
   "cell_type": "code",
   "execution_count": 46,
   "id": "899f2e76-d0db-4bc8-9de2-519b57ca966b",
   "metadata": {
    "tags": []
   },
   "outputs": [
    {
     "name": "stdout",
     "output_type": "stream",
     "text": [
      "              precision    recall  f1-score   support\n",
      "\n",
      "  Non-Active       0.79      0.71      0.75       842\n",
      "      Active       0.93      0.96      0.94      3627\n",
      "\n",
      "    accuracy                           0.91      4469\n",
      "   macro avg       0.86      0.83      0.85      4469\n",
      "weighted avg       0.91      0.91      0.91      4469\n",
      "\n"
     ]
    }
   ],
   "source": [
    "evaluate_model(best_model, X_val, y_val, fea_val)"
   ]
  },
  {
   "cell_type": "code",
   "execution_count": 60,
   "id": "b0657353-a23a-44e2-b6e7-e333ecbc5bab",
   "metadata": {
    "tags": []
   },
   "outputs": [
    {
     "name": "stdout",
     "output_type": "stream",
     "text": [
      "              precision    recall  f1-score   support\n",
      "\n",
      "  Non-Active       0.80      0.68      0.73      2080\n",
      "      Active       0.93      0.96      0.94      9091\n",
      "\n",
      "    accuracy                           0.91     11171\n",
      "   macro avg       0.86      0.82      0.84     11171\n",
      "weighted avg       0.90      0.91      0.90     11171\n",
      "\n"
     ]
    }
   ],
   "source": [
    "## Final Model\n",
    "# Min-max Scaler\n",
    "best_model.eval()\n",
    "with torch.no_grad():\n",
    "    y_test_list = []\n",
    "    y_pred_list = [] \n",
    "    for seq, labels, feature in zip(X_test, y_test, fea_test):\n",
    "        seq, labels, feature = seq.to(device).float(), labels.to(device).float(), feature.to(device).float()\n",
    "        y_pred = best_model(seq.unsqueeze(0), feature.unsqueeze(0))\n",
    "        y_pred = (y_pred > 0.45).float()\n",
    "\n",
    "        y_test_list.append(labels.squeeze().tolist())\n",
    "        y_pred_list.append(y_pred.squeeze().tolist())\n",
    "\n",
    "\n",
    "target_names = ['Non-Active', 'Active']\n",
    "print(classification_report(y_test_list, y_pred_list, target_names=target_names))"
   ]
  },
  {
   "cell_type": "markdown",
   "id": "43a4fd74-a8f8-40e3-b490-a0c9e5e13314",
   "metadata": {},
   "source": [
    "## Attention"
   ]
  },
  {
   "cell_type": "code",
   "execution_count": 267,
   "id": "8d9be67a-8da9-49f9-b2c0-d4f9da2dca24",
   "metadata": {
    "tags": []
   },
   "outputs": [],
   "source": [
    "class SelfAttention(nn.Module):\n",
    "    def __init__(self, input_dim, hidden_dim):\n",
    "        super(SelfAttention, self).__init__()\n",
    "        self.query = nn.Linear(input_dim, hidden_dim)\n",
    "        self.key = nn.Linear(input_dim, hidden_dim)\n",
    "        self.value = nn.Linear(input_dim, hidden_dim)\n",
    "        self.softmax = nn.Softmax(dim=-1)\n",
    "        \n",
    "    def forward(self, x):\n",
    "        # x: (batch_size, seq_len, input_dim)\n",
    "        Q = self.query(x)  # (batch_size, seq_len, hidden_dim)\n",
    "        K = self.key(x)    # (batch_size, seq_len, hidden_dim)\n",
    "        V = self.value(x)  # (batch_size, seq_len, hidden_dim)\n",
    "        \n",
    "        # Scaled dot-product attention\n",
    "        scores = torch.matmul(Q, K.transpose(-2, -1)) / torch.sqrt(torch.tensor(Q.shape[-1], dtype=torch.float32))\n",
    "        attn_weights = self.softmax(scores)  # (batch_size, seq_len, seq_len)\n",
    "        \n",
    "        context = torch.matmul(attn_weights, V)  # (batch_size, seq_len, hidden_dim)\n",
    "        return context, attn_weights\n",
    "\n",
    "class AttentionModel(nn.Module):\n",
    "    def __init__(self, input_dim, hidden_dim, output_dim):\n",
    "        super(AttentionModel, self).__init__()\n",
    "        self.attention = SelfAttention(input_dim, hidden_dim)\n",
    "        self.fc = nn.Linear(hidden_dim, output_dim)\n",
    "        self.sigmoid = nn.Sigmoid()\n",
    "    \n",
    "    def forward(self, x):\n",
    "        # x: (batch_size, seq_len, input_dim)\n",
    "        context, attn_weights = self.attention(x)  # context: (batch_size, seq_len, hidden_dim)\n",
    "        \n",
    "        # Optionally, we can reduce the sequence dimension by taking the mean of the context vectors\n",
    "        context_mean = torch.mean(context, dim=1)  # (batch_size, hidden_dim)\n",
    "        \n",
    "        # Pass through fully connected layer\n",
    "        output = self.fc(context_mean)\n",
    "        \n",
    "        # Apply sigmoid for binary classification\n",
    "        output = self.sigmoid(output)\n",
    "        \n",
    "        return output"
   ]
  },
  {
   "cell_type": "code",
   "execution_count": 268,
   "id": "7e90a6c4-6781-437c-8504-f6ffb9a1b6ff",
   "metadata": {
    "tags": []
   },
   "outputs": [],
   "source": [
    "hidden_dim = 128\n",
    "input_dim=X_train.shape[2]\n",
    "output_dim=y_train.shape[1]\n",
    "\n",
    "model = AttentionModel(input_dim, hidden_dim, output_dim).to(device)\n",
    "\n",
    "loss_function = nn.BCELoss()\n",
    "optimizer = torch.optim.AdamW(model.parameters(), lr=1e-4, weight_decay=1e-2)"
   ]
  },
  {
   "cell_type": "code",
   "execution_count": 270,
   "id": "29a441d5-0d1a-4106-b5e9-b629a1d15ac6",
   "metadata": {
    "tags": []
   },
   "outputs": [],
   "source": [
    "def train_model(model, optimizer, dataloader_train, dataloader_val, epochs=100):\n",
    "    \n",
    "    # patience = 20\n",
    "    best_val_loss = float('inf')\n",
    "    counter = 0\n",
    "\n",
    "    train_losses = []\n",
    "    val_losses = []\n",
    "    \n",
    "    for epoch in tqdm.tqdm(range(epochs)):\n",
    "        model.train()\n",
    "        for batch in dataloader_train:\n",
    "            epoch += 1\n",
    "            seqs, labels = batch\n",
    "            seqs, labels = seqs.to(device).float(), labels.to(device).float()\n",
    "            optimizer.zero_grad()\n",
    "\n",
    "            y_pred = model(seqs)\n",
    "            loss = loss_function(y_pred, labels)\n",
    "            weights = torch.where(labels == 1, 1.0, 1.0).to(y_pred.device)\n",
    "            weighted_loss = (loss * weights).mean()\n",
    "            weighted_loss.backward()\n",
    "            optimizer.step()\n",
    "        \n",
    "        train_losses.append(weighted_loss.item())\n",
    "        \n",
    "        \n",
    "        model.eval()\n",
    "        with torch.no_grad():\n",
    "            for batch in dataloader_val:\n",
    "                seqs, labels = batch\n",
    "                seqs, labels = seqs.to(device).float(), labels.to(device).float()\n",
    "                \n",
    "                val_pred = model(seqs)\n",
    "                val_loss = loss_function(val_pred, labels)\n",
    "                val_weights = torch.where(labels == 1, 1.0, 1.0).to(val_pred.device)\n",
    "                weighted_val_loss = (val_loss * val_weights).mean()\n",
    "            val_losses.append(weighted_val_loss.item())\n",
    "        \n",
    "        if epoch % 10 == 0:\n",
    "            print(f'Epoch {epoch:3}, Train Loss: {weighted_loss.item():10.8f}, Val Loss: {weighted_val_loss.item():10.8f}')\n",
    "\n",
    "        # best model weight\n",
    "        if val_loss < best_val_loss:\n",
    "            best_val_loss = val_loss\n",
    "            torch.save(model.state_dict(), f'/home/jupyter/lstm/model/attention.pt')"
   ]
  },
  {
   "cell_type": "code",
   "execution_count": 271,
   "id": "66377d4f-3517-4bb2-902f-bcb8c10f227c",
   "metadata": {
    "tags": []
   },
   "outputs": [
    {
     "name": "stderr",
     "output_type": "stream",
     "text": [
      "  4%|▍         | 4/100 [00:13<05:29,  3.44s/it]"
     ]
    },
    {
     "name": "stdout",
     "output_type": "stream",
     "text": [
      "Epoch 1260, Train Loss: 0.16717081, Val Loss: 0.18060969\n"
     ]
    },
    {
     "name": "stderr",
     "output_type": "stream",
     "text": [
      " 14%|█▍        | 14/100 [00:48<04:55,  3.44s/it]"
     ]
    },
    {
     "name": "stdout",
     "output_type": "stream",
     "text": [
      "Epoch 1270, Train Loss: 0.47051865, Val Loss: 0.16067444\n"
     ]
    },
    {
     "name": "stderr",
     "output_type": "stream",
     "text": [
      " 24%|██▍       | 24/100 [01:21<04:15,  3.37s/it]"
     ]
    },
    {
     "name": "stdout",
     "output_type": "stream",
     "text": [
      "Epoch 1280, Train Loss: 0.18865679, Val Loss: 0.38932556\n"
     ]
    },
    {
     "name": "stderr",
     "output_type": "stream",
     "text": [
      " 34%|███▍      | 34/100 [01:55<03:41,  3.36s/it]"
     ]
    },
    {
     "name": "stdout",
     "output_type": "stream",
     "text": [
      "Epoch 1290, Train Loss: 0.56480205, Val Loss: 0.16014308\n"
     ]
    },
    {
     "name": "stderr",
     "output_type": "stream",
     "text": [
      " 44%|████▍     | 44/100 [02:28<03:08,  3.36s/it]"
     ]
    },
    {
     "name": "stdout",
     "output_type": "stream",
     "text": [
      "Epoch 1300, Train Loss: 0.27129981, Val Loss: 0.30755302\n"
     ]
    },
    {
     "name": "stderr",
     "output_type": "stream",
     "text": [
      " 54%|█████▍    | 54/100 [03:02<02:35,  3.37s/it]"
     ]
    },
    {
     "name": "stdout",
     "output_type": "stream",
     "text": [
      "Epoch 1310, Train Loss: 0.24609411, Val Loss: 0.26812056\n"
     ]
    },
    {
     "name": "stderr",
     "output_type": "stream",
     "text": [
      " 64%|██████▍   | 64/100 [03:36<02:02,  3.41s/it]"
     ]
    },
    {
     "name": "stdout",
     "output_type": "stream",
     "text": [
      "Epoch 1320, Train Loss: 0.22946042, Val Loss: 0.25369135\n"
     ]
    },
    {
     "name": "stderr",
     "output_type": "stream",
     "text": [
      " 74%|███████▍  | 74/100 [04:10<01:28,  3.39s/it]"
     ]
    },
    {
     "name": "stdout",
     "output_type": "stream",
     "text": [
      "Epoch 1330, Train Loss: 0.26207778, Val Loss: 0.13074054\n"
     ]
    },
    {
     "name": "stderr",
     "output_type": "stream",
     "text": [
      " 84%|████████▍ | 84/100 [04:44<00:54,  3.40s/it]"
     ]
    },
    {
     "name": "stdout",
     "output_type": "stream",
     "text": [
      "Epoch 1340, Train Loss: 0.17494293, Val Loss: 0.46132851\n"
     ]
    },
    {
     "name": "stderr",
     "output_type": "stream",
     "text": [
      " 94%|█████████▍| 94/100 [05:18<00:20,  3.37s/it]"
     ]
    },
    {
     "name": "stdout",
     "output_type": "stream",
     "text": [
      "Epoch 1350, Train Loss: 0.26917186, Val Loss: 0.37977487\n"
     ]
    },
    {
     "name": "stderr",
     "output_type": "stream",
     "text": [
      "100%|██████████| 100/100 [05:38<00:00,  3.38s/it]\n"
     ]
    }
   ],
   "source": [
    "train_model(model, optimizer, dataloader_train, dataloader_val)"
   ]
  },
  {
   "cell_type": "code",
   "execution_count": 272,
   "id": "66d92506-d376-4048-b871-31f818fbccab",
   "metadata": {
    "tags": []
   },
   "outputs": [
    {
     "name": "stdout",
     "output_type": "stream",
     "text": [
      "              precision    recall  f1-score   support\n",
      "\n",
      "  Non-Active       0.71      0.71      0.71      2080\n",
      "      Active       0.93      0.94      0.93      9091\n",
      "\n",
      "    accuracy                           0.89     11171\n",
      "   macro avg       0.82      0.82      0.82     11171\n",
      "weighted avg       0.89      0.89      0.89     11171\n",
      "\n"
     ]
    }
   ],
   "source": [
    "evaluate_model(model, X_test, y_test)"
   ]
  },
  {
   "cell_type": "code",
   "execution_count": 273,
   "id": "cc2bd347-c5d5-47f5-a0e6-0f515ec268bc",
   "metadata": {
    "tags": []
   },
   "outputs": [
    {
     "name": "stdout",
     "output_type": "stream",
     "text": [
      "              precision    recall  f1-score   support\n",
      "\n",
      "  Non-Active       0.73      0.71      0.72      7503\n",
      "      Active       0.93      0.94      0.94     32711\n",
      "\n",
      "    accuracy                           0.90     40214\n",
      "   macro avg       0.83      0.82      0.83     40214\n",
      "weighted avg       0.90      0.90      0.90     40214\n",
      "\n"
     ]
    }
   ],
   "source": [
    "evaluate_model(model, X_train, y_train)"
   ]
  },
  {
   "cell_type": "code",
   "execution_count": 274,
   "id": "ad88c193-fbd7-484f-923c-8153541d1123",
   "metadata": {
    "tags": []
   },
   "outputs": [
    {
     "name": "stdout",
     "output_type": "stream",
     "text": [
      "              precision    recall  f1-score   support\n",
      "\n",
      "  Non-Active       0.74      0.70      0.72       842\n",
      "      Active       0.93      0.94      0.94      3627\n",
      "\n",
      "    accuracy                           0.90      4469\n",
      "   macro avg       0.83      0.82      0.83      4469\n",
      "weighted avg       0.89      0.90      0.90      4469\n",
      "\n"
     ]
    }
   ],
   "source": [
    "evaluate_model(model, X_val, y_val)"
   ]
  },
  {
   "cell_type": "code",
   "execution_count": 276,
   "id": "48bd541f-f025-4121-9a83-66b1ecb457df",
   "metadata": {
    "tags": []
   },
   "outputs": [
    {
     "data": {
      "text/plain": [
       "<All keys matched successfully>"
      ]
     },
     "execution_count": 276,
     "metadata": {},
     "output_type": "execute_result"
    }
   ],
   "source": [
    "best_model_path = '/home/jupyter/lstm/model/attention.pt'\n",
    "best_model = AttentionModel(input_dim, hidden_dim, output_dim).to(device)\n",
    "best_model.load_state_dict(torch.load(best_model_path))"
   ]
  },
  {
   "cell_type": "code",
   "execution_count": 277,
   "id": "dfbe86ec-8b7d-405a-81dd-0268c444904b",
   "metadata": {
    "tags": []
   },
   "outputs": [
    {
     "name": "stdout",
     "output_type": "stream",
     "text": [
      "              precision    recall  f1-score   support\n",
      "\n",
      "  Non-Active       0.71      0.71      0.71      2080\n",
      "      Active       0.93      0.93      0.93      9091\n",
      "\n",
      "    accuracy                           0.89     11171\n",
      "   macro avg       0.82      0.82      0.82     11171\n",
      "weighted avg       0.89      0.89      0.89     11171\n",
      "\n"
     ]
    }
   ],
   "source": [
    "evaluate_model(best_model, X_test, y_test)"
   ]
  },
  {
   "cell_type": "code",
   "execution_count": 278,
   "id": "b3b9ad05-4d3a-46ff-bc72-4344fc2c0023",
   "metadata": {
    "tags": []
   },
   "outputs": [
    {
     "name": "stdout",
     "output_type": "stream",
     "text": [
      "              precision    recall  f1-score   support\n",
      "\n",
      "  Non-Active       0.73      0.71      0.72      7503\n",
      "      Active       0.93      0.94      0.94     32711\n",
      "\n",
      "    accuracy                           0.90     40214\n",
      "   macro avg       0.83      0.83      0.83     40214\n",
      "weighted avg       0.90      0.90      0.90     40214\n",
      "\n"
     ]
    }
   ],
   "source": [
    "evaluate_model(best_model, X_train, y_train)"
   ]
  },
  {
   "cell_type": "code",
   "execution_count": 279,
   "id": "3a0597a5-0fc3-4a0b-8e78-978b3fd84a24",
   "metadata": {
    "tags": []
   },
   "outputs": [
    {
     "name": "stdout",
     "output_type": "stream",
     "text": [
      "              precision    recall  f1-score   support\n",
      "\n",
      "  Non-Active       0.72      0.71      0.72       842\n",
      "      Active       0.93      0.94      0.93      3627\n",
      "\n",
      "    accuracy                           0.89      4469\n",
      "   macro avg       0.83      0.82      0.82      4469\n",
      "weighted avg       0.89      0.89      0.89      4469\n",
      "\n"
     ]
    }
   ],
   "source": [
    "evaluate_model(best_model, X_val, y_val)"
   ]
  },
  {
   "cell_type": "markdown",
   "id": "4dea90a4-f253-4a66-9c82-bf90ab530a32",
   "metadata": {},
   "source": [
    "## Transformer"
   ]
  },
  {
   "cell_type": "code",
   "execution_count": 231,
   "id": "440c6100-31b6-4401-82f6-db9a23c39760",
   "metadata": {
    "tags": []
   },
   "outputs": [],
   "source": [
    "batch_size = 32\n",
    "\n",
    "dataset_train = TensorDataset(X_train, y_train)\n",
    "dataloader_train = DataLoader(dataset_train, batch_size=batch_size, shuffle=True)\n",
    "\n",
    "dataset_val = TensorDataset(X_val, y_val)\n",
    "dataloader_val = DataLoader(dataset_val, batch_size=batch_size, shuffle=True)"
   ]
  },
  {
   "cell_type": "code",
   "execution_count": 229,
   "id": "78380684-4de6-4a77-8726-798d22841250",
   "metadata": {
    "tags": []
   },
   "outputs": [],
   "source": [
    "class TransformerModel(nn.Module):\n",
    "    def __init__(self, input_dim, d_model, nhead, num_layers, output_dim):\n",
    "        super(TransformerModel, self).__init__()\n",
    "        \n",
    "        # Input embedding layer: Transforms input features to d_model dimensions\n",
    "        self.embedding = nn.Linear(input_dim, d_model)\n",
    "        \n",
    "        # Positional encoding (optional for temporal order awareness)\n",
    "        self.positional_encoding = nn.Parameter(torch.randn(1, 7, d_model))\n",
    "        \n",
    "        # Transformer Encoder: Uses multiple layers and heads for self-attention\n",
    "        encoder_layer = nn.TransformerEncoderLayer(d_model=d_model, nhead=nhead, batch_first=True)\n",
    "        self.transformer_encoder = nn.TransformerEncoder(encoder_layer, num_layers=num_layers)\n",
    "        \n",
    "        # Fully connected layer for prediction\n",
    "        self.fc = nn.Linear(d_model, output_dim)\n",
    "        self.sigmoid = nn.Sigmoid()\n",
    "        \n",
    "    def forward(self, x):\n",
    "        # x: (batch_size, seq_len=7, input_dim)\n",
    "        # Apply linear embedding to input features\n",
    "        x = self.embedding(x)  # (batch_size, seq_len=7, d_model)\n",
    "        \n",
    "        # Optionally add positional encoding to the embeddings\n",
    "        x = x + self.positional_encoding\n",
    "        \n",
    "        # Pass through Transformer Encoder\n",
    "        transformer_output = self.transformer_encoder(x)  # (batch_size, seq_len=7, d_model)\n",
    "        \n",
    "        # Take the last output token (i.e., last month)\n",
    "        last_output = transformer_output[:, -1, :]  # (batch_size, d_model)\n",
    "        \n",
    "        # Pass the last output through a fully connected layer and apply sigmoid\n",
    "        output = self.fc(last_output)  # (batch_size, output_dim)\n",
    "        output = self.sigmoid(output)\n",
    "        \n",
    "        return output"
   ]
  },
  {
   "cell_type": "code",
   "execution_count": 232,
   "id": "cbb891f2-c361-47e8-8daa-7458f5ce5f13",
   "metadata": {
    "tags": []
   },
   "outputs": [],
   "source": [
    "d_model = 128\n",
    "nhead = 8\n",
    "num_layers = 4\n",
    "input_dim=X_train.shape[2]\n",
    "output_dim=y_train.shape[1]\n",
    "\n",
    "model = TransformerModel(input_dim, d_model, nhead, num_layers, output_dim).to(device)\n",
    "\n",
    "loss_function = nn.BCELoss()\n",
    "optimizer = torch.optim.AdamW(model.parameters(), lr=1e-4, weight_decay=1e-2)"
   ]
  },
  {
   "cell_type": "code",
   "execution_count": 233,
   "id": "d86d804c-f54b-4ec1-a08c-50aa133dabda",
   "metadata": {
    "tags": []
   },
   "outputs": [],
   "source": [
    "def train_model(model, optimizer, dataloader_train, dataloader_val, epochs=100):\n",
    "    \n",
    "    # patience = 20\n",
    "    best_val_loss = float('inf')\n",
    "    counter = 0\n",
    "\n",
    "    train_losses = []\n",
    "    val_losses = []\n",
    "    \n",
    "    for epoch in tqdm.tqdm(range(epochs)):\n",
    "        model.train()\n",
    "        for batch in dataloader_train:\n",
    "            epoch += 1\n",
    "            seqs, labels = batch\n",
    "            seqs, labels = seqs.to(device).float(), labels.to(device).float()\n",
    "            optimizer.zero_grad()\n",
    "\n",
    "            y_pred = model(seqs)\n",
    "            labels = labels\n",
    "\n",
    "            loss = loss_function(y_pred, labels)\n",
    "            weights = torch.where(labels == 1, 1.0, 1.0).to(y_pred.device)\n",
    "            weighted_loss = (loss * weights).mean()\n",
    "            weighted_loss.backward()\n",
    "            optimizer.step()\n",
    "        \n",
    "        train_losses.append(weighted_loss.item())\n",
    "        \n",
    "        \n",
    "        model.eval()\n",
    "        with torch.no_grad():\n",
    "            for batch in dataloader_val:\n",
    "                seqs, labels = batch\n",
    "                seqs, labels = seqs.to(device).float(), labels.to(device).float()\n",
    "                \n",
    "                val_pred = model(seqs)\n",
    "                labels = labels\n",
    "                \n",
    "                val_loss = loss_function(val_pred, labels)\n",
    "                val_weights = torch.where(labels == 1, 1.0, 1.0).to(val_pred.device)\n",
    "                weighted_val_loss = (val_loss * val_weights).mean()\n",
    "            val_losses.append(weighted_val_loss.item())\n",
    "        \n",
    "        if epoch % 10 == 0:\n",
    "            print(f'Epoch {epoch:3}, Train Loss: {weighted_loss.item():10.8f}, Val Loss: {weighted_val_loss.item():10.8f}')\n",
    "\n",
    "        # best model weight\n",
    "        if val_loss < best_val_loss:\n",
    "            best_val_loss = val_loss\n",
    "            torch.save(model.state_dict(), f'/home/jupyter/lstm/model/transformer.pt')"
   ]
  },
  {
   "cell_type": "code",
   "execution_count": 235,
   "id": "5b0f4f58-9545-464f-adb4-1773075712ca",
   "metadata": {
    "tags": []
   },
   "outputs": [
    {
     "name": "stderr",
     "output_type": "stream",
     "text": [
      "  4%|▍         | 4/100 [00:56<22:39, 14.16s/it]"
     ]
    },
    {
     "name": "stdout",
     "output_type": "stream",
     "text": [
      "Epoch 1260, Train Loss: 0.31963289, Val Loss: 0.09956234\n"
     ]
    },
    {
     "name": "stderr",
     "output_type": "stream",
     "text": [
      " 14%|█▍        | 14/100 [03:18<20:18, 14.17s/it]"
     ]
    },
    {
     "name": "stdout",
     "output_type": "stream",
     "text": [
      "Epoch 1270, Train Loss: 0.20094517, Val Loss: 0.33893019\n"
     ]
    },
    {
     "name": "stderr",
     "output_type": "stream",
     "text": [
      " 24%|██▍       | 24/100 [05:40<17:55, 14.15s/it]"
     ]
    },
    {
     "name": "stdout",
     "output_type": "stream",
     "text": [
      "Epoch 1280, Train Loss: 0.27000290, Val Loss: 0.15952371\n"
     ]
    },
    {
     "name": "stderr",
     "output_type": "stream",
     "text": [
      " 34%|███▍      | 34/100 [08:02<15:34, 14.15s/it]"
     ]
    },
    {
     "name": "stdout",
     "output_type": "stream",
     "text": [
      "Epoch 1290, Train Loss: 0.21612400, Val Loss: 0.02726055\n"
     ]
    },
    {
     "name": "stderr",
     "output_type": "stream",
     "text": [
      " 44%|████▍     | 44/100 [10:24<13:18, 14.26s/it]"
     ]
    },
    {
     "name": "stdout",
     "output_type": "stream",
     "text": [
      "Epoch 1300, Train Loss: 0.22061743, Val Loss: 0.49079573\n"
     ]
    },
    {
     "name": "stderr",
     "output_type": "stream",
     "text": [
      " 54%|█████▍    | 54/100 [12:47<11:00, 14.35s/it]"
     ]
    },
    {
     "name": "stdout",
     "output_type": "stream",
     "text": [
      "Epoch 1310, Train Loss: 0.29990196, Val Loss: 0.18423733\n"
     ]
    },
    {
     "name": "stderr",
     "output_type": "stream",
     "text": [
      " 64%|██████▍   | 64/100 [15:10<08:36, 14.34s/it]"
     ]
    },
    {
     "name": "stdout",
     "output_type": "stream",
     "text": [
      "Epoch 1320, Train Loss: 0.21167973, Val Loss: 0.16803175\n"
     ]
    },
    {
     "name": "stderr",
     "output_type": "stream",
     "text": [
      " 74%|███████▍  | 74/100 [17:33<06:11, 14.28s/it]"
     ]
    },
    {
     "name": "stdout",
     "output_type": "stream",
     "text": [
      "Epoch 1330, Train Loss: 0.16484898, Val Loss: 0.33314836\n"
     ]
    },
    {
     "name": "stderr",
     "output_type": "stream",
     "text": [
      " 84%|████████▍ | 84/100 [19:55<03:48, 14.30s/it]"
     ]
    },
    {
     "name": "stdout",
     "output_type": "stream",
     "text": [
      "Epoch 1340, Train Loss: 0.32214427, Val Loss: 0.16720445\n"
     ]
    },
    {
     "name": "stderr",
     "output_type": "stream",
     "text": [
      " 94%|█████████▍| 94/100 [22:18<01:25, 14.26s/it]"
     ]
    },
    {
     "name": "stdout",
     "output_type": "stream",
     "text": [
      "Epoch 1350, Train Loss: 0.10446042, Val Loss: 0.11281256\n"
     ]
    },
    {
     "name": "stderr",
     "output_type": "stream",
     "text": [
      "100%|██████████| 100/100 [23:43<00:00, 14.24s/it]\n"
     ]
    }
   ],
   "source": [
    "train_model(model, optimizer, dataloader_train, dataloader_val)"
   ]
  },
  {
   "cell_type": "code",
   "execution_count": 238,
   "id": "e9adff27-6bec-43ce-bfdc-6902040d3926",
   "metadata": {
    "tags": []
   },
   "outputs": [
    {
     "name": "stdout",
     "output_type": "stream",
     "text": [
      "              precision    recall  f1-score   support\n",
      "\n",
      "  Non-Active       0.73      0.72      0.73      2080\n",
      "      Active       0.94      0.94      0.94      9091\n",
      "\n",
      "    accuracy                           0.90     11171\n",
      "   macro avg       0.83      0.83      0.83     11171\n",
      "weighted avg       0.90      0.90      0.90     11171\n",
      "\n"
     ]
    }
   ],
   "source": [
    "evaluate_model(model, X_test, y_test)"
   ]
  },
  {
   "cell_type": "code",
   "execution_count": 245,
   "id": "112db1d7-fe9a-46c7-9bb1-da9298fae27e",
   "metadata": {
    "tags": []
   },
   "outputs": [
    {
     "name": "stdout",
     "output_type": "stream",
     "text": [
      "              precision    recall  f1-score   support\n",
      "\n",
      "  Non-Active       0.82      0.82      0.82      7503\n",
      "      Active       0.96      0.96      0.96     32711\n",
      "\n",
      "    accuracy                           0.93     40214\n",
      "   macro avg       0.89      0.89      0.89     40214\n",
      "weighted avg       0.93      0.93      0.93     40214\n",
      "\n"
     ]
    }
   ],
   "source": [
    "evaluate_model(model, X_train, y_train)"
   ]
  },
  {
   "cell_type": "code",
   "execution_count": 240,
   "id": "ad219ed7-e58e-4ae9-a76f-489f6ed310c0",
   "metadata": {
    "tags": []
   },
   "outputs": [
    {
     "name": "stdout",
     "output_type": "stream",
     "text": [
      "              precision    recall  f1-score   support\n",
      "\n",
      "  Non-Active       0.75      0.72      0.73       842\n",
      "      Active       0.93      0.94      0.94      3627\n",
      "\n",
      "    accuracy                           0.90      4469\n",
      "   macro avg       0.84      0.83      0.83      4469\n",
      "weighted avg       0.90      0.90      0.90      4469\n",
      "\n"
     ]
    }
   ],
   "source": [
    "evaluate_model(model, X_val, y_val)"
   ]
  },
  {
   "cell_type": "code",
   "execution_count": 243,
   "id": "c8ea0eb1-3265-44f5-9c85-315cb939ebab",
   "metadata": {
    "tags": []
   },
   "outputs": [
    {
     "data": {
      "text/plain": [
       "<All keys matched successfully>"
      ]
     },
     "execution_count": 243,
     "metadata": {},
     "output_type": "execute_result"
    }
   ],
   "source": [
    "best_model_path = '/home/jupyter/lstm/model/transformer.pt'\n",
    "best_model = TransformerModel(input_dim, d_model, nhead, num_layers, output_dim).to(device)\n",
    "best_model.load_state_dict(torch.load(best_model_path))"
   ]
  },
  {
   "cell_type": "code",
   "execution_count": 244,
   "id": "78de4980-889b-4ca7-aad4-62133d57952b",
   "metadata": {
    "tags": []
   },
   "outputs": [
    {
     "name": "stdout",
     "output_type": "stream",
     "text": [
      "              precision    recall  f1-score   support\n",
      "\n",
      "  Non-Active       0.76      0.70      0.73      2080\n",
      "      Active       0.93      0.95      0.94      9091\n",
      "\n",
      "    accuracy                           0.90     11171\n",
      "   macro avg       0.85      0.82      0.83     11171\n",
      "weighted avg       0.90      0.90      0.90     11171\n",
      "\n"
     ]
    }
   ],
   "source": [
    "evaluate_model(best_model, X_test, y_test)"
   ]
  },
  {
   "cell_type": "code",
   "execution_count": 246,
   "id": "27e2ab5b-ad75-492c-a6de-c2bceee78a81",
   "metadata": {
    "tags": []
   },
   "outputs": [
    {
     "name": "stdout",
     "output_type": "stream",
     "text": [
      "              precision    recall  f1-score   support\n",
      "\n",
      "  Non-Active       0.84      0.76      0.80      7503\n",
      "      Active       0.95      0.97      0.96     32711\n",
      "\n",
      "    accuracy                           0.93     40214\n",
      "   macro avg       0.89      0.86      0.88     40214\n",
      "weighted avg       0.93      0.93      0.93     40214\n",
      "\n"
     ]
    }
   ],
   "source": [
    "evaluate_model(best_model, X_train, y_train)"
   ]
  },
  {
   "cell_type": "code",
   "execution_count": 247,
   "id": "7558d842-eb70-48c3-b7eb-ca937e405fbe",
   "metadata": {
    "tags": []
   },
   "outputs": [
    {
     "name": "stdout",
     "output_type": "stream",
     "text": [
      "              precision    recall  f1-score   support\n",
      "\n",
      "  Non-Active       0.77      0.68      0.72       842\n",
      "      Active       0.93      0.95      0.94      3627\n",
      "\n",
      "    accuracy                           0.90      4469\n",
      "   macro avg       0.85      0.81      0.83      4469\n",
      "weighted avg       0.90      0.90      0.90      4469\n",
      "\n"
     ]
    }
   ],
   "source": [
    "evaluate_model(best_model, X_val, y_val)"
   ]
  },
  {
   "cell_type": "markdown",
   "id": "243876ac-9b61-4151-8303-ccdd01f10ea5",
   "metadata": {},
   "source": [
    "## Single Step LSTM Model Training"
   ]
  },
  {
   "cell_type": "code",
   "execution_count": 63,
   "id": "22639891-d524-4a45-9f42-8f1b56e9708f",
   "metadata": {
    "tags": []
   },
   "outputs": [],
   "source": [
    "device = torch.device('cuda' if torch.cuda.is_available() else 'cpu')"
   ]
  },
  {
   "cell_type": "code",
   "execution_count": null,
   "id": "061a60d4-b1ee-4768-a09b-e66d51448303",
   "metadata": {
    "collapsed": true,
    "jupyter": {
     "outputs_hidden": true
    },
    "tags": []
   },
   "outputs": [],
   "source": [
    "class LSTMModel(nn.Module):\n",
    "    def __init__(self, input_size=1, hidden_size=128, num_layers=2, output_size=1):\n",
    "        super(LSTMModel, self).__init__()\n",
    "        self.hidden_size = hidden_size\n",
    "        self.num_layers = num_layers\n",
    "        self.lstm = nn.LSTM(input_size, hidden_size, num_layers, batch_first=True)\n",
    "        self.fc = nn.Linear(hidden_size, output_size)\n",
    "        self.hidden_cell = (torch.zeros(self.num_layers, 1, self.hidden_size).to(device),\n",
    "                            torch.zeros(self.num_layers, 1, self.hidden_size).to(device))\n",
    "\n",
    "    def forward(self, x):\n",
    "        out, self.hidden_cell = self.lstm(x, self.hidden_cell)\n",
    "        predictions = torch.sigmoid(self.fc(out[:, -1, :]))\n",
    "        return predictions\n",
    "\n",
    "model = LSTMModel(input_size=X_train.shape[2], output_size=y_train.shape[1]).to(device)\n",
    "\n",
    "loss_function = nn.BCELoss()\n",
    "optimizer = optim.Adam(model.parameters(), lr=0.001)"
   ]
  },
  {
   "cell_type": "code",
   "execution_count": 45,
   "id": "acb8fe2d-0e09-4f8e-b934-8a5a7b1635c8",
   "metadata": {
    "tags": []
   },
   "outputs": [],
   "source": [
    "def train_model(model, optimizer, X_train, y_train, epochs=100):\n",
    "    for epoch in tqdm.tqdm(range(epochs)):\n",
    "        for seq, labels in zip(X_train, y_train):\n",
    "            seq, labels = seq.to(device).float(), labels.to(device).float()\n",
    "            optimizer.zero_grad()\n",
    "            model.hidden_cell = (torch.zeros(model.num_layers, 1, model.hidden_size).to(device),\n",
    "                                 torch.zeros(model.num_layers, 1, model.hidden_size).to(device))\n",
    "\n",
    "            y_pred = model(seq.unsqueeze(0))\n",
    "            labels = labels.unsqueeze(0)\n",
    "\n",
    "            single_loss = loss_function(y_pred, labels)\n",
    "            single_loss.backward()\n",
    "            optimizer.step()\n",
    "\n",
    "        if epoch % 10 == 0:\n",
    "            print(f'epoch: {epoch:3} loss: {single_loss.item():10.8f}')"
   ]
  },
  {
   "cell_type": "code",
   "execution_count": 46,
   "id": "8f1788f5-b279-4c20-8e2d-7f4ff51c80ec",
   "metadata": {
    "collapsed": true,
    "jupyter": {
     "outputs_hidden": true
    },
    "tags": []
   },
   "outputs": [
    {
     "name": "stderr",
     "output_type": "stream",
     "text": [
      "  1%|          | 1/100 [00:27<44:44, 27.12s/it]"
     ]
    },
    {
     "name": "stdout",
     "output_type": "stream",
     "text": [
      "epoch:   0 loss: 0.37739897\n"
     ]
    },
    {
     "name": "stderr",
     "output_type": "stream",
     "text": [
      "  5%|▌         | 5/100 [02:32<48:13, 30.45s/it]\n"
     ]
    },
    {
     "ename": "KeyboardInterrupt",
     "evalue": "",
     "output_type": "error",
     "traceback": [
      "\u001b[0;31m---------------------------------------------------------------------------\u001b[0m",
      "\u001b[0;31mKeyboardInterrupt\u001b[0m                         Traceback (most recent call last)",
      "Cell \u001b[0;32mIn[46], line 1\u001b[0m\n\u001b[0;32m----> 1\u001b[0m \u001b[43mtrain_model\u001b[49m\u001b[43m(\u001b[49m\u001b[43mmodel\u001b[49m\u001b[43m,\u001b[49m\u001b[43m \u001b[49m\u001b[43moptimizer\u001b[49m\u001b[43m,\u001b[49m\u001b[43m \u001b[49m\u001b[43mX_train\u001b[49m\u001b[43m,\u001b[49m\u001b[43m \u001b[49m\u001b[43my_train\u001b[49m\u001b[43m)\u001b[49m\n",
      "Cell \u001b[0;32mIn[45], line 9\u001b[0m, in \u001b[0;36mtrain_model\u001b[0;34m(model, optimizer, X_train, y_train, epochs)\u001b[0m\n\u001b[1;32m      5\u001b[0m optimizer\u001b[38;5;241m.\u001b[39mzero_grad()\n\u001b[1;32m      6\u001b[0m model\u001b[38;5;241m.\u001b[39mhidden_cell \u001b[38;5;241m=\u001b[39m (torch\u001b[38;5;241m.\u001b[39mzeros(model\u001b[38;5;241m.\u001b[39mnum_layers, \u001b[38;5;241m1\u001b[39m, model\u001b[38;5;241m.\u001b[39mhidden_size)\u001b[38;5;241m.\u001b[39mto(device),\n\u001b[1;32m      7\u001b[0m                      torch\u001b[38;5;241m.\u001b[39mzeros(model\u001b[38;5;241m.\u001b[39mnum_layers, \u001b[38;5;241m1\u001b[39m, model\u001b[38;5;241m.\u001b[39mhidden_size)\u001b[38;5;241m.\u001b[39mto(device))\n\u001b[0;32m----> 9\u001b[0m y_pred \u001b[38;5;241m=\u001b[39m \u001b[43mmodel\u001b[49m\u001b[43m(\u001b[49m\u001b[43mseq\u001b[49m\u001b[38;5;241;43m.\u001b[39;49m\u001b[43munsqueeze\u001b[49m\u001b[43m(\u001b[49m\u001b[38;5;241;43m0\u001b[39;49m\u001b[43m)\u001b[49m\u001b[43m)\u001b[49m\n\u001b[1;32m     10\u001b[0m labels \u001b[38;5;241m=\u001b[39m labels\u001b[38;5;241m.\u001b[39munsqueeze(\u001b[38;5;241m0\u001b[39m)\n\u001b[1;32m     12\u001b[0m single_loss \u001b[38;5;241m=\u001b[39m loss_function(y_pred, labels)\n",
      "File \u001b[0;32m/opt/conda/lib/python3.10/site-packages/torch/nn/modules/module.py:1511\u001b[0m, in \u001b[0;36mModule._wrapped_call_impl\u001b[0;34m(self, *args, **kwargs)\u001b[0m\n\u001b[1;32m   1509\u001b[0m     \u001b[38;5;28;01mreturn\u001b[39;00m \u001b[38;5;28mself\u001b[39m\u001b[38;5;241m.\u001b[39m_compiled_call_impl(\u001b[38;5;241m*\u001b[39margs, \u001b[38;5;241m*\u001b[39m\u001b[38;5;241m*\u001b[39mkwargs)  \u001b[38;5;66;03m# type: ignore[misc]\u001b[39;00m\n\u001b[1;32m   1510\u001b[0m \u001b[38;5;28;01melse\u001b[39;00m:\n\u001b[0;32m-> 1511\u001b[0m     \u001b[38;5;28;01mreturn\u001b[39;00m \u001b[38;5;28;43mself\u001b[39;49m\u001b[38;5;241;43m.\u001b[39;49m\u001b[43m_call_impl\u001b[49m\u001b[43m(\u001b[49m\u001b[38;5;241;43m*\u001b[39;49m\u001b[43margs\u001b[49m\u001b[43m,\u001b[49m\u001b[43m \u001b[49m\u001b[38;5;241;43m*\u001b[39;49m\u001b[38;5;241;43m*\u001b[39;49m\u001b[43mkwargs\u001b[49m\u001b[43m)\u001b[49m\n",
      "File \u001b[0;32m/opt/conda/lib/python3.10/site-packages/torch/nn/modules/module.py:1520\u001b[0m, in \u001b[0;36mModule._call_impl\u001b[0;34m(self, *args, **kwargs)\u001b[0m\n\u001b[1;32m   1515\u001b[0m \u001b[38;5;66;03m# If we don't have any hooks, we want to skip the rest of the logic in\u001b[39;00m\n\u001b[1;32m   1516\u001b[0m \u001b[38;5;66;03m# this function, and just call forward.\u001b[39;00m\n\u001b[1;32m   1517\u001b[0m \u001b[38;5;28;01mif\u001b[39;00m \u001b[38;5;129;01mnot\u001b[39;00m (\u001b[38;5;28mself\u001b[39m\u001b[38;5;241m.\u001b[39m_backward_hooks \u001b[38;5;129;01mor\u001b[39;00m \u001b[38;5;28mself\u001b[39m\u001b[38;5;241m.\u001b[39m_backward_pre_hooks \u001b[38;5;129;01mor\u001b[39;00m \u001b[38;5;28mself\u001b[39m\u001b[38;5;241m.\u001b[39m_forward_hooks \u001b[38;5;129;01mor\u001b[39;00m \u001b[38;5;28mself\u001b[39m\u001b[38;5;241m.\u001b[39m_forward_pre_hooks\n\u001b[1;32m   1518\u001b[0m         \u001b[38;5;129;01mor\u001b[39;00m _global_backward_pre_hooks \u001b[38;5;129;01mor\u001b[39;00m _global_backward_hooks\n\u001b[1;32m   1519\u001b[0m         \u001b[38;5;129;01mor\u001b[39;00m _global_forward_hooks \u001b[38;5;129;01mor\u001b[39;00m _global_forward_pre_hooks):\n\u001b[0;32m-> 1520\u001b[0m     \u001b[38;5;28;01mreturn\u001b[39;00m \u001b[43mforward_call\u001b[49m\u001b[43m(\u001b[49m\u001b[38;5;241;43m*\u001b[39;49m\u001b[43margs\u001b[49m\u001b[43m,\u001b[49m\u001b[43m \u001b[49m\u001b[38;5;241;43m*\u001b[39;49m\u001b[38;5;241;43m*\u001b[39;49m\u001b[43mkwargs\u001b[49m\u001b[43m)\u001b[49m\n\u001b[1;32m   1522\u001b[0m \u001b[38;5;28;01mtry\u001b[39;00m:\n\u001b[1;32m   1523\u001b[0m     result \u001b[38;5;241m=\u001b[39m \u001b[38;5;28;01mNone\u001b[39;00m\n",
      "Cell \u001b[0;32mIn[44], line 12\u001b[0m, in \u001b[0;36mLSTMModel.forward\u001b[0;34m(self, x)\u001b[0m\n\u001b[1;32m     11\u001b[0m \u001b[38;5;28;01mdef\u001b[39;00m \u001b[38;5;21mforward\u001b[39m(\u001b[38;5;28mself\u001b[39m, x):\n\u001b[0;32m---> 12\u001b[0m     out, \u001b[38;5;28mself\u001b[39m\u001b[38;5;241m.\u001b[39mhidden_cell \u001b[38;5;241m=\u001b[39m \u001b[38;5;28;43mself\u001b[39;49m\u001b[38;5;241;43m.\u001b[39;49m\u001b[43mlstm\u001b[49m\u001b[43m(\u001b[49m\u001b[43mx\u001b[49m\u001b[43m,\u001b[49m\u001b[43m \u001b[49m\u001b[38;5;28;43mself\u001b[39;49m\u001b[38;5;241;43m.\u001b[39;49m\u001b[43mhidden_cell\u001b[49m\u001b[43m)\u001b[49m\n\u001b[1;32m     13\u001b[0m     predictions \u001b[38;5;241m=\u001b[39m torch\u001b[38;5;241m.\u001b[39msigmoid(\u001b[38;5;28mself\u001b[39m\u001b[38;5;241m.\u001b[39mfc(out[:, \u001b[38;5;241m-\u001b[39m\u001b[38;5;241m1\u001b[39m, :]))\n\u001b[1;32m     14\u001b[0m     \u001b[38;5;28;01mreturn\u001b[39;00m predictions\n",
      "File \u001b[0;32m/opt/conda/lib/python3.10/site-packages/torch/nn/modules/module.py:1511\u001b[0m, in \u001b[0;36mModule._wrapped_call_impl\u001b[0;34m(self, *args, **kwargs)\u001b[0m\n\u001b[1;32m   1509\u001b[0m     \u001b[38;5;28;01mreturn\u001b[39;00m \u001b[38;5;28mself\u001b[39m\u001b[38;5;241m.\u001b[39m_compiled_call_impl(\u001b[38;5;241m*\u001b[39margs, \u001b[38;5;241m*\u001b[39m\u001b[38;5;241m*\u001b[39mkwargs)  \u001b[38;5;66;03m# type: ignore[misc]\u001b[39;00m\n\u001b[1;32m   1510\u001b[0m \u001b[38;5;28;01melse\u001b[39;00m:\n\u001b[0;32m-> 1511\u001b[0m     \u001b[38;5;28;01mreturn\u001b[39;00m \u001b[38;5;28;43mself\u001b[39;49m\u001b[38;5;241;43m.\u001b[39;49m\u001b[43m_call_impl\u001b[49m\u001b[43m(\u001b[49m\u001b[38;5;241;43m*\u001b[39;49m\u001b[43margs\u001b[49m\u001b[43m,\u001b[49m\u001b[43m \u001b[49m\u001b[38;5;241;43m*\u001b[39;49m\u001b[38;5;241;43m*\u001b[39;49m\u001b[43mkwargs\u001b[49m\u001b[43m)\u001b[49m\n",
      "File \u001b[0;32m/opt/conda/lib/python3.10/site-packages/torch/nn/modules/module.py:1520\u001b[0m, in \u001b[0;36mModule._call_impl\u001b[0;34m(self, *args, **kwargs)\u001b[0m\n\u001b[1;32m   1515\u001b[0m \u001b[38;5;66;03m# If we don't have any hooks, we want to skip the rest of the logic in\u001b[39;00m\n\u001b[1;32m   1516\u001b[0m \u001b[38;5;66;03m# this function, and just call forward.\u001b[39;00m\n\u001b[1;32m   1517\u001b[0m \u001b[38;5;28;01mif\u001b[39;00m \u001b[38;5;129;01mnot\u001b[39;00m (\u001b[38;5;28mself\u001b[39m\u001b[38;5;241m.\u001b[39m_backward_hooks \u001b[38;5;129;01mor\u001b[39;00m \u001b[38;5;28mself\u001b[39m\u001b[38;5;241m.\u001b[39m_backward_pre_hooks \u001b[38;5;129;01mor\u001b[39;00m \u001b[38;5;28mself\u001b[39m\u001b[38;5;241m.\u001b[39m_forward_hooks \u001b[38;5;129;01mor\u001b[39;00m \u001b[38;5;28mself\u001b[39m\u001b[38;5;241m.\u001b[39m_forward_pre_hooks\n\u001b[1;32m   1518\u001b[0m         \u001b[38;5;129;01mor\u001b[39;00m _global_backward_pre_hooks \u001b[38;5;129;01mor\u001b[39;00m _global_backward_hooks\n\u001b[1;32m   1519\u001b[0m         \u001b[38;5;129;01mor\u001b[39;00m _global_forward_hooks \u001b[38;5;129;01mor\u001b[39;00m _global_forward_pre_hooks):\n\u001b[0;32m-> 1520\u001b[0m     \u001b[38;5;28;01mreturn\u001b[39;00m \u001b[43mforward_call\u001b[49m\u001b[43m(\u001b[49m\u001b[38;5;241;43m*\u001b[39;49m\u001b[43margs\u001b[49m\u001b[43m,\u001b[49m\u001b[43m \u001b[49m\u001b[38;5;241;43m*\u001b[39;49m\u001b[38;5;241;43m*\u001b[39;49m\u001b[43mkwargs\u001b[49m\u001b[43m)\u001b[49m\n\u001b[1;32m   1522\u001b[0m \u001b[38;5;28;01mtry\u001b[39;00m:\n\u001b[1;32m   1523\u001b[0m     result \u001b[38;5;241m=\u001b[39m \u001b[38;5;28;01mNone\u001b[39;00m\n",
      "File \u001b[0;32m/opt/conda/lib/python3.10/site-packages/torch/nn/modules/rnn.py:878\u001b[0m, in \u001b[0;36mLSTM.forward\u001b[0;34m(self, input, hx)\u001b[0m\n\u001b[1;32m    875\u001b[0m         hx \u001b[38;5;241m=\u001b[39m \u001b[38;5;28mself\u001b[39m\u001b[38;5;241m.\u001b[39mpermute_hidden(hx, sorted_indices)\n\u001b[1;32m    877\u001b[0m \u001b[38;5;28;01mif\u001b[39;00m batch_sizes \u001b[38;5;129;01mis\u001b[39;00m \u001b[38;5;28;01mNone\u001b[39;00m:\n\u001b[0;32m--> 878\u001b[0m     result \u001b[38;5;241m=\u001b[39m \u001b[43m_VF\u001b[49m\u001b[38;5;241;43m.\u001b[39;49m\u001b[43mlstm\u001b[49m\u001b[43m(\u001b[49m\u001b[38;5;28;43minput\u001b[39;49m\u001b[43m,\u001b[49m\u001b[43m \u001b[49m\u001b[43mhx\u001b[49m\u001b[43m,\u001b[49m\u001b[43m \u001b[49m\u001b[38;5;28;43mself\u001b[39;49m\u001b[38;5;241;43m.\u001b[39;49m\u001b[43m_flat_weights\u001b[49m\u001b[43m,\u001b[49m\u001b[43m \u001b[49m\u001b[38;5;28;43mself\u001b[39;49m\u001b[38;5;241;43m.\u001b[39;49m\u001b[43mbias\u001b[49m\u001b[43m,\u001b[49m\u001b[43m \u001b[49m\u001b[38;5;28;43mself\u001b[39;49m\u001b[38;5;241;43m.\u001b[39;49m\u001b[43mnum_layers\u001b[49m\u001b[43m,\u001b[49m\n\u001b[1;32m    879\u001b[0m \u001b[43m                      \u001b[49m\u001b[38;5;28;43mself\u001b[39;49m\u001b[38;5;241;43m.\u001b[39;49m\u001b[43mdropout\u001b[49m\u001b[43m,\u001b[49m\u001b[43m \u001b[49m\u001b[38;5;28;43mself\u001b[39;49m\u001b[38;5;241;43m.\u001b[39;49m\u001b[43mtraining\u001b[49m\u001b[43m,\u001b[49m\u001b[43m \u001b[49m\u001b[38;5;28;43mself\u001b[39;49m\u001b[38;5;241;43m.\u001b[39;49m\u001b[43mbidirectional\u001b[49m\u001b[43m,\u001b[49m\u001b[43m \u001b[49m\u001b[38;5;28;43mself\u001b[39;49m\u001b[38;5;241;43m.\u001b[39;49m\u001b[43mbatch_first\u001b[49m\u001b[43m)\u001b[49m\n\u001b[1;32m    880\u001b[0m \u001b[38;5;28;01melse\u001b[39;00m:\n\u001b[1;32m    881\u001b[0m     result \u001b[38;5;241m=\u001b[39m _VF\u001b[38;5;241m.\u001b[39mlstm(\u001b[38;5;28minput\u001b[39m, batch_sizes, hx, \u001b[38;5;28mself\u001b[39m\u001b[38;5;241m.\u001b[39m_flat_weights, \u001b[38;5;28mself\u001b[39m\u001b[38;5;241m.\u001b[39mbias,\n\u001b[1;32m    882\u001b[0m                       \u001b[38;5;28mself\u001b[39m\u001b[38;5;241m.\u001b[39mnum_layers, \u001b[38;5;28mself\u001b[39m\u001b[38;5;241m.\u001b[39mdropout, \u001b[38;5;28mself\u001b[39m\u001b[38;5;241m.\u001b[39mtraining, \u001b[38;5;28mself\u001b[39m\u001b[38;5;241m.\u001b[39mbidirectional)\n",
      "\u001b[0;31mKeyboardInterrupt\u001b[0m: "
     ]
    }
   ],
   "source": [
    "train_model(model, optimizer, X_train, y_train)"
   ]
  },
  {
   "cell_type": "markdown",
   "id": "1d9ab07f-562c-4551-8a64-150b4b7b893b",
   "metadata": {},
   "source": [
    "### Experiment: Add Validation Dataset for early stopping"
   ]
  },
  {
   "cell_type": "code",
   "execution_count": 73,
   "id": "ccfaed8d-5c2d-4981-9168-75aed04f75dd",
   "metadata": {
    "tags": []
   },
   "outputs": [],
   "source": [
    "device = torch.device('cuda' if torch.cuda.is_available() else 'cpu')"
   ]
  },
  {
   "cell_type": "code",
   "execution_count": 64,
   "id": "ddef6ae0-abda-43ad-a6ef-dad30b340e64",
   "metadata": {
    "tags": []
   },
   "outputs": [],
   "source": [
    "class LSTMModel(nn.Module):\n",
    "    def __init__(self, input_size=1, hidden_size=128, num_layers=2, output_size=1):\n",
    "        super(LSTMModel, self).__init__()\n",
    "        self.hidden_size = hidden_size\n",
    "        self.num_layers = num_layers\n",
    "        self.lstm = nn.LSTM(input_size, hidden_size, num_layers, batch_first=True)\n",
    "        self.fc = nn.Linear(hidden_size, output_size)\n",
    "        self.hidden_cell = (torch.zeros(self.num_layers, 1, self.hidden_size).to(device),\n",
    "                            torch.zeros(self.num_layers, 1, self.hidden_size).to(device))\n",
    "\n",
    "    def forward(self, x):\n",
    "        out, self.hidden_cell = self.lstm(x, self.hidden_cell)\n",
    "        predictions = torch.sigmoid(self.fc(out[:, -1, :]))\n",
    "        return predictions\n",
    "\n",
    "model = LSTMModel(input_size=X_train.shape[2], output_size=y_train.shape[1]).to(device)\n",
    "\n",
    "loss_function = nn.BCELoss()\n",
    "optimizer = optim.Adam(model.parameters(), lr=0.001)"
   ]
  },
  {
   "cell_type": "code",
   "execution_count": 64,
   "id": "19e3731c-c78b-4733-9691-33d8faf41ef1",
   "metadata": {
    "tags": []
   },
   "outputs": [],
   "source": [
    "def train_model(model, optimizer, X_train, y_train, X_val, y_val, epochs=100):\n",
    "    \n",
    "    patience = 20\n",
    "    best_val_loss = float('inf')\n",
    "    counter = 0\n",
    "\n",
    "    train_losses = []\n",
    "    val_losses = []\n",
    "    \n",
    "    for epoch in tqdm.tqdm(range(epochs)):\n",
    "        model.train()\n",
    "        for seq, labels in zip(X_train, y_train):\n",
    "            seq, labels = seq.to(device).float(), labels.to(device).float()\n",
    "            optimizer.zero_grad()\n",
    "            model.hidden_cell = (torch.zeros(model.num_layers, 1, model.hidden_size).to(device),\n",
    "                                 torch.zeros(model.num_layers, 1, model.hidden_size).to(device))\n",
    "\n",
    "            y_pred = model(seq.unsqueeze(0))\n",
    "            labels = labels.unsqueeze(0)\n",
    "\n",
    "            loss = loss_function(y_pred, labels)\n",
    "            loss.backward()\n",
    "            optimizer.step()\n",
    "        \n",
    "        train_losses.append(loss.item())\n",
    "        \n",
    "        \n",
    "        model.eval()\n",
    "        with torch.no_grad():\n",
    "            for seq, labels in zip(X_val, y_val):\n",
    "                seq, labels = seq.to(device).float(), labels.to(device).float()\n",
    "                val_pred = model(seq.unsqueeze(0))\n",
    "                labels = labels.unsqueeze(0)\n",
    "                val_loss = loss_function(val_pred, labels)\n",
    "            val_losses.append(val_loss.item())\n",
    "        \n",
    "        if epoch % 10 == 0:\n",
    "            print(f'Epoch {epoch:3}, Train Loss: {loss.item():10.8f}, Val Loss: {val_loss.item():10.8f}')\n",
    "\n",
    "        # Early stopping 檢查\n",
    "        if val_loss < best_val_loss:\n",
    "            best_val_loss = val_loss\n",
    "            counter = 0\n",
    "        else:\n",
    "            counter += 1\n",
    "            if counter >= patience:\n",
    "                print(f'Early stopping at epoch {epoch+1}')\n",
    "                break\n",
    "        \n",
    "        # best model weight\n",
    "        if val_loss < best_val_loss:\n",
    "            best_val_loss = val_loss\n",
    "            torch.save(model.state_dict(), f'/home/jupyter/lstm/model/single_step_lstm_best_model_single_batch.pt')"
   ]
  },
  {
   "cell_type": "code",
   "execution_count": 65,
   "id": "41acf4c2-5a46-4689-8d1a-f3fc7142623b",
   "metadata": {
    "tags": []
   },
   "outputs": [
    {
     "name": "stderr",
     "output_type": "stream",
     "text": [
      "  1%|          | 1/100 [00:27<45:22, 27.50s/it]"
     ]
    },
    {
     "name": "stdout",
     "output_type": "stream",
     "text": [
      "Epoch   0, Train Loss: 0.01427709, Val Loss: 0.01190792\n"
     ]
    },
    {
     "name": "stderr",
     "output_type": "stream",
     "text": [
      " 11%|█         | 11/100 [05:00<40:28, 27.28s/it]"
     ]
    },
    {
     "name": "stdout",
     "output_type": "stream",
     "text": [
      "Epoch  10, Train Loss: 0.00124317, Val Loss: 0.01057673\n"
     ]
    },
    {
     "name": "stderr",
     "output_type": "stream",
     "text": [
      " 21%|██        | 21/100 [09:33<35:55, 27.28s/it]"
     ]
    },
    {
     "name": "stdout",
     "output_type": "stream",
     "text": [
      "Epoch  20, Train Loss: 0.00026736, Val Loss: 0.00042954\n"
     ]
    },
    {
     "name": "stderr",
     "output_type": "stream",
     "text": [
      " 31%|███       | 31/100 [14:05<31:13, 27.15s/it]"
     ]
    },
    {
     "name": "stdout",
     "output_type": "stream",
     "text": [
      "Epoch  30, Train Loss: 0.00001633, Val Loss: 0.00000060\n"
     ]
    },
    {
     "name": "stderr",
     "output_type": "stream",
     "text": [
      " 41%|████      | 41/100 [18:36<26:42, 27.17s/it]"
     ]
    },
    {
     "name": "stdout",
     "output_type": "stream",
     "text": [
      "Epoch  40, Train Loss: 0.00000405, Val Loss: 0.00006902\n"
     ]
    },
    {
     "name": "stderr",
     "output_type": "stream",
     "text": [
      " 51%|█████     | 51/100 [23:08<22:15, 27.25s/it]"
     ]
    },
    {
     "name": "stdout",
     "output_type": "stream",
     "text": [
      "Epoch  50, Train Loss: 0.00000525, Val Loss: 0.00000083\n"
     ]
    },
    {
     "name": "stderr",
     "output_type": "stream",
     "text": [
      " 61%|██████    | 61/100 [27:40<17:40, 27.20s/it]"
     ]
    },
    {
     "name": "stdout",
     "output_type": "stream",
     "text": [
      "Epoch  60, Train Loss: 0.00000060, Val Loss: 0.00000000\n"
     ]
    },
    {
     "name": "stderr",
     "output_type": "stream",
     "text": [
      " 63%|██████▎   | 63/100 [29:01<17:02, 27.65s/it]"
     ]
    },
    {
     "name": "stdout",
     "output_type": "stream",
     "text": [
      "Early stopping at epoch 64\n"
     ]
    },
    {
     "name": "stderr",
     "output_type": "stream",
     "text": [
      "\n"
     ]
    }
   ],
   "source": [
    "train_model(model, optimizer, X_train, y_train, X_val, y_val)"
   ]
  },
  {
   "cell_type": "code",
   "execution_count": 69,
   "id": "e6453a8e-5cbe-4b29-8467-f791d1cc83b9",
   "metadata": {
    "tags": []
   },
   "outputs": [
    {
     "name": "stdout",
     "output_type": "stream",
     "text": [
      "              precision    recall  f1-score   support\n",
      "\n",
      "  Non-Active       0.77      0.53      0.63       739\n",
      "      Active       0.90      0.96      0.93      3097\n",
      "\n",
      "    accuracy                           0.88      3836\n",
      "   macro avg       0.83      0.74      0.78      3836\n",
      "weighted avg       0.87      0.88      0.87      3836\n",
      "\n"
     ]
    }
   ],
   "source": [
    "evaluate_model(model, X_test, y_test)"
   ]
  },
  {
   "cell_type": "code",
   "execution_count": 70,
   "id": "a03a67ab-84d5-4558-a1aa-3d36531bb8b0",
   "metadata": {
    "tags": []
   },
   "outputs": [
    {
     "name": "stdout",
     "output_type": "stream",
     "text": [
      "              precision    recall  f1-score   support\n",
      "\n",
      "  Non-Active       0.74      0.56      0.64      2688\n",
      "      Active       0.90      0.95      0.93     11118\n",
      "\n",
      "    accuracy                           0.88     13806\n",
      "   macro avg       0.82      0.76      0.78     13806\n",
      "weighted avg       0.87      0.88      0.87     13806\n",
      "\n"
     ]
    }
   ],
   "source": [
    "evaluate_model(model, X_train, y_train)"
   ]
  },
  {
   "cell_type": "code",
   "execution_count": 71,
   "id": "29cca8c3-8361-49c3-ae99-463b9f6d6920",
   "metadata": {
    "tags": []
   },
   "outputs": [
    {
     "name": "stdout",
     "output_type": "stream",
     "text": [
      "              precision    recall  f1-score   support\n",
      "\n",
      "  Non-Active       0.73      0.52      0.61       310\n",
      "      Active       0.89      0.95      0.92      1224\n",
      "\n",
      "    accuracy                           0.86      1534\n",
      "   macro avg       0.81      0.74      0.76      1534\n",
      "weighted avg       0.86      0.86      0.86      1534\n",
      "\n"
     ]
    }
   ],
   "source": [
    "evaluate_model(model, X_val, y_val)"
   ]
  },
  {
   "cell_type": "markdown",
   "id": "da027697-7805-4099-858c-0f084181469a",
   "metadata": {},
   "source": [
    "### Experiment: Mini-batch for solving overfitting"
   ]
  },
  {
   "cell_type": "code",
   "execution_count": 51,
   "id": "2d649c64-a9cf-48a6-9d8c-ec2b00c0f92b",
   "metadata": {
    "collapsed": true,
    "jupyter": {
     "outputs_hidden": true
    },
    "tags": []
   },
   "outputs": [
    {
     "ename": "NameError",
     "evalue": "name 'X_train' is not defined",
     "output_type": "error",
     "traceback": [
      "\u001b[0;31m---------------------------------------------------------------------------\u001b[0m",
      "\u001b[0;31mNameError\u001b[0m                                 Traceback (most recent call last)",
      "Cell \u001b[0;32mIn[51], line 3\u001b[0m\n\u001b[1;32m      1\u001b[0m batch_size \u001b[38;5;241m=\u001b[39m \u001b[38;5;241m16\u001b[39m\n\u001b[0;32m----> 3\u001b[0m dataset_train \u001b[38;5;241m=\u001b[39m TensorDataset(\u001b[43mX_train\u001b[49m, y_train)\n\u001b[1;32m      4\u001b[0m dataloader_train \u001b[38;5;241m=\u001b[39m DataLoader(dataset_train, batch_size\u001b[38;5;241m=\u001b[39mbatch_size, shuffle\u001b[38;5;241m=\u001b[39m\u001b[38;5;28;01mTrue\u001b[39;00m)\n\u001b[1;32m      6\u001b[0m dataset_val \u001b[38;5;241m=\u001b[39m TensorDataset(X_val, y_val)\n",
      "\u001b[0;31mNameError\u001b[0m: name 'X_train' is not defined"
     ]
    }
   ],
   "source": [
    "batch_size = 16\n",
    "\n",
    "dataset_train = TensorDataset(X_train, y_train)\n",
    "dataloader_train = DataLoader(dataset_train, batch_size=batch_size, shuffle=True)\n",
    "\n",
    "dataset_val = TensorDataset(X_val, y_val)\n",
    "dataloader_val = DataLoader(dataset_val, batch_size=batch_size, shuffle=True)\n",
    "\n",
    "dataset_test = TensorDataset(X_test, y_test)\n",
    "dataloader_test = DataLoader(dataset_test, batch_size=batch_size, shuffle=False)"
   ]
  },
  {
   "cell_type": "code",
   "execution_count": 52,
   "id": "ab43e018-1a3d-4713-8d6d-b5065dfdf54c",
   "metadata": {
    "tags": []
   },
   "outputs": [
    {
     "ename": "NameError",
     "evalue": "name 'X_train' is not defined",
     "output_type": "error",
     "traceback": [
      "\u001b[0;31m---------------------------------------------------------------------------\u001b[0m",
      "\u001b[0;31mNameError\u001b[0m                                 Traceback (most recent call last)",
      "Cell \u001b[0;32mIn[52], line 15\u001b[0m\n\u001b[1;32m     12\u001b[0m         predictions \u001b[38;5;241m=\u001b[39m \u001b[38;5;28mself\u001b[39m\u001b[38;5;241m.\u001b[39mfc(out[:, \u001b[38;5;241m-\u001b[39m\u001b[38;5;241m1\u001b[39m, :])\n\u001b[1;32m     13\u001b[0m         \u001b[38;5;28;01mreturn\u001b[39;00m predictions\n\u001b[0;32m---> 15\u001b[0m model \u001b[38;5;241m=\u001b[39m LSTMModel(input_size\u001b[38;5;241m=\u001b[39m\u001b[43mX_train\u001b[49m\u001b[38;5;241m.\u001b[39mshape[\u001b[38;5;241m2\u001b[39m], output_size\u001b[38;5;241m=\u001b[39my_train\u001b[38;5;241m.\u001b[39mshape[\u001b[38;5;241m1\u001b[39m])\u001b[38;5;241m.\u001b[39mto(device)\n\u001b[1;32m     17\u001b[0m loss_function \u001b[38;5;241m=\u001b[39m nn\u001b[38;5;241m.\u001b[39mBCEWithLogitsLoss()\n\u001b[1;32m     18\u001b[0m optimizer \u001b[38;5;241m=\u001b[39m optim\u001b[38;5;241m.\u001b[39mAdam(model\u001b[38;5;241m.\u001b[39mparameters(), lr\u001b[38;5;241m=\u001b[39m\u001b[38;5;241m0.001\u001b[39m)\n",
      "\u001b[0;31mNameError\u001b[0m: name 'X_train' is not defined"
     ]
    }
   ],
   "source": [
    "class LSTMModel(nn.Module):\n",
    "    def __init__(self, input_size=1, hidden_size=128, num_layers=2, output_size=1, batch_size=32):\n",
    "        super(LSTMModel, self).__init__()\n",
    "        self.hidden_size = hidden_size\n",
    "        self.num_layers = num_layers\n",
    "        self.batch_size = batch_size\n",
    "        self.lstm = nn.LSTM(input_size, hidden_size, num_layers, batch_first=True)\n",
    "        self.fc = nn.Linear(hidden_size, output_size)\n",
    "\n",
    "    def forward(self, x):\n",
    "        out, _ = self.lstm(x)\n",
    "        predictions = self.fc(out[:, -1, :])\n",
    "        return predictions\n",
    "\n",
    "model = LSTMModel(input_size=X_train.shape[2], output_size=y_train.shape[1]).to(device)\n",
    "\n",
    "loss_function = nn.BCEWithLogitsLoss()\n",
    "optimizer = optim.Adam(model.parameters(), lr=0.001)"
   ]
  },
  {
   "cell_type": "code",
   "execution_count": 67,
   "id": "34053883-4546-41fc-9609-db3b7369fd6e",
   "metadata": {
    "tags": []
   },
   "outputs": [],
   "source": [
    "def train_model(model, optimizer, dataloader_train, dataloader_val, epochs=100):\n",
    "    \n",
    "    # patience = 20\n",
    "    best_val_loss = float('inf')\n",
    "    counter = 0\n",
    "\n",
    "    train_losses = []\n",
    "    val_losses = []\n",
    "    \n",
    "    for epoch in tqdm.tqdm(range(epochs)):\n",
    "        model.train()\n",
    "        for batch in dataloader_train:\n",
    "            epoch += 1\n",
    "            seqs, labels = batch\n",
    "            seqs, labels = seqs.to(device).float(), labels.to(device).float()\n",
    "            optimizer.zero_grad()\n",
    "\n",
    "            y_pred = model(seqs)\n",
    "            labels = labels\n",
    "\n",
    "            loss = loss_function(y_pred, labels)\n",
    "            weights = torch.where(labels == 1, 1.0, 1.0).to(y_pred.device)\n",
    "            weighted_loss = (loss * weights).mean()\n",
    "            weighted_loss.backward()\n",
    "            optimizer.step()\n",
    "        \n",
    "        train_losses.append(weighted_loss.item())\n",
    "        \n",
    "        \n",
    "        model.eval()\n",
    "        with torch.no_grad():\n",
    "            for batch in dataloader_val:\n",
    "                seqs, labels = batch\n",
    "                seqs, labels = seqs.to(device).float(), labels.to(device).float()\n",
    "                \n",
    "                val_pred = model(seqs)\n",
    "                labels = labels\n",
    "                \n",
    "                val_loss = loss_function(val_pred, labels)\n",
    "                val_weights = torch.where(labels == 1, 1.0, 1.0).to(val_pred.device)\n",
    "                weighted_val_loss = (val_loss * val_weights).mean()\n",
    "            val_losses.append(weighted_val_loss.item())\n",
    "        \n",
    "        if epoch % 10 == 0:\n",
    "            print(f'Epoch {epoch:3}, Train Loss: {weighted_loss.item():10.8f}, Val Loss: {weighted_val_loss.item():10.8f}')\n",
    "\n",
    "        # best model weight\n",
    "        if val_loss < best_val_loss:\n",
    "            best_val_loss = val_loss\n",
    "            torch.save(model.state_dict(), f'/home/jupyter/lstm/model/single_step_lstm_best_model_16batch.pt')"
   ]
  },
  {
   "cell_type": "code",
   "execution_count": 79,
   "id": "c1344099-8c67-4600-8e92-54331e7e63e3",
   "metadata": {
    "collapsed": true,
    "jupyter": {
     "outputs_hidden": true
    },
    "tags": []
   },
   "outputs": [
    {
     "name": "stderr",
     "output_type": "stream",
     "text": [
      "  8%|▊         | 8/100 [02:09<24:46, 16.16s/it]"
     ]
    },
    {
     "name": "stdout",
     "output_type": "stream",
     "text": [
      "Epoch 6910, Train Loss: 0.00463875, Val Loss: 0.00681806\n"
     ]
    },
    {
     "name": "stderr",
     "output_type": "stream",
     "text": [
      " 18%|█▊        | 18/100 [04:51<22:05, 16.17s/it]"
     ]
    },
    {
     "name": "stdout",
     "output_type": "stream",
     "text": [
      "Epoch 6920, Train Loss: 0.13168697, Val Loss: 0.03847589\n"
     ]
    },
    {
     "name": "stderr",
     "output_type": "stream",
     "text": [
      " 18%|█▊        | 18/100 [05:02<22:59, 16.82s/it]\n"
     ]
    },
    {
     "ename": "KeyboardInterrupt",
     "evalue": "",
     "output_type": "error",
     "traceback": [
      "\u001b[0;31m---------------------------------------------------------------------------\u001b[0m",
      "\u001b[0;31mKeyboardInterrupt\u001b[0m                         Traceback (most recent call last)",
      "Cell \u001b[0;32mIn[79], line 2\u001b[0m\n\u001b[1;32m      1\u001b[0m \u001b[38;5;66;03m# batch size: 2\u001b[39;00m\n\u001b[0;32m----> 2\u001b[0m \u001b[43mtrain_model\u001b[49m\u001b[43m(\u001b[49m\u001b[43mmodel\u001b[49m\u001b[43m,\u001b[49m\u001b[43m \u001b[49m\u001b[43moptimizer\u001b[49m\u001b[43m,\u001b[49m\u001b[43m \u001b[49m\u001b[43mdataloader_train\u001b[49m\u001b[43m,\u001b[49m\u001b[43m \u001b[49m\u001b[43mdataloader_val\u001b[49m\u001b[43m)\u001b[49m\n",
      "Cell \u001b[0;32mIn[78], line 24\u001b[0m, in \u001b[0;36mtrain_model\u001b[0;34m(model, optimizer, dataloader_train, dataloader_val, epochs)\u001b[0m\n\u001b[1;32m     22\u001b[0m     weights \u001b[38;5;241m=\u001b[39m torch\u001b[38;5;241m.\u001b[39mwhere(labels \u001b[38;5;241m==\u001b[39m \u001b[38;5;241m1\u001b[39m, \u001b[38;5;241m1.0\u001b[39m, \u001b[38;5;241m1.0\u001b[39m)\u001b[38;5;241m.\u001b[39mto(y_pred\u001b[38;5;241m.\u001b[39mdevice)\n\u001b[1;32m     23\u001b[0m     weighted_loss \u001b[38;5;241m=\u001b[39m (loss \u001b[38;5;241m*\u001b[39m weights)\u001b[38;5;241m.\u001b[39mmean()\n\u001b[0;32m---> 24\u001b[0m     \u001b[43mweighted_loss\u001b[49m\u001b[38;5;241;43m.\u001b[39;49m\u001b[43mbackward\u001b[49m\u001b[43m(\u001b[49m\u001b[43m)\u001b[49m\n\u001b[1;32m     25\u001b[0m     optimizer\u001b[38;5;241m.\u001b[39mstep()\n\u001b[1;32m     27\u001b[0m train_losses\u001b[38;5;241m.\u001b[39mappend(weighted_loss\u001b[38;5;241m.\u001b[39mitem())\n",
      "File \u001b[0;32m/opt/conda/lib/python3.10/site-packages/torch/_tensor.py:522\u001b[0m, in \u001b[0;36mTensor.backward\u001b[0;34m(self, gradient, retain_graph, create_graph, inputs)\u001b[0m\n\u001b[1;32m    512\u001b[0m \u001b[38;5;28;01mif\u001b[39;00m has_torch_function_unary(\u001b[38;5;28mself\u001b[39m):\n\u001b[1;32m    513\u001b[0m     \u001b[38;5;28;01mreturn\u001b[39;00m handle_torch_function(\n\u001b[1;32m    514\u001b[0m         Tensor\u001b[38;5;241m.\u001b[39mbackward,\n\u001b[1;32m    515\u001b[0m         (\u001b[38;5;28mself\u001b[39m,),\n\u001b[0;32m   (...)\u001b[0m\n\u001b[1;32m    520\u001b[0m         inputs\u001b[38;5;241m=\u001b[39minputs,\n\u001b[1;32m    521\u001b[0m     )\n\u001b[0;32m--> 522\u001b[0m \u001b[43mtorch\u001b[49m\u001b[38;5;241;43m.\u001b[39;49m\u001b[43mautograd\u001b[49m\u001b[38;5;241;43m.\u001b[39;49m\u001b[43mbackward\u001b[49m\u001b[43m(\u001b[49m\n\u001b[1;32m    523\u001b[0m \u001b[43m    \u001b[49m\u001b[38;5;28;43mself\u001b[39;49m\u001b[43m,\u001b[49m\u001b[43m \u001b[49m\u001b[43mgradient\u001b[49m\u001b[43m,\u001b[49m\u001b[43m \u001b[49m\u001b[43mretain_graph\u001b[49m\u001b[43m,\u001b[49m\u001b[43m \u001b[49m\u001b[43mcreate_graph\u001b[49m\u001b[43m,\u001b[49m\u001b[43m \u001b[49m\u001b[43minputs\u001b[49m\u001b[38;5;241;43m=\u001b[39;49m\u001b[43minputs\u001b[49m\n\u001b[1;32m    524\u001b[0m \u001b[43m\u001b[49m\u001b[43m)\u001b[49m\n",
      "File \u001b[0;32m/opt/conda/lib/python3.10/site-packages/torch/autograd/__init__.py:266\u001b[0m, in \u001b[0;36mbackward\u001b[0;34m(tensors, grad_tensors, retain_graph, create_graph, grad_variables, inputs)\u001b[0m\n\u001b[1;32m    261\u001b[0m     retain_graph \u001b[38;5;241m=\u001b[39m create_graph\n\u001b[1;32m    263\u001b[0m \u001b[38;5;66;03m# The reason we repeat the same comment below is that\u001b[39;00m\n\u001b[1;32m    264\u001b[0m \u001b[38;5;66;03m# some Python versions print out the first line of a multi-line function\u001b[39;00m\n\u001b[1;32m    265\u001b[0m \u001b[38;5;66;03m# calls in the traceback and some print out the last line\u001b[39;00m\n\u001b[0;32m--> 266\u001b[0m \u001b[43mVariable\u001b[49m\u001b[38;5;241;43m.\u001b[39;49m\u001b[43m_execution_engine\u001b[49m\u001b[38;5;241;43m.\u001b[39;49m\u001b[43mrun_backward\u001b[49m\u001b[43m(\u001b[49m\u001b[43m  \u001b[49m\u001b[38;5;66;43;03m# Calls into the C++ engine to run the backward pass\u001b[39;49;00m\n\u001b[1;32m    267\u001b[0m \u001b[43m    \u001b[49m\u001b[43mtensors\u001b[49m\u001b[43m,\u001b[49m\n\u001b[1;32m    268\u001b[0m \u001b[43m    \u001b[49m\u001b[43mgrad_tensors_\u001b[49m\u001b[43m,\u001b[49m\n\u001b[1;32m    269\u001b[0m \u001b[43m    \u001b[49m\u001b[43mretain_graph\u001b[49m\u001b[43m,\u001b[49m\n\u001b[1;32m    270\u001b[0m \u001b[43m    \u001b[49m\u001b[43mcreate_graph\u001b[49m\u001b[43m,\u001b[49m\n\u001b[1;32m    271\u001b[0m \u001b[43m    \u001b[49m\u001b[43minputs\u001b[49m\u001b[43m,\u001b[49m\n\u001b[1;32m    272\u001b[0m \u001b[43m    \u001b[49m\u001b[43mallow_unreachable\u001b[49m\u001b[38;5;241;43m=\u001b[39;49m\u001b[38;5;28;43;01mTrue\u001b[39;49;00m\u001b[43m,\u001b[49m\n\u001b[1;32m    273\u001b[0m \u001b[43m    \u001b[49m\u001b[43maccumulate_grad\u001b[49m\u001b[38;5;241;43m=\u001b[39;49m\u001b[38;5;28;43;01mTrue\u001b[39;49;00m\u001b[43m,\u001b[49m\n\u001b[1;32m    274\u001b[0m \u001b[43m\u001b[49m\u001b[43m)\u001b[49m\n",
      "\u001b[0;31mKeyboardInterrupt\u001b[0m: "
     ]
    }
   ],
   "source": [
    "# batch size: 2\n",
    "train_model(model, optimizer, dataloader_train, dataloader_val)"
   ]
  },
  {
   "cell_type": "markdown",
   "id": "6cecc3e8-ea10-43d9-8f74-28e321d68980",
   "metadata": {},
   "source": [
    "#### batch size: 2"
   ]
  },
  {
   "cell_type": "code",
   "execution_count": 98,
   "id": "69d015d5-eb67-4501-9ec9-d6c59f80fe5f",
   "metadata": {
    "tags": []
   },
   "outputs": [
    {
     "name": "stdout",
     "output_type": "stream",
     "text": [
      "              precision    recall  f1-score   support\n",
      "\n",
      "  Non-Active       0.72      0.72      0.72       739\n",
      "      Active       0.93      0.93      0.93      3097\n",
      "\n",
      "    accuracy                           0.89      3836\n",
      "   macro avg       0.83      0.83      0.83      3836\n",
      "weighted avg       0.89      0.89      0.89      3836\n",
      "\n"
     ]
    }
   ],
   "source": [
    "# weight 1:1, batch size: 2\n",
    "evaluate_model(model, X_test, y_test)"
   ]
  },
  {
   "cell_type": "code",
   "execution_count": 104,
   "id": "17d9bb33-d754-4802-a813-c438a6f7169f",
   "metadata": {
    "tags": []
   },
   "outputs": [
    {
     "name": "stderr",
     "output_type": "stream",
     "text": [
      "  9%|▉         | 9/100 [01:11<12:07,  7.99s/it]"
     ]
    },
    {
     "name": "stdout",
     "output_type": "stream",
     "text": [
      "Epoch 3460, Train Loss: 0.04306397, Val Loss: 0.01210716\n"
     ]
    },
    {
     "name": "stderr",
     "output_type": "stream",
     "text": [
      " 19%|█▉        | 19/100 [02:31<10:44,  7.95s/it]"
     ]
    },
    {
     "name": "stdout",
     "output_type": "stream",
     "text": [
      "Epoch 3470, Train Loss: 0.00686570, Val Loss: 0.01245544\n"
     ]
    },
    {
     "name": "stderr",
     "output_type": "stream",
     "text": [
      " 29%|██▉       | 29/100 [03:51<09:26,  7.98s/it]"
     ]
    },
    {
     "name": "stdout",
     "output_type": "stream",
     "text": [
      "Epoch 3480, Train Loss: 0.28168830, Val Loss: 0.41803926\n"
     ]
    },
    {
     "name": "stderr",
     "output_type": "stream",
     "text": [
      " 39%|███▉      | 39/100 [05:11<08:08,  8.01s/it]"
     ]
    },
    {
     "name": "stdout",
     "output_type": "stream",
     "text": [
      "Epoch 3490, Train Loss: 0.71969223, Val Loss: 0.19214554\n"
     ]
    },
    {
     "name": "stderr",
     "output_type": "stream",
     "text": [
      " 49%|████▉     | 49/100 [06:30<06:45,  7.95s/it]"
     ]
    },
    {
     "name": "stdout",
     "output_type": "stream",
     "text": [
      "Epoch 3500, Train Loss: 0.00000006, Val Loss: 0.58835381\n"
     ]
    },
    {
     "name": "stderr",
     "output_type": "stream",
     "text": [
      " 57%|█████▋    | 57/100 [07:42<05:48,  8.11s/it]"
     ]
    },
    {
     "name": "stdout",
     "output_type": "stream",
     "text": [
      "Early stopping at epoch 3510\n"
     ]
    },
    {
     "name": "stderr",
     "output_type": "stream",
     "text": [
      "\n"
     ]
    }
   ],
   "source": [
    "# batch size: 4\n",
    "train_model(model, optimizer, dataloader_train, dataloader_val)"
   ]
  },
  {
   "cell_type": "markdown",
   "id": "c87b72ca-7fbf-4d38-a209-d3ec84c31709",
   "metadata": {},
   "source": [
    "#### batch size: 4"
   ]
  },
  {
   "cell_type": "code",
   "execution_count": 105,
   "id": "4f2db656-c576-47e7-84a5-53877396892a",
   "metadata": {
    "tags": []
   },
   "outputs": [
    {
     "name": "stdout",
     "output_type": "stream",
     "text": [
      "              precision    recall  f1-score   support\n",
      "\n",
      "  Non-Active       0.71      0.76      0.73       739\n",
      "      Active       0.94      0.93      0.93      3097\n",
      "\n",
      "    accuracy                           0.89      3836\n",
      "   macro avg       0.83      0.84      0.83      3836\n",
      "weighted avg       0.90      0.89      0.90      3836\n",
      "\n"
     ]
    }
   ],
   "source": [
    "# weight 1:1, batch size: 4\n",
    "evaluate_model(model, X_test, y_test)"
   ]
  },
  {
   "cell_type": "code",
   "execution_count": 106,
   "id": "f567f493-6ba5-472a-a7cb-29e420b32346",
   "metadata": {
    "tags": []
   },
   "outputs": [
    {
     "name": "stdout",
     "output_type": "stream",
     "text": [
      "              precision    recall  f1-score   support\n",
      "\n",
      "  Non-Active       0.96      0.99      0.98      2688\n",
      "      Active       1.00      0.99      0.99     11118\n",
      "\n",
      "    accuracy                           0.99     13806\n",
      "   macro avg       0.98      0.99      0.99     13806\n",
      "weighted avg       0.99      0.99      0.99     13806\n",
      "\n"
     ]
    }
   ],
   "source": [
    "# weight 1:1, batch size: 4\n",
    "evaluate_model(model, X_train, y_train)"
   ]
  },
  {
   "cell_type": "markdown",
   "id": "fbf99992-a1b7-4f69-95ca-a7f5237bf690",
   "metadata": {},
   "source": [
    "#### batch size: 16"
   ]
  },
  {
   "cell_type": "code",
   "execution_count": 83,
   "id": "c0e563d1-a8ed-4275-8360-1c2e64957e26",
   "metadata": {
    "tags": []
   },
   "outputs": [
    {
     "name": "stderr",
     "output_type": "stream",
     "text": [
      "  8%|▊         | 8/100 [00:17<03:18,  2.16s/it]"
     ]
    },
    {
     "name": "stdout",
     "output_type": "stream",
     "text": [
      "Epoch 870, Train Loss: 0.05573831, Val Loss: 0.62324238\n"
     ]
    },
    {
     "name": "stderr",
     "output_type": "stream",
     "text": [
      " 18%|█▊        | 18/100 [00:38<02:55,  2.13s/it]"
     ]
    },
    {
     "name": "stdout",
     "output_type": "stream",
     "text": [
      "Epoch 880, Train Loss: 0.10539838, Val Loss: 0.15443170\n"
     ]
    },
    {
     "name": "stderr",
     "output_type": "stream",
     "text": [
      " 28%|██▊       | 28/100 [01:00<02:35,  2.15s/it]"
     ]
    },
    {
     "name": "stdout",
     "output_type": "stream",
     "text": [
      "Epoch 890, Train Loss: 0.08442828, Val Loss: 0.37445885\n"
     ]
    },
    {
     "name": "stderr",
     "output_type": "stream",
     "text": [
      " 38%|███▊      | 38/100 [01:21<02:12,  2.14s/it]"
     ]
    },
    {
     "name": "stdout",
     "output_type": "stream",
     "text": [
      "Epoch 900, Train Loss: 0.12981087, Val Loss: 0.22533205\n"
     ]
    },
    {
     "name": "stderr",
     "output_type": "stream",
     "text": [
      " 48%|████▊     | 48/100 [01:43<01:52,  2.17s/it]"
     ]
    },
    {
     "name": "stdout",
     "output_type": "stream",
     "text": [
      "Epoch 910, Train Loss: 0.02514893, Val Loss: 1.27067661\n"
     ]
    },
    {
     "name": "stderr",
     "output_type": "stream",
     "text": [
      " 58%|█████▊    | 58/100 [02:04<01:29,  2.13s/it]"
     ]
    },
    {
     "name": "stdout",
     "output_type": "stream",
     "text": [
      "Epoch 920, Train Loss: 0.06927679, Val Loss: 0.60903072\n"
     ]
    },
    {
     "name": "stderr",
     "output_type": "stream",
     "text": [
      " 68%|██████▊   | 68/100 [02:26<01:08,  2.14s/it]"
     ]
    },
    {
     "name": "stdout",
     "output_type": "stream",
     "text": [
      "Epoch 930, Train Loss: 0.00578506, Val Loss: 0.01548766\n"
     ]
    },
    {
     "name": "stderr",
     "output_type": "stream",
     "text": [
      " 78%|███████▊  | 78/100 [02:47<00:47,  2.15s/it]"
     ]
    },
    {
     "name": "stdout",
     "output_type": "stream",
     "text": [
      "Epoch 940, Train Loss: 0.00010633, Val Loss: 1.01946807\n"
     ]
    },
    {
     "name": "stderr",
     "output_type": "stream",
     "text": [
      " 88%|████████▊ | 88/100 [03:08<00:25,  2.12s/it]"
     ]
    },
    {
     "name": "stdout",
     "output_type": "stream",
     "text": [
      "Epoch 950, Train Loss: 0.02236831, Val Loss: 0.00975182\n"
     ]
    },
    {
     "name": "stderr",
     "output_type": "stream",
     "text": [
      " 98%|█████████▊| 98/100 [03:30<00:04,  2.15s/it]"
     ]
    },
    {
     "name": "stdout",
     "output_type": "stream",
     "text": [
      "Epoch 960, Train Loss: 0.00032704, Val Loss: 0.71054912\n"
     ]
    },
    {
     "name": "stderr",
     "output_type": "stream",
     "text": [
      "100%|██████████| 100/100 [03:34<00:00,  2.15s/it]\n"
     ]
    }
   ],
   "source": [
    "# batch size: 16\n",
    "train_model(model, optimizer, dataloader_train, dataloader_val)"
   ]
  },
  {
   "cell_type": "code",
   "execution_count": 84,
   "id": "a38491f4-e499-418d-9d73-ff782450f36b",
   "metadata": {
    "tags": []
   },
   "outputs": [
    {
     "name": "stdout",
     "output_type": "stream",
     "text": [
      "              precision    recall  f1-score   support\n",
      "\n",
      "  Non-Active       0.71      0.72      0.72       739\n",
      "      Active       0.93      0.93      0.93      3097\n",
      "\n",
      "    accuracy                           0.89      3836\n",
      "   macro avg       0.82      0.82      0.82      3836\n",
      "weighted avg       0.89      0.89      0.89      3836\n",
      "\n"
     ]
    }
   ],
   "source": [
    "# weight 1:1, batch size: 16\n",
    "evaluate_model(model, X_test, y_test)"
   ]
  },
  {
   "cell_type": "code",
   "execution_count": 85,
   "id": "b0e58e1a-bca4-4be2-a231-fb5f91b081e5",
   "metadata": {
    "tags": []
   },
   "outputs": [
    {
     "name": "stdout",
     "output_type": "stream",
     "text": [
      "              precision    recall  f1-score   support\n",
      "\n",
      "  Non-Active       0.99      1.00      0.99      2688\n",
      "      Active       1.00      1.00      1.00     11118\n",
      "\n",
      "    accuracy                           1.00     13806\n",
      "   macro avg       0.99      1.00      1.00     13806\n",
      "weighted avg       1.00      1.00      1.00     13806\n",
      "\n"
     ]
    }
   ],
   "source": [
    "# weight 1:1, batch size: 16\n",
    "evaluate_model(model, X_train, y_train)"
   ]
  },
  {
   "cell_type": "code",
   "execution_count": 86,
   "id": "0a71460c-17ba-46e1-bf1a-3fe75100fc51",
   "metadata": {
    "tags": []
   },
   "outputs": [
    {
     "name": "stdout",
     "output_type": "stream",
     "text": [
      "              precision    recall  f1-score   support\n",
      "\n",
      "  Non-Active       0.69      0.72      0.71       310\n",
      "      Active       0.93      0.92      0.92      1224\n",
      "\n",
      "    accuracy                           0.88      1534\n",
      "   macro avg       0.81      0.82      0.82      1534\n",
      "weighted avg       0.88      0.88      0.88      1534\n",
      "\n"
     ]
    }
   ],
   "source": [
    "# weight 1:1, batch size: 16\n",
    "evaluate_model(model, X_val, y_val)"
   ]
  },
  {
   "cell_type": "markdown",
   "id": "922baefe-3e0d-42c7-9ced-034d82220678",
   "metadata": {},
   "source": [
    "#### Use 2024/01-03 data"
   ]
  },
  {
   "cell_type": "code",
   "execution_count": 68,
   "id": "0f54f0df-a0c8-4e1b-ad1e-5602034590ef",
   "metadata": {
    "tags": []
   },
   "outputs": [
    {
     "name": "stderr",
     "output_type": "stream",
     "text": [
      "  7%|▋         | 7/100 [00:44<09:45,  6.29s/it]"
     ]
    },
    {
     "name": "stdout",
     "output_type": "stream",
     "text": [
      "Epoch 2520, Train Loss: 0.00444630, Val Loss: 0.05570905\n"
     ]
    },
    {
     "name": "stderr",
     "output_type": "stream",
     "text": [
      " 17%|█▋        | 17/100 [01:45<08:28,  6.13s/it]"
     ]
    },
    {
     "name": "stdout",
     "output_type": "stream",
     "text": [
      "Epoch 2530, Train Loss: 0.07987309, Val Loss: 0.41723204\n"
     ]
    },
    {
     "name": "stderr",
     "output_type": "stream",
     "text": [
      " 27%|██▋       | 27/100 [02:47<07:28,  6.15s/it]"
     ]
    },
    {
     "name": "stdout",
     "output_type": "stream",
     "text": [
      "Epoch 2540, Train Loss: 0.04343290, Val Loss: 0.13054542\n"
     ]
    },
    {
     "name": "stderr",
     "output_type": "stream",
     "text": [
      " 37%|███▋      | 37/100 [03:48<06:29,  6.19s/it]"
     ]
    },
    {
     "name": "stdout",
     "output_type": "stream",
     "text": [
      "Epoch 2550, Train Loss: 0.00208627, Val Loss: 0.00867430\n"
     ]
    },
    {
     "name": "stderr",
     "output_type": "stream",
     "text": [
      " 47%|████▋     | 47/100 [04:50<05:24,  6.12s/it]"
     ]
    },
    {
     "name": "stdout",
     "output_type": "stream",
     "text": [
      "Epoch 2560, Train Loss: 0.15578943, Val Loss: 0.00002513\n"
     ]
    },
    {
     "name": "stderr",
     "output_type": "stream",
     "text": [
      " 57%|█████▋    | 57/100 [05:51<04:25,  6.17s/it]"
     ]
    },
    {
     "name": "stdout",
     "output_type": "stream",
     "text": [
      "Epoch 2570, Train Loss: 0.05166807, Val Loss: 0.00001178\n"
     ]
    },
    {
     "name": "stderr",
     "output_type": "stream",
     "text": [
      " 67%|██████▋   | 67/100 [06:54<03:22,  6.13s/it]"
     ]
    },
    {
     "name": "stdout",
     "output_type": "stream",
     "text": [
      "Epoch 2580, Train Loss: 0.00023023, Val Loss: 0.00009079\n"
     ]
    },
    {
     "name": "stderr",
     "output_type": "stream",
     "text": [
      " 77%|███████▋  | 77/100 [07:55<02:20,  6.12s/it]"
     ]
    },
    {
     "name": "stdout",
     "output_type": "stream",
     "text": [
      "Epoch 2590, Train Loss: 0.00958271, Val Loss: 3.87740517\n"
     ]
    },
    {
     "name": "stderr",
     "output_type": "stream",
     "text": [
      " 87%|████████▋ | 87/100 [08:56<01:20,  6.17s/it]"
     ]
    },
    {
     "name": "stdout",
     "output_type": "stream",
     "text": [
      "Epoch 2600, Train Loss: 0.00028861, Val Loss: 0.63866061\n"
     ]
    },
    {
     "name": "stderr",
     "output_type": "stream",
     "text": [
      " 97%|█████████▋| 97/100 [09:58<00:18,  6.13s/it]"
     ]
    },
    {
     "name": "stdout",
     "output_type": "stream",
     "text": [
      "Epoch 2610, Train Loss: 0.03862286, Val Loss: 5.19564199\n"
     ]
    },
    {
     "name": "stderr",
     "output_type": "stream",
     "text": [
      "100%|██████████| 100/100 [10:16<00:00,  6.17s/it]\n"
     ]
    }
   ],
   "source": [
    "# batch size: 16\n",
    "train_model(model, optimizer, dataloader_train, dataloader_val)"
   ]
  },
  {
   "cell_type": "code",
   "execution_count": 69,
   "id": "073af82c-023f-4d1f-ac36-3e0c3793cf49",
   "metadata": {
    "tags": []
   },
   "outputs": [
    {
     "name": "stdout",
     "output_type": "stream",
     "text": [
      "              precision    recall  f1-score   support\n",
      "\n",
      "  Non-Active       0.67      0.72      0.70      2080\n",
      "      Active       0.94      0.92      0.93      9091\n",
      "\n",
      "    accuracy                           0.88     11171\n",
      "   macro avg       0.80      0.82      0.81     11171\n",
      "weighted avg       0.89      0.88      0.88     11171\n",
      "\n"
     ]
    }
   ],
   "source": [
    "# weight 1:1, batch size: 16\n",
    "evaluate_model(model, X_test, y_test)"
   ]
  },
  {
   "cell_type": "code",
   "execution_count": 70,
   "id": "abe62d79-0fd9-4d90-a44d-078bc51e96df",
   "metadata": {
    "tags": []
   },
   "outputs": [
    {
     "name": "stdout",
     "output_type": "stream",
     "text": [
      "              precision    recall  f1-score   support\n",
      "\n",
      "  Non-Active       0.98      1.00      0.99      7503\n",
      "      Active       1.00      1.00      1.00     32711\n",
      "\n",
      "    accuracy                           1.00     40214\n",
      "   macro avg       0.99      1.00      0.99     40214\n",
      "weighted avg       1.00      1.00      1.00     40214\n",
      "\n"
     ]
    }
   ],
   "source": [
    "# weight 1:1, batch size: 16\n",
    "evaluate_model(model, X_train, y_train)"
   ]
  },
  {
   "cell_type": "code",
   "execution_count": 71,
   "id": "a7540e76-3fc7-4498-87e6-fac64cb13b33",
   "metadata": {
    "tags": []
   },
   "outputs": [
    {
     "name": "stdout",
     "output_type": "stream",
     "text": [
      "              precision    recall  f1-score   support\n",
      "\n",
      "  Non-Active       0.67      0.72      0.69       842\n",
      "      Active       0.93      0.92      0.93      3627\n",
      "\n",
      "    accuracy                           0.88      4469\n",
      "   macro avg       0.80      0.82      0.81      4469\n",
      "weighted avg       0.88      0.88      0.88      4469\n",
      "\n"
     ]
    }
   ],
   "source": [
    "# weight 1:1, batch size: 16\n",
    "evaluate_model(model, X_val, y_val)"
   ]
  },
  {
   "cell_type": "markdown",
   "id": "2dfdefff-8793-43dd-b42c-843292a79525",
   "metadata": {},
   "source": [
    "##### Best model"
   ]
  },
  {
   "cell_type": "code",
   "execution_count": 65,
   "id": "fe171e55-fadd-4668-b3d0-5be2a1f55289",
   "metadata": {
    "collapsed": true,
    "jupyter": {
     "outputs_hidden": true
    },
    "tags": []
   },
   "outputs": [
    {
     "ename": "IndexError",
     "evalue": "tuple index out of range",
     "output_type": "error",
     "traceback": [
      "\u001b[0;31m---------------------------------------------------------------------------\u001b[0m",
      "\u001b[0;31mIndexError\u001b[0m                                Traceback (most recent call last)",
      "Cell \u001b[0;32mIn[65], line 2\u001b[0m\n\u001b[1;32m      1\u001b[0m best_model_path \u001b[38;5;241m=\u001b[39m \u001b[38;5;124m'\u001b[39m\u001b[38;5;124m/home/jupyter/lstm/model/single_step_lstm_best_model_16batch.pt\u001b[39m\u001b[38;5;124m'\u001b[39m\n\u001b[0;32m----> 2\u001b[0m best_model \u001b[38;5;241m=\u001b[39m LSTMModel(input_size\u001b[38;5;241m=\u001b[39mX_train\u001b[38;5;241m.\u001b[39mshape[\u001b[38;5;241m2\u001b[39m], output_size\u001b[38;5;241m=\u001b[39m\u001b[43my_train\u001b[49m\u001b[38;5;241;43m.\u001b[39;49m\u001b[43mshape\u001b[49m\u001b[43m[\u001b[49m\u001b[38;5;241;43m1\u001b[39;49m\u001b[43m]\u001b[49m)\u001b[38;5;241m.\u001b[39mto(device)\n\u001b[1;32m      3\u001b[0m best_model\u001b[38;5;241m.\u001b[39mload_state_dict(torch\u001b[38;5;241m.\u001b[39mload(best_model_path))\n",
      "\u001b[0;31mIndexError\u001b[0m: tuple index out of range"
     ]
    }
   ],
   "source": [
    "best_model_path = '/home/jupyter/lstm/model/single_step_lstm_best_model_16batch.pt'\n",
    "best_model = LSTMModel(input_size=X_train.shape[2], output_size=y_train.shape[1]).to(device)\n",
    "best_model.load_state_dict(torch.load(best_model_path))"
   ]
  },
  {
   "cell_type": "code",
   "execution_count": 73,
   "id": "b383f171-fb20-4668-8375-6c90a457ca52",
   "metadata": {
    "tags": []
   },
   "outputs": [
    {
     "name": "stdout",
     "output_type": "stream",
     "text": [
      "              precision    recall  f1-score   support\n",
      "\n",
      "  Non-Active       0.67      0.72      0.69      2080\n",
      "      Active       0.93      0.92      0.93      9091\n",
      "\n",
      "    accuracy                           0.88     11171\n",
      "   macro avg       0.80      0.82      0.81     11171\n",
      "weighted avg       0.89      0.88      0.88     11171\n",
      "\n"
     ]
    }
   ],
   "source": [
    "# weight 1:1, batch size: 16\n",
    "evaluate_model(best_model, X_test, y_test)"
   ]
  },
  {
   "cell_type": "code",
   "execution_count": 74,
   "id": "65ba7f1d-52d4-4a32-a658-84d1af2a565a",
   "metadata": {
    "tags": []
   },
   "outputs": [
    {
     "name": "stdout",
     "output_type": "stream",
     "text": [
      "              precision    recall  f1-score   support\n",
      "\n",
      "  Non-Active       0.96      0.99      0.98      7503\n",
      "      Active       1.00      0.99      1.00     32711\n",
      "\n",
      "    accuracy                           0.99     40214\n",
      "   macro avg       0.98      0.99      0.99     40214\n",
      "weighted avg       0.99      0.99      0.99     40214\n",
      "\n"
     ]
    }
   ],
   "source": [
    "# weight 1:1, batch size: 16\n",
    "evaluate_model(best_model, X_train, y_train)"
   ]
  },
  {
   "cell_type": "code",
   "execution_count": 75,
   "id": "710520d9-ac1b-4ba8-9282-8dc9111bc083",
   "metadata": {
    "tags": []
   },
   "outputs": [
    {
     "name": "stdout",
     "output_type": "stream",
     "text": [
      "              precision    recall  f1-score   support\n",
      "\n",
      "  Non-Active       0.69      0.70      0.69       842\n",
      "      Active       0.93      0.93      0.93      3627\n",
      "\n",
      "    accuracy                           0.88      4469\n",
      "   macro avg       0.81      0.81      0.81      4469\n",
      "weighted avg       0.88      0.88      0.88      4469\n",
      "\n"
     ]
    }
   ],
   "source": [
    "# weight 1:1, batch size: 16\n",
    "evaluate_model(best_model, X_val, y_val)"
   ]
  },
  {
   "cell_type": "markdown",
   "id": "4020d620-c9da-46b1-9041-82d14a5aa1fd",
   "metadata": {},
   "source": [
    "### Experiment: Optimizer- AdamW (weight decay)"
   ]
  },
  {
   "cell_type": "code",
   "execution_count": 87,
   "id": "1c74adec-dfae-46f9-b7f2-d51089022f45",
   "metadata": {
    "tags": []
   },
   "outputs": [],
   "source": [
    "batch_size = 16\n",
    "\n",
    "dataset_train = TensorDataset(X_train, y_train)\n",
    "dataloader_train = DataLoader(dataset_train, batch_size=batch_size, shuffle=True)\n",
    "\n",
    "dataset_val = TensorDataset(X_val, y_val)\n",
    "dataloader_val = DataLoader(dataset_val, batch_size=batch_size, shuffle=True)\n",
    "\n",
    "dataset_test = TensorDataset(X_test, y_test)\n",
    "dataloader_test = DataLoader(dataset_test, batch_size=batch_size, shuffle=False)"
   ]
  },
  {
   "cell_type": "code",
   "execution_count": 88,
   "id": "9a174a34-dd36-43d6-981c-af0adf2146bf",
   "metadata": {
    "tags": []
   },
   "outputs": [],
   "source": [
    "class LSTMModel(nn.Module):\n",
    "    def __init__(self, input_size=1, hidden_size=128, num_layers=2, output_size=1, batch_size=32):\n",
    "        super(LSTMModel, self).__init__()\n",
    "        self.hidden_size = hidden_size\n",
    "        self.num_layers = num_layers\n",
    "        self.batch_size = batch_size\n",
    "        self.lstm = nn.LSTM(input_size, hidden_size, num_layers, batch_first=True)\n",
    "        self.fc = nn.Linear(hidden_size, output_size)\n",
    "\n",
    "    def forward(self, x):\n",
    "        out, _ = self.lstm(x)\n",
    "        predictions = self.fc(out[-1, :, :])\n",
    "        return predictions\n",
    "\n",
    "model = LSTMModel(input_size=X_train.shape[2], output_size=y_train.shape[1]).to(device)\n",
    "\n",
    "loss_function = nn.BCEWithLogitsLoss()\n",
    "optimizer = optim.AdamW(model.parameters(), lr=0.0001, weight_decay=0.1) # lr rate decrease from 0.001 to 0.0001"
   ]
  },
  {
   "cell_type": "code",
   "execution_count": 89,
   "id": "24bc7bd6-7bdf-4feb-a95d-861d8bf0a1a0",
   "metadata": {
    "tags": []
   },
   "outputs": [],
   "source": [
    "def train_model(model, optimizer, dataloader_train, dataloader_val, epochs=100):\n",
    "    \n",
    "    train_losses = []\n",
    "    val_losses = []\n",
    "    best_val_loss = float('inf')\n",
    "    \n",
    "    for epoch in tqdm.tqdm(range(epochs)):\n",
    "        model.train()\n",
    "        for batch in dataloader_train:\n",
    "            epoch += 1\n",
    "            seqs, labels = batch\n",
    "            seqs, labels = seqs.to(device).float(), labels.to(device).float()\n",
    "            optimizer.zero_grad()\n",
    "\n",
    "            y_pred = model(seqs)\n",
    "            labels = labels\n",
    "\n",
    "            loss = loss_function(y_pred, labels)\n",
    "            weights = torch.where(labels == 1, 1.0, 1.0).to(y_pred.device)\n",
    "            weighted_loss = (loss * weights).mean()\n",
    "            weighted_loss.backward()\n",
    "            optimizer.step()\n",
    "        \n",
    "        train_losses.append(weighted_loss.item())\n",
    "        \n",
    "        \n",
    "        model.eval()\n",
    "        with torch.no_grad():\n",
    "            for batch in dataloader_val:\n",
    "                seqs, labels = batch\n",
    "                seqs, labels = seqs.to(device).float(), labels.to(device).float()\n",
    "                \n",
    "                val_pred = model(seqs)\n",
    "                labels = labels\n",
    "                \n",
    "                val_loss = loss_function(val_pred, labels)\n",
    "                val_weights = torch.where(labels == 1, 1.0, 1.0).to(val_pred.device)\n",
    "                weighted_val_loss = (val_loss * val_weights).mean()\n",
    "            val_losses.append(weighted_val_loss.item())\n",
    "        \n",
    "        if epoch % 10 == 0:\n",
    "            print(f'Epoch {epoch:3}, Train Loss: {weighted_loss.item():10.8f}, Val Loss: {weighted_val_loss.item():10.8f}')\n",
    "        \n",
    "        # best model weight\n",
    "        if val_loss < best_val_loss:\n",
    "            best_val_loss = val_loss\n",
    "            torch.save(model.state_dict(), f'/home/jupyter/lstm/model/single_step_lstm_best_model_weightdecay01.pt')"
   ]
  },
  {
   "cell_type": "markdown",
   "id": "32d128a3-e7a5-4cc0-8c62-769e24d30b23",
   "metadata": {},
   "source": [
    "#### weight decay: 0.01"
   ]
  },
  {
   "cell_type": "code",
   "execution_count": 93,
   "id": "54de021c-eb88-4182-952f-cf2c19267a43",
   "metadata": {
    "tags": []
   },
   "outputs": [
    {
     "name": "stderr",
     "output_type": "stream",
     "text": [
      "  8%|▊         | 8/100 [00:17<03:17,  2.14s/it]"
     ]
    },
    {
     "name": "stdout",
     "output_type": "stream",
     "text": [
      "Epoch 870, Train Loss: 0.20982292, Val Loss: 0.27204594\n"
     ]
    },
    {
     "name": "stderr",
     "output_type": "stream",
     "text": [
      " 18%|█▊        | 18/100 [00:38<02:56,  2.15s/it]"
     ]
    },
    {
     "name": "stdout",
     "output_type": "stream",
     "text": [
      "Epoch 880, Train Loss: 0.27719495, Val Loss: 0.12798396\n"
     ]
    },
    {
     "name": "stderr",
     "output_type": "stream",
     "text": [
      " 28%|██▊       | 28/100 [01:00<02:33,  2.13s/it]"
     ]
    },
    {
     "name": "stdout",
     "output_type": "stream",
     "text": [
      "Epoch 890, Train Loss: 0.04346086, Val Loss: 0.20216285\n"
     ]
    },
    {
     "name": "stderr",
     "output_type": "stream",
     "text": [
      " 38%|███▊      | 38/100 [01:21<02:14,  2.17s/it]"
     ]
    },
    {
     "name": "stdout",
     "output_type": "stream",
     "text": [
      "Epoch 900, Train Loss: 0.10185317, Val Loss: 0.17092054\n"
     ]
    },
    {
     "name": "stderr",
     "output_type": "stream",
     "text": [
      " 48%|████▊     | 48/100 [01:43<01:52,  2.16s/it]"
     ]
    },
    {
     "name": "stdout",
     "output_type": "stream",
     "text": [
      "Epoch 910, Train Loss: 0.19626588, Val Loss: 0.12841485\n"
     ]
    },
    {
     "name": "stderr",
     "output_type": "stream",
     "text": [
      " 58%|█████▊    | 58/100 [02:04<01:31,  2.17s/it]"
     ]
    },
    {
     "name": "stdout",
     "output_type": "stream",
     "text": [
      "Epoch 920, Train Loss: 0.17026167, Val Loss: 0.50014102\n"
     ]
    },
    {
     "name": "stderr",
     "output_type": "stream",
     "text": [
      " 68%|██████▊   | 68/100 [02:26<01:08,  2.15s/it]"
     ]
    },
    {
     "name": "stdout",
     "output_type": "stream",
     "text": [
      "Epoch 930, Train Loss: 0.21469383, Val Loss: 0.10948686\n"
     ]
    },
    {
     "name": "stderr",
     "output_type": "stream",
     "text": [
      " 78%|███████▊  | 78/100 [02:47<00:47,  2.16s/it]"
     ]
    },
    {
     "name": "stdout",
     "output_type": "stream",
     "text": [
      "Epoch 940, Train Loss: 0.19127586, Val Loss: 0.46553293\n"
     ]
    },
    {
     "name": "stderr",
     "output_type": "stream",
     "text": [
      " 88%|████████▊ | 88/100 [03:09<00:25,  2.15s/it]"
     ]
    },
    {
     "name": "stdout",
     "output_type": "stream",
     "text": [
      "Epoch 950, Train Loss: 0.38870466, Val Loss: 0.14188942\n"
     ]
    },
    {
     "name": "stderr",
     "output_type": "stream",
     "text": [
      " 98%|█████████▊| 98/100 [03:30<00:04,  2.15s/it]"
     ]
    },
    {
     "name": "stdout",
     "output_type": "stream",
     "text": [
      "Epoch 960, Train Loss: 0.17834555, Val Loss: 0.19742666\n"
     ]
    },
    {
     "name": "stderr",
     "output_type": "stream",
     "text": [
      "100%|██████████| 100/100 [03:35<00:00,  2.15s/it]\n"
     ]
    }
   ],
   "source": [
    "# weight decay: 0.01, batch size: 16\n",
    "train_model(model, optimizer, dataloader_train, dataloader_val)"
   ]
  },
  {
   "cell_type": "code",
   "execution_count": 94,
   "id": "130f8d42-1ae2-42b2-9687-8d916a373cfc",
   "metadata": {
    "tags": []
   },
   "outputs": [
    {
     "name": "stdout",
     "output_type": "stream",
     "text": [
      "              precision    recall  f1-score   support\n",
      "\n",
      "  Non-Active       0.75      0.83      0.79       739\n",
      "      Active       0.96      0.94      0.95      3097\n",
      "\n",
      "    accuracy                           0.91      3836\n",
      "   macro avg       0.86      0.88      0.87      3836\n",
      "weighted avg       0.92      0.91      0.92      3836\n",
      "\n"
     ]
    }
   ],
   "source": [
    "# weight decay: 0.01, batch size: 16\n",
    "evaluate_model(model, X_test, y_test)"
   ]
  },
  {
   "cell_type": "code",
   "execution_count": 95,
   "id": "ee8e417e-b8a5-4389-aa33-5f2bfe571b52",
   "metadata": {
    "tags": []
   },
   "outputs": [
    {
     "name": "stdout",
     "output_type": "stream",
     "text": [
      "              precision    recall  f1-score   support\n",
      "\n",
      "  Non-Active       0.77      0.89      0.83      2688\n",
      "      Active       0.97      0.94      0.95     11118\n",
      "\n",
      "    accuracy                           0.93     13806\n",
      "   macro avg       0.87      0.91      0.89     13806\n",
      "weighted avg       0.93      0.93      0.93     13806\n",
      "\n"
     ]
    }
   ],
   "source": [
    "# weight decay: 0.01, batch size: 16\n",
    "evaluate_model(model, X_train, y_train)"
   ]
  },
  {
   "cell_type": "code",
   "execution_count": 96,
   "id": "573be2cf-24f1-4bcd-9755-b00c442f99aa",
   "metadata": {
    "tags": []
   },
   "outputs": [
    {
     "name": "stdout",
     "output_type": "stream",
     "text": [
      "              precision    recall  f1-score   support\n",
      "\n",
      "  Non-Active       0.72      0.81      0.76       310\n",
      "      Active       0.95      0.92      0.94      1224\n",
      "\n",
      "    accuracy                           0.90      1534\n",
      "   macro avg       0.84      0.87      0.85      1534\n",
      "weighted avg       0.90      0.90      0.90      1534\n",
      "\n"
     ]
    }
   ],
   "source": [
    "# weight decay: 0.01, batch size: 16\n",
    "evaluate_model(model, X_val, y_val)"
   ]
  },
  {
   "cell_type": "code",
   "execution_count": 97,
   "id": "500a8b41-fcf5-4cf0-aea6-38a27f40832f",
   "metadata": {
    "tags": []
   },
   "outputs": [
    {
     "data": {
      "text/plain": [
       "<All keys matched successfully>"
      ]
     },
     "execution_count": 97,
     "metadata": {},
     "output_type": "execute_result"
    }
   ],
   "source": [
    "best_model_path = '/home/jupyter/lstm/model/single_step_lstm_best_model_weightdecay001.pt'\n",
    "best_model = LSTMModel(input_size=X_train.shape[2], output_size=y_train.shape[1]).to(device)\n",
    "best_model.load_state_dict(torch.load(best_model_path))"
   ]
  },
  {
   "cell_type": "code",
   "execution_count": 98,
   "id": "8457d09c-a2d9-4db2-a80e-9473db492b5a",
   "metadata": {
    "tags": []
   },
   "outputs": [
    {
     "name": "stdout",
     "output_type": "stream",
     "text": [
      "              precision    recall  f1-score   support\n",
      "\n",
      "  Non-Active       0.77      0.84      0.80       739\n",
      "      Active       0.96      0.94      0.95      3097\n",
      "\n",
      "    accuracy                           0.92      3836\n",
      "   macro avg       0.87      0.89      0.88      3836\n",
      "weighted avg       0.92      0.92      0.92      3836\n",
      "\n"
     ]
    }
   ],
   "source": [
    "# weight decay: 0.01, batch size: 16\n",
    "evaluate_model(best_model, X_test, y_test)"
   ]
  },
  {
   "cell_type": "code",
   "execution_count": 99,
   "id": "2b6e6065-f9ba-4863-a91e-9f5a71e7fb47",
   "metadata": {
    "tags": []
   },
   "outputs": [
    {
     "name": "stdout",
     "output_type": "stream",
     "text": [
      "              precision    recall  f1-score   support\n",
      "\n",
      "  Non-Active       0.74      0.84      0.79      2688\n",
      "      Active       0.96      0.93      0.94     11118\n",
      "\n",
      "    accuracy                           0.91     13806\n",
      "   macro avg       0.85      0.88      0.87     13806\n",
      "weighted avg       0.92      0.91      0.91     13806\n",
      "\n"
     ]
    }
   ],
   "source": [
    "# weight decay: 0.01, batch size: 16\n",
    "evaluate_model(best_model, X_train, y_train)"
   ]
  },
  {
   "cell_type": "code",
   "execution_count": 100,
   "id": "774e1882-88ea-434a-929d-b22d57c304f7",
   "metadata": {
    "tags": []
   },
   "outputs": [
    {
     "name": "stdout",
     "output_type": "stream",
     "text": [
      "              precision    recall  f1-score   support\n",
      "\n",
      "  Non-Active       0.75      0.84      0.79       310\n",
      "      Active       0.96      0.93      0.94      1224\n",
      "\n",
      "    accuracy                           0.91      1534\n",
      "   macro avg       0.85      0.88      0.87      1534\n",
      "weighted avg       0.92      0.91      0.91      1534\n",
      "\n"
     ]
    }
   ],
   "source": [
    "# weight decay: 0.01, batch size: 16\n",
    "evaluate_model(best_model, X_val, y_val)"
   ]
  },
  {
   "cell_type": "markdown",
   "id": "7a9f8760-2b58-4191-820d-7b51f6dd1a83",
   "metadata": {},
   "source": [
    "#### weight decay: 0.1"
   ]
  },
  {
   "cell_type": "code",
   "execution_count": 133,
   "id": "acea0d50-9979-4d79-8c18-4a292c57857f",
   "metadata": {
    "tags": []
   },
   "outputs": [
    {
     "name": "stderr",
     "output_type": "stream",
     "text": [
      "  8%|▊         | 8/100 [00:16<03:11,  2.08s/it]"
     ]
    },
    {
     "name": "stdout",
     "output_type": "stream",
     "text": [
      "Epoch 870, Train Loss: 0.12712477, Val Loss: 0.16748460\n"
     ]
    },
    {
     "name": "stderr",
     "output_type": "stream",
     "text": [
      " 18%|█▊        | 18/100 [00:37<02:51,  2.09s/it]"
     ]
    },
    {
     "name": "stdout",
     "output_type": "stream",
     "text": [
      "Epoch 880, Train Loss: 0.13769692, Val Loss: 0.48636159\n"
     ]
    },
    {
     "name": "stderr",
     "output_type": "stream",
     "text": [
      " 28%|██▊       | 28/100 [00:58<02:31,  2.10s/it]"
     ]
    },
    {
     "name": "stdout",
     "output_type": "stream",
     "text": [
      "Epoch 890, Train Loss: 0.19725688, Val Loss: 0.16946636\n"
     ]
    },
    {
     "name": "stderr",
     "output_type": "stream",
     "text": [
      " 38%|███▊      | 38/100 [01:19<02:09,  2.09s/it]"
     ]
    },
    {
     "name": "stdout",
     "output_type": "stream",
     "text": [
      "Epoch 900, Train Loss: 0.28409046, Val Loss: 0.15589017\n"
     ]
    },
    {
     "name": "stderr",
     "output_type": "stream",
     "text": [
      " 48%|████▊     | 48/100 [01:40<01:48,  2.09s/it]"
     ]
    },
    {
     "name": "stdout",
     "output_type": "stream",
     "text": [
      "Epoch 910, Train Loss: 0.12900263, Val Loss: 0.36230558\n"
     ]
    },
    {
     "name": "stderr",
     "output_type": "stream",
     "text": [
      " 58%|█████▊    | 58/100 [02:01<01:28,  2.10s/it]"
     ]
    },
    {
     "name": "stdout",
     "output_type": "stream",
     "text": [
      "Epoch 920, Train Loss: 0.23901978, Val Loss: 0.09362344\n"
     ]
    },
    {
     "name": "stderr",
     "output_type": "stream",
     "text": [
      " 68%|██████▊   | 68/100 [02:22<01:06,  2.08s/it]"
     ]
    },
    {
     "name": "stdout",
     "output_type": "stream",
     "text": [
      "Epoch 930, Train Loss: 0.09687504, Val Loss: 0.01912175\n"
     ]
    },
    {
     "name": "stderr",
     "output_type": "stream",
     "text": [
      " 78%|███████▊  | 78/100 [02:43<00:46,  2.12s/it]"
     ]
    },
    {
     "name": "stdout",
     "output_type": "stream",
     "text": [
      "Epoch 940, Train Loss: 0.11151602, Val Loss: 0.19727357\n"
     ]
    },
    {
     "name": "stderr",
     "output_type": "stream",
     "text": [
      " 88%|████████▊ | 88/100 [03:04<00:25,  2.10s/it]"
     ]
    },
    {
     "name": "stdout",
     "output_type": "stream",
     "text": [
      "Epoch 950, Train Loss: 0.30463567, Val Loss: 0.21397386\n"
     ]
    },
    {
     "name": "stderr",
     "output_type": "stream",
     "text": [
      " 98%|█████████▊| 98/100 [03:25<00:04,  2.11s/it]"
     ]
    },
    {
     "name": "stdout",
     "output_type": "stream",
     "text": [
      "Epoch 960, Train Loss: 0.11572363, Val Loss: 0.28937420\n"
     ]
    },
    {
     "name": "stderr",
     "output_type": "stream",
     "text": [
      "100%|██████████| 100/100 [03:29<00:00,  2.10s/it]\n"
     ]
    }
   ],
   "source": [
    "# weight decay: 0.1, batch size: 16\n",
    "train_model(model, optimizer, dataloader_train, dataloader_val)"
   ]
  },
  {
   "cell_type": "code",
   "execution_count": 134,
   "id": "fb515236-487f-4064-abb3-8fe776644df0",
   "metadata": {
    "tags": []
   },
   "outputs": [
    {
     "name": "stdout",
     "output_type": "stream",
     "text": [
      "              precision    recall  f1-score   support\n",
      "\n",
      "  Non-Active       0.75      0.84      0.80       739\n",
      "      Active       0.96      0.93      0.95      3097\n",
      "\n",
      "    accuracy                           0.92      3836\n",
      "   macro avg       0.86      0.89      0.87      3836\n",
      "weighted avg       0.92      0.92      0.92      3836\n",
      "\n"
     ]
    }
   ],
   "source": [
    "# weight decay: 0.1, batch size: 16\n",
    "evaluate_model(model, X_test, y_test)"
   ]
  },
  {
   "cell_type": "code",
   "execution_count": 135,
   "id": "e607e2bc-e506-448c-b05a-b9c702038223",
   "metadata": {
    "tags": []
   },
   "outputs": [
    {
     "name": "stdout",
     "output_type": "stream",
     "text": [
      "              precision    recall  f1-score   support\n",
      "\n",
      "  Non-Active       0.74      0.86      0.79      2688\n",
      "      Active       0.96      0.93      0.94     11118\n",
      "\n",
      "    accuracy                           0.91     13806\n",
      "   macro avg       0.85      0.89      0.87     13806\n",
      "weighted avg       0.92      0.91      0.92     13806\n",
      "\n"
     ]
    }
   ],
   "source": [
    "# weight decay: 0.1, batch size: 16\n",
    "evaluate_model(model, X_train, y_train)"
   ]
  },
  {
   "cell_type": "code",
   "execution_count": 136,
   "id": "c0c074d7-4786-4c2e-88dd-d758b78d8f1f",
   "metadata": {
    "tags": []
   },
   "outputs": [
    {
     "name": "stdout",
     "output_type": "stream",
     "text": [
      "              precision    recall  f1-score   support\n",
      "\n",
      "  Non-Active       0.74      0.85      0.79       310\n",
      "      Active       0.96      0.92      0.94      1224\n",
      "\n",
      "    accuracy                           0.91      1534\n",
      "   macro avg       0.85      0.89      0.87      1534\n",
      "weighted avg       0.92      0.91      0.91      1534\n",
      "\n"
     ]
    }
   ],
   "source": [
    "# threshold: 0.5, weight decay: 0.1, batch size: 16\n",
    "evaluate_model(model, X_val, y_val)"
   ]
  },
  {
   "cell_type": "markdown",
   "id": "7068d69a-ca39-428d-bed5-8dbd259e8cb3",
   "metadata": {},
   "source": [
    "#### ROC Curve"
   ]
  },
  {
   "cell_type": "code",
   "execution_count": 148,
   "id": "6263939a-1b1b-4be9-88cc-1c76b9e76ba0",
   "metadata": {
    "tags": []
   },
   "outputs": [],
   "source": [
    "from sklearn.metrics import roc_curve, auc\n",
    "from sklearn.metrics import precision_score, recall_score"
   ]
  },
  {
   "cell_type": "code",
   "execution_count": 78,
   "id": "82b734f6-4c6b-4ef3-b8d3-ce61a8879053",
   "metadata": {
    "tags": []
   },
   "outputs": [],
   "source": [
    "def draw_roc_curve(model, X_test, y_test):\n",
    "    model.eval()\n",
    "    with torch.no_grad():\n",
    "        y_true_list = []\n",
    "        y_pred_list = [] \n",
    "        for seq, labels in zip(X_test, y_test):\n",
    "            seq, labels = seq.to(device).float(), labels.to(device).float()\n",
    "            y_pred = model(seq.unsqueeze(0))\n",
    "            y_pred = torch.sigmoid(y_pred)\n",
    "                                    \n",
    "            y_true_list.append(labels.squeeze().tolist())\n",
    "            y_pred_list.append(y_pred.squeeze().tolist())\n",
    "    \n",
    "    \n",
    "    fpr, tpr, thresholds = roc_curve(y_true_list, y_pred_list)\n",
    "    \n",
    "    # Precision, Recall\n",
    "    precision = tpr / (tpr + fpr)\n",
    "    recall = tpr\n",
    "    \n",
    "    # Draw ROC Curve\n",
    "    roc_auc = auc(fpr, tpr)\n",
    "    \n",
    "    plt.figure()\n",
    "    plt.plot(fpr, tpr, color='darkorange', lw=2, label=f'ROC curve (area = {roc_auc:.2f})')\n",
    "    plt.plot([0, 1], [0, 1], color='navy', lw=2, linestyle='--')\n",
    "    plt.xlim([0.0, 1.0])\n",
    "    plt.ylim([0.0, 1.0])\n",
    "    plt.xlabel('False Positive Rate')\n",
    "    plt.ylabel('True Positive Rate')\n",
    "    plt.title('Receiver Operating Characteristic')\n",
    "    plt.legend(loc='lower right')\n",
    "    plt.show()\n",
    "    \n",
    "    return precision, recall, thresholds"
   ]
  },
  {
   "cell_type": "code",
   "execution_count": 102,
   "id": "a00fc563-aa02-405c-9051-59351c03faf1",
   "metadata": {
    "tags": []
   },
   "outputs": [
    {
     "name": "stderr",
     "output_type": "stream",
     "text": [
      "/var/tmp/ipykernel_145236/3255369871.py:18: RuntimeWarning: invalid value encountered in divide\n"
     ]
    },
    {
     "data": {
      "image/png": "[encoded data removed]",
      "text/plain": [
       "<Figure size 640x480 with 1 Axes>"
      ]
     },
     "metadata": {},
     "output_type": "display_data"
    }
   ],
   "source": [
    "# weight decay: 0.01, batch size: 16\n",
    "precision, recall, thresholds = draw_roc_curve(best_model, X_test, y_test)"
   ]
  },
  {
   "cell_type": "code",
   "execution_count": 158,
   "id": "e0acbdb4-b386-48a9-b1f6-7aa187777105",
   "metadata": {
    "collapsed": true,
    "jupyter": {
     "outputs_hidden": true
    },
    "tags": []
   },
   "outputs": [
    {
     "name": "stdout",
     "output_type": "stream",
     "text": [
      "[       nan 1.         1.         1.         1.         1.\n",
      " 1.         1.         1.         1.         1.         1.\n",
      " 1.         1.         1.         1.         1.         1.\n",
      " 1.         1.         1.         1.         1.         1.\n",
      " 1.         1.         1.         1.         1.         1.\n",
      " 1.         1.         1.         1.         1.         1.\n",
      " 1.         0.98448949 0.98678777 0.98687055 0.98789454 0.98796407\n",
      " 0.98810077 0.98816796 0.98968269 0.98973324 0.98993058 0.98997874\n",
      " 0.99014372 0.99018987 0.99087351 0.99091309 0.99123614 0.99127264\n",
      " 0.9914332  0.99146808 0.9924106  0.99243799 0.99273932 0.99276439\n",
      " 0.99278929 0.99281402 0.99328603 0.99330747 0.99333938 0.99336049\n",
      " 0.99337099 0.9933919  0.99375617 0.98758984 0.98762648 0.9876629\n",
      " 0.98869463 0.98872504 0.99049039 0.99051192 0.9908436  0.99086357\n",
      " 0.99119008 0.99120856 0.99164665 0.99166327 0.99183384 0.98780057\n",
      " 0.98784774 0.98386235 0.98400097 0.98403145 0.98410715 0.98413723\n",
      " 0.98575483 0.985779   0.98625701 0.98627951 0.98668281 0.98670393\n",
      " 0.98783304 0.98785067 0.98800713 0.98505372 0.98523279 0.98525357\n",
      " 0.98529497 0.98240571 0.98247927 0.97961866 0.9830365  0.98305609\n",
      " 0.98374161 0.98375961 0.98434045 0.98435715 0.98594592 0.98397037\n",
      " 0.98437382 0.98245482 0.98278318 0.98090672 0.98107058 0.97921698\n",
      " 0.97950344 0.97768171 0.97771138 0.97589876 0.97699775 0.9752721\n",
      " 0.9753241  0.97360805 0.97367437 0.97196852 0.97232715 0.97064836\n",
      " 0.97076879 0.96910244 0.96912773 0.9674684  0.96762711 0.96598124\n",
      " 0.96610505 0.96447052 0.96461338 0.96299067 0.96315336 0.96154293\n",
      " 0.96155826 0.95995382 0.96022305 0.95863424 0.95902253 0.95745317\n",
      " 0.95779922 0.95624713 0.95653286 0.95499542 0.95516736 0.95364043\n",
      " 0.95369342 0.95217301 0.95222753 0.9507136  0.9512865  0.94979399\n",
      " 0.95018563 0.94870877 0.9488983  0.94743117 0.94764365 0.94618662\n",
      " 0.94622608 0.94477453 0.94515596 0.94371826 0.94388122 0.94245178\n",
      " 0.94249334 0.94106919 0.94109043 0.93967105 0.93980104 0.93838879\n",
      " 0.93863085 0.937228   0.93731742 0.93592061 0.9359889  0.93459763\n",
      " 0.93473652 0.93335211 0.93365691 0.93228246 0.93237747 0.93100884\n",
      " 0.931033   0.92830863 0.92858289 0.92723146 0.92730719 0.92596098\n",
      " 0.92611455 0.92477479 0.92482669 0.92349166 0.92375429 0.92242729\n",
      " 0.92250698 0.92118503 0.92129268 0.91997615 0.92000343 0.91738245\n",
      " 0.91752262 0.91621973 0.91658716 0.91529314 0.91532167 0.91403169\n",
      " 0.91411833 0.91283316 0.91297912 0.9116995  0.91172902 0.91045336\n",
      " 0.91057278 0.90930222 0.90936257 0.9080963  0.90812683 0.90686446\n",
      " 0.90704945 0.90579282 0.90585507 0.90460266 0.90504124 0.90379743\n",
      " 0.90392345 0.9026845  0.9032855  0.90205674 0.90208852 0.90086345\n",
      " 0.90118367 0.89996543 0.89999769 0.89757176 0.8981287  0.89692645\n",
      " 0.8971564  0.89595973 0.89599284 0.89360971 0.89367719 0.89249104\n",
      " 0.89259309 0.89141107 0.89144537 0.8902668  0.89054305 0.88937019\n",
      " 0.88954375 0.88721046 0.88728101 0.88611959 0.88626169 0.88395045\n",
      " 0.88405867 0.8829085  0.88294484 0.88179796 0.88194432 0.88080164\n",
      " 0.88109573 0.87882408 0.87886134 0.87435419 0.87454609 0.87231272\n",
      " 0.87235162 0.87123949 0.87143504 0.87032718 0.87048434 0.86827933\n",
      " 0.86843837 0.86734117 0.86742111 0.86632723 0.86652805 0.86435132\n",
      " 0.86439196 0.86330797 0.86338973 0.86123096 0.86127234 0.86019727\n",
      " 0.8602389  0.85916677 0.85920864 0.85707292 0.85711529 0.85605167\n",
      " 0.85622196 0.85516202 0.85541827 0.8543625  0.85444823 0.85339557\n",
      " 0.85356776 0.85251872 0.85260517 0.85051581 0.8505595  0.84744534\n",
      " 0.84748975 0.840313   0.84035908 0.83934398 0.83948278 0.83847083\n",
      " 0.83851728 0.83650115 0.83654804 0.8275962  0.82774282 0.82578079\n",
      " 0.82587928 0.8239274  0.82407622 0.81827938 0.81843177 0.81747417\n",
      " 0.81752512 0.81656996 0.81667218 0.81476938 0.81482086 0.81292731\n",
      " 0.81308278 0.81213991 0.81219188 0.81031307 0.81036541 0.80942946\n",
      " 0.80953444 0.80674069 0.80679372 0.80586695 0.80602645 0.80051361\n",
      " 0.80062207 0.79971096 0.79976533 0.79885648 0.79891101 0.79709984\n",
      " 0.79715471 0.79625238 0.7963074  0.79361318 0.79366871 0.79010535\n",
      " 0.79038606 0.78950108 0.78955731 0.78867449 0.78873085 0.78697146\n",
      " 0.78702814 0.78527692 0.78550469 0.78289442 0.78295179 0.78035931\n",
      " 0.78041714 0.77869866 0.77881488 0.77795879 0.77801702 0.7754605\n",
      " 0.77551917 0.77467088 0.77472968 0.7705167  0.77057624 0.76475552\n",
      " 0.76481608 0.76399187 0.76405254 0.76323025 0.76335179 0.76253156\n",
      " 0.76259243 0.7560946  0.75615657 0.75454966 0.75479833 0.75160707\n",
      " 0.75173231 0.74935731 0.749609   0.74882119 0.74888417 0.74809815\n",
      " 0.74822426 0.74587684 0.74606694 0.74373535 0.74379903 0.74148234\n",
      " 0.74161037 0.73778235 0.73784693 0.73708618 0.73715085 0.73487835\n",
      " 0.73526784 0.73301142 0.73307658 0.73232763 0.73239287 0.73164556\n",
      " 0.73171088 0.73096522 0.731096   0.73035208 0.73041753 0.72452113\n",
      " 0.72458745 0.72095084 0.72108445 0.72036172 0.72042858 0.71898766\n",
      " 0.7190547  0.71761974 0.71768696 0.71697173 0.71703902 0.7141927\n",
      " 0.71426036 0.71355241 0.71375551 0.70814437 0.70821279 0.70751769\n",
      " 0.70765462 0.70696108 0.70716652 0.70578407 0.70585267 0.70378937\n",
      " 0.70392705 0.69916054 0.69922997 0.695196   0.69526592 0.69127873\n",
      " 0.69134913 0.68351137 0.6835827  0.68293764 0.68300902 0.68236526\n",
      " 0.68243668 0.68179421 0.68186568 0.68058451 0.68079918 0.67825213\n",
      " 0.67832392 0.67579616 0.67608419 0.67545548 0.67552748 0.66623628\n",
      " 0.66630929 0.66508987 0.66516298 0.65913287 0.65920659 0.65387276\n",
      " 0.653947   0.64812143 0.64819621 0.63740983 0.63748559 0.63581536\n",
      " 0.6360429  0.63493456 0.63501044 0.63116182 0.63123801 0.63014705\n",
      " 0.63022329 0.62967927 0.62975554 0.62812923 0.6282056  0.62551391\n",
      " 0.62559047 0.62398662 0.62406328 0.62193774 0.62201454 0.62095728\n",
      " 0.62103413 0.62050689 0.62058375 0.61432642 0.61448101 0.60583067\n",
      " 0.60590854 0.60540731 0.60556303 0.5942608  0.59433935 0.59385754\n",
      " 0.59393609 0.59345509 0.59353364 0.58735117 0.58743005 0.58508647\n",
      " 0.5852444  0.58199498 0.58207408 0.57977519 0.57985438 0.5793968\n",
      " 0.57947598 0.57449014 0.57456954 0.57233161 0.57241109 0.56842662\n",
      " 0.56850625 0.56327933 0.56335916 0.55738152 0.55746155 0.54954933\n",
      " 0.54962961 0.54193907 0.54201955 0.54122255 0.54130302 0.53932077\n",
      " 0.53940126 0.53861244 0.53869293 0.53751404 0.53767499 0.53494435\n",
      " 0.53502485 0.52964605 0.52972663 0.52934657 0.52942713 0.52528229\n",
      " 0.52536289 0.51581941 0.51590012 0.5133897  0.5134704  0.50195731\n",
      " 0.50203804 0.5       ] [0.00000000e+00 3.22893122e-04 4.84339684e-03 5.48918308e-03\n",
      " 6.13496933e-03 6.78075557e-03 1.03325799e-02 1.16241524e-02\n",
      " 1.29157249e-02 1.35615111e-02 1.48530836e-02 1.54988699e-02\n",
      " 1.71133355e-02 1.77591217e-02 1.90506942e-02 1.96964805e-02\n",
      " 2.45398773e-02 2.58314498e-02 2.68001292e-02 2.74459154e-02\n",
      " 3.74556022e-02 3.81013884e-02 4.39134646e-02 4.45592509e-02\n",
      " 5.00484340e-02 5.06942202e-02 6.52244107e-02 6.58701970e-02\n",
      " 6.94220213e-02 7.00678076e-02 7.29738457e-02 7.36196319e-02\n",
      " 7.81401356e-02 7.94317081e-02 8.07232806e-02 8.13690668e-02\n",
      " 8.58895706e-02 8.58895706e-02 1.01065547e-01 1.01711334e-01\n",
      " 1.10429448e-01 1.11075234e-01 1.12366807e-01 1.13012593e-01\n",
      " 1.29803035e-01 1.30448821e-01 1.33031966e-01 1.33677753e-01\n",
      " 1.35938005e-01 1.36583791e-01 1.46916371e-01 1.47562157e-01\n",
      " 1.53051340e-01 1.53697126e-01 1.56603164e-01 1.57248951e-01\n",
      " 1.76945431e-01 1.77591217e-01 1.85017759e-01 1.85663545e-01\n",
      " 1.86309332e-01 1.86955118e-01 2.00193736e-01 2.00839522e-01\n",
      " 2.01808201e-01 2.02453988e-01 2.02776881e-01 2.03422667e-01\n",
      " 2.15369713e-01 2.15369713e-01 2.16015499e-01 2.16661285e-01\n",
      " 2.36680659e-01 2.37326445e-01 2.81885696e-01 2.82531482e-01\n",
      " 2.92864062e-01 2.93509848e-01 3.04488214e-01 3.05134001e-01\n",
      " 3.21278657e-01 3.21924443e-01 3.28705199e-01 3.28705199e-01\n",
      " 3.29996771e-01 3.29996771e-01 3.32902809e-01 3.33548595e-01\n",
      " 3.35163061e-01 3.35808847e-01 3.74556022e-01 3.75201808e-01\n",
      " 3.88440426e-01 3.89086212e-01 4.01033258e-01 4.01679044e-01\n",
      " 4.39457540e-01 4.40103326e-01 4.45915402e-01 4.45915402e-01\n",
      " 4.51404585e-01 4.52050371e-01 4.53341944e-01 4.53341944e-01\n",
      " 4.55279303e-01 4.55279303e-01 5.48918308e-01 5.49564094e-01\n",
      " 5.73135292e-01 5.73781078e-01 5.95414918e-01 5.96060704e-01\n",
      " 6.64514046e-01 6.64514046e-01 6.81950274e-01 6.81950274e-01\n",
      " 6.95188892e-01 6.95188892e-01 7.01323862e-01 7.01323862e-01\n",
      " 7.11333549e-01 7.11333549e-01 7.12302228e-01 7.12302228e-01\n",
      " 7.47174685e-01 7.47174685e-01 7.48789151e-01 7.48789151e-01\n",
      " 7.50726510e-01 7.50726510e-01 7.60736196e-01 7.60736196e-01\n",
      " 7.63965128e-01 7.63965128e-01 7.64610914e-01 7.64610914e-01\n",
      " 7.68485631e-01 7.68485631e-01 7.71391669e-01 7.71391669e-01\n",
      " 7.74620601e-01 7.74620601e-01 7.78172425e-01 7.78172425e-01\n",
      " 7.78495318e-01 7.78495318e-01 7.83984501e-01 7.83984501e-01\n",
      " 7.91733936e-01 7.91733936e-01 7.98514692e-01 7.98514692e-01\n",
      " 8.04003875e-01 8.04003875e-01 8.07232806e-01 8.07232806e-01\n",
      " 8.08201485e-01 8.08201485e-01 8.09170165e-01 8.09170165e-01\n",
      " 8.19179851e-01 8.19179851e-01 8.25960607e-01 8.25960607e-01\n",
      " 8.29189538e-01 8.29189538e-01 8.32741363e-01 8.32741363e-01\n",
      " 8.33387149e-01 8.33387149e-01 8.39522118e-01 8.39522118e-01\n",
      " 8.42105263e-01 8.42105263e-01 8.42751049e-01 8.42751049e-01\n",
      " 8.43073943e-01 8.43073943e-01 8.45011301e-01 8.45011301e-01\n",
      " 8.48563126e-01 8.48563126e-01 8.49854698e-01 8.49854698e-01\n",
      " 8.50823377e-01 8.50823377e-01 8.52760736e-01 8.52760736e-01\n",
      " 8.56958347e-01 8.56958347e-01 8.58249919e-01 8.58249919e-01\n",
      " 8.58572812e-01 8.58572812e-01 8.62124637e-01 8.62124637e-01\n",
      " 8.63093316e-01 8.63093316e-01 8.65030675e-01 8.65030675e-01\n",
      " 8.65676461e-01 8.65676461e-01 8.68905392e-01 8.68905392e-01\n",
      " 8.69874072e-01 8.69874072e-01 8.71165644e-01 8.71165644e-01\n",
      " 8.71488537e-01 8.71488537e-01 8.73103003e-01 8.73103003e-01\n",
      " 8.77300613e-01 8.77300613e-01 8.77623507e-01 8.77623507e-01\n",
      " 8.78592186e-01 8.78592186e-01 8.80206652e-01 8.80206652e-01\n",
      " 8.80529545e-01 8.80529545e-01 8.81821117e-01 8.81821117e-01\n",
      " 8.82466903e-01 8.82466903e-01 8.82789797e-01 8.82789797e-01\n",
      " 8.84727155e-01 8.84727155e-01 8.85372942e-01 8.85372942e-01\n",
      " 8.89893445e-01 8.89893445e-01 8.91185018e-01 8.91185018e-01\n",
      " 8.97319987e-01 8.97319987e-01 8.97642880e-01 8.97642880e-01\n",
      " 9.00871811e-01 9.00871811e-01 9.01194705e-01 9.01194705e-01\n",
      " 9.06683888e-01 9.06683888e-01 9.08944139e-01 9.08944139e-01\n",
      " 9.09267033e-01 9.09267033e-01 9.09912819e-01 9.09912819e-01\n",
      " 9.10881498e-01 9.10881498e-01 9.11204391e-01 9.11204391e-01\n",
      " 9.13787536e-01 9.13787536e-01 9.15402002e-01 9.15402002e-01\n",
      " 9.16047788e-01 9.16047788e-01 9.17339361e-01 9.17339361e-01\n",
      " 9.18308040e-01 9.18308040e-01 9.18630933e-01 9.18630933e-01\n",
      " 9.19922506e-01 9.19922506e-01 9.22505651e-01 9.22505651e-01\n",
      " 9.22828544e-01 9.22828544e-01 9.24443009e-01 9.24443009e-01\n",
      " 9.24765902e-01 9.24765902e-01 9.26380368e-01 9.26380368e-01\n",
      " 9.27671941e-01 9.27671941e-01 9.28963513e-01 9.28963513e-01\n",
      " 9.29609299e-01 9.29609299e-01 9.31223765e-01 9.31223765e-01\n",
      " 9.31546658e-01 9.31546658e-01 9.32192444e-01 9.32192444e-01\n",
      " 9.32515337e-01 9.32515337e-01 9.32838231e-01 9.32838231e-01\n",
      " 9.33161124e-01 9.33161124e-01 9.33484017e-01 9.33484017e-01\n",
      " 9.34775589e-01 9.34775589e-01 9.36712948e-01 9.36712948e-01\n",
      " 9.37358734e-01 9.37358734e-01 9.38650307e-01 9.38650307e-01\n",
      " 9.39296093e-01 9.39296093e-01 9.39618986e-01 9.39618986e-01\n",
      " 9.39941879e-01 9.39941879e-01 9.40264772e-01 9.40264772e-01\n",
      " 9.41233452e-01 9.41233452e-01 9.41556345e-01 9.41556345e-01\n",
      " 9.41879238e-01 9.41879238e-01 9.42847917e-01 9.42847917e-01\n",
      " 9.43493704e-01 9.43493704e-01 9.44462383e-01 9.44462383e-01\n",
      " 9.45431062e-01 9.45431062e-01 9.45753955e-01 9.45753955e-01\n",
      " 9.46399742e-01 9.46399742e-01 9.46722635e-01 9.46722635e-01\n",
      " 9.47691314e-01 9.47691314e-01 9.48014207e-01 9.48014207e-01\n",
      " 9.48337100e-01 9.48337100e-01 9.48982887e-01 9.48982887e-01\n",
      " 9.49305780e-01 9.49305780e-01 9.50274459e-01 9.50274459e-01\n",
      " 9.50920245e-01 9.50920245e-01 9.51243139e-01 9.51243139e-01\n",
      " 9.51566032e-01 9.51566032e-01 9.51888925e-01 9.51888925e-01\n",
      " 9.52211818e-01 9.52211818e-01 9.52534711e-01 9.52534711e-01\n",
      " 9.54149177e-01 9.54149177e-01 9.54472070e-01 9.54472070e-01\n",
      " 9.54794963e-01 9.54794963e-01 9.55117856e-01 9.55117856e-01\n",
      " 9.56409428e-01 9.56409428e-01 9.56732322e-01 9.56732322e-01\n",
      " 9.57055215e-01 9.57055215e-01 9.57701001e-01 9.57701001e-01\n",
      " 9.58023894e-01 9.58023894e-01 9.58346787e-01 9.58346787e-01\n",
      " 9.58669680e-01 9.58669680e-01 9.58992573e-01 9.58992573e-01\n",
      " 9.59315467e-01 9.59315467e-01 9.59638360e-01 9.59638360e-01\n",
      " 9.60284146e-01 9.60284146e-01 9.60607039e-01 9.60607039e-01\n",
      " 9.60929932e-01 9.60929932e-01 9.62221505e-01 9.62221505e-01\n",
      " 9.62867291e-01 9.62867291e-01 9.64158863e-01 9.64158863e-01\n",
      " 9.64481757e-01 9.64481757e-01 9.65127543e-01 9.65127543e-01\n",
      " 9.66096222e-01 9.66096222e-01 9.66419115e-01 9.66419115e-01\n",
      " 9.67064902e-01 9.67064902e-01 9.67387795e-01 9.67387795e-01\n",
      " 9.67710688e-01 9.67710688e-01 9.69648046e-01 9.69648046e-01\n",
      " 9.69970940e-01 9.69970940e-01 9.70293833e-01 9.70293833e-01\n",
      " 9.70616726e-01 9.70616726e-01 9.71262512e-01 9.71262512e-01\n",
      " 9.71585405e-01 9.71585405e-01 9.71908298e-01 9.71908298e-01\n",
      " 9.72554085e-01 9.72554085e-01 9.72876978e-01 9.72876978e-01\n",
      " 9.73199871e-01 9.73199871e-01 9.73522764e-01 9.73522764e-01\n",
      " 9.73845657e-01 9.73845657e-01 9.74168550e-01 9.74168550e-01\n",
      " 9.75137230e-01 9.75137230e-01 9.75460123e-01 9.75460123e-01\n",
      " 9.76105909e-01 9.76105909e-01 9.77074588e-01 9.77074588e-01\n",
      " 9.77397481e-01 9.77397481e-01 9.78043268e-01 9.78043268e-01\n",
      " 9.78366161e-01 9.78366161e-01 9.78689054e-01 9.78689054e-01\n",
      " 9.79011947e-01 9.79011947e-01 9.79334840e-01 9.79334840e-01\n",
      " 9.79657733e-01 9.79657733e-01 9.79980626e-01 9.79980626e-01\n",
      " 9.80303520e-01 9.80303520e-01 9.81272199e-01 9.81272199e-01\n",
      " 9.81595092e-01 9.81595092e-01 9.82886665e-01 9.82886665e-01\n",
      " 9.83209558e-01 9.83209558e-01 9.83532451e-01 9.83532451e-01\n",
      " 9.83855344e-01 9.83855344e-01 9.84178237e-01 9.84178237e-01\n",
      " 9.84501130e-01 9.84501130e-01 9.84824023e-01 9.84824023e-01\n",
      " 9.85146916e-01 9.85146916e-01 9.86115596e-01 9.86115596e-01\n",
      " 9.86438489e-01 9.86438489e-01 9.86761382e-01 9.86761382e-01\n",
      " 9.87084275e-01 9.87084275e-01 9.87407168e-01 9.87407168e-01\n",
      " 9.87730061e-01 9.87730061e-01 9.88052954e-01 9.88052954e-01\n",
      " 9.88375848e-01 9.88375848e-01 9.88698741e-01 9.88698741e-01\n",
      " 9.89021634e-01 9.89021634e-01 9.89344527e-01 9.89344527e-01\n",
      " 9.89990313e-01 9.89990313e-01 9.90313206e-01 9.90313206e-01\n",
      " 9.90958993e-01 9.90958993e-01 9.91281886e-01 9.91281886e-01\n",
      " 9.91604779e-01 9.91604779e-01 9.91927672e-01 9.91927672e-01\n",
      " 9.92250565e-01 9.92250565e-01 9.92896351e-01 9.92896351e-01\n",
      " 9.93219244e-01 9.93219244e-01 9.93542138e-01 9.93542138e-01\n",
      " 9.93865031e-01 9.93865031e-01 9.94187924e-01 9.94187924e-01\n",
      " 9.94510817e-01 9.94510817e-01 9.94833710e-01 9.94833710e-01\n",
      " 9.95156603e-01 9.95156603e-01 9.95479496e-01 9.95479496e-01\n",
      " 9.95802389e-01 9.95802389e-01 9.96125283e-01 9.96125283e-01\n",
      " 9.96448176e-01 9.96448176e-01 9.96771069e-01 9.96771069e-01\n",
      " 9.97093962e-01 9.97093962e-01 9.97739748e-01 9.97739748e-01\n",
      " 9.98062641e-01 9.98062641e-01 9.98385534e-01 9.98385534e-01\n",
      " 9.98708428e-01 9.98708428e-01 9.99031321e-01 9.99031321e-01\n",
      " 9.99354214e-01 9.99354214e-01 9.99677107e-01 9.99677107e-01\n",
      " 1.00000000e+00 1.00000000e+00] [           inf 9.99976039e-01 9.99962330e-01 9.99960780e-01\n",
      " 9.99958754e-01 9.99958515e-01 9.99951124e-01 9.99950409e-01\n",
      " 9.99946713e-01 9.99946356e-01 9.99943495e-01 9.99943256e-01\n",
      " 9.99938011e-01 9.99937057e-01 9.99933362e-01 9.99932528e-01\n",
      " 9.99920368e-01 9.99919415e-01 9.99916673e-01 9.99916196e-01\n",
      " 9.99896765e-01 9.99895573e-01 9.99879718e-01 9.99879241e-01\n",
      " 9.99863625e-01 9.99863505e-01 9.99821961e-01 9.99821484e-01\n",
      " 9.99811947e-01 9.99811471e-01 9.99795854e-01 9.99795020e-01\n",
      " 9.99784887e-01 9.99783337e-01 9.99779642e-01 9.99779165e-01\n",
      " 9.99764621e-01 9.99763787e-01 9.99704182e-01 9.99703467e-01\n",
      " 9.99670029e-01 9.99669671e-01 9.99663949e-01 9.99662995e-01\n",
      " 9.99594390e-01 9.99593914e-01 9.99575675e-01 9.99574602e-01\n",
      " 9.99569118e-01 9.99568760e-01 9.99521375e-01 9.99520779e-01\n",
      " 9.99498129e-01 9.99495625e-01 9.99479115e-01 9.99478757e-01\n",
      " 9.99381065e-01 9.99379277e-01 9.99332011e-01 9.99331772e-01\n",
      " 9.99329567e-01 9.99329448e-01 9.99251902e-01 9.99251187e-01\n",
      " 9.99246836e-01 9.99244571e-01 9.99244332e-01 9.99242067e-01\n",
      " 9.99175847e-01 9.99172866e-01 9.99168396e-01 9.99166727e-01\n",
      " 9.99056876e-01 9.99054968e-01 9.98810768e-01 9.98810172e-01\n",
      " 9.98720825e-01 9.98715162e-01 9.98623610e-01 9.98615861e-01\n",
      " 9.98465896e-01 9.98463154e-01 9.98407185e-01 9.98404443e-01\n",
      " 9.98394787e-01 9.98392642e-01 9.98372614e-01 9.98366535e-01\n",
      " 9.98352528e-01 9.98351336e-01 9.97947752e-01 9.97942507e-01\n",
      " 9.97780263e-01 9.97767568e-01 9.97620642e-01 9.97618735e-01\n",
      " 9.97078419e-01 9.97075319e-01 9.96990800e-01 9.96986926e-01\n",
      " 9.96896982e-01 9.96890962e-01 9.96878982e-01 9.96854782e-01\n",
      " 9.96780276e-01 9.96765137e-01 9.94438410e-01 9.94428992e-01\n",
      " 9.93424296e-01 9.93406534e-01 9.92418647e-01 9.92414534e-01\n",
      " 9.87004578e-01 9.86938596e-01 9.84936059e-01 9.84920919e-01\n",
      " 9.83366191e-01 9.83352900e-01 9.82010901e-01 9.82007980e-01\n",
      " 9.79808509e-01 9.79730785e-01 9.79552686e-01 9.79441047e-01\n",
      " 9.67834532e-01 9.67793465e-01 9.67170238e-01 9.67070997e-01\n",
      " 9.66064632e-01 9.65927303e-01 9.61750269e-01 9.61729765e-01\n",
      " 9.60211992e-01 9.60159898e-01 9.59602475e-01 9.59468603e-01\n",
      " 9.57246423e-01 9.57209647e-01 9.56146836e-01 9.55877602e-01\n",
      " 9.54146743e-01 9.53939378e-01 9.52682793e-01 9.52520311e-01\n",
      " 9.51819599e-01 9.51693296e-01 9.47281122e-01 9.47103858e-01\n",
      " 9.43090737e-01 9.42718625e-01 9.39013839e-01 9.38841164e-01\n",
      " 9.34009671e-01 9.33412731e-01 9.31018591e-01 9.30780292e-01\n",
      " 9.30128634e-01 9.29938197e-01 9.29439485e-01 9.28433776e-01\n",
      " 9.20482457e-01 9.20217514e-01 9.14190471e-01 9.13899422e-01\n",
      " 9.09059644e-01 9.07853961e-01 9.05019522e-01 9.04971123e-01\n",
      " 9.04575467e-01 9.04571176e-01 8.96282554e-01 8.94648969e-01\n",
      " 8.93557727e-01 8.93213153e-01 8.92641306e-01 8.92497420e-01\n",
      " 8.92484486e-01 8.91866565e-01 8.88299584e-01 8.88099909e-01\n",
      " 8.83635938e-01 8.82827103e-01 8.80753100e-01 8.80615652e-01\n",
      " 8.79805446e-01 8.79775643e-01 8.76477659e-01 8.76316249e-01\n",
      " 8.69659245e-01 8.69354427e-01 8.63218844e-01 8.62470508e-01\n",
      " 8.62419605e-01 8.62120032e-01 8.58287454e-01 8.57301414e-01\n",
      " 8.57041061e-01 8.56529891e-01 8.54316652e-01 8.53961289e-01\n",
      " 8.51660550e-01 8.51408243e-01 8.44851494e-01 8.44653010e-01\n",
      " 8.41690540e-01 8.41074228e-01 8.39782774e-01 8.38716567e-01\n",
      " 8.38700771e-01 8.37112427e-01 8.34375441e-01 8.34044218e-01\n",
      " 8.28565061e-01 8.28446865e-01 8.27398002e-01 8.26386392e-01\n",
      " 8.23636472e-01 8.23555410e-01 8.18210721e-01 8.17986071e-01\n",
      " 8.17377448e-01 8.17001224e-01 8.13665032e-01 8.12469125e-01\n",
      " 8.11913848e-01 8.10367405e-01 8.10039759e-01 8.09031904e-01\n",
      " 8.04159343e-01 8.03663850e-01 8.03349972e-01 8.01673353e-01\n",
      " 7.91036785e-01 7.90080369e-01 7.86323607e-01 7.85448730e-01\n",
      " 7.72635341e-01 7.72206247e-01 7.71707416e-01 7.71542072e-01\n",
      " 7.65936315e-01 7.65932560e-01 7.65619159e-01 7.63565481e-01\n",
      " 7.43699729e-01 7.43296087e-01 7.39461601e-01 7.39398777e-01\n",
      " 7.38808215e-01 7.36680984e-01 7.34769523e-01 7.34675884e-01\n",
      " 7.29275048e-01 7.28260279e-01 7.27985442e-01 7.26451933e-01\n",
      " 7.20139861e-01 7.19156742e-01 7.15097547e-01 7.14729726e-01\n",
      " 7.12400794e-01 7.12067366e-01 7.03495324e-01 7.03106821e-01\n",
      " 6.98170602e-01 6.97668314e-01 6.97010219e-01 6.96912766e-01\n",
      " 6.90587580e-01 6.89663172e-01 6.84697032e-01 6.83741391e-01\n",
      " 6.82766199e-01 6.79940939e-01 6.72159791e-01 6.68539524e-01\n",
      " 6.67961180e-01 6.67888761e-01 6.62903965e-01 6.56585157e-01\n",
      " 6.51757896e-01 6.51162744e-01 6.42720699e-01 6.42638385e-01\n",
      " 6.41377449e-01 6.40661478e-01 6.36628687e-01 6.35675013e-01\n",
      " 6.35509670e-01 6.35446668e-01 6.33464217e-01 6.30876005e-01\n",
      " 6.30748570e-01 6.29456818e-01 6.28129721e-01 6.27536118e-01\n",
      " 6.25801504e-01 6.25531554e-01 6.25161648e-01 6.24082088e-01\n",
      " 6.21610045e-01 6.17493212e-01 6.12233400e-01 6.10113800e-01\n",
      " 6.06007040e-01 6.05111063e-01 6.04346812e-01 6.03411913e-01\n",
      " 6.02534413e-01 5.95042944e-01 5.94241202e-01 5.91028988e-01\n",
      " 5.90764523e-01 5.83953083e-01 5.83828330e-01 5.83450794e-01\n",
      " 5.78126967e-01 5.78119278e-01 5.73234618e-01 5.72794557e-01\n",
      " 5.72205544e-01 5.63388348e-01 5.55011332e-01 5.51147819e-01\n",
      " 5.49463689e-01 5.48315763e-01 5.45378089e-01 5.40023267e-01\n",
      " 5.37885070e-01 5.37257135e-01 5.37236869e-01 5.37026465e-01\n",
      " 5.36049724e-01 5.35131574e-01 5.34733534e-01 5.33589602e-01\n",
      " 5.31984329e-01 5.31655967e-01 5.28622627e-01 5.26336908e-01\n",
      " 5.26293099e-01 5.26136458e-01 5.21701694e-01 5.17185867e-01\n",
      " 5.13538063e-01 5.13515234e-01 5.04793882e-01 4.99806374e-01\n",
      " 4.97407079e-01 4.95887071e-01 4.94520634e-01 4.92365718e-01\n",
      " 4.90684688e-01 4.86698449e-01 4.86283660e-01 4.85583872e-01\n",
      " 4.84539986e-01 4.79413629e-01 4.78557408e-01 4.76266146e-01\n",
      " 4.69777554e-01 4.68866557e-01 4.68349606e-01 4.67112899e-01\n",
      " 4.66782898e-01 4.62643892e-01 4.62145120e-01 4.60944444e-01\n",
      " 4.57577139e-01 4.53244239e-01 4.51946169e-01 4.46559131e-01\n",
      " 4.44431543e-01 4.40874457e-01 4.38492239e-01 4.38037068e-01\n",
      " 4.35846478e-01 4.33320761e-01 4.29910243e-01 4.29871023e-01\n",
      " 4.28312838e-01 4.22903359e-01 4.22626823e-01 4.18465495e-01\n",
      " 4.17649120e-01 4.17024225e-01 4.14583474e-01 4.14390385e-01\n",
      " 4.11947131e-01 4.10083920e-01 4.09997374e-01 4.02366936e-01\n",
      " 4.01493520e-01 3.96536589e-01 3.90712678e-01 3.83430988e-01\n",
      " 3.82352799e-01 3.80263627e-01 3.77675563e-01 3.77532482e-01\n",
      " 3.76649827e-01 3.75146180e-01 3.74288857e-01 3.72459143e-01\n",
      " 3.70961010e-01 3.69046867e-01 3.68951082e-01 3.65370929e-01\n",
      " 3.59822959e-01 3.57127488e-01 3.55936348e-01 3.54759991e-01\n",
      " 3.52085471e-01 3.49509656e-01 3.40957224e-01 3.38300794e-01\n",
      " 3.36441904e-01 3.36350858e-01 3.35344225e-01 3.34793568e-01\n",
      " 3.33387405e-01 3.32811594e-01 3.32264692e-01 3.29446375e-01\n",
      " 3.28764528e-01 3.20045829e-01 3.19410920e-01 3.16984862e-01\n",
      " 3.14798206e-01 3.14554393e-01 3.13914686e-01 3.11051488e-01\n",
      " 3.10797721e-01 3.09920669e-01 3.09845179e-01 3.09686571e-01\n",
      " 3.08573067e-01 3.04438621e-01 3.00911158e-01 3.00084710e-01\n",
      " 2.99067736e-01 2.89647549e-01 2.88035899e-01 2.87641406e-01\n",
      " 2.87563175e-01 2.85585523e-01 2.82375276e-01 2.81886369e-01\n",
      " 2.81777471e-01 2.79370189e-01 2.78144181e-01 2.67216116e-01\n",
      " 2.65889734e-01 2.62028813e-01 2.61966377e-01 2.57808924e-01\n",
      " 2.57229447e-01 2.46380195e-01 2.45910466e-01 2.45466515e-01\n",
      " 2.44633809e-01 2.43704870e-01 2.41586834e-01 2.40785435e-01\n",
      " 2.40689591e-01 2.39800081e-01 2.37971559e-01 2.33305797e-01\n",
      " 2.32524037e-01 2.27678731e-01 2.24537894e-01 2.24226519e-01\n",
      " 2.23386824e-01 2.13618472e-01 2.12743044e-01 2.10495830e-01\n",
      " 2.10407272e-01 2.01929152e-01 2.00697795e-01 1.97120115e-01\n",
      " 1.96852759e-01 1.93241179e-01 1.92065418e-01 1.80969581e-01\n",
      " 1.79988235e-01 1.78700104e-01 1.76336855e-01 1.75291359e-01\n",
      " 1.74981833e-01 1.72668025e-01 1.71268195e-01 1.70656219e-01\n",
      " 1.70590162e-01 1.70575008e-01 1.70017883e-01 1.69140622e-01\n",
      " 1.69052854e-01 1.66732728e-01 1.66486800e-01 1.65514231e-01\n",
      " 1.64882645e-01 1.64069355e-01 1.63295522e-01 1.62730291e-01\n",
      " 1.62681133e-01 1.62247866e-01 1.62238911e-01 1.57479510e-01\n",
      " 1.56915247e-01 1.48148447e-01 1.47964358e-01 1.47752732e-01\n",
      " 1.47746429e-01 1.39740363e-01 1.39237091e-01 1.39223337e-01\n",
      " 1.39009699e-01 1.38722062e-01 1.38006732e-01 1.30383193e-01\n",
      " 1.30328298e-01 1.29660949e-01 1.28836393e-01 1.26973704e-01\n",
      " 1.26911581e-01 1.25882924e-01 1.25790223e-01 1.25296921e-01\n",
      " 1.25277877e-01 1.21179596e-01 1.21086121e-01 1.19274639e-01\n",
      " 1.18912056e-01 1.16141140e-01 1.16079360e-01 1.12252228e-01\n",
      " 1.12163447e-01 1.07498176e-01 1.07184179e-01 1.01214655e-01\n",
      " 1.01044454e-01 9.65679213e-02 9.59142372e-02 9.51130241e-02\n",
      " 9.47064012e-02 9.37612280e-02 9.34653506e-02 9.26084891e-02\n",
      " 9.22763348e-02 9.15239230e-02 9.11338702e-02 8.88852626e-02\n",
      " 8.83104205e-02 8.34228992e-02 8.30698013e-02 8.29457492e-02\n",
      " 8.29392895e-02 7.91247189e-02 7.89415389e-02 6.44498616e-02\n",
      " 6.40716106e-02 6.00375496e-02 5.98231852e-02 1.13609750e-02\n",
      " 1.10970363e-02 2.95059202e-04]\n"
     ]
    }
   ],
   "source": [
    "print(precision, recall, thresholds)"
   ]
  },
  {
   "cell_type": "code",
   "execution_count": 79,
   "id": "cde4fc8e-d9b3-40ab-98c6-c512b51ce436",
   "metadata": {
    "tags": []
   },
   "outputs": [],
   "source": [
    "def evaluate_model_best_threshold(model, X_test, y_test, precision, recall, thresholds):\n",
    "    \n",
    "    # Find the best threshold   \n",
    "    min_diff = float('inf')\n",
    "    best_threshold = 0\n",
    "\n",
    "    for p, r, t in zip(precision, recall, thresholds):\n",
    "        if abs(p - 0.8) < 0.02 and abs(r - 0.8) < 0.02:\n",
    "            diff = abs(p - 0.8) + abs(r - 0.8)\n",
    "            if diff < min_diff:\n",
    "                min_diff = diff\n",
    "                best_threshold = t\n",
    "\n",
    "    print(f'best threshold: {best_threshold}')\n",
    "    \n",
    "    # model evaluation\n",
    "    model.eval()\n",
    "    with torch.no_grad():\n",
    "        y_test_list = []\n",
    "        y_pred_list = [] \n",
    "        for seq, labels in zip(X_test, y_test):\n",
    "            seq, labels = seq.to(device).float(), labels.to(device).float()\n",
    "            y_pred = model(seq.unsqueeze(0))\n",
    "            y_pred = (y_pred > best_threshold).float()\n",
    "            \n",
    "            y_test_list.append(labels.squeeze().tolist())\n",
    "            y_pred_list.append(y_pred.squeeze().tolist())\n",
    "  \n",
    "\n",
    "    target_names = ['Non-Active', 'Active']\n",
    "    print(classification_report(y_test_list, y_pred_list, target_names=target_names))"
   ]
  },
  {
   "cell_type": "code",
   "execution_count": 104,
   "id": "1463c702-b4b1-49b7-b750-78f95e2bc420",
   "metadata": {
    "tags": []
   },
   "outputs": [
    {
     "name": "stdout",
     "output_type": "stream",
     "text": [
      "best threshold: 0\n",
      "              precision    recall  f1-score   support\n",
      "\n",
      "  Non-Active       0.80      0.76      0.78       739\n",
      "      Active       0.94      0.95      0.95      3097\n",
      "\n",
      "    accuracy                           0.92      3836\n",
      "   macro avg       0.87      0.86      0.86      3836\n",
      "weighted avg       0.91      0.92      0.92      3836\n",
      "\n"
     ]
    }
   ],
   "source": [
    "# threshold: 0, weight decay: 0.01, batch size: 16\n",
    "evaluate_model_best_threshold(best_model, X_test, y_test, precision, recall, thresholds)"
   ]
  },
  {
   "cell_type": "code",
   "execution_count": 106,
   "id": "57bb4840-8da0-4dee-80cb-12e5e88b225d",
   "metadata": {
    "tags": []
   },
   "outputs": [
    {
     "name": "stdout",
     "output_type": "stream",
     "text": [
      "              precision    recall  f1-score   support\n",
      "\n",
      "  Non-Active       0.78      0.76      0.77       739\n",
      "      Active       0.94      0.95      0.95      3097\n",
      "\n",
      "    accuracy                           0.91      3836\n",
      "   macro avg       0.86      0.85      0.86      3836\n",
      "weighted avg       0.91      0.91      0.91      3836\n",
      "\n"
     ]
    }
   ],
   "source": [
    "# threshold: 0.01, weight decay: 0.01, batch size: 16\n",
    "model.eval()\n",
    "with torch.no_grad():\n",
    "    y_test_list = []\n",
    "    y_pred_list = [] \n",
    "    for seq, labels in zip(X_test, y_test):\n",
    "        seq, labels = seq.to(device).float(), labels.to(device).float()\n",
    "        y_pred = model(seq.unsqueeze(0))\n",
    "        y_pred = (y_pred > 0.05).float()\n",
    "\n",
    "        y_test_list.append(labels.squeeze().tolist())\n",
    "        y_pred_list.append(y_pred.squeeze().tolist())\n",
    "\n",
    "\n",
    "target_names = ['Non-Active', 'Active']\n",
    "print(classification_report(y_test_list, y_pred_list, target_names=target_names))"
   ]
  },
  {
   "cell_type": "markdown",
   "id": "85610dc3-5a2f-4342-a1d1-23db86f2e67b",
   "metadata": {
    "tags": []
   },
   "source": [
    "#### Use 2024/01-03 data, weight decay: 0.01"
   ]
  },
  {
   "cell_type": "code",
   "execution_count": 82,
   "id": "f705a14d-e53d-481e-b790-9dbf9d2dbe50",
   "metadata": {
    "tags": []
   },
   "outputs": [
    {
     "name": "stderr",
     "output_type": "stream",
     "text": [
      "  7%|▋         | 7/100 [00:43<09:38,  6.22s/it]"
     ]
    },
    {
     "name": "stdout",
     "output_type": "stream",
     "text": [
      "Epoch 2520, Train Loss: 0.06369150, Val Loss: 0.21719678\n"
     ]
    },
    {
     "name": "stderr",
     "output_type": "stream",
     "text": [
      " 17%|█▋        | 17/100 [01:45<08:30,  6.15s/it]"
     ]
    },
    {
     "name": "stdout",
     "output_type": "stream",
     "text": [
      "Epoch 2530, Train Loss: 0.10241541, Val Loss: 0.11040992\n"
     ]
    },
    {
     "name": "stderr",
     "output_type": "stream",
     "text": [
      " 27%|██▋       | 27/100 [02:47<07:30,  6.18s/it]"
     ]
    },
    {
     "name": "stdout",
     "output_type": "stream",
     "text": [
      "Epoch 2540, Train Loss: 0.35127676, Val Loss: 0.21082287\n"
     ]
    },
    {
     "name": "stderr",
     "output_type": "stream",
     "text": [
      " 37%|███▋      | 37/100 [03:48<06:27,  6.15s/it]"
     ]
    },
    {
     "name": "stdout",
     "output_type": "stream",
     "text": [
      "Epoch 2550, Train Loss: 0.07515883, Val Loss: 0.00502228\n"
     ]
    },
    {
     "name": "stderr",
     "output_type": "stream",
     "text": [
      " 47%|████▋     | 47/100 [04:50<05:29,  6.21s/it]"
     ]
    },
    {
     "name": "stdout",
     "output_type": "stream",
     "text": [
      "Epoch 2560, Train Loss: 0.25553757, Val Loss: 0.00849541\n"
     ]
    },
    {
     "name": "stderr",
     "output_type": "stream",
     "text": [
      " 57%|█████▋    | 57/100 [05:52<04:27,  6.22s/it]"
     ]
    },
    {
     "name": "stdout",
     "output_type": "stream",
     "text": [
      "Epoch 2570, Train Loss: 0.44831464, Val Loss: 0.03507599\n"
     ]
    },
    {
     "name": "stderr",
     "output_type": "stream",
     "text": [
      " 67%|██████▋   | 67/100 [06:54<03:23,  6.17s/it]"
     ]
    },
    {
     "name": "stdout",
     "output_type": "stream",
     "text": [
      "Epoch 2580, Train Loss: 0.00594244, Val Loss: 0.01984359\n"
     ]
    },
    {
     "name": "stderr",
     "output_type": "stream",
     "text": [
      " 77%|███████▋  | 77/100 [07:56<02:21,  6.14s/it]"
     ]
    },
    {
     "name": "stdout",
     "output_type": "stream",
     "text": [
      "Epoch 2590, Train Loss: 0.04265221, Val Loss: 0.30816084\n"
     ]
    },
    {
     "name": "stderr",
     "output_type": "stream",
     "text": [
      " 87%|████████▋ | 87/100 [08:58<01:20,  6.19s/it]"
     ]
    },
    {
     "name": "stdout",
     "output_type": "stream",
     "text": [
      "Epoch 2600, Train Loss: 0.12533915, Val Loss: 0.08577123\n"
     ]
    },
    {
     "name": "stderr",
     "output_type": "stream",
     "text": [
      " 97%|█████████▋| 97/100 [09:59<00:18,  6.11s/it]"
     ]
    },
    {
     "name": "stdout",
     "output_type": "stream",
     "text": [
      "Epoch 2610, Train Loss: 0.41095695, Val Loss: 0.57602662\n"
     ]
    },
    {
     "name": "stderr",
     "output_type": "stream",
     "text": [
      "100%|██████████| 100/100 [10:18<00:00,  6.18s/it]\n"
     ]
    }
   ],
   "source": [
    "# weight decay: 0.01, batch size: 16\n",
    "train_model(model, optimizer, dataloader_train, dataloader_val)"
   ]
  },
  {
   "cell_type": "code",
   "execution_count": 84,
   "id": "7904eea3-4387-412f-ade4-dadee3e3dc89",
   "metadata": {
    "tags": []
   },
   "outputs": [
    {
     "name": "stdout",
     "output_type": "stream",
     "text": [
      "              precision    recall  f1-score   support\n",
      "\n",
      "  Non-Active       0.71      0.74      0.73      2080\n",
      "      Active       0.94      0.93      0.94      9091\n",
      "\n",
      "    accuracy                           0.90     11171\n",
      "   macro avg       0.82      0.84      0.83     11171\n",
      "weighted avg       0.90      0.90      0.90     11171\n",
      "\n"
     ]
    }
   ],
   "source": [
    "# weight 1:1, batch size: 16\n",
    "evaluate_model(model, X_test, y_test)"
   ]
  },
  {
   "cell_type": "code",
   "execution_count": 85,
   "id": "40603ef0-9802-43e1-9445-66568d51198c",
   "metadata": {
    "tags": []
   },
   "outputs": [
    {
     "name": "stdout",
     "output_type": "stream",
     "text": [
      "              precision    recall  f1-score   support\n",
      "\n",
      "  Non-Active       0.82      0.87      0.85      7503\n",
      "      Active       0.97      0.96      0.96     32711\n",
      "\n",
      "    accuracy                           0.94     40214\n",
      "   macro avg       0.90      0.91      0.90     40214\n",
      "weighted avg       0.94      0.94      0.94     40214\n",
      "\n"
     ]
    }
   ],
   "source": [
    "# weight 1:1, batch size: 16\n",
    "evaluate_model(model, X_train, y_train)"
   ]
  },
  {
   "cell_type": "code",
   "execution_count": 86,
   "id": "71e4982b-7da5-447b-a623-5416cdaab409",
   "metadata": {
    "tags": []
   },
   "outputs": [
    {
     "name": "stdout",
     "output_type": "stream",
     "text": [
      "              precision    recall  f1-score   support\n",
      "\n",
      "  Non-Active       0.72      0.73      0.73       842\n",
      "      Active       0.94      0.93      0.94      3627\n",
      "\n",
      "    accuracy                           0.90      4469\n",
      "   macro avg       0.83      0.83      0.83      4469\n",
      "weighted avg       0.90      0.90      0.90      4469\n",
      "\n"
     ]
    }
   ],
   "source": [
    "# weight 1:1, batch size: 16\n",
    "evaluate_model(model, X_val, y_val)"
   ]
  },
  {
   "cell_type": "markdown",
   "id": "c84f4f13-1378-4128-a7e3-25c8874b14a0",
   "metadata": {
    "tags": []
   },
   "source": [
    "##### Best Model"
   ]
  },
  {
   "cell_type": "code",
   "execution_count": 94,
   "id": "1ee6471a-bd57-4094-acba-b494a1e518ab",
   "metadata": {
    "tags": []
   },
   "outputs": [
    {
     "data": {
      "text/plain": [
       "<All keys matched successfully>"
      ]
     },
     "execution_count": 94,
     "metadata": {},
     "output_type": "execute_result"
    }
   ],
   "source": [
    "best_model_path = '/home/jupyter/lstm/model/single_step_lstm_best_model_weightdecay001.pt'\n",
    "best_model = LSTMModel(input_size=X_train.shape[2], output_size=y_train.shape[1]).to(device)\n",
    "best_model.load_state_dict(torch.load(best_model_path))"
   ]
  },
  {
   "cell_type": "code",
   "execution_count": 95,
   "id": "0bd33516-f78b-4922-8a17-5f0d2653afa4",
   "metadata": {
    "tags": []
   },
   "outputs": [
    {
     "name": "stdout",
     "output_type": "stream",
     "text": [
      "              precision    recall  f1-score   support\n",
      "\n",
      "  Non-Active       0.70      0.76      0.73      2080\n",
      "      Active       0.94      0.92      0.93      9091\n",
      "\n",
      "    accuracy                           0.89     11171\n",
      "   macro avg       0.82      0.84      0.83     11171\n",
      "weighted avg       0.90      0.89      0.90     11171\n",
      "\n"
     ]
    }
   ],
   "source": [
    "# weight 1:1, batch size: 16\n",
    "evaluate_model(best_model, X_test, y_test)"
   ]
  },
  {
   "cell_type": "code",
   "execution_count": 96,
   "id": "fdd69355-9a09-4251-a790-9424ee17edf7",
   "metadata": {
    "tags": []
   },
   "outputs": [
    {
     "name": "stdout",
     "output_type": "stream",
     "text": [
      "              precision    recall  f1-score   support\n",
      "\n",
      "  Non-Active       0.79      0.87      0.83      7503\n",
      "      Active       0.97      0.95      0.96     32711\n",
      "\n",
      "    accuracy                           0.93     40214\n",
      "   macro avg       0.88      0.91      0.89     40214\n",
      "weighted avg       0.94      0.93      0.93     40214\n",
      "\n"
     ]
    }
   ],
   "source": [
    "# weight 1:1, batch size: 16\n",
    "evaluate_model(best_model, X_train, y_train)"
   ]
  },
  {
   "cell_type": "code",
   "execution_count": 97,
   "id": "0a57c415-b7b0-4c22-9492-2060d719f1aa",
   "metadata": {
    "tags": []
   },
   "outputs": [
    {
     "name": "stdout",
     "output_type": "stream",
     "text": [
      "              precision    recall  f1-score   support\n",
      "\n",
      "  Non-Active       0.71      0.76      0.74       842\n",
      "      Active       0.94      0.93      0.94      3627\n",
      "\n",
      "    accuracy                           0.90      4469\n",
      "   macro avg       0.83      0.84      0.84      4469\n",
      "weighted avg       0.90      0.90      0.90      4469\n",
      "\n"
     ]
    }
   ],
   "source": [
    "# weight 1:1, batch size: 16\n",
    "evaluate_model(best_model, X_val, y_val)"
   ]
  },
  {
   "cell_type": "markdown",
   "id": "c05f4a17-0128-4a47-a438-77845069512d",
   "metadata": {},
   "source": [
    "#### Use 2024/01-03 data, weight decay: 0.1"
   ]
  },
  {
   "cell_type": "code",
   "execution_count": 90,
   "id": "f55cf4d4-a0e6-41e3-825f-3342ba08a802",
   "metadata": {
    "tags": []
   },
   "outputs": [
    {
     "name": "stderr",
     "output_type": "stream",
     "text": [
      "  7%|▋         | 7/100 [00:43<09:36,  6.20s/it]"
     ]
    },
    {
     "name": "stdout",
     "output_type": "stream",
     "text": [
      "Epoch 2520, Train Loss: 0.38507408, Val Loss: 0.35258484\n"
     ]
    },
    {
     "name": "stderr",
     "output_type": "stream",
     "text": [
      " 17%|█▋        | 17/100 [01:45<08:35,  6.21s/it]"
     ]
    },
    {
     "name": "stdout",
     "output_type": "stream",
     "text": [
      "Epoch 2530, Train Loss: 0.16178432, Val Loss: 0.07020643\n"
     ]
    },
    {
     "name": "stderr",
     "output_type": "stream",
     "text": [
      " 27%|██▋       | 27/100 [02:47<07:33,  6.22s/it]"
     ]
    },
    {
     "name": "stdout",
     "output_type": "stream",
     "text": [
      "Epoch 2540, Train Loss: 0.10472612, Val Loss: 0.15723711\n"
     ]
    },
    {
     "name": "stderr",
     "output_type": "stream",
     "text": [
      " 37%|███▋      | 37/100 [03:49<06:29,  6.18s/it]"
     ]
    },
    {
     "name": "stdout",
     "output_type": "stream",
     "text": [
      "Epoch 2550, Train Loss: 0.13172430, Val Loss: 0.09927483\n"
     ]
    },
    {
     "name": "stderr",
     "output_type": "stream",
     "text": [
      " 47%|████▋     | 47/100 [04:50<05:27,  6.18s/it]"
     ]
    },
    {
     "name": "stdout",
     "output_type": "stream",
     "text": [
      "Epoch 2560, Train Loss: 0.35648131, Val Loss: 0.03794042\n"
     ]
    },
    {
     "name": "stderr",
     "output_type": "stream",
     "text": [
      " 57%|█████▋    | 57/100 [05:52<04:27,  6.22s/it]"
     ]
    },
    {
     "name": "stdout",
     "output_type": "stream",
     "text": [
      "Epoch 2570, Train Loss: 0.34235391, Val Loss: 0.00157672\n"
     ]
    },
    {
     "name": "stderr",
     "output_type": "stream",
     "text": [
      " 67%|██████▋   | 67/100 [06:53<03:23,  6.15s/it]"
     ]
    },
    {
     "name": "stdout",
     "output_type": "stream",
     "text": [
      "Epoch 2580, Train Loss: 0.32237405, Val Loss: 0.01007630\n"
     ]
    },
    {
     "name": "stderr",
     "output_type": "stream",
     "text": [
      " 77%|███████▋  | 77/100 [07:55<02:22,  6.20s/it]"
     ]
    },
    {
     "name": "stdout",
     "output_type": "stream",
     "text": [
      "Epoch 2590, Train Loss: 0.35183677, Val Loss: 0.04308204\n"
     ]
    },
    {
     "name": "stderr",
     "output_type": "stream",
     "text": [
      " 87%|████████▋ | 87/100 [08:57<01:19,  6.15s/it]"
     ]
    },
    {
     "name": "stdout",
     "output_type": "stream",
     "text": [
      "Epoch 2600, Train Loss: 0.03423589, Val Loss: 0.26943243\n"
     ]
    },
    {
     "name": "stderr",
     "output_type": "stream",
     "text": [
      " 97%|█████████▋| 97/100 [09:59<00:18,  6.16s/it]"
     ]
    },
    {
     "name": "stdout",
     "output_type": "stream",
     "text": [
      "Epoch 2610, Train Loss: 0.07571718, Val Loss: 0.35867268\n"
     ]
    },
    {
     "name": "stderr",
     "output_type": "stream",
     "text": [
      "100%|██████████| 100/100 [10:17<00:00,  6.17s/it]\n"
     ]
    }
   ],
   "source": [
    "# weight decay: 0.01, batch size: 16\n",
    "train_model(model, optimizer, dataloader_train, dataloader_val)"
   ]
  },
  {
   "cell_type": "code",
   "execution_count": 91,
   "id": "3a3529e9-8ab1-40a1-bc22-de7814776a4e",
   "metadata": {
    "tags": []
   },
   "outputs": [
    {
     "name": "stdout",
     "output_type": "stream",
     "text": [
      "              precision    recall  f1-score   support\n",
      "\n",
      "  Non-Active       0.71      0.78      0.74      2080\n",
      "      Active       0.95      0.93      0.94      9091\n",
      "\n",
      "    accuracy                           0.90     11171\n",
      "   macro avg       0.83      0.85      0.84     11171\n",
      "weighted avg       0.90      0.90      0.90     11171\n",
      "\n"
     ]
    }
   ],
   "source": [
    "# weight 1:1, batch size: 16\n",
    "evaluate_model(model, X_test, y_test)"
   ]
  },
  {
   "cell_type": "code",
   "execution_count": 92,
   "id": "c3345881-bd88-4f71-9f3a-cf0bf0b4faab",
   "metadata": {
    "tags": []
   },
   "outputs": [
    {
     "name": "stdout",
     "output_type": "stream",
     "text": [
      "              precision    recall  f1-score   support\n",
      "\n",
      "  Non-Active       0.74      0.80      0.77      7503\n",
      "      Active       0.95      0.94      0.94     32711\n",
      "\n",
      "    accuracy                           0.91     40214\n",
      "   macro avg       0.85      0.87      0.86     40214\n",
      "weighted avg       0.91      0.91      0.91     40214\n",
      "\n"
     ]
    }
   ],
   "source": [
    "# weight 1:1, batch size: 16\n",
    "evaluate_model(model, X_train, y_train)"
   ]
  },
  {
   "cell_type": "code",
   "execution_count": 93,
   "id": "1eae614b-0eee-43c2-88e2-e23a32123db2",
   "metadata": {
    "tags": []
   },
   "outputs": [
    {
     "name": "stdout",
     "output_type": "stream",
     "text": [
      "              precision    recall  f1-score   support\n",
      "\n",
      "  Non-Active       0.73      0.79      0.76       842\n",
      "      Active       0.95      0.93      0.94      3627\n",
      "\n",
      "    accuracy                           0.91      4469\n",
      "   macro avg       0.84      0.86      0.85      4469\n",
      "weighted avg       0.91      0.91      0.91      4469\n",
      "\n"
     ]
    }
   ],
   "source": [
    "# weight 1:1, batch size: 16\n",
    "evaluate_model(model, X_val, y_val)"
   ]
  },
  {
   "cell_type": "markdown",
   "id": "22f3755a-c00f-44b2-97ff-a22379bb6445",
   "metadata": {},
   "source": [
    "##### Best Model"
   ]
  },
  {
   "cell_type": "code",
   "execution_count": 98,
   "id": "a0638894-2afd-4c41-8e78-1f989f9fa35e",
   "metadata": {
    "tags": []
   },
   "outputs": [
    {
     "data": {
      "text/plain": [
       "<All keys matched successfully>"
      ]
     },
     "execution_count": 98,
     "metadata": {},
     "output_type": "execute_result"
    }
   ],
   "source": [
    "best_model_path = '/home/jupyter/lstm/model/single_step_lstm_best_model_weightdecay01.pt'\n",
    "best_model = LSTMModel(input_size=X_train.shape[2], output_size=y_train.shape[1]).to(device)\n",
    "best_model.load_state_dict(torch.load(best_model_path))"
   ]
  },
  {
   "cell_type": "code",
   "execution_count": 99,
   "id": "18f6a44d-d61e-489e-b370-97a04629f111",
   "metadata": {
    "tags": []
   },
   "outputs": [
    {
     "name": "stdout",
     "output_type": "stream",
     "text": [
      "              precision    recall  f1-score   support\n",
      "\n",
      "  Non-Active       0.70      0.80      0.75      2080\n",
      "      Active       0.95      0.92      0.94      9091\n",
      "\n",
      "    accuracy                           0.90     11171\n",
      "   macro avg       0.83      0.86      0.84     11171\n",
      "weighted avg       0.91      0.90      0.90     11171\n",
      "\n"
     ]
    }
   ],
   "source": [
    "# weight 1:1, batch size: 16\n",
    "evaluate_model(best_model, X_test, y_test)"
   ]
  },
  {
   "cell_type": "code",
   "execution_count": 100,
   "id": "0e867ce1-0e60-4c15-bd7b-346a75a3d3af",
   "metadata": {
    "tags": []
   },
   "outputs": [
    {
     "name": "stdout",
     "output_type": "stream",
     "text": [
      "              precision    recall  f1-score   support\n",
      "\n",
      "  Non-Active       0.73      0.82      0.77      7503\n",
      "      Active       0.96      0.93      0.94     32711\n",
      "\n",
      "    accuracy                           0.91     40214\n",
      "   macro avg       0.84      0.88      0.86     40214\n",
      "weighted avg       0.92      0.91      0.91     40214\n",
      "\n"
     ]
    }
   ],
   "source": [
    "# weight 1:1, batch size: 16\n",
    "evaluate_model(best_model, X_train, y_train)"
   ]
  },
  {
   "cell_type": "code",
   "execution_count": 101,
   "id": "064a1319-9fa5-447d-8d0b-1a0b5ef9b745",
   "metadata": {
    "tags": []
   },
   "outputs": [
    {
     "name": "stdout",
     "output_type": "stream",
     "text": [
      "              precision    recall  f1-score   support\n",
      "\n",
      "  Non-Active       0.72      0.81      0.77       842\n",
      "      Active       0.95      0.93      0.94      3627\n",
      "\n",
      "    accuracy                           0.91      4469\n",
      "   macro avg       0.84      0.87      0.85      4469\n",
      "weighted avg       0.91      0.91      0.91      4469\n",
      "\n"
     ]
    }
   ],
   "source": [
    "# weight 1:1, batch size: 16\n",
    "evaluate_model(best_model, X_val, y_val)"
   ]
  },
  {
   "cell_type": "code",
   "execution_count": 103,
   "id": "d3a2f424-04c7-464c-b6d6-86f6d28acad3",
   "metadata": {
    "tags": []
   },
   "outputs": [
    {
     "name": "stderr",
     "output_type": "stream",
     "text": [
      "/var/tmp/ipykernel_352549/3255369871.py:18: RuntimeWarning: invalid value encountered in divide\n"
     ]
    },
    {
     "data": {
      "image/png": "[encoded data removed]",
      "text/plain": [
       "<Figure size 640x480 with 1 Axes>"
      ]
     },
     "metadata": {},
     "output_type": "display_data"
    }
   ],
   "source": [
    "# weight decay: 0.01, batch size: 16\n",
    "precision, recall, thresholds = draw_roc_curve(best_model, X_test, y_test)"
   ]
  },
  {
   "cell_type": "code",
   "execution_count": 105,
   "id": "8baae97b-2f81-4473-aadb-7ce8730158ef",
   "metadata": {
    "tags": []
   },
   "outputs": [
    {
     "name": "stdout",
     "output_type": "stream",
     "text": [
      "best threshold: 0\n",
      "              precision    recall  f1-score   support\n",
      "\n",
      "  Non-Active       0.75      0.74      0.75      2080\n",
      "      Active       0.94      0.94      0.94      9091\n",
      "\n",
      "    accuracy                           0.91     11171\n",
      "   macro avg       0.85      0.84      0.84     11171\n",
      "weighted avg       0.91      0.91      0.91     11171\n",
      "\n"
     ]
    }
   ],
   "source": [
    "# threshold: 0, weight decay: 0.1, batch size: 16\n",
    "evaluate_model_best_threshold(best_model, X_test, y_test, precision, recall, thresholds)"
   ]
  },
  {
   "cell_type": "code",
   "execution_count": 106,
   "id": "984c82e1-c755-45bf-9d51-79abaab4c974",
   "metadata": {
    "tags": []
   },
   "outputs": [
    {
     "name": "stdout",
     "output_type": "stream",
     "text": [
      "best threshold: 0\n",
      "              precision    recall  f1-score   support\n",
      "\n",
      "  Non-Active       0.78      0.75      0.77      7503\n",
      "      Active       0.94      0.95      0.95     32711\n",
      "\n",
      "    accuracy                           0.91     40214\n",
      "   macro avg       0.86      0.85      0.86     40214\n",
      "weighted avg       0.91      0.91      0.91     40214\n",
      "\n"
     ]
    }
   ],
   "source": [
    "evaluate_model_best_threshold(best_model, X_train, y_train, precision, recall, thresholds)"
   ]
  },
  {
   "cell_type": "code",
   "execution_count": 107,
   "id": "c95ea859-fb55-417b-baf4-4ddc7509c806",
   "metadata": {
    "tags": []
   },
   "outputs": [
    {
     "name": "stdout",
     "output_type": "stream",
     "text": [
      "best threshold: 0\n",
      "              precision    recall  f1-score   support\n",
      "\n",
      "  Non-Active       0.76      0.74      0.75       842\n",
      "      Active       0.94      0.95      0.94      3627\n",
      "\n",
      "    accuracy                           0.91      4469\n",
      "   macro avg       0.85      0.84      0.85      4469\n",
      "weighted avg       0.91      0.91      0.91      4469\n",
      "\n"
     ]
    }
   ],
   "source": [
    "evaluate_model_best_threshold(best_model, X_val, y_val, precision, recall, thresholds)"
   ]
  },
  {
   "cell_type": "code",
   "execution_count": 108,
   "id": "f2018e88-ffcb-4b27-9062-954ec2e5c4b9",
   "metadata": {
    "tags": []
   },
   "outputs": [
    {
     "name": "stdout",
     "output_type": "stream",
     "text": [
      "              precision    recall  f1-score   support\n",
      "\n",
      "  Non-Active       0.75      0.75      0.75      2080\n",
      "      Active       0.94      0.94      0.94      9091\n",
      "\n",
      "    accuracy                           0.91     11171\n",
      "   macro avg       0.84      0.85      0.84     11171\n",
      "weighted avg       0.91      0.91      0.91     11171\n",
      "\n"
     ]
    }
   ],
   "source": [
    "# threshold: 0.1, weight decay: 0.1, batch size: 16\n",
    "best_model.eval()\n",
    "with torch.no_grad():\n",
    "    y_test_list = []\n",
    "    y_pred_list = [] \n",
    "    for seq, labels in zip(X_test, y_test):\n",
    "        seq, labels = seq.to(device).float(), labels.to(device).float()\n",
    "        y_pred = best_model(seq.unsqueeze(0))\n",
    "        y_pred = (y_pred > 0.1).float()\n",
    "\n",
    "        y_test_list.append(labels.squeeze().tolist())\n",
    "        y_pred_list.append(y_pred.squeeze().tolist())\n",
    "\n",
    "\n",
    "target_names = ['Non-Active', 'Active']\n",
    "print(classification_report(y_test_list, y_pred_list, target_names=target_names))"
   ]
  },
  {
   "cell_type": "markdown",
   "id": "449654f0-c078-4bf3-ae28-fd57393cbe4d",
   "metadata": {},
   "source": [
    "#### Test 2024/04 data"
   ]
  },
  {
   "cell_type": "code",
   "execution_count": 67,
   "id": "58e63127-e044-4f4a-8da5-65c7b23f8d88",
   "metadata": {
    "tags": []
   },
   "outputs": [
    {
     "data": {
      "text/plain": [
       "<All keys matched successfully>"
      ]
     },
     "execution_count": 67,
     "metadata": {},
     "output_type": "execute_result"
    }
   ],
   "source": [
    "class LSTMModel(nn.Module):\n",
    "    def __init__(self, input_size=1, hidden_size=128, num_layers=2, output_size=1, batch_size=32):\n",
    "        super(LSTMModel, self).__init__()\n",
    "        self.hidden_size = hidden_size\n",
    "        self.num_layers = num_layers\n",
    "        self.batch_size = batch_size\n",
    "        self.lstm = nn.LSTM(input_size, hidden_size, num_layers, batch_first=True)\n",
    "        self.fc = nn.Linear(hidden_size, output_size)\n",
    "\n",
    "    def forward(self, x):\n",
    "        out, _ = self.lstm(x)\n",
    "        predictions = self.fc(out[:, -1, :])\n",
    "        return predictions\n",
    "\n",
    "best_model_path = '/home/jupyter/lstm/model/single_step_lstm_best_model_weightdecay01.pt'\n",
    "best_model = LSTMModel(input_size=X_30d.shape[2], output_size=1).to(device)\n",
    "best_model.load_state_dict(torch.load(best_model_path))"
   ]
  },
  {
   "cell_type": "code",
   "execution_count": 70,
   "id": "d9f52d42-0dd1-42b0-96f2-e481880dc196",
   "metadata": {
    "tags": []
   },
   "outputs": [
    {
     "name": "stdout",
     "output_type": "stream",
     "text": [
      "              precision    recall  f1-score   support\n",
      "\n",
      "  Non-Active       0.71      0.64      0.68      3667\n",
      "      Active       0.93      0.94      0.93     17104\n",
      "\n",
      "    accuracy                           0.89     20771\n",
      "   macro avg       0.82      0.79      0.80     20771\n",
      "weighted avg       0.89      0.89      0.89     20771\n",
      "\n"
     ]
    }
   ],
   "source": [
    "evaluate_model(best_model, X_30d, y_30d)"
   ]
  },
  {
   "cell_type": "code",
   "execution_count": 71,
   "id": "8c382a6e-d795-437a-bc75-f156f8155966",
   "metadata": {
    "tags": []
   },
   "outputs": [
    {
     "name": "stdout",
     "output_type": "stream",
     "text": [
      "              precision    recall  f1-score   support\n",
      "\n",
      "  Non-Active       0.74      0.58      0.65      3667\n",
      "      Active       0.91      0.96      0.94     17104\n",
      "\n",
      "    accuracy                           0.89     20771\n",
      "   macro avg       0.83      0.77      0.79     20771\n",
      "weighted avg       0.88      0.89      0.89     20771\n",
      "\n"
     ]
    }
   ],
   "source": [
    "# threshold: 0.1, weight decay: 0.1, batch size: 16\n",
    "best_model.eval()\n",
    "with torch.no_grad():\n",
    "    y_test_list = []\n",
    "    y_pred_list = [] \n",
    "    for seq, labels in zip(X_30d, y_30d):\n",
    "        seq, labels = seq.to(device).float(), labels.to(device).float()\n",
    "        y_pred = best_model(seq.unsqueeze(0))\n",
    "        y_pred = (y_pred > 0.1).float()\n",
    "\n",
    "        y_test_list.append(labels.squeeze().tolist())\n",
    "        y_pred_list.append(y_pred.squeeze().tolist())\n",
    "\n",
    "\n",
    "target_names = ['Non-Active', 'Active']\n",
    "print(classification_report(y_test_list, y_pred_list, target_names=target_names))"
   ]
  },
  {
   "cell_type": "markdown",
   "id": "4dc481ca-964c-4468-8ada-8661ec1efc46",
   "metadata": {},
   "source": [
    "### Best Model Weight"
   ]
  },
  {
   "cell_type": "code",
   "execution_count": 60,
   "id": "b5f72fe4-3f9e-4b9d-bf51-b1b94f778dbd",
   "metadata": {
    "tags": []
   },
   "outputs": [],
   "source": [
    "device = torch.device('cuda' if torch.cuda.is_available() else 'cpu')"
   ]
  },
  {
   "cell_type": "code",
   "execution_count": 61,
   "id": "88d98b8d-97f2-4e1a-b2a1-8dfa300cd359",
   "metadata": {
    "tags": []
   },
   "outputs": [],
   "source": [
    "batch_size = 16\n",
    "\n",
    "dataset_train = TensorDataset(X_train, y_train)\n",
    "dataloader_train = DataLoader(dataset_train, batch_size=batch_size, shuffle=True)\n",
    "\n",
    "dataset_val = TensorDataset(X_val, y_val)\n",
    "dataloader_val = DataLoader(dataset_val, batch_size=batch_size, shuffle=True)\n",
    "\n",
    "dataset_test = TensorDataset(X_test, y_test)\n",
    "dataloader_test = DataLoader(dataset_test, batch_size=batch_size, shuffle=False)"
   ]
  },
  {
   "cell_type": "code",
   "execution_count": 62,
   "id": "6c4c0839-e79d-4d12-bdca-c9177d2ba6fd",
   "metadata": {
    "tags": []
   },
   "outputs": [],
   "source": [
    "class LSTMModel(nn.Module):\n",
    "    def __init__(self, input_size=1, hidden_size=128, num_layers=2, output_size=1, batch_size=32):\n",
    "        super(LSTMModel, self).__init__()\n",
    "        self.hidden_size = hidden_size\n",
    "        self.num_layers = num_layers\n",
    "        self.batch_size = batch_size\n",
    "        self.lstm = nn.LSTM(input_size, hidden_size, num_layers, batch_first=True)\n",
    "        self.fc = nn.Linear(hidden_size, output_size)\n",
    "\n",
    "    def forward(self, x):\n",
    "        out, _ = self.lstm(x)\n",
    "        predictions = self.fc(out[:, -1, :])\n",
    "        return predictions\n",
    "\n",
    "model = LSTMModel(input_size=X_train.shape[2], output_size=y_train.shape[1]).to(device)\n",
    "\n",
    "loss_function = nn.BCEWithLogitsLoss()\n",
    "optimizer = optim.AdamW(model.parameters(), lr=0.0001, weight_decay=0.1) # lr rate decrease from 0.001 to 0.0001"
   ]
  },
  {
   "cell_type": "code",
   "execution_count": 43,
   "id": "36975957-2124-4ca8-b3ab-7a5f774d18b5",
   "metadata": {
    "tags": []
   },
   "outputs": [],
   "source": [
    "def train_model(model, optimizer, dataloader_train, dataloader_val, epochs=200):\n",
    "    \n",
    "    best_val_loss = float('inf')\n",
    "    \n",
    "    train_losses = []\n",
    "    val_losses = []\n",
    "    \n",
    "    for epoch in tqdm.tqdm(range(epochs)):\n",
    "        model.train()\n",
    "        for batch in dataloader_train:\n",
    "            epoch += 1\n",
    "            seqs, labels = batch\n",
    "            seqs, labels = seqs.to(device).float(), labels.to(device).float()\n",
    "            optimizer.zero_grad()\n",
    "\n",
    "            y_pred = model(seqs)\n",
    "            labels = labels\n",
    "\n",
    "            loss = loss_function(y_pred, labels)\n",
    "            weights = torch.where(labels == 1, 1.0, 1.0).to(y_pred.device)\n",
    "            weighted_loss = (loss * weights).mean()\n",
    "            weighted_loss.backward()\n",
    "            optimizer.step()\n",
    "        \n",
    "        train_losses.append(weighted_loss.item())\n",
    "        \n",
    "        \n",
    "        model.eval()\n",
    "        with torch.no_grad():\n",
    "            for batch in dataloader_val:\n",
    "                seqs, labels = batch\n",
    "                seqs, labels = seqs.to(device).float(), labels.to(device).float()\n",
    "                \n",
    "                val_pred = model(seqs)\n",
    "                labels = labels\n",
    "                \n",
    "                val_loss = loss_function(val_pred, labels)\n",
    "                val_weights = torch.where(labels == 1, 1.0, 1.0).to(val_pred.device)\n",
    "                weighted_val_loss = (val_loss * val_weights).mean()\n",
    "            val_losses.append(weighted_val_loss.item())\n",
    "        \n",
    "        if epoch % 10 == 0:\n",
    "            print(f'Epoch {epoch:3}, Train Loss: {weighted_loss.item():10.8f}, Val Loss: {weighted_val_loss.item():10.8f}')\n",
    "        \n",
    "        \n",
    "        # best model weight\n",
    "        if val_loss < best_val_loss:\n",
    "            best_val_loss = val_loss\n",
    "            torch.save(model.state_dict(), f'/home/jupyter/lstm/model/single_step_lstm_best_model_weightdecay01.pt')"
   ]
  },
  {
   "cell_type": "code",
   "execution_count": 44,
   "id": "3d983416-b65e-4e7b-97be-4d4799164435",
   "metadata": {
    "tags": []
   },
   "outputs": [
    {
     "name": "stderr",
     "output_type": "stream",
     "text": [
      "  4%|▍         | 8/200 [00:18<07:01,  2.20s/it]"
     ]
    },
    {
     "name": "stdout",
     "output_type": "stream",
     "text": [
      "Epoch 870, Train Loss: 0.03038145, Val Loss: 0.15959001\n"
     ]
    },
    {
     "name": "stderr",
     "output_type": "stream",
     "text": [
      "  9%|▉         | 18/200 [00:40<06:38,  2.19s/it]"
     ]
    },
    {
     "name": "stdout",
     "output_type": "stream",
     "text": [
      "Epoch 880, Train Loss: 0.22720101, Val Loss: 0.13562319\n"
     ]
    },
    {
     "name": "stderr",
     "output_type": "stream",
     "text": [
      " 14%|█▍        | 28/200 [01:01<06:11,  2.16s/it]"
     ]
    },
    {
     "name": "stdout",
     "output_type": "stream",
     "text": [
      "Epoch 890, Train Loss: 0.17586818, Val Loss: 0.69619459\n"
     ]
    },
    {
     "name": "stderr",
     "output_type": "stream",
     "text": [
      " 19%|█▉        | 38/200 [01:23<05:52,  2.17s/it]"
     ]
    },
    {
     "name": "stdout",
     "output_type": "stream",
     "text": [
      "Epoch 900, Train Loss: 0.19169669, Val Loss: 0.20014367\n"
     ]
    },
    {
     "name": "stderr",
     "output_type": "stream",
     "text": [
      " 24%|██▍       | 48/200 [01:45<05:29,  2.17s/it]"
     ]
    },
    {
     "name": "stdout",
     "output_type": "stream",
     "text": [
      "Epoch 910, Train Loss: 0.06677651, Val Loss: 0.40253845\n"
     ]
    },
    {
     "name": "stderr",
     "output_type": "stream",
     "text": [
      " 29%|██▉       | 58/200 [02:07<05:11,  2.20s/it]"
     ]
    },
    {
     "name": "stdout",
     "output_type": "stream",
     "text": [
      "Epoch 920, Train Loss: 0.13925242, Val Loss: 0.07959162\n"
     ]
    },
    {
     "name": "stderr",
     "output_type": "stream",
     "text": [
      " 34%|███▍      | 68/200 [02:28<04:48,  2.19s/it]"
     ]
    },
    {
     "name": "stdout",
     "output_type": "stream",
     "text": [
      "Epoch 930, Train Loss: 0.14678483, Val Loss: 0.14342360\n"
     ]
    },
    {
     "name": "stderr",
     "output_type": "stream",
     "text": [
      " 39%|███▉      | 78/200 [02:50<04:24,  2.17s/it]"
     ]
    },
    {
     "name": "stdout",
     "output_type": "stream",
     "text": [
      "Epoch 940, Train Loss: 0.39769575, Val Loss: 0.17421110\n"
     ]
    },
    {
     "name": "stderr",
     "output_type": "stream",
     "text": [
      " 44%|████▍     | 88/200 [03:12<04:02,  2.17s/it]"
     ]
    },
    {
     "name": "stdout",
     "output_type": "stream",
     "text": [
      "Epoch 950, Train Loss: 0.03545769, Val Loss: 0.12957881\n"
     ]
    },
    {
     "name": "stderr",
     "output_type": "stream",
     "text": [
      " 49%|████▉     | 98/200 [03:33<03:41,  2.17s/it]"
     ]
    },
    {
     "name": "stdout",
     "output_type": "stream",
     "text": [
      "Epoch 960, Train Loss: 0.25803030, Val Loss: 0.12242822\n"
     ]
    },
    {
     "name": "stderr",
     "output_type": "stream",
     "text": [
      " 54%|█████▍    | 108/200 [03:55<03:21,  2.19s/it]"
     ]
    },
    {
     "name": "stdout",
     "output_type": "stream",
     "text": [
      "Epoch 970, Train Loss: 0.31715864, Val Loss: 0.17230402\n"
     ]
    },
    {
     "name": "stderr",
     "output_type": "stream",
     "text": [
      " 59%|█████▉    | 118/200 [04:17<02:57,  2.17s/it]"
     ]
    },
    {
     "name": "stdout",
     "output_type": "stream",
     "text": [
      "Epoch 980, Train Loss: 0.32386026, Val Loss: 0.18333691\n"
     ]
    },
    {
     "name": "stderr",
     "output_type": "stream",
     "text": [
      " 64%|██████▍   | 128/200 [04:39<02:36,  2.18s/it]"
     ]
    },
    {
     "name": "stdout",
     "output_type": "stream",
     "text": [
      "Epoch 990, Train Loss: 0.42777961, Val Loss: 0.06886286\n"
     ]
    },
    {
     "name": "stderr",
     "output_type": "stream",
     "text": [
      " 69%|██████▉   | 138/200 [05:00<02:13,  2.15s/it]"
     ]
    },
    {
     "name": "stdout",
     "output_type": "stream",
     "text": [
      "Epoch 1000, Train Loss: 0.12190882, Val Loss: 0.36389980\n"
     ]
    },
    {
     "name": "stderr",
     "output_type": "stream",
     "text": [
      " 74%|███████▍  | 148/200 [05:22<01:51,  2.15s/it]"
     ]
    },
    {
     "name": "stdout",
     "output_type": "stream",
     "text": [
      "Epoch 1010, Train Loss: 0.00395266, Val Loss: 0.09976592\n"
     ]
    },
    {
     "name": "stderr",
     "output_type": "stream",
     "text": [
      " 79%|███████▉  | 158/200 [05:44<01:30,  2.16s/it]"
     ]
    },
    {
     "name": "stdout",
     "output_type": "stream",
     "text": [
      "Epoch 1020, Train Loss: 0.11231443, Val Loss: 0.14829111\n"
     ]
    },
    {
     "name": "stderr",
     "output_type": "stream",
     "text": [
      " 84%|████████▍ | 168/200 [06:06<01:09,  2.16s/it]"
     ]
    },
    {
     "name": "stdout",
     "output_type": "stream",
     "text": [
      "Epoch 1030, Train Loss: 0.22834820, Val Loss: 0.81409758\n"
     ]
    },
    {
     "name": "stderr",
     "output_type": "stream",
     "text": [
      " 89%|████████▉ | 178/200 [06:27<00:47,  2.18s/it]"
     ]
    },
    {
     "name": "stdout",
     "output_type": "stream",
     "text": [
      "Epoch 1040, Train Loss: 0.11397294, Val Loss: 0.47181901\n"
     ]
    },
    {
     "name": "stderr",
     "output_type": "stream",
     "text": [
      " 94%|█████████▍| 188/200 [06:49<00:25,  2.15s/it]"
     ]
    },
    {
     "name": "stdout",
     "output_type": "stream",
     "text": [
      "Epoch 1050, Train Loss: 0.19501264, Val Loss: 0.14171481\n"
     ]
    },
    {
     "name": "stderr",
     "output_type": "stream",
     "text": [
      " 99%|█████████▉| 198/200 [07:11<00:04,  2.17s/it]"
     ]
    },
    {
     "name": "stdout",
     "output_type": "stream",
     "text": [
      "Epoch 1060, Train Loss: 0.11663672, Val Loss: 0.15920196\n"
     ]
    },
    {
     "name": "stderr",
     "output_type": "stream",
     "text": [
      "100%|██████████| 200/200 [07:15<00:00,  2.18s/it]\n"
     ]
    }
   ],
   "source": [
    "# weight decay: 0.1, batch size: 16\n",
    "train_model(model, optimizer, dataloader_train, dataloader_val)"
   ]
  },
  {
   "cell_type": "code",
   "execution_count": 63,
   "id": "3c25fe7c-98ed-4726-8de2-736e7e0253c8",
   "metadata": {
    "collapsed": true,
    "jupyter": {
     "outputs_hidden": true
    },
    "tags": []
   },
   "outputs": [
    {
     "ename": "RuntimeError",
     "evalue": "Error(s) in loading state_dict for LSTMModel:\n\tsize mismatch for lstm.weight_ih_l0: copying a param with shape torch.Size([512, 87]) from checkpoint, the shape in current model is torch.Size([512, 86]).",
     "output_type": "error",
     "traceback": [
      "\u001b[0;31m---------------------------------------------------------------------------\u001b[0m",
      "\u001b[0;31mRuntimeError\u001b[0m                              Traceback (most recent call last)",
      "Cell \u001b[0;32mIn[63], line 3\u001b[0m\n\u001b[1;32m      1\u001b[0m best_model_path \u001b[38;5;241m=\u001b[39m \u001b[38;5;124m'\u001b[39m\u001b[38;5;124m/home/jupyter/lstm/model/single_step_lstm_best_model_weightdecay01.pt\u001b[39m\u001b[38;5;124m'\u001b[39m\n\u001b[1;32m      2\u001b[0m best_model \u001b[38;5;241m=\u001b[39m LSTMModel(input_size\u001b[38;5;241m=\u001b[39mX_train\u001b[38;5;241m.\u001b[39mshape[\u001b[38;5;241m2\u001b[39m], output_size\u001b[38;5;241m=\u001b[39my_train\u001b[38;5;241m.\u001b[39mshape[\u001b[38;5;241m1\u001b[39m])\u001b[38;5;241m.\u001b[39mto(device)\n\u001b[0;32m----> 3\u001b[0m \u001b[43mbest_model\u001b[49m\u001b[38;5;241;43m.\u001b[39;49m\u001b[43mload_state_dict\u001b[49m\u001b[43m(\u001b[49m\u001b[43mtorch\u001b[49m\u001b[38;5;241;43m.\u001b[39;49m\u001b[43mload\u001b[49m\u001b[43m(\u001b[49m\u001b[43mbest_model_path\u001b[49m\u001b[43m)\u001b[49m\u001b[43m)\u001b[49m\n",
      "File \u001b[0;32m/opt/conda/lib/python3.10/site-packages/torch/nn/modules/module.py:2153\u001b[0m, in \u001b[0;36mModule.load_state_dict\u001b[0;34m(self, state_dict, strict, assign)\u001b[0m\n\u001b[1;32m   2148\u001b[0m         error_msgs\u001b[38;5;241m.\u001b[39minsert(\n\u001b[1;32m   2149\u001b[0m             \u001b[38;5;241m0\u001b[39m, \u001b[38;5;124m'\u001b[39m\u001b[38;5;124mMissing key(s) in state_dict: \u001b[39m\u001b[38;5;132;01m{}\u001b[39;00m\u001b[38;5;124m. \u001b[39m\u001b[38;5;124m'\u001b[39m\u001b[38;5;241m.\u001b[39mformat(\n\u001b[1;32m   2150\u001b[0m                 \u001b[38;5;124m'\u001b[39m\u001b[38;5;124m, \u001b[39m\u001b[38;5;124m'\u001b[39m\u001b[38;5;241m.\u001b[39mjoin(\u001b[38;5;124mf\u001b[39m\u001b[38;5;124m'\u001b[39m\u001b[38;5;124m\"\u001b[39m\u001b[38;5;132;01m{\u001b[39;00mk\u001b[38;5;132;01m}\u001b[39;00m\u001b[38;5;124m\"\u001b[39m\u001b[38;5;124m'\u001b[39m \u001b[38;5;28;01mfor\u001b[39;00m k \u001b[38;5;129;01min\u001b[39;00m missing_keys)))\n\u001b[1;32m   2152\u001b[0m \u001b[38;5;28;01mif\u001b[39;00m \u001b[38;5;28mlen\u001b[39m(error_msgs) \u001b[38;5;241m>\u001b[39m \u001b[38;5;241m0\u001b[39m:\n\u001b[0;32m-> 2153\u001b[0m     \u001b[38;5;28;01mraise\u001b[39;00m \u001b[38;5;167;01mRuntimeError\u001b[39;00m(\u001b[38;5;124m'\u001b[39m\u001b[38;5;124mError(s) in loading state_dict for \u001b[39m\u001b[38;5;132;01m{}\u001b[39;00m\u001b[38;5;124m:\u001b[39m\u001b[38;5;130;01m\\n\u001b[39;00m\u001b[38;5;130;01m\\t\u001b[39;00m\u001b[38;5;132;01m{}\u001b[39;00m\u001b[38;5;124m'\u001b[39m\u001b[38;5;241m.\u001b[39mformat(\n\u001b[1;32m   2154\u001b[0m                        \u001b[38;5;28mself\u001b[39m\u001b[38;5;241m.\u001b[39m\u001b[38;5;18m__class__\u001b[39m\u001b[38;5;241m.\u001b[39m\u001b[38;5;18m__name__\u001b[39m, \u001b[38;5;124m\"\u001b[39m\u001b[38;5;130;01m\\n\u001b[39;00m\u001b[38;5;130;01m\\t\u001b[39;00m\u001b[38;5;124m\"\u001b[39m\u001b[38;5;241m.\u001b[39mjoin(error_msgs)))\n\u001b[1;32m   2155\u001b[0m \u001b[38;5;28;01mreturn\u001b[39;00m _IncompatibleKeys(missing_keys, unexpected_keys)\n",
      "\u001b[0;31mRuntimeError\u001b[0m: Error(s) in loading state_dict for LSTMModel:\n\tsize mismatch for lstm.weight_ih_l0: copying a param with shape torch.Size([512, 87]) from checkpoint, the shape in current model is torch.Size([512, 86])."
     ]
    }
   ],
   "source": [
    "best_model_path = '/home/jupyter/lstm/model/single_step_lstm_best_model_weightdecay01.pt'\n",
    "best_model = LSTMModel(input_size=X_train.shape[2], output_size=y_train.shape[1]).to(device)\n",
    "best_model.load_state_dict(torch.load(best_model_path))"
   ]
  },
  {
   "cell_type": "code",
   "execution_count": 46,
   "id": "d15c94e3-afa2-4923-a9e1-c58ce10b682a",
   "metadata": {
    "tags": []
   },
   "outputs": [
    {
     "name": "stdout",
     "output_type": "stream",
     "text": [
      "              precision    recall  f1-score   support\n",
      "\n",
      "  Non-Active       0.75      0.83      0.79       739\n",
      "      Active       0.96      0.93      0.95      3097\n",
      "\n",
      "    accuracy                           0.91      3836\n",
      "   macro avg       0.85      0.88      0.87      3836\n",
      "weighted avg       0.92      0.91      0.91      3836\n",
      "\n"
     ]
    }
   ],
   "source": [
    "# weight decay: 0.01, batch size: 16\n",
    "evaluate_model(best_model, X_test, y_test)"
   ]
  },
  {
   "cell_type": "code",
   "execution_count": 47,
   "id": "4f4f1c9c-c7f9-4311-8680-72baf7c74baf",
   "metadata": {
    "tags": []
   },
   "outputs": [
    {
     "name": "stdout",
     "output_type": "stream",
     "text": [
      "              precision    recall  f1-score   support\n",
      "\n",
      "  Non-Active       0.77      0.88      0.82      2688\n",
      "      Active       0.97      0.94      0.95     11118\n",
      "\n",
      "    accuracy                           0.92     13806\n",
      "   macro avg       0.87      0.91      0.89     13806\n",
      "weighted avg       0.93      0.92      0.93     13806\n",
      "\n"
     ]
    }
   ],
   "source": [
    "# weight decay: 0.01, batch size: 16\n",
    "evaluate_model(best_model, X_train, y_train)"
   ]
  },
  {
   "cell_type": "code",
   "execution_count": 48,
   "id": "e04d7efb-6d25-4785-ba64-1f5274d2bf1d",
   "metadata": {
    "tags": []
   },
   "outputs": [
    {
     "name": "stdout",
     "output_type": "stream",
     "text": [
      "              precision    recall  f1-score   support\n",
      "\n",
      "  Non-Active       0.76      0.84      0.80       310\n",
      "      Active       0.96      0.93      0.95      1224\n",
      "\n",
      "    accuracy                           0.91      1534\n",
      "   macro avg       0.86      0.89      0.87      1534\n",
      "weighted avg       0.92      0.91      0.92      1534\n",
      "\n"
     ]
    }
   ],
   "source": [
    "# weight decay: 0.01, batch size: 16\n",
    "evaluate_model(best_model, X_val, y_val)"
   ]
  },
  {
   "cell_type": "code",
   "execution_count": 52,
   "id": "8b431d1f-a161-46ff-8a37-fc51ffa046bb",
   "metadata": {
    "tags": []
   },
   "outputs": [
    {
     "name": "stderr",
     "output_type": "stream",
     "text": [
      "/var/tmp/ipykernel_145236/3255369871.py:18: RuntimeWarning: invalid value encountered in divide\n"
     ]
    },
    {
     "data": {
      "image/png": "[encoded data removed]",
      "text/plain": [
       "<Figure size 640x480 with 1 Axes>"
      ]
     },
     "metadata": {},
     "output_type": "display_data"
    }
   ],
   "source": [
    "# ROC Curve\n",
    "precision, recall, thresholds = draw_roc_curve(best_model, X_test, y_test)"
   ]
  },
  {
   "cell_type": "code",
   "execution_count": 53,
   "id": "ecc350df-0295-4ced-88c1-383ec5332158",
   "metadata": {
    "tags": []
   },
   "outputs": [
    {
     "name": "stdout",
     "output_type": "stream",
     "text": [
      "best threshold: 0\n",
      "              precision    recall  f1-score   support\n",
      "\n",
      "  Non-Active       0.78      0.76      0.77       739\n",
      "      Active       0.94      0.95      0.95      3097\n",
      "\n",
      "    accuracy                           0.91      3836\n",
      "   macro avg       0.86      0.86      0.86      3836\n",
      "weighted avg       0.91      0.91      0.91      3836\n",
      "\n"
     ]
    }
   ],
   "source": [
    "# best threshold\n",
    "evaluate_model_best_threshold(best_model, X_test, y_test, precision, recall, thresholds)"
   ]
  },
  {
   "cell_type": "code",
   "execution_count": 60,
   "id": "cdb5992c-09a2-4576-8696-c7c72c3854fb",
   "metadata": {
    "tags": []
   },
   "outputs": [
    {
     "name": "stdout",
     "output_type": "stream",
     "text": [
      "              precision    recall  f1-score   support\n",
      "\n",
      "  Non-Active       0.78      0.77      0.77       739\n",
      "      Active       0.94      0.95      0.95      3097\n",
      "\n",
      "    accuracy                           0.91      3836\n",
      "   macro avg       0.86      0.86      0.86      3836\n",
      "weighted avg       0.91      0.91      0.91      3836\n",
      "\n"
     ]
    }
   ],
   "source": [
    "# threshold: 0.05, weight decay: 0.1, batch size: 16\n",
    "best_model.eval()\n",
    "with torch.no_grad():\n",
    "    y_test_list = []\n",
    "    y_pred_list = [] \n",
    "    for seq, labels in zip(X_test, y_test):\n",
    "        seq, labels = seq.to(device).float(), labels.to(device).float()\n",
    "        y_pred = best_model(seq.unsqueeze(0))\n",
    "        y_pred = (y_pred > 0.05).float()\n",
    "\n",
    "        y_test_list.append(labels.squeeze().tolist())\n",
    "        y_pred_list.append(y_pred.squeeze().tolist())\n",
    "\n",
    "\n",
    "target_names = ['Non-Active', 'Active']\n",
    "print(classification_report(y_test_list, y_pred_list, target_names=target_names))"
   ]
  },
  {
   "cell_type": "code",
   "execution_count": 48,
   "id": "c3453480-0649-4c0c-9920-f351fd67999b",
   "metadata": {
    "tags": []
   },
   "outputs": [
    {
     "name": "stdout",
     "output_type": "stream",
     "text": [
      "              precision    recall  f1-score   support\n",
      "\n",
      "  Non-Active       0.60      0.88      0.71       571\n",
      "      Active       0.97      0.88      0.92      2796\n",
      "\n",
      "    accuracy                           0.88      3367\n",
      "   macro avg       0.79      0.88      0.82      3367\n",
      "weighted avg       0.91      0.88      0.89      3367\n",
      "\n"
     ]
    }
   ],
   "source": [
    "# threshold: 0.05, weight decay: 0.1, batch size: 16\n",
    "best_model.eval()\n",
    "with torch.no_grad():\n",
    "    y_test_list = []\n",
    "    y_pred_list = [] \n",
    "    for seq, labels in zip(X_test, y_test):\n",
    "        seq, labels = seq.to(device).float(), labels.to(device).float()\n",
    "        y_pred = best_model(seq.unsqueeze(0))\n",
    "        y_pred = (y_pred > 0.05).float()\n",
    "\n",
    "        y_test_list.append(labels.squeeze().tolist())\n",
    "        y_pred_list.append(y_pred.squeeze().tolist())\n",
    "\n",
    "\n",
    "target_names = ['Non-Active', 'Active']\n",
    "print(classification_report(y_test_list, y_pred_list, target_names=target_names))"
   ]
  },
  {
   "cell_type": "code",
   "execution_count": 42,
   "id": "a89bb231-e46a-4880-b613-c7c21f01909e",
   "metadata": {
    "tags": []
   },
   "outputs": [
    {
     "name": "stdout",
     "output_type": "stream",
     "text": [
      "              precision    recall  f1-score   support\n",
      "\n",
      "  Non-Active       0.59      0.88      0.71      2937\n",
      "      Active       0.97      0.87      0.92     13895\n",
      "\n",
      "    accuracy                           0.87     16832\n",
      "   macro avg       0.78      0.88      0.82     16832\n",
      "weighted avg       0.91      0.87      0.88     16832\n",
      "\n"
     ]
    }
   ],
   "source": [
    "## 2024/02\n",
    "# weight decay: 0.01, batch size: 16\n",
    "evaluate_model(best_model, X_30d, y_30d)"
   ]
  },
  {
   "cell_type": "code",
   "execution_count": 43,
   "id": "0bae694d-01f9-40a9-8d02-fa7c1d939b78",
   "metadata": {
    "tags": []
   },
   "outputs": [
    {
     "name": "stdout",
     "output_type": "stream",
     "text": [
      "              precision    recall  f1-score   support\n",
      "\n",
      "  Non-Active       0.65      0.83      0.73      2937\n",
      "      Active       0.96      0.91      0.93     13895\n",
      "\n",
      "    accuracy                           0.89     16832\n",
      "   macro avg       0.81      0.87      0.83     16832\n",
      "weighted avg       0.91      0.89      0.90     16832\n",
      "\n"
     ]
    }
   ],
   "source": [
    "# threshold: 0, weight decay: 0.1, batch size: 16\n",
    "best_model.eval()\n",
    "with torch.no_grad():\n",
    "    y_test_list = []\n",
    "    y_pred_list = [] \n",
    "    for seq, labels in zip(X_30d, y_30d):\n",
    "        seq, labels = seq.to(device).float(), labels.to(device).float()\n",
    "        y_pred = best_model(seq.unsqueeze(0))\n",
    "        y_pred = (y_pred > 0).float()\n",
    "\n",
    "        y_test_list.append(labels.squeeze().tolist())\n",
    "        y_pred_list.append(y_pred.squeeze().tolist())\n",
    "\n",
    "\n",
    "target_names = ['Non-Active', 'Active']\n",
    "print(classification_report(y_test_list, y_pred_list, target_names=target_names))"
   ]
  },
  {
   "cell_type": "markdown",
   "id": "3b81c6e0-9de5-45fa-a6bd-ca7c4fb525b2",
   "metadata": {},
   "source": [
    "### Experiment: Upsampling"
   ]
  },
  {
   "cell_type": "code",
   "execution_count": 132,
   "id": "a75d80af-b706-4f33-8483-029cd7e1c6fb",
   "metadata": {
    "tags": []
   },
   "outputs": [],
   "source": [
    "batch_size = 16\n",
    "\n",
    "dataset_train = TensorDataset(X_train, y_train)\n",
    "dataloader_train = DataLoader(dataset_train, batch_size=batch_size, shuffle=True)\n",
    "\n",
    "dataset_val = TensorDataset(X_val, y_val)\n",
    "dataloader_val = DataLoader(dataset_val, batch_size=batch_size, shuffle=True)"
   ]
  },
  {
   "cell_type": "code",
   "execution_count": 133,
   "id": "a301cdfc-5f37-4dd1-ad4f-66703755c3a7",
   "metadata": {
    "tags": []
   },
   "outputs": [],
   "source": [
    "class LSTMModel(nn.Module):\n",
    "    def __init__(self, input_size=1, hidden_size=128, num_layers=2, output_size=1, batch_size=32):\n",
    "        super(LSTMModel, self).__init__()\n",
    "        self.hidden_size = hidden_size\n",
    "        self.num_layers = num_layers\n",
    "        self.batch_size = batch_size\n",
    "        self.lstm = nn.LSTM(input_size, hidden_size, num_layers, batch_first=True)\n",
    "        self.fc = nn.Linear(hidden_size, output_size)\n",
    "\n",
    "    def forward(self, x):\n",
    "        out, _ = self.lstm(x)\n",
    "        predictions = self.fc(out[:, -1, :])\n",
    "        return predictions\n",
    "\n",
    "model = LSTMModel(input_size=X_train.shape[2], output_size=y_train.shape[1]).to(device)\n",
    "\n",
    "loss_function = nn.BCEWithLogitsLoss()\n",
    "optimizer = optim.Adam(model.parameters(), lr=0.001)"
   ]
  },
  {
   "cell_type": "code",
   "execution_count": 134,
   "id": "f6d0b4b4-79ac-4de9-94ad-9ae3b55c5122",
   "metadata": {
    "tags": []
   },
   "outputs": [],
   "source": [
    "def train_model(model, optimizer, dataloader_train, dataloader_val, epochs=100):\n",
    "    \n",
    "    # patience = 20\n",
    "    best_val_loss = float('inf')\n",
    "    # counter = 0\n",
    "\n",
    "    train_losses = []\n",
    "    val_losses = []\n",
    "    \n",
    "    for epoch in tqdm.tqdm(range(epochs)):\n",
    "        model.train()\n",
    "        for batch in dataloader_train:\n",
    "            epoch += 1\n",
    "            seqs, labels = batch\n",
    "            seqs, labels = seqs.to(device).float(), labels.to(device).float()\n",
    "            optimizer.zero_grad()\n",
    "\n",
    "            y_pred = model(seqs)\n",
    "            labels = labels\n",
    "\n",
    "            loss = loss_function(y_pred, labels)\n",
    "            weights = torch.where(labels == 1, 1.0, 1.0).to(y_pred.device)\n",
    "            weighted_loss = (loss * weights).mean()\n",
    "            weighted_loss.backward()\n",
    "            optimizer.step()\n",
    "        \n",
    "        train_losses.append(weighted_loss.item())\n",
    "        \n",
    "        \n",
    "        model.eval()\n",
    "        with torch.no_grad():\n",
    "            for batch in dataloader_val:\n",
    "                seqs, labels = batch\n",
    "                seqs, labels = seqs.to(device).float(), labels.to(device).float()\n",
    "                \n",
    "                val_pred = model(seqs)\n",
    "                labels = labels\n",
    "                \n",
    "                val_loss = loss_function(val_pred, labels)\n",
    "                val_weights = torch.where(labels == 1, 1.0, 1.0).to(val_pred.device)\n",
    "                weighted_val_loss = (val_loss * val_weights).mean()\n",
    "            val_losses.append(weighted_val_loss.item())\n",
    "        \n",
    "        if epoch % 10 == 0:\n",
    "            print(f'Epoch {epoch:3}, Train Loss: {weighted_loss.item():10.8f}, Val Loss: {weighted_val_loss.item():10.8f}')\n",
    "        \n",
    "        # best model weight\n",
    "        if val_loss < best_val_loss:\n",
    "            best_val_loss = val_loss\n",
    "            torch.save(model.state_dict(), f'/home/jupyter/lstm/model/single_step_lstm_best_model_upsampling.pt')"
   ]
  },
  {
   "cell_type": "code",
   "execution_count": 135,
   "id": "251dd2f3-8609-4fb3-b430-2dcd6aee9755",
   "metadata": {
    "tags": []
   },
   "outputs": [
    {
     "name": "stderr",
     "output_type": "stream",
     "text": [
      "  3%|▎         | 3/100 [00:30<16:17, 10.07s/it]"
     ]
    },
    {
     "name": "stdout",
     "output_type": "stream",
     "text": [
      "Epoch 4090, Train Loss: 0.20398912, Val Loss: 0.06575281\n"
     ]
    },
    {
     "name": "stderr",
     "output_type": "stream",
     "text": [
      " 13%|█▎        | 13/100 [02:09<14:24,  9.94s/it]"
     ]
    },
    {
     "name": "stdout",
     "output_type": "stream",
     "text": [
      "Epoch 4100, Train Loss: 0.16024885, Val Loss: 0.51484662\n"
     ]
    },
    {
     "name": "stderr",
     "output_type": "stream",
     "text": [
      " 23%|██▎       | 23/100 [03:49<12:51, 10.02s/it]"
     ]
    },
    {
     "name": "stdout",
     "output_type": "stream",
     "text": [
      "Epoch 4110, Train Loss: 0.04552924, Val Loss: 0.00713516\n"
     ]
    },
    {
     "name": "stderr",
     "output_type": "stream",
     "text": [
      " 33%|███▎      | 33/100 [05:29<11:08,  9.97s/it]"
     ]
    },
    {
     "name": "stdout",
     "output_type": "stream",
     "text": [
      "Epoch 4120, Train Loss: 0.00131742, Val Loss: 0.01846393\n"
     ]
    },
    {
     "name": "stderr",
     "output_type": "stream",
     "text": [
      " 43%|████▎     | 43/100 [07:09<09:31, 10.02s/it]"
     ]
    },
    {
     "name": "stdout",
     "output_type": "stream",
     "text": [
      "Epoch 4130, Train Loss: 0.00593301, Val Loss: 0.00034072\n"
     ]
    },
    {
     "name": "stderr",
     "output_type": "stream",
     "text": [
      " 53%|█████▎    | 53/100 [08:49<07:50, 10.02s/it]"
     ]
    },
    {
     "name": "stdout",
     "output_type": "stream",
     "text": [
      "Epoch 4140, Train Loss: 0.00652777, Val Loss: 0.00776697\n"
     ]
    },
    {
     "name": "stderr",
     "output_type": "stream",
     "text": [
      " 63%|██████▎   | 63/100 [10:30<06:11, 10.05s/it]"
     ]
    },
    {
     "name": "stdout",
     "output_type": "stream",
     "text": [
      "Epoch 4150, Train Loss: 0.00007352, Val Loss: 1.25873935\n"
     ]
    },
    {
     "name": "stderr",
     "output_type": "stream",
     "text": [
      " 73%|███████▎  | 73/100 [12:10<04:28,  9.95s/it]"
     ]
    },
    {
     "name": "stdout",
     "output_type": "stream",
     "text": [
      "Epoch 4160, Train Loss: 0.00038490, Val Loss: 0.00048685\n"
     ]
    },
    {
     "name": "stderr",
     "output_type": "stream",
     "text": [
      " 83%|████████▎ | 83/100 [13:50<02:49,  9.99s/it]"
     ]
    },
    {
     "name": "stdout",
     "output_type": "stream",
     "text": [
      "Epoch 4170, Train Loss: 0.02712921, Val Loss: 0.00343889\n"
     ]
    },
    {
     "name": "stderr",
     "output_type": "stream",
     "text": [
      " 93%|█████████▎| 93/100 [15:29<01:09,  9.98s/it]"
     ]
    },
    {
     "name": "stdout",
     "output_type": "stream",
     "text": [
      "Epoch 4180, Train Loss: 0.00078315, Val Loss: 0.00270475\n"
     ]
    },
    {
     "name": "stderr",
     "output_type": "stream",
     "text": [
      "100%|██████████| 100/100 [16:40<00:00, 10.01s/it]\n"
     ]
    }
   ],
   "source": [
    "train_model(model, optimizer, dataloader_train, dataloader_val)"
   ]
  },
  {
   "cell_type": "code",
   "execution_count": 136,
   "id": "9c59d12d-7807-4b61-ba0f-21eaf94806c4",
   "metadata": {
    "tags": []
   },
   "outputs": [
    {
     "name": "stdout",
     "output_type": "stream",
     "text": [
      "              precision    recall  f1-score   support\n",
      "\n",
      "  Non-Active       0.66      0.74      0.70      2080\n",
      "      Active       0.94      0.91      0.93      9091\n",
      "\n",
      "    accuracy                           0.88     11171\n",
      "   macro avg       0.80      0.83      0.81     11171\n",
      "weighted avg       0.89      0.88      0.88     11171\n",
      "\n"
     ]
    }
   ],
   "source": [
    "# only upsampling\n",
    "evaluate_model(model, X_test, y_test)"
   ]
  },
  {
   "cell_type": "code",
   "execution_count": 137,
   "id": "c71fc756-0da0-472a-a98a-00460d73bae9",
   "metadata": {
    "tags": []
   },
   "outputs": [
    {
     "name": "stdout",
     "output_type": "stream",
     "text": [
      "              precision    recall  f1-score   support\n",
      "\n",
      "  Non-Active       0.99      1.00      1.00     32752\n",
      "      Active       1.00      0.99      1.00     32656\n",
      "\n",
      "    accuracy                           1.00     65408\n",
      "   macro avg       1.00      1.00      1.00     65408\n",
      "weighted avg       1.00      1.00      1.00     65408\n",
      "\n"
     ]
    }
   ],
   "source": [
    "# only upsampling\n",
    "evaluate_model(model, X_train, y_train)"
   ]
  },
  {
   "cell_type": "code",
   "execution_count": 138,
   "id": "71f72471-c576-4806-819b-9dec7bfbca98",
   "metadata": {
    "tags": []
   },
   "outputs": [
    {
     "name": "stdout",
     "output_type": "stream",
     "text": [
      "              precision    recall  f1-score   support\n",
      "\n",
      "  Non-Active       0.93      0.99      0.96      3586\n",
      "      Active       0.99      0.92      0.96      3682\n",
      "\n",
      "    accuracy                           0.96      7268\n",
      "   macro avg       0.96      0.96      0.96      7268\n",
      "weighted avg       0.96      0.96      0.96      7268\n",
      "\n"
     ]
    }
   ],
   "source": [
    "# only upsampling\n",
    "evaluate_model(model, X_val, y_val)"
   ]
  },
  {
   "cell_type": "code",
   "execution_count": 145,
   "id": "3042cedf-b7f0-4942-8e1c-36262912b039",
   "metadata": {
    "tags": []
   },
   "outputs": [
    {
     "data": {
      "text/plain": [
       "<All keys matched successfully>"
      ]
     },
     "execution_count": 145,
     "metadata": {},
     "output_type": "execute_result"
    }
   ],
   "source": [
    "best_model_path = '/home/jupyter/lstm/model/single_step_lstm_best_model_upsampling.pt'\n",
    "best_model = LSTMModel(input_size=X_train.shape[2], output_size=y_train.shape[1]).to(device)\n",
    "best_model.load_state_dict(torch.load(best_model_path))"
   ]
  },
  {
   "cell_type": "code",
   "execution_count": 146,
   "id": "9719a0f3-adc9-4dee-b802-751fd4ceb3d7",
   "metadata": {
    "tags": []
   },
   "outputs": [
    {
     "name": "stdout",
     "output_type": "stream",
     "text": [
      "              precision    recall  f1-score   support\n",
      "\n",
      "  Non-Active       0.68      0.73      0.70      2080\n",
      "      Active       0.94      0.92      0.93      9091\n",
      "\n",
      "    accuracy                           0.88     11171\n",
      "   macro avg       0.81      0.83      0.82     11171\n",
      "weighted avg       0.89      0.88      0.89     11171\n",
      "\n"
     ]
    }
   ],
   "source": [
    "# only upsampling\n",
    "evaluate_model(best_model, X_test, y_test)"
   ]
  },
  {
   "cell_type": "code",
   "execution_count": 147,
   "id": "08ecb3fc-db72-4c72-8176-01b5c9cf6b69",
   "metadata": {
    "tags": []
   },
   "outputs": [
    {
     "name": "stdout",
     "output_type": "stream",
     "text": [
      "              precision    recall  f1-score   support\n",
      "\n",
      "  Non-Active       1.00      1.00      1.00     32752\n",
      "      Active       1.00      1.00      1.00     32656\n",
      "\n",
      "    accuracy                           1.00     65408\n",
      "   macro avg       1.00      1.00      1.00     65408\n",
      "weighted avg       1.00      1.00      1.00     65408\n",
      "\n"
     ]
    }
   ],
   "source": [
    "# only upsampling\n",
    "evaluate_model(best_model, X_train, y_train)"
   ]
  },
  {
   "cell_type": "code",
   "execution_count": 148,
   "id": "cdf03a85-30dd-4ea1-a1c1-3e2e845a66f3",
   "metadata": {
    "tags": []
   },
   "outputs": [
    {
     "name": "stdout",
     "output_type": "stream",
     "text": [
      "              precision    recall  f1-score   support\n",
      "\n",
      "  Non-Active       0.93      0.99      0.96      3586\n",
      "      Active       0.99      0.93      0.96      3682\n",
      "\n",
      "    accuracy                           0.96      7268\n",
      "   macro avg       0.96      0.96      0.96      7268\n",
      "weighted avg       0.96      0.96      0.96      7268\n",
      "\n"
     ]
    }
   ],
   "source": [
    "# only upsampling\n",
    "evaluate_model(best_model, X_val, y_val)"
   ]
  },
  {
   "cell_type": "code",
   "execution_count": 149,
   "id": "0702c722-af28-429e-9e68-a72807ecbd93",
   "metadata": {
    "tags": []
   },
   "outputs": [
    {
     "name": "stdout",
     "output_type": "stream",
     "text": [
      "              precision    recall  f1-score   support\n",
      "\n",
      "  Non-Active       0.68      0.72      0.70      2080\n",
      "      Active       0.94      0.92      0.93      9091\n",
      "\n",
      "    accuracy                           0.89     11171\n",
      "   macro avg       0.81      0.82      0.82     11171\n",
      "weighted avg       0.89      0.89      0.89     11171\n",
      "\n"
     ]
    }
   ],
   "source": [
    "# threshold: 0.05, weight decay: 0.1, batch size: 16\n",
    "best_model.eval()\n",
    "with torch.no_grad():\n",
    "    y_test_list = []\n",
    "    y_pred_list = [] \n",
    "    for seq, labels in zip(X_test, y_test):\n",
    "        seq, labels = seq.to(device).float(), labels.to(device).float()\n",
    "        y_pred = best_model(seq.unsqueeze(0))\n",
    "        y_pred = (y_pred > 0.05).float()\n",
    "\n",
    "        y_test_list.append(labels.squeeze().tolist())\n",
    "        y_pred_list.append(y_pred.squeeze().tolist())\n",
    "\n",
    "\n",
    "target_names = ['Non-Active', 'Active']\n",
    "print(classification_report(y_test_list, y_pred_list, target_names=target_names))"
   ]
  },
  {
   "cell_type": "markdown",
   "id": "c446d4e6-9dc0-4e89-9f41-87c081612633",
   "metadata": {},
   "source": [
    "#### Add Weight decay: 0.1"
   ]
  },
  {
   "cell_type": "code",
   "execution_count": 139,
   "id": "55638890-c356-48dc-ae96-d5d44afde572",
   "metadata": {
    "tags": []
   },
   "outputs": [],
   "source": [
    "class LSTMModel(nn.Module):\n",
    "    def __init__(self, input_size=1, hidden_size=128, num_layers=2, output_size=1, batch_size=32):\n",
    "        super(LSTMModel, self).__init__()\n",
    "        self.hidden_size = hidden_size\n",
    "        self.num_layers = num_layers\n",
    "        self.batch_size = batch_size\n",
    "        self.lstm = nn.LSTM(input_size, hidden_size, num_layers, batch_first=True)\n",
    "        self.fc = nn.Linear(hidden_size, output_size)\n",
    "\n",
    "    def forward(self, x):\n",
    "        out, _ = self.lstm(x)\n",
    "        predictions = self.fc(out[:, -1, :])\n",
    "        return predictions\n",
    "\n",
    "model = LSTMModel(input_size=X_train.shape[2], output_size=y_train.shape[1]).to(device)\n",
    "\n",
    "loss_function = nn.BCEWithLogitsLoss()\n",
    "optimizer = optim.AdamW(model.parameters(), lr=0.0001, weight_decay=0.1)"
   ]
  },
  {
   "cell_type": "code",
   "execution_count": 140,
   "id": "c8133945-443e-4530-9a56-d1a3c792059a",
   "metadata": {
    "tags": []
   },
   "outputs": [],
   "source": [
    "def train_model(model, optimizer, dataloader_train, dataloader_val, epochs=100):\n",
    "    \n",
    "    # patience = 20\n",
    "    best_val_loss = float('inf')\n",
    "    # counter = 0\n",
    "\n",
    "    train_losses = []\n",
    "    val_losses = []\n",
    "    \n",
    "    for epoch in tqdm.tqdm(range(epochs)):\n",
    "        model.train()\n",
    "        for batch in dataloader_train:\n",
    "            epoch += 1\n",
    "            seqs, labels = batch\n",
    "            seqs, labels = seqs.to(device).float(), labels.to(device).float()\n",
    "            optimizer.zero_grad()\n",
    "\n",
    "            y_pred = model(seqs)\n",
    "            labels = labels\n",
    "\n",
    "            loss = loss_function(y_pred, labels)\n",
    "            weights = torch.where(labels == 1, 1.0, 1.0).to(y_pred.device)\n",
    "            weighted_loss = (loss * weights).mean()\n",
    "            weighted_loss.backward()\n",
    "            optimizer.step()\n",
    "        \n",
    "        train_losses.append(weighted_loss.item())\n",
    "        \n",
    "        \n",
    "        model.eval()\n",
    "        with torch.no_grad():\n",
    "            for batch in dataloader_val:\n",
    "                seqs, labels = batch\n",
    "                seqs, labels = seqs.to(device).float(), labels.to(device).float()\n",
    "                \n",
    "                val_pred = model(seqs)\n",
    "                labels = labels\n",
    "                \n",
    "                val_loss = loss_function(val_pred, labels)\n",
    "                val_weights = torch.where(labels == 1, 1.0, 1.0).to(val_pred.device)\n",
    "                weighted_val_loss = (val_loss * val_weights).mean()\n",
    "            val_losses.append(weighted_val_loss.item())\n",
    "        \n",
    "        if epoch % 10 == 0:\n",
    "            print(f'Epoch {epoch:3}, Train Loss: {weighted_loss.item():10.8f}, Val Loss: {weighted_val_loss.item():10.8f}')\n",
    "\n",
    "        # best model weight\n",
    "        if val_loss < best_val_loss:\n",
    "            best_val_loss = val_loss\n",
    "            torch.save(model.state_dict(), f'/home/jupyter/lstm/model/single_step_lstm_best_model_upsampling_weightdecay01.pt')"
   ]
  },
  {
   "cell_type": "code",
   "execution_count": 141,
   "id": "e844f909-5583-4904-b8f9-01bc3535da5e",
   "metadata": {
    "tags": []
   },
   "outputs": [
    {
     "name": "stderr",
     "output_type": "stream",
     "text": [
      "  3%|▎         | 3/100 [00:29<16:03,  9.94s/it]"
     ]
    },
    {
     "name": "stdout",
     "output_type": "stream",
     "text": [
      "Epoch 4090, Train Loss: 0.33691210, Val Loss: 0.35739571\n"
     ]
    },
    {
     "name": "stderr",
     "output_type": "stream",
     "text": [
      " 13%|█▎        | 13/100 [02:08<14:17,  9.85s/it]"
     ]
    },
    {
     "name": "stdout",
     "output_type": "stream",
     "text": [
      "Epoch 4100, Train Loss: 0.11941333, Val Loss: 0.03405338\n"
     ]
    },
    {
     "name": "stderr",
     "output_type": "stream",
     "text": [
      " 23%|██▎       | 23/100 [03:47<12:40,  9.88s/it]"
     ]
    },
    {
     "name": "stdout",
     "output_type": "stream",
     "text": [
      "Epoch 4110, Train Loss: 0.19300456, Val Loss: 0.03846744\n"
     ]
    },
    {
     "name": "stderr",
     "output_type": "stream",
     "text": [
      " 33%|███▎      | 33/100 [05:26<11:02,  9.89s/it]"
     ]
    },
    {
     "name": "stdout",
     "output_type": "stream",
     "text": [
      "Epoch 4120, Train Loss: 0.24498452, Val Loss: 0.16899209\n"
     ]
    },
    {
     "name": "stderr",
     "output_type": "stream",
     "text": [
      " 43%|████▎     | 43/100 [07:05<09:26,  9.93s/it]"
     ]
    },
    {
     "name": "stdout",
     "output_type": "stream",
     "text": [
      "Epoch 4130, Train Loss: 0.24105355, Val Loss: 0.18300922\n"
     ]
    },
    {
     "name": "stderr",
     "output_type": "stream",
     "text": [
      " 53%|█████▎    | 53/100 [08:44<07:43,  9.86s/it]"
     ]
    },
    {
     "name": "stdout",
     "output_type": "stream",
     "text": [
      "Epoch 4140, Train Loss: 0.18863471, Val Loss: 0.12422143\n"
     ]
    },
    {
     "name": "stderr",
     "output_type": "stream",
     "text": [
      " 63%|██████▎   | 63/100 [10:23<06:03,  9.84s/it]"
     ]
    },
    {
     "name": "stdout",
     "output_type": "stream",
     "text": [
      "Epoch 4150, Train Loss: 0.20336358, Val Loss: 0.12949733\n"
     ]
    },
    {
     "name": "stderr",
     "output_type": "stream",
     "text": [
      " 73%|███████▎  | 73/100 [12:02<04:27,  9.92s/it]"
     ]
    },
    {
     "name": "stdout",
     "output_type": "stream",
     "text": [
      "Epoch 4160, Train Loss: 0.07592870, Val Loss: 0.92232358\n"
     ]
    },
    {
     "name": "stderr",
     "output_type": "stream",
     "text": [
      " 83%|████████▎ | 83/100 [13:41<02:48,  9.90s/it]"
     ]
    },
    {
     "name": "stdout",
     "output_type": "stream",
     "text": [
      "Epoch 4170, Train Loss: 0.37206316, Val Loss: 0.28032440\n"
     ]
    },
    {
     "name": "stderr",
     "output_type": "stream",
     "text": [
      " 93%|█████████▎| 93/100 [15:19<01:09,  9.86s/it]"
     ]
    },
    {
     "name": "stdout",
     "output_type": "stream",
     "text": [
      "Epoch 4180, Train Loss: 0.15825924, Val Loss: 0.13190390\n"
     ]
    },
    {
     "name": "stderr",
     "output_type": "stream",
     "text": [
      "100%|██████████| 100/100 [16:29<00:00,  9.89s/it]\n"
     ]
    }
   ],
   "source": [
    "train_model(model, optimizer, dataloader_train, dataloader_val)"
   ]
  },
  {
   "cell_type": "code",
   "execution_count": 142,
   "id": "aa3aacc4-0849-424f-8842-2297c08dc69a",
   "metadata": {
    "tags": []
   },
   "outputs": [
    {
     "name": "stdout",
     "output_type": "stream",
     "text": [
      "              precision    recall  f1-score   support\n",
      "\n",
      "  Non-Active       0.58      0.89      0.70      2080\n",
      "      Active       0.97      0.85      0.91      9091\n",
      "\n",
      "    accuracy                           0.86     11171\n",
      "   macro avg       0.78      0.87      0.81     11171\n",
      "weighted avg       0.90      0.86      0.87     11171\n",
      "\n"
     ]
    }
   ],
   "source": [
    "evaluate_model(model, X_test, y_test)"
   ]
  },
  {
   "cell_type": "code",
   "execution_count": 143,
   "id": "777e4000-8b84-4102-a14c-5e54b1ce9fd2",
   "metadata": {
    "tags": []
   },
   "outputs": [
    {
     "name": "stdout",
     "output_type": "stream",
     "text": [
      "              precision    recall  f1-score   support\n",
      "\n",
      "  Non-Active       0.89      0.97      0.93     32752\n",
      "      Active       0.97      0.88      0.92     32656\n",
      "\n",
      "    accuracy                           0.92     65408\n",
      "   macro avg       0.93      0.92      0.92     65408\n",
      "weighted avg       0.93      0.92      0.92     65408\n",
      "\n"
     ]
    }
   ],
   "source": [
    "evaluate_model(model, X_train, y_train)"
   ]
  },
  {
   "cell_type": "code",
   "execution_count": 144,
   "id": "6e8c1c41-1bc4-4f37-a401-329f2afbbf38",
   "metadata": {
    "tags": []
   },
   "outputs": [
    {
     "name": "stdout",
     "output_type": "stream",
     "text": [
      "              precision    recall  f1-score   support\n",
      "\n",
      "  Non-Active       0.58      0.89      0.70      2080\n",
      "      Active       0.97      0.85      0.91      9091\n",
      "\n",
      "    accuracy                           0.86     11171\n",
      "   macro avg       0.78      0.87      0.81     11171\n",
      "weighted avg       0.90      0.86      0.87     11171\n",
      "\n"
     ]
    }
   ],
   "source": [
    "evaluate_model(model, X_test, y_test)"
   ]
  },
  {
   "cell_type": "code",
   "execution_count": 124,
   "id": "6293234e-54ea-49bb-ab5d-ca2ae3837b9c",
   "metadata": {
    "tags": []
   },
   "outputs": [
    {
     "name": "stderr",
     "output_type": "stream",
     "text": [
      "/var/tmp/ipykernel_443239/3255369871.py:18: RuntimeWarning: invalid value encountered in divide\n"
     ]
    },
    {
     "data": {
      "image/png": "[encoded data removed]",
      "text/plain": [
       "<Figure size 640x480 with 1 Axes>"
      ]
     },
     "metadata": {},
     "output_type": "display_data"
    }
   ],
   "source": [
    "# ROC Curve\n",
    "precision, recall, thresholds = draw_roc_curve(model, X_test, y_test)"
   ]
  },
  {
   "cell_type": "code",
   "execution_count": 128,
   "id": "0d815781-240c-43b8-9b14-cd3cd11102cb",
   "metadata": {
    "tags": []
   },
   "outputs": [
    {
     "name": "stdout",
     "output_type": "stream",
     "text": [
      "best threshold: 0\n",
      "              precision    recall  f1-score   support\n",
      "\n",
      "  Non-Active       0.68      0.89      0.77       739\n",
      "      Active       0.97      0.90      0.93      3097\n",
      "\n",
      "    accuracy                           0.90      3836\n",
      "   macro avg       0.82      0.90      0.85      3836\n",
      "weighted avg       0.92      0.90      0.90      3836\n",
      "\n"
     ]
    }
   ],
   "source": [
    "# best threshold\n",
    "evaluate_model_best_threshold(model, X_test, y_test, precision, recall, thresholds)"
   ]
  },
  {
   "cell_type": "markdown",
   "id": "83951ee9-39d5-4adb-918e-5095b993be1d",
   "metadata": {
    "tags": []
   },
   "source": [
    "### Experiment: 10-day seq"
   ]
  },
  {
   "cell_type": "code",
   "execution_count": 47,
   "id": "a593414d-7f6e-4d6e-a4cf-d7ce6716e9af",
   "metadata": {
    "tags": []
   },
   "outputs": [],
   "source": [
    "X_train_all, X_test, y_train_all, y_test = train_test_split(X_10d, y_10d, test_size=0.2, random_state=42)\n",
    "X_train, X_val, y_train, y_val = train_test_split(X_train_all, y_train_all, test_size=0.1, random_state=42)"
   ]
  },
  {
   "cell_type": "code",
   "execution_count": 48,
   "id": "6f93e3c3-759b-4e2f-bb4e-fd960bd53b34",
   "metadata": {
    "tags": []
   },
   "outputs": [
    {
     "data": {
      "text/plain": [
       "0.8417105393861131"
      ]
     },
     "execution_count": 48,
     "metadata": {},
     "output_type": "execute_result"
    }
   ],
   "source": [
    "y_train.sum()/len(y_train)"
   ]
  },
  {
   "cell_type": "code",
   "execution_count": 49,
   "id": "29018ce4-7c83-43bd-8709-230226e8ef65",
   "metadata": {
    "tags": []
   },
   "outputs": [
    {
     "data": {
      "text/plain": [
       "0.8328491620111732"
      ]
     },
     "execution_count": 49,
     "metadata": {},
     "output_type": "execute_result"
    }
   ],
   "source": [
    "y_val.sum()/len(y_val)"
   ]
  },
  {
   "cell_type": "code",
   "execution_count": 50,
   "id": "d93aef38-8b26-4f9f-9be8-167599e22e48",
   "metadata": {
    "tags": []
   },
   "outputs": [
    {
     "data": {
      "text/plain": [
       "0.8402467369926694"
      ]
     },
     "execution_count": 50,
     "metadata": {},
     "output_type": "execute_result"
    }
   ],
   "source": [
    "y_test.sum()/len(y_test)"
   ]
  },
  {
   "cell_type": "code",
   "execution_count": 51,
   "id": "b6a321c9-3c17-415d-b4ca-7c49cbd499fe",
   "metadata": {
    "tags": []
   },
   "outputs": [],
   "source": [
    "X_train = torch.from_numpy(X_train).float()\n",
    "y_train = torch.from_numpy(y_train).float().unsqueeze(-1)\n",
    "X_test = torch.from_numpy(X_test).float()\n",
    "y_test = torch.from_numpy(y_test).float().unsqueeze(-1)\n",
    "X_val = torch.from_numpy(X_val).float()\n",
    "y_val = torch.from_numpy(y_val).float().unsqueeze(-1)"
   ]
  },
  {
   "cell_type": "code",
   "execution_count": 52,
   "id": "add4a27f-c92b-4c5a-838b-628f51d0a558",
   "metadata": {
    "tags": []
   },
   "outputs": [],
   "source": [
    "batch_size = 32\n",
    "\n",
    "dataset_train = TensorDataset(X_train, y_train)\n",
    "dataloader_train = DataLoader(dataset_train, batch_size=batch_size, shuffle=True)\n",
    "\n",
    "dataset_val = TensorDataset(X_val, y_val)\n",
    "dataloader_val = DataLoader(dataset_val, batch_size=batch_size, shuffle=True)"
   ]
  },
  {
   "cell_type": "code",
   "execution_count": 53,
   "id": "6d3ef87a-3f00-48d6-8c3d-7093abba36c6",
   "metadata": {
    "tags": []
   },
   "outputs": [],
   "source": [
    "device = torch.device('cuda' if torch.cuda.is_available() else 'cpu')"
   ]
  },
  {
   "cell_type": "code",
   "execution_count": 54,
   "id": "e4bc1384-3532-4d72-9840-195e1233f069",
   "metadata": {
    "tags": []
   },
   "outputs": [],
   "source": [
    "class LSTMModel(nn.Module):\n",
    "    def __init__(self, input_size=1, hidden_size=128, num_layers=2, output_size=1, batch_size=32):\n",
    "        super(LSTMModel, self).__init__()\n",
    "        self.hidden_size = hidden_size\n",
    "        self.num_layers = num_layers\n",
    "        self.batch_size = batch_size\n",
    "        self.lstm = nn.LSTM(input_size, hidden_size, num_layers, batch_first=True)\n",
    "        self.fc = nn.Linear(hidden_size, output_size)\n",
    "\n",
    "    def forward(self, x):\n",
    "        out, _ = self.lstm(x)\n",
    "        predictions = self.fc(out[:, -1, :])\n",
    "        return predictions\n",
    "\n",
    "model = LSTMModel(input_size=X_train.shape[2], output_size=y_train.shape[1]).to(device)\n",
    "\n",
    "loss_function = nn.BCEWithLogitsLoss()\n",
    "optimizer = optim.Adam(model.parameters(), lr=0.001)"
   ]
  },
  {
   "cell_type": "code",
   "execution_count": 55,
   "id": "a51121c2-6ddf-443a-82c9-c3123b91a98c",
   "metadata": {
    "tags": []
   },
   "outputs": [],
   "source": [
    "def train_model(model, optimizer, dataloader_train, dataloader_val, epochs=100):\n",
    "    \n",
    "    patience = 20\n",
    "    best_val_loss = float('inf')\n",
    "    counter = 0\n",
    "    epoch = 0\n",
    "\n",
    "    train_losses = []\n",
    "    val_losses = []\n",
    "    \n",
    "    for epoch in tqdm.tqdm(range(epochs)):\n",
    "        model.train()\n",
    "        epoch += 1\n",
    "        for batch in dataloader_train:\n",
    "            seqs, labels = batch\n",
    "            seqs, labels = seqs.to(device).float(), labels.to(device).float()\n",
    "            optimizer.zero_grad()\n",
    "\n",
    "            y_pred = model(seqs)\n",
    "            labels = labels\n",
    "\n",
    "            loss = loss_function(y_pred, labels)\n",
    "            loss.backward()\n",
    "            optimizer.step()\n",
    "        \n",
    "        train_losses.append(loss.item())\n",
    "        \n",
    "        \n",
    "        model.eval()\n",
    "        with torch.no_grad():\n",
    "            for batch in dataloader_val:\n",
    "                seqs, labels = batch\n",
    "                seqs, labels = seqs.to(device).float(), labels.to(device).float()\n",
    "                val_pred = model(seqs)\n",
    "                labels = labels\n",
    "                val_loss = loss_function(val_pred, labels)\n",
    "            val_losses.append(val_loss.item())\n",
    "        \n",
    "        if epoch % 10 == 0:\n",
    "            print(f'Epoch {epoch:3}, Train Loss: {loss.item():10.8f}, Val Loss: {val_loss.item():10.8f}')\n",
    "\n",
    "            \n",
    "        if val_loss < best_val_loss:\n",
    "            best_val_loss = val_loss\n",
    "            torch.save(model.state_dict(), f'/home/jupyter/lstm/model/single_step_lstm_best_model_10seq.pt')"
   ]
  },
  {
   "cell_type": "code",
   "execution_count": 56,
   "id": "c8b68992-32dd-47b9-ae5f-fe0170b7a9e1",
   "metadata": {
    "tags": []
   },
   "outputs": [
    {
     "name": "stderr",
     "output_type": "stream",
     "text": [
      " 10%|█         | 10/100 [00:32<04:47,  3.19s/it]"
     ]
    },
    {
     "name": "stdout",
     "output_type": "stream",
     "text": [
      "Epoch  10, Train Loss: 0.04264095, Val Loss: 0.24371973\n"
     ]
    },
    {
     "name": "stderr",
     "output_type": "stream",
     "text": [
      " 20%|██        | 20/100 [01:04<04:11,  3.14s/it]"
     ]
    },
    {
     "name": "stdout",
     "output_type": "stream",
     "text": [
      "Epoch  20, Train Loss: 0.23522010, Val Loss: 0.16347097\n"
     ]
    },
    {
     "name": "stderr",
     "output_type": "stream",
     "text": [
      " 30%|███       | 30/100 [01:35<03:39,  3.14s/it]"
     ]
    },
    {
     "name": "stdout",
     "output_type": "stream",
     "text": [
      "Epoch  30, Train Loss: 0.07473096, Val Loss: 0.42824221\n"
     ]
    },
    {
     "name": "stderr",
     "output_type": "stream",
     "text": [
      " 40%|████      | 40/100 [02:07<03:10,  3.18s/it]"
     ]
    },
    {
     "name": "stdout",
     "output_type": "stream",
     "text": [
      "Epoch  40, Train Loss: 0.00000014, Val Loss: 0.44953263\n"
     ]
    },
    {
     "name": "stderr",
     "output_type": "stream",
     "text": [
      " 50%|█████     | 50/100 [02:38<02:39,  3.18s/it]"
     ]
    },
    {
     "name": "stdout",
     "output_type": "stream",
     "text": [
      "Epoch  50, Train Loss: 0.00262834, Val Loss: 1.46391189\n"
     ]
    },
    {
     "name": "stderr",
     "output_type": "stream",
     "text": [
      " 60%|██████    | 60/100 [03:10<02:06,  3.17s/it]"
     ]
    },
    {
     "name": "stdout",
     "output_type": "stream",
     "text": [
      "Epoch  60, Train Loss: 0.99408716, Val Loss: 0.56096768\n"
     ]
    },
    {
     "name": "stderr",
     "output_type": "stream",
     "text": [
      " 70%|███████   | 70/100 [03:42<01:34,  3.16s/it]"
     ]
    },
    {
     "name": "stdout",
     "output_type": "stream",
     "text": [
      "Epoch  70, Train Loss: 0.37131542, Val Loss: 0.86029577\n"
     ]
    },
    {
     "name": "stderr",
     "output_type": "stream",
     "text": [
      " 80%|████████  | 80/100 [04:13<01:03,  3.15s/it]"
     ]
    },
    {
     "name": "stdout",
     "output_type": "stream",
     "text": [
      "Epoch  80, Train Loss: 0.00007720, Val Loss: 0.54099083\n"
     ]
    },
    {
     "name": "stderr",
     "output_type": "stream",
     "text": [
      " 90%|█████████ | 90/100 [04:45<00:31,  3.17s/it]"
     ]
    },
    {
     "name": "stdout",
     "output_type": "stream",
     "text": [
      "Epoch  90, Train Loss: 0.00318744, Val Loss: 1.91090381\n"
     ]
    },
    {
     "name": "stderr",
     "output_type": "stream",
     "text": [
      "100%|██████████| 100/100 [05:17<00:00,  3.17s/it]"
     ]
    },
    {
     "name": "stdout",
     "output_type": "stream",
     "text": [
      "Epoch 100, Train Loss: 0.00022069, Val Loss: 0.37030679\n"
     ]
    },
    {
     "name": "stderr",
     "output_type": "stream",
     "text": [
      "\n"
     ]
    }
   ],
   "source": [
    "train_model(model, optimizer, dataloader_train, dataloader_val)"
   ]
  },
  {
   "cell_type": "code",
   "execution_count": 59,
   "id": "fb2be1a8-0fec-41e0-a7c4-20cbf3edda00",
   "metadata": {
    "tags": []
   },
   "outputs": [
    {
     "name": "stdout",
     "output_type": "stream",
     "text": [
      "              precision    recall  f1-score   support\n",
      "\n",
      "  Non-Active       0.69      0.71      0.70      1787\n",
      "      Active       0.94      0.94      0.94      9399\n",
      "\n",
      "    accuracy                           0.90     11186\n",
      "   macro avg       0.82      0.82      0.82     11186\n",
      "weighted avg       0.90      0.90      0.90     11186\n",
      "\n"
     ]
    }
   ],
   "source": [
    "evaluate_model(model, X_test, y_test)"
   ]
  },
  {
   "cell_type": "code",
   "execution_count": 60,
   "id": "8d99f1b3-c48f-4096-bb3c-cac2bfbcd8ad",
   "metadata": {
    "tags": []
   },
   "outputs": [
    {
     "name": "stdout",
     "output_type": "stream",
     "text": [
      "              precision    recall  f1-score   support\n",
      "\n",
      "  Non-Active       0.96      0.99      0.98      6374\n",
      "      Active       1.00      0.99      1.00     33894\n",
      "\n",
      "    accuracy                           0.99     40268\n",
      "   macro avg       0.98      0.99      0.99     40268\n",
      "weighted avg       0.99      0.99      0.99     40268\n",
      "\n"
     ]
    }
   ],
   "source": [
    "evaluate_model(model, X_train, y_train)"
   ]
  },
  {
   "cell_type": "code",
   "execution_count": 61,
   "id": "245873a8-a18b-41de-8e1b-6a9d1649a0ba",
   "metadata": {
    "tags": []
   },
   "outputs": [
    {
     "name": "stdout",
     "output_type": "stream",
     "text": [
      "              precision    recall  f1-score   support\n",
      "\n",
      "  Non-Active       0.72      0.71      0.71       748\n",
      "      Active       0.94      0.94      0.94      3727\n",
      "\n",
      "    accuracy                           0.90      4475\n",
      "   macro avg       0.83      0.83      0.83      4475\n",
      "weighted avg       0.90      0.90      0.90      4475\n",
      "\n"
     ]
    }
   ],
   "source": [
    "evaluate_model(model, X_val, y_val)"
   ]
  },
  {
   "cell_type": "code",
   "execution_count": 62,
   "id": "51aa44fd-a7f7-447a-89ee-6ded37bf15c1",
   "metadata": {
    "tags": []
   },
   "outputs": [
    {
     "data": {
      "text/plain": [
       "<All keys matched successfully>"
      ]
     },
     "execution_count": 62,
     "metadata": {},
     "output_type": "execute_result"
    }
   ],
   "source": [
    "best_model_path = '/home/jupyter/lstm/model/single_step_lstm_best_model_10seq.pt'\n",
    "best_model = LSTMModel(input_size=X_train.shape[2], output_size=y_train.shape[1]).to(device)\n",
    "best_model.load_state_dict(torch.load(best_model_path))"
   ]
  },
  {
   "cell_type": "code",
   "execution_count": 63,
   "id": "e7dd9952-616d-4c6c-8dec-0b37a1f0a93c",
   "metadata": {
    "tags": []
   },
   "outputs": [
    {
     "name": "stdout",
     "output_type": "stream",
     "text": [
      "              precision    recall  f1-score   support\n",
      "\n",
      "  Non-Active       0.68      0.68      0.68      1787\n",
      "      Active       0.94      0.94      0.94      9399\n",
      "\n",
      "    accuracy                           0.90     11186\n",
      "   macro avg       0.81      0.81      0.81     11186\n",
      "weighted avg       0.90      0.90      0.90     11186\n",
      "\n"
     ]
    }
   ],
   "source": [
    "evaluate_model(best_model, X_test, y_test)"
   ]
  },
  {
   "cell_type": "code",
   "execution_count": 64,
   "id": "59a34c02-ef0f-4f5c-9e9b-ed5fcc388f8e",
   "metadata": {
    "tags": []
   },
   "outputs": [
    {
     "name": "stdout",
     "output_type": "stream",
     "text": [
      "              precision    recall  f1-score   support\n",
      "\n",
      "  Non-Active       0.96      0.98      0.97      6374\n",
      "      Active       1.00      0.99      1.00     33894\n",
      "\n",
      "    accuracy                           0.99     40268\n",
      "   macro avg       0.98      0.99      0.98     40268\n",
      "weighted avg       0.99      0.99      0.99     40268\n",
      "\n"
     ]
    }
   ],
   "source": [
    "evaluate_model(best_model, X_train, y_train)"
   ]
  },
  {
   "cell_type": "code",
   "execution_count": 65,
   "id": "a893fd17-1149-432b-9653-0107d00a48d2",
   "metadata": {
    "tags": []
   },
   "outputs": [
    {
     "name": "stdout",
     "output_type": "stream",
     "text": [
      "              precision    recall  f1-score   support\n",
      "\n",
      "  Non-Active       0.70      0.66      0.68       748\n",
      "      Active       0.93      0.94      0.94      3727\n",
      "\n",
      "    accuracy                           0.90      4475\n",
      "   macro avg       0.82      0.80      0.81      4475\n",
      "weighted avg       0.89      0.90      0.89      4475\n",
      "\n"
     ]
    }
   ],
   "source": [
    "evaluate_model(best_model, X_val, y_val)"
   ]
  },
  {
   "cell_type": "markdown",
   "id": "5f961fc0-b8eb-4292-9719-9f5cd9ecb95a",
   "metadata": {},
   "source": [
    "#### Experiment: weight decay 0.1"
   ]
  },
  {
   "cell_type": "code",
   "execution_count": 66,
   "id": "52ecd7e5-a24a-44d4-bf25-543bba69d4f2",
   "metadata": {
    "tags": []
   },
   "outputs": [],
   "source": [
    "class LSTMModel(nn.Module):\n",
    "    def __init__(self, input_size=1, hidden_size=128, num_layers=2, output_size=1, batch_size=32):\n",
    "        super(LSTMModel, self).__init__()\n",
    "        self.hidden_size = hidden_size\n",
    "        self.num_layers = num_layers\n",
    "        self.batch_size = batch_size\n",
    "        self.lstm = nn.LSTM(input_size, hidden_size, num_layers, batch_first=True)\n",
    "        self.fc = nn.Linear(hidden_size, output_size)\n",
    "\n",
    "    def forward(self, x):\n",
    "        out, _ = self.lstm(x)\n",
    "        predictions = self.fc(out[:, -1, :])\n",
    "        return predictions\n",
    "\n",
    "model = LSTMModel(input_size=X_train.shape[2], output_size=y_train.shape[1]).to(device)\n",
    "\n",
    "loss_function = nn.BCEWithLogitsLoss()\n",
    "optimizer = optim.AdamW(model.parameters(), lr=0.00001, weight_decay=0.01) # lr rate decrease from 0.001 to 0.0001"
   ]
  },
  {
   "cell_type": "code",
   "execution_count": 67,
   "id": "4c83524f-ac77-416f-b670-a030307ba740",
   "metadata": {
    "tags": []
   },
   "outputs": [],
   "source": [
    "def train_model(model, optimizer, dataloader_train, dataloader_val, epochs=100):\n",
    "    \n",
    "    best_val_loss = float('inf')\n",
    "    train_losses = []\n",
    "    val_losses = []\n",
    "    \n",
    "    for epoch in tqdm.tqdm(range(epochs)):\n",
    "        model.train()\n",
    "        for batch in dataloader_train:\n",
    "            epoch += 1\n",
    "            seqs, labels = batch\n",
    "            seqs, labels = seqs.to(device).float(), labels.to(device).float()\n",
    "            optimizer.zero_grad()\n",
    "\n",
    "            y_pred = model(seqs)\n",
    "            labels = labels\n",
    "\n",
    "            loss = loss_function(y_pred, labels)\n",
    "            weights = torch.where(labels == 1, 1.0, 1.0).to(y_pred.device)\n",
    "            weighted_loss = (loss * weights).mean()\n",
    "            weighted_loss.backward()\n",
    "            optimizer.step()\n",
    "        \n",
    "        train_losses.append(weighted_loss.item())\n",
    "        \n",
    "        \n",
    "        model.eval()\n",
    "        with torch.no_grad():\n",
    "            for batch in dataloader_val:\n",
    "                seqs, labels = batch\n",
    "                seqs, labels = seqs.to(device).float(), labels.to(device).float()\n",
    "                \n",
    "                val_pred = model(seqs)\n",
    "                labels = labels\n",
    "                \n",
    "                val_loss = loss_function(val_pred, labels)\n",
    "                val_weights = torch.where(labels == 1, 1.0, 1.0).to(val_pred.device)\n",
    "                weighted_val_loss = (val_loss * val_weights).mean()\n",
    "            val_losses.append(weighted_val_loss.item())\n",
    "        \n",
    "        \n",
    "        if epoch % 10 == 0:\n",
    "            print(f'Epoch {epoch:3}, Train Loss: {weighted_loss.item():10.8f}, Val Loss: {weighted_val_loss.item():10.8f}')\n",
    "        \n",
    "        \n",
    "        # best model weight\n",
    "        if val_loss < best_val_loss:\n",
    "            best_val_loss = val_loss\n",
    "            torch.save(model.state_dict(), f'/home/jupyter/lstm/model/single_step_lstm_best_model_10seq_weightdecay01.pt')"
   ]
  },
  {
   "cell_type": "code",
   "execution_count": 68,
   "id": "db4d6466-4053-4a24-98f2-e3316e0eb181",
   "metadata": {
    "tags": []
   },
   "outputs": [
    {
     "name": "stderr",
     "output_type": "stream",
     "text": [
      "  2%|▏         | 2/100 [00:06<05:35,  3.43s/it]"
     ]
    },
    {
     "name": "stdout",
     "output_type": "stream",
     "text": [
      "Epoch 1260, Train Loss: 0.63990319, Val Loss: 0.28140566\n"
     ]
    },
    {
     "name": "stderr",
     "output_type": "stream",
     "text": [
      " 12%|█▏        | 12/100 [00:40<05:02,  3.43s/it]"
     ]
    },
    {
     "name": "stdout",
     "output_type": "stream",
     "text": [
      "Epoch 1270, Train Loss: 0.22586279, Val Loss: 0.15605453\n"
     ]
    },
    {
     "name": "stderr",
     "output_type": "stream",
     "text": [
      " 22%|██▏       | 22/100 [01:14<04:27,  3.42s/it]"
     ]
    },
    {
     "name": "stdout",
     "output_type": "stream",
     "text": [
      "Epoch 1280, Train Loss: 0.26607740, Val Loss: 0.15283974\n"
     ]
    },
    {
     "name": "stderr",
     "output_type": "stream",
     "text": [
      " 32%|███▏      | 32/100 [01:49<03:50,  3.39s/it]"
     ]
    },
    {
     "name": "stdout",
     "output_type": "stream",
     "text": [
      "Epoch 1290, Train Loss: 0.26023120, Val Loss: 0.23463506\n"
     ]
    },
    {
     "name": "stderr",
     "output_type": "stream",
     "text": [
      " 42%|████▏     | 42/100 [02:23<03:17,  3.41s/it]"
     ]
    },
    {
     "name": "stdout",
     "output_type": "stream",
     "text": [
      "Epoch 1300, Train Loss: 0.30565006, Val Loss: 0.14936571\n"
     ]
    },
    {
     "name": "stderr",
     "output_type": "stream",
     "text": [
      " 52%|█████▏    | 52/100 [02:57<02:43,  3.40s/it]"
     ]
    },
    {
     "name": "stdout",
     "output_type": "stream",
     "text": [
      "Epoch 1310, Train Loss: 0.44918212, Val Loss: 0.25799730\n"
     ]
    },
    {
     "name": "stderr",
     "output_type": "stream",
     "text": [
      " 62%|██████▏   | 62/100 [03:31<02:08,  3.37s/it]"
     ]
    },
    {
     "name": "stdout",
     "output_type": "stream",
     "text": [
      "Epoch 1320, Train Loss: 0.15533113, Val Loss: 0.20150746\n"
     ]
    },
    {
     "name": "stderr",
     "output_type": "stream",
     "text": [
      " 72%|███████▏  | 72/100 [04:05<01:36,  3.45s/it]"
     ]
    },
    {
     "name": "stdout",
     "output_type": "stream",
     "text": [
      "Epoch 1330, Train Loss: 0.23002510, Val Loss: 0.24834098\n"
     ]
    },
    {
     "name": "stderr",
     "output_type": "stream",
     "text": [
      " 82%|████████▏ | 82/100 [04:39<01:01,  3.40s/it]"
     ]
    },
    {
     "name": "stdout",
     "output_type": "stream",
     "text": [
      "Epoch 1340, Train Loss: 0.05688063, Val Loss: 0.20001611\n"
     ]
    },
    {
     "name": "stderr",
     "output_type": "stream",
     "text": [
      " 92%|█████████▏| 92/100 [05:13<00:27,  3.41s/it]"
     ]
    },
    {
     "name": "stdout",
     "output_type": "stream",
     "text": [
      "Epoch 1350, Train Loss: 0.04031694, Val Loss: 0.11204413\n"
     ]
    },
    {
     "name": "stderr",
     "output_type": "stream",
     "text": [
      "100%|██████████| 100/100 [05:40<00:00,  3.41s/it]\n"
     ]
    }
   ],
   "source": [
    "train_model(model, optimizer, dataloader_train, dataloader_val)"
   ]
  },
  {
   "cell_type": "code",
   "execution_count": 69,
   "id": "cfb9edfe-aab1-41d4-bf0f-dd52b610cf14",
   "metadata": {
    "tags": []
   },
   "outputs": [
    {
     "name": "stdout",
     "output_type": "stream",
     "text": [
      "              precision    recall  f1-score   support\n",
      "\n",
      "  Non-Active       0.71      0.80      0.75      1787\n",
      "      Active       0.96      0.94      0.95      9399\n",
      "\n",
      "    accuracy                           0.92     11186\n",
      "   macro avg       0.84      0.87      0.85     11186\n",
      "weighted avg       0.92      0.92      0.92     11186\n",
      "\n"
     ]
    }
   ],
   "source": [
    "evaluate_model(model, X_test, y_test)"
   ]
  },
  {
   "cell_type": "code",
   "execution_count": 70,
   "id": "c70f25dc-c159-42f8-982d-b6860c663faf",
   "metadata": {
    "tags": []
   },
   "outputs": [
    {
     "name": "stdout",
     "output_type": "stream",
     "text": [
      "              precision    recall  f1-score   support\n",
      "\n",
      "  Non-Active       0.72      0.79      0.75      6374\n",
      "      Active       0.96      0.94      0.95     33894\n",
      "\n",
      "    accuracy                           0.92     40268\n",
      "   macro avg       0.84      0.87      0.85     40268\n",
      "weighted avg       0.92      0.92      0.92     40268\n",
      "\n"
     ]
    }
   ],
   "source": [
    "evaluate_model(model, X_train, y_train)"
   ]
  },
  {
   "cell_type": "code",
   "execution_count": 71,
   "id": "976ef4d6-eba8-4b84-af10-cb127f46774e",
   "metadata": {
    "tags": []
   },
   "outputs": [
    {
     "name": "stdout",
     "output_type": "stream",
     "text": [
      "              precision    recall  f1-score   support\n",
      "\n",
      "  Non-Active       0.73      0.80      0.76       748\n",
      "      Active       0.96      0.94      0.95      3727\n",
      "\n",
      "    accuracy                           0.92      4475\n",
      "   macro avg       0.84      0.87      0.85      4475\n",
      "weighted avg       0.92      0.92      0.92      4475\n",
      "\n"
     ]
    }
   ],
   "source": [
    "evaluate_model(model, X_val, y_val)"
   ]
  },
  {
   "cell_type": "code",
   "execution_count": 72,
   "id": "8f25a55d-ce50-4c87-854b-e8136b29b3f2",
   "metadata": {
    "tags": []
   },
   "outputs": [
    {
     "data": {
      "text/plain": [
       "<All keys matched successfully>"
      ]
     },
     "execution_count": 72,
     "metadata": {},
     "output_type": "execute_result"
    }
   ],
   "source": [
    "best_model_path = '/home/jupyter/lstm/model/single_step_lstm_best_model_10seq_weightdecay01.pt'\n",
    "best_model = LSTMModel(input_size=X_train.shape[2], output_size=y_train.shape[1]).to(device)\n",
    "best_model.load_state_dict(torch.load(best_model_path))"
   ]
  },
  {
   "cell_type": "code",
   "execution_count": 73,
   "id": "bb7b6481-078a-4a70-8a16-e9eb14b4ae90",
   "metadata": {
    "tags": []
   },
   "outputs": [
    {
     "name": "stdout",
     "output_type": "stream",
     "text": [
      "              precision    recall  f1-score   support\n",
      "\n",
      "  Non-Active       0.70      0.82      0.75      1787\n",
      "      Active       0.96      0.93      0.95      9399\n",
      "\n",
      "    accuracy                           0.91     11186\n",
      "   macro avg       0.83      0.88      0.85     11186\n",
      "weighted avg       0.92      0.91      0.92     11186\n",
      "\n"
     ]
    }
   ],
   "source": [
    "# best model\n",
    "evaluate_model(best_model, X_test, y_test)"
   ]
  },
  {
   "cell_type": "code",
   "execution_count": 74,
   "id": "d2b117f5-99b2-46bf-a692-96070e8752e5",
   "metadata": {
    "tags": []
   },
   "outputs": [
    {
     "name": "stdout",
     "output_type": "stream",
     "text": [
      "              precision    recall  f1-score   support\n",
      "\n",
      "  Non-Active       0.70      0.82      0.75      6374\n",
      "      Active       0.96      0.93      0.95     33894\n",
      "\n",
      "    accuracy                           0.91     40268\n",
      "   macro avg       0.83      0.88      0.85     40268\n",
      "weighted avg       0.92      0.91      0.92     40268\n",
      "\n"
     ]
    }
   ],
   "source": [
    "# best model\n",
    "evaluate_model(best_model, X_train, y_train)"
   ]
  },
  {
   "cell_type": "code",
   "execution_count": 75,
   "id": "2779910a-53d0-41a4-8820-9af69ec0f8ab",
   "metadata": {
    "tags": []
   },
   "outputs": [
    {
     "name": "stdout",
     "output_type": "stream",
     "text": [
      "              precision    recall  f1-score   support\n",
      "\n",
      "  Non-Active       0.70      0.82      0.75      1787\n",
      "      Active       0.96      0.93      0.95      9399\n",
      "\n",
      "    accuracy                           0.91     11186\n",
      "   macro avg       0.83      0.88      0.85     11186\n",
      "weighted avg       0.92      0.91      0.92     11186\n",
      "\n"
     ]
    }
   ],
   "source": [
    "# best model\n",
    "evaluate_model(best_model, X_test, y_test)"
   ]
  },
  {
   "cell_type": "code",
   "execution_count": 82,
   "id": "db88becd-d6e6-4729-a1e1-062a079383aa",
   "metadata": {
    "tags": []
   },
   "outputs": [
    {
     "name": "stderr",
     "output_type": "stream",
     "text": [
      "/var/tmp/ipykernel_26893/3255369871.py:18: RuntimeWarning: invalid value encountered in divide\n"
     ]
    },
    {
     "data": {
      "image/png": "[encoded data removed]",
      "text/plain": [
       "<Figure size 640x480 with 1 Axes>"
      ]
     },
     "metadata": {},
     "output_type": "display_data"
    }
   ],
   "source": [
    "# ROC Curve\n",
    "precision, recall, thresholds = draw_roc_curve(best_model, X_train, y_train)"
   ]
  },
  {
   "cell_type": "code",
   "execution_count": 83,
   "id": "63b8229d-dd48-4161-8e1c-c67c02b45109",
   "metadata": {
    "tags": []
   },
   "outputs": [
    {
     "name": "stdout",
     "output_type": "stream",
     "text": [
      "best threshold: 0\n",
      "              precision    recall  f1-score   support\n",
      "\n",
      "  Non-Active       0.74      0.75      0.74      1787\n",
      "      Active       0.95      0.95      0.95      9399\n",
      "\n",
      "    accuracy                           0.92     11186\n",
      "   macro avg       0.85      0.85      0.85     11186\n",
      "weighted avg       0.92      0.92      0.92     11186\n",
      "\n"
     ]
    }
   ],
   "source": [
    "evaluate_model_best_threshold(best_model, X_test, y_test, precision, recall, thresholds)"
   ]
  },
  {
   "cell_type": "code",
   "execution_count": 84,
   "id": "31dbaced-511e-43b1-8ec0-84c33bb6075d",
   "metadata": {
    "tags": []
   },
   "outputs": [
    {
     "name": "stdout",
     "output_type": "stream",
     "text": [
      "              precision    recall  f1-score   support\n",
      "\n",
      "  Non-Active       0.75      0.74      0.74      1787\n",
      "      Active       0.95      0.95      0.95      9399\n",
      "\n",
      "    accuracy                           0.92     11186\n",
      "   macro avg       0.85      0.84      0.85     11186\n",
      "weighted avg       0.92      0.92      0.92     11186\n",
      "\n"
     ]
    }
   ],
   "source": [
    "# threshold: 0.1, weight decay: 0.01, batch size: 16\n",
    "model.eval()\n",
    "with torch.no_grad():\n",
    "    y_test_list = []\n",
    "    y_pred_list = [] \n",
    "    for seq, labels in zip(X_test, y_test):\n",
    "        seq, labels = seq.to(device).float(), labels.to(device).float()\n",
    "        y_pred = model(seq.unsqueeze(0))\n",
    "        y_pred = (y_pred > 0.1).float()\n",
    "\n",
    "        y_test_list.append(labels.squeeze().tolist())\n",
    "        y_pred_list.append(y_pred.squeeze().tolist())\n",
    "\n",
    "\n",
    "target_names = ['Non-Active', 'Active']\n",
    "print(classification_report(y_test_list, y_pred_list, target_names=target_names))"
   ]
  },
  {
   "cell_type": "markdown",
   "id": "45dfeba2-6441-4f2b-bc44-8e8d20648ff4",
   "metadata": {},
   "source": [
    "## Seq2Seq LSTM"
   ]
  },
  {
   "cell_type": "code",
   "execution_count": 13,
   "id": "ea90a98d-05c3-4e1b-8fd5-c4635df7fb06",
   "metadata": {
    "tags": []
   },
   "outputs": [],
   "source": [
    "device = torch.device('cuda' if torch.cuda.is_available() else 'cpu')"
   ]
  },
  {
   "cell_type": "code",
   "execution_count": 14,
   "id": "8dd46163-acd1-4418-ab00-fef04daf8944",
   "metadata": {
    "tags": []
   },
   "outputs": [],
   "source": [
    "class Encoder(nn.Module):\n",
    "    def __init__(self, input_dim, hidden_dim, n_layers=1):\n",
    "        super(Encoder, self).__init__()\n",
    "        self.lstm = nn.LSTM(input_dim, hidden_dim, n_layers, batch_first=True)\n",
    "        \n",
    "    def forward(self, x):\n",
    "        outputs, (hidden, cell) = self.lstm(x)\n",
    "        return hidden, cell\n",
    "\n",
    "class Decoder(nn.Module):\n",
    "    def __init__(self, input_dim, hidden_dim, output_dim, n_layers=1):\n",
    "        super(Decoder, self).__init__()\n",
    "        self.n_layers = n_layers\n",
    "        self.output_dim = output_dim\n",
    "        self.hidden_dim = hidden_dim\n",
    "        \n",
    "        self.fc_in = nn.Linear(input_dim, hidden_dim)\n",
    "        self.lstm = nn.LSTM(hidden_dim, hidden_dim, batch_first=True)\n",
    "        self.fc = nn.Linear(hidden_dim, output_dim)\n",
    "        \n",
    "    def forward(self, hidden, cell):\n",
    "        # Start token (we assume it's a zero vector of hidden_dim)\n",
    "        batch_size = hidden.size(1)\n",
    "        start_token = torch.zeros(batch_size, 1, hidden.size(2)).to(hidden.device)\n",
    "        \n",
    "        # Run LSTM with start token and hidden state from the encoder\n",
    "        output, (hidden, cell) = self.lstm(start_token, (hidden, cell))\n",
    "        \n",
    "        # Predict the next time step (i.e., month 8)\n",
    "        prediction = torch.sigmoid(self.fc(output[:, -1, :]))\n",
    "        return prediction\n",
    "\n",
    "class Seq2Seq(nn.Module):\n",
    "    def __init__(self, encoder, decoder):\n",
    "        super(Seq2Seq, self).__init__()\n",
    "        self.encoder = encoder\n",
    "        self.decoder = decoder\n",
    "        \n",
    "    def forward(self, x, y, teacher_forcing_ratio):\n",
    "        hidden, cell = self.encoder(x)\n",
    "        prediction = self.decoder(hidden, cell)\n",
    "\n",
    "        teacher_forcing = random.random() < teacher_forcing_ratio\n",
    "        output = y.requires_grad_() if teacher_forcing else prediction\n",
    "        \n",
    "        return output"
   ]
  },
  {
   "cell_type": "code",
   "execution_count": 15,
   "id": "dda45a2d-e52d-423c-b406-d862a7902aec",
   "metadata": {
    "tags": []
   },
   "outputs": [],
   "source": [
    "# Setting Hyperparmeter\n",
    "input_dim = X_train.shape[2]\n",
    "hidden_dim = 128\n",
    "output_dim = y_train.shape[1]\n",
    "\n",
    "encoder = Encoder(input_dim, hidden_dim)\n",
    "decoder = Decoder(input_dim, hidden_dim, output_dim)\n",
    "model = Seq2Seq(encoder, decoder).to(device)\n",
    "\n",
    "# Loss function & Optimizer\n",
    "loss_function = nn.BCELoss()\n",
    "optimizer = torch.optim.AdamW(model.parameters(), lr=0.0001, weight_decay=0.1)"
   ]
  },
  {
   "cell_type": "code",
   "execution_count": 16,
   "id": "fb16a2cd-28fb-49a9-9cb2-44d3f1b67923",
   "metadata": {
    "tags": []
   },
   "outputs": [],
   "source": [
    "batch_size = 32\n",
    "\n",
    "dataset_train = TensorDataset(X_train, y_train)\n",
    "dataloader_train = DataLoader(dataset_train, batch_size=batch_size, shuffle=True)\n",
    "\n",
    "dataset_val = TensorDataset(X_val, y_val)\n",
    "dataloader_val = DataLoader(dataset_val, batch_size=batch_size, shuffle=True)"
   ]
  },
  {
   "cell_type": "code",
   "execution_count": 372,
   "id": "efe1dda7-e4f3-4629-a778-9bfd843100d4",
   "metadata": {
    "tags": []
   },
   "outputs": [],
   "source": [
    "def train_model(model, optimizer, dataloader_train, dataloader_val, epochs=100):\n",
    "    \n",
    "    # patience = 20\n",
    "    best_val_loss = float('inf')\n",
    "    # counter = 0\n",
    "    # epoch = 0\n",
    "\n",
    "    train_losses = []\n",
    "    val_losses = []\n",
    "    \n",
    "    for epoch in tqdm.tqdm(range(epochs)):\n",
    "        model.train()\n",
    "        epoch += 1\n",
    "        for batch in dataloader_train:\n",
    "            seqs, labels = batch\n",
    "            seqs, labels = seqs.to(device).float(), labels.to(device).float()\n",
    "            optimizer.zero_grad()\n",
    "\n",
    "            y_pred = model(seqs, labels, 0.5)\n",
    "            loss = loss_function(y_pred, labels)\n",
    "            loss.backward()\n",
    "            optimizer.step()\n",
    "        \n",
    "        train_losses.append(loss.item())\n",
    "        \n",
    "        \n",
    "        model.eval()\n",
    "        with torch.no_grad():\n",
    "            for batch in dataloader_val:\n",
    "                seqs, labels = batch\n",
    "                seqs, labels = seqs.to(device).float(), labels.to(device).float()\n",
    "                val_pred = model(seqs, labels, 0)\n",
    "                val_loss = loss_function(val_pred, labels)\n",
    "            val_losses.append(val_loss.item())\n",
    "        \n",
    "        if epoch % 10 == 0:\n",
    "            print(f'Epoch {epoch:3}, Train Loss: {loss.item():10.8f}, Val Loss: {val_loss.item():10.8f}')\n",
    "                \n",
    "        # best model weight\n",
    "        if val_loss < best_val_loss:\n",
    "            best_val_loss = val_loss\n",
    "            torch.save(model.state_dict(), f'/home/jupyter/lstm/model/seq2seq_lstm_weightdecay_01_teacher.pt')"
   ]
  },
  {
   "cell_type": "code",
   "execution_count": 373,
   "id": "cf34a12b-bf04-4de7-8f51-63ac54b29691",
   "metadata": {
    "tags": []
   },
   "outputs": [
    {
     "name": "stderr",
     "output_type": "stream",
     "text": [
      " 10%|█         | 10/100 [00:28<04:21,  2.91s/it]"
     ]
    },
    {
     "name": "stdout",
     "output_type": "stream",
     "text": [
      "Epoch  10, Train Loss: 0.05068320, Val Loss: 0.26599127\n"
     ]
    },
    {
     "name": "stderr",
     "output_type": "stream",
     "text": [
      " 20%|██        | 20/100 [00:58<03:55,  2.94s/it]"
     ]
    },
    {
     "name": "stdout",
     "output_type": "stream",
     "text": [
      "Epoch  20, Train Loss: 0.00000000, Val Loss: 0.18574867\n"
     ]
    },
    {
     "name": "stderr",
     "output_type": "stream",
     "text": [
      " 30%|███       | 30/100 [01:27<03:24,  2.92s/it]"
     ]
    },
    {
     "name": "stdout",
     "output_type": "stream",
     "text": [
      "Epoch  30, Train Loss: 0.00000000, Val Loss: 0.12145469\n"
     ]
    },
    {
     "name": "stderr",
     "output_type": "stream",
     "text": [
      " 40%|████      | 40/100 [01:56<02:55,  2.92s/it]"
     ]
    },
    {
     "name": "stdout",
     "output_type": "stream",
     "text": [
      "Epoch  40, Train Loss: 0.17614858, Val Loss: 0.11835539\n"
     ]
    },
    {
     "name": "stderr",
     "output_type": "stream",
     "text": [
      " 50%|█████     | 50/100 [02:25<02:27,  2.95s/it]"
     ]
    },
    {
     "name": "stdout",
     "output_type": "stream",
     "text": [
      "Epoch  50, Train Loss: 0.07173031, Val Loss: 0.12932734\n"
     ]
    },
    {
     "name": "stderr",
     "output_type": "stream",
     "text": [
      " 60%|██████    | 60/100 [02:55<01:58,  2.97s/it]"
     ]
    },
    {
     "name": "stdout",
     "output_type": "stream",
     "text": [
      "Epoch  60, Train Loss: 0.07150859, Val Loss: 0.07597789\n"
     ]
    },
    {
     "name": "stderr",
     "output_type": "stream",
     "text": [
      " 70%|███████   | 70/100 [03:24<01:27,  2.92s/it]"
     ]
    },
    {
     "name": "stdout",
     "output_type": "stream",
     "text": [
      "Epoch  70, Train Loss: 0.00000000, Val Loss: 0.22363886\n"
     ]
    },
    {
     "name": "stderr",
     "output_type": "stream",
     "text": [
      " 80%|████████  | 80/100 [03:54<00:58,  2.91s/it]"
     ]
    },
    {
     "name": "stdout",
     "output_type": "stream",
     "text": [
      "Epoch  80, Train Loss: 0.29645076, Val Loss: 0.38572901\n"
     ]
    },
    {
     "name": "stderr",
     "output_type": "stream",
     "text": [
      " 90%|█████████ | 90/100 [04:23<00:29,  2.91s/it]"
     ]
    },
    {
     "name": "stdout",
     "output_type": "stream",
     "text": [
      "Epoch  90, Train Loss: 0.25755286, Val Loss: 0.18947302\n"
     ]
    },
    {
     "name": "stderr",
     "output_type": "stream",
     "text": [
      "100%|██████████| 100/100 [04:52<00:00,  2.93s/it]"
     ]
    },
    {
     "name": "stdout",
     "output_type": "stream",
     "text": [
      "Epoch 100, Train Loss: 0.00000000, Val Loss: 0.10308319\n"
     ]
    },
    {
     "name": "stderr",
     "output_type": "stream",
     "text": [
      "\n"
     ]
    }
   ],
   "source": [
    "train_model(model, optimizer, dataloader_train, dataloader_val)"
   ]
  },
  {
   "cell_type": "code",
   "execution_count": 162,
   "id": "ce0bf2a8-2d7d-4eba-8958-a64b0a5b769f",
   "metadata": {
    "tags": []
   },
   "outputs": [],
   "source": [
    "def evaluate_model(model, X_test, y_test):\n",
    "    model.eval()\n",
    "    with torch.no_grad():\n",
    "        y_test_list = []\n",
    "        y_pred_list = [] \n",
    "        for seq, labels in zip(X_test, y_test):\n",
    "            seq, labels = seq.to(device).float(), labels.to(device).float()\n",
    "            y_pred = model(seq.unsqueeze(0))\n",
    "            y_pred = (y_pred > 0.5).float()\n",
    "            \n",
    "            y_test_list.append(labels.squeeze().tolist())\n",
    "            y_pred_list.append(y_pred.squeeze().tolist())\n",
    "    \n",
    "    \n",
    "    target_names = ['Non-Active', 'Active']\n",
    "    print(classification_report(y_test_list, y_pred_list, target_names=target_names))"
   ]
  },
  {
   "cell_type": "code",
   "execution_count": 374,
   "id": "b04a9dc2-f411-452c-9192-57bf0e394d2d",
   "metadata": {
    "tags": []
   },
   "outputs": [],
   "source": [
    "def evaluate_model(model, X_test, y_test):\n",
    "    model.eval()\n",
    "    with torch.no_grad():\n",
    "        y_test_list = []\n",
    "        y_pred_list = [] \n",
    "        for seq, labels in zip(X_test, y_test):\n",
    "            seq, labels = seq.to(device).float(), labels.to(device).float()\n",
    "            y_pred = model(seq.unsqueeze(0), labels.unsqueeze(0), 0)\n",
    "            y_pred = (y_pred > 0.5).float()\n",
    "            \n",
    "            y_test_list.append(labels.squeeze().tolist())\n",
    "            y_pred_list.append(y_pred.squeeze().tolist())\n",
    "    \n",
    "    \n",
    "    target_names = ['Non-Active', 'Active']\n",
    "    print(classification_report(y_test_list, y_pred_list, target_names=target_names))"
   ]
  },
  {
   "cell_type": "markdown",
   "id": "2b70ac93-20b7-44f1-a224-76fd6e7f109a",
   "metadata": {},
   "source": [
    "### Early Stop"
   ]
  },
  {
   "cell_type": "code",
   "execution_count": 62,
   "id": "9f93309f-3825-4104-a190-f9d407d18e89",
   "metadata": {
    "tags": []
   },
   "outputs": [
    {
     "name": "stdout",
     "output_type": "stream",
     "text": [
      "              precision    recall  f1-score   support\n",
      "\n",
      "  Non-Active       0.79      0.74      0.76       739\n",
      "      Active       0.94      0.95      0.95      3097\n",
      "\n",
      "    accuracy                           0.91      3836\n",
      "   macro avg       0.86      0.84      0.85      3836\n",
      "weighted avg       0.91      0.91      0.91      3836\n",
      "\n"
     ]
    }
   ],
   "source": [
    "# early stop\n",
    "evaluate_model(model, X_test, y_test)"
   ]
  },
  {
   "cell_type": "code",
   "execution_count": 63,
   "id": "21f3b9ea-a8b6-455b-8def-70c81fc73001",
   "metadata": {
    "tags": []
   },
   "outputs": [
    {
     "name": "stdout",
     "output_type": "stream",
     "text": [
      "              precision    recall  f1-score   support\n",
      "\n",
      "  Non-Active       0.83      0.82      0.82      2688\n",
      "      Active       0.96      0.96      0.96     11118\n",
      "\n",
      "    accuracy                           0.93     13806\n",
      "   macro avg       0.89      0.89      0.89     13806\n",
      "weighted avg       0.93      0.93      0.93     13806\n",
      "\n"
     ]
    }
   ],
   "source": [
    "evaluate_model(model, X_train, y_train)"
   ]
  },
  {
   "cell_type": "code",
   "execution_count": 64,
   "id": "14080213-ad8c-47da-aeb2-fc07be212f5b",
   "metadata": {
    "tags": []
   },
   "outputs": [
    {
     "name": "stdout",
     "output_type": "stream",
     "text": [
      "              precision    recall  f1-score   support\n",
      "\n",
      "  Non-Active       0.77      0.75      0.76       310\n",
      "      Active       0.94      0.94      0.94      1224\n",
      "\n",
      "    accuracy                           0.90      1534\n",
      "   macro avg       0.85      0.84      0.85      1534\n",
      "weighted avg       0.90      0.90      0.90      1534\n",
      "\n"
     ]
    }
   ],
   "source": [
    "evaluate_model(model, X_val, y_val)"
   ]
  },
  {
   "cell_type": "markdown",
   "id": "5de25aba-9d7f-4c0d-b94a-faace9c0742f",
   "metadata": {},
   "source": [
    "### Last epoch weight"
   ]
  },
  {
   "cell_type": "code",
   "execution_count": 163,
   "id": "7031f12e-8df5-4192-a685-e8d9cb8fb1c9",
   "metadata": {
    "tags": []
   },
   "outputs": [
    {
     "name": "stdout",
     "output_type": "stream",
     "text": [
      "              precision    recall  f1-score   support\n",
      "\n",
      "  Non-Active       0.76      0.71      0.74      2080\n",
      "      Active       0.94      0.95      0.94      9091\n",
      "\n",
      "    accuracy                           0.91     11171\n",
      "   macro avg       0.85      0.83      0.84     11171\n",
      "weighted avg       0.90      0.91      0.90     11171\n",
      "\n"
     ]
    }
   ],
   "source": [
    "# last epoch weight\n",
    "evaluate_model(model, X_test, y_test)"
   ]
  },
  {
   "cell_type": "code",
   "execution_count": 165,
   "id": "72254f47-2696-4e33-b8d2-b25d12bb85ec",
   "metadata": {
    "tags": []
   },
   "outputs": [
    {
     "name": "stdout",
     "output_type": "stream",
     "text": [
      "              precision    recall  f1-score   support\n",
      "\n",
      "  Non-Active       0.79      0.73      0.76      7503\n",
      "      Active       0.94      0.96      0.95     32711\n",
      "\n",
      "    accuracy                           0.91     40214\n",
      "   macro avg       0.87      0.84      0.85     40214\n",
      "weighted avg       0.91      0.91      0.91     40214\n",
      "\n"
     ]
    }
   ],
   "source": [
    "evaluate_model(model, X_train, y_train)"
   ]
  },
  {
   "cell_type": "code",
   "execution_count": 164,
   "id": "6498fa7a-01d1-4e87-a338-2d39294a4c70",
   "metadata": {
    "tags": []
   },
   "outputs": [
    {
     "name": "stdout",
     "output_type": "stream",
     "text": [
      "              precision    recall  f1-score   support\n",
      "\n",
      "  Non-Active       0.78      0.71      0.74       842\n",
      "      Active       0.93      0.95      0.94      3627\n",
      "\n",
      "    accuracy                           0.91      4469\n",
      "   macro avg       0.86      0.83      0.84      4469\n",
      "weighted avg       0.90      0.91      0.91      4469\n",
      "\n"
     ]
    }
   ],
   "source": [
    "evaluate_model(model, X_val, y_val)"
   ]
  },
  {
   "cell_type": "markdown",
   "id": "4e49284e-a20b-4bf0-b7c6-1d378a01902f",
   "metadata": {},
   "source": [
    "### Teacher"
   ]
  },
  {
   "cell_type": "code",
   "execution_count": 375,
   "id": "c7632ad6-334f-486c-a13e-a0635d039feb",
   "metadata": {
    "tags": []
   },
   "outputs": [
    {
     "name": "stdout",
     "output_type": "stream",
     "text": [
      "              precision    recall  f1-score   support\n",
      "\n",
      "  Non-Active       0.75      0.74      0.75      2080\n",
      "      Active       0.94      0.94      0.94      9091\n",
      "\n",
      "    accuracy                           0.91     11171\n",
      "   macro avg       0.85      0.84      0.84     11171\n",
      "weighted avg       0.91      0.91      0.91     11171\n",
      "\n"
     ]
    }
   ],
   "source": [
    "evaluate_model(model, X_test, y_test)"
   ]
  },
  {
   "cell_type": "code",
   "execution_count": null,
   "id": "71c7264c-5b62-4ce3-9ba8-db6455570bde",
   "metadata": {
    "tags": []
   },
   "outputs": [],
   "source": [
    "evaluate_model(model, X_train, y_train)"
   ]
  },
  {
   "cell_type": "code",
   "execution_count": null,
   "id": "8ee78f94-5349-463c-8006-ff64b2d763ff",
   "metadata": {
    "tags": []
   },
   "outputs": [],
   "source": [
    "evaluate_model(model, X_val, y_val)"
   ]
  },
  {
   "cell_type": "code",
   "execution_count": 17,
   "id": "3fafd801-3ddb-4420-87c8-4bcb20283e1b",
   "metadata": {
    "tags": []
   },
   "outputs": [
    {
     "data": {
      "text/plain": [
       "<All keys matched successfully>"
      ]
     },
     "execution_count": 17,
     "metadata": {},
     "output_type": "execute_result"
    }
   ],
   "source": [
    "best_model_path = '/home/jupyter/lstm/model/seq2seq_lstm_weightdecay_01_teacher.pt'\n",
    "\n",
    "input_dim = X_train.shape[2]\n",
    "hidden_dim = 128\n",
    "output_dim = y_train.shape[1]\n",
    "\n",
    "encoder = Encoder(input_dim, hidden_dim)\n",
    "decoder = Decoder(input_dim, hidden_dim, output_dim)\n",
    "best_model = Seq2Seq(encoder, decoder).to(device)\n",
    "\n",
    "best_model.load_state_dict(torch.load(best_model_path))"
   ]
  },
  {
   "cell_type": "code",
   "execution_count": 22,
   "id": "0c412d76-f2be-47a1-9133-974ced887558",
   "metadata": {
    "tags": []
   },
   "outputs": [
    {
     "name": "stdout",
     "output_type": "stream",
     "text": [
      "              precision    recall  f1-score   support\n",
      "\n",
      "  Non-Active       0.77      0.70      0.74      2080\n",
      "      Active       0.93      0.95      0.94      9091\n",
      "\n",
      "    accuracy                           0.91     11171\n",
      "   macro avg       0.85      0.83      0.84     11171\n",
      "weighted avg       0.90      0.91      0.90     11171\n",
      "\n"
     ]
    }
   ],
   "source": [
    "evaluate_model(best_model, X_test, y_test)"
   ]
  },
  {
   "cell_type": "code",
   "execution_count": 23,
   "id": "e4f063c1-eb24-4e83-96ef-841d6209ff56",
   "metadata": {
    "tags": []
   },
   "outputs": [
    {
     "name": "stdout",
     "output_type": "stream",
     "text": [
      "              precision    recall  f1-score   support\n",
      "\n",
      "  Non-Active       0.80      0.71      0.75      7503\n",
      "      Active       0.93      0.96      0.95     32711\n",
      "\n",
      "    accuracy                           0.91     40214\n",
      "   macro avg       0.87      0.83      0.85     40214\n",
      "weighted avg       0.91      0.91      0.91     40214\n",
      "\n"
     ]
    }
   ],
   "source": [
    "evaluate_model(best_model, X_train, y_train)"
   ]
  },
  {
   "cell_type": "code",
   "execution_count": 24,
   "id": "92ab04ff-7518-4502-ad56-a76239254349",
   "metadata": {
    "tags": []
   },
   "outputs": [
    {
     "name": "stdout",
     "output_type": "stream",
     "text": [
      "              precision    recall  f1-score   support\n",
      "\n",
      "  Non-Active       0.78      0.69      0.73       842\n",
      "      Active       0.93      0.96      0.94      3627\n",
      "\n",
      "    accuracy                           0.91      4469\n",
      "   macro avg       0.86      0.82      0.84      4469\n",
      "weighted avg       0.90      0.91      0.90      4469\n",
      "\n"
     ]
    }
   ],
   "source": [
    "evaluate_model(best_model, X_val, y_val)"
   ]
  },
  {
   "cell_type": "markdown",
   "id": "b885297e-adcf-44d7-aee6-b76925f200c6",
   "metadata": {},
   "source": [
    "### Best Model"
   ]
  },
  {
   "cell_type": "code",
   "execution_count": 166,
   "id": "b53e7068-c16e-4958-816c-f74442004ff7",
   "metadata": {
    "tags": []
   },
   "outputs": [
    {
     "data": {
      "text/plain": [
       "<All keys matched successfully>"
      ]
     },
     "execution_count": 166,
     "metadata": {},
     "output_type": "execute_result"
    }
   ],
   "source": [
    "best_model_path = '/home/jupyter/lstm/model/seq2seq_lstm_weightdecay_01.pt'\n",
    "\n",
    "input_dim = X_train.shape[2]\n",
    "hidden_dim = 128\n",
    "output_dim = y_train.shape[1]\n",
    "\n",
    "encoder = Encoder(input_dim, hidden_dim)\n",
    "decoder = Decoder(input_dim, hidden_dim, output_dim)\n",
    "best_model = Seq2Seq(encoder, decoder).to(device)\n",
    "\n",
    "best_model.load_state_dict(torch.load(best_model_path))"
   ]
  },
  {
   "cell_type": "code",
   "execution_count": 167,
   "id": "7b6d179f-ba40-4b7a-95f7-b1015b8f2e5d",
   "metadata": {
    "tags": []
   },
   "outputs": [
    {
     "name": "stdout",
     "output_type": "stream",
     "text": [
      "              precision    recall  f1-score   support\n",
      "\n",
      "  Non-Active       0.75      0.74      0.74      2080\n",
      "      Active       0.94      0.94      0.94      9091\n",
      "\n",
      "    accuracy                           0.91     11171\n",
      "   macro avg       0.84      0.84      0.84     11171\n",
      "weighted avg       0.90      0.91      0.91     11171\n",
      "\n"
     ]
    }
   ],
   "source": [
    "# best model weight\n",
    "evaluate_model(best_model, X_test, y_test)"
   ]
  },
  {
   "cell_type": "code",
   "execution_count": 168,
   "id": "c50136d0-babd-4cd9-973a-f8aebec8c8c7",
   "metadata": {
    "tags": []
   },
   "outputs": [
    {
     "name": "stdout",
     "output_type": "stream",
     "text": [
      "              precision    recall  f1-score   support\n",
      "\n",
      "  Non-Active       0.77      0.75      0.76      7503\n",
      "      Active       0.94      0.95      0.95     32711\n",
      "\n",
      "    accuracy                           0.91     40214\n",
      "   macro avg       0.86      0.85      0.85     40214\n",
      "weighted avg       0.91      0.91      0.91     40214\n",
      "\n"
     ]
    }
   ],
   "source": [
    "evaluate_model(best_model, X_train, y_train)"
   ]
  },
  {
   "cell_type": "code",
   "execution_count": 169,
   "id": "615f849e-966d-4b6f-a228-bc8ddb02962a",
   "metadata": {
    "tags": []
   },
   "outputs": [
    {
     "name": "stdout",
     "output_type": "stream",
     "text": [
      "              precision    recall  f1-score   support\n",
      "\n",
      "  Non-Active       0.77      0.73      0.75       842\n",
      "      Active       0.94      0.95      0.94      3627\n",
      "\n",
      "    accuracy                           0.91      4469\n",
      "   macro avg       0.85      0.84      0.85      4469\n",
      "weighted avg       0.91      0.91      0.91      4469\n",
      "\n"
     ]
    }
   ],
   "source": [
    "evaluate_model(best_model, X_val, y_val)"
   ]
  },
  {
   "cell_type": "markdown",
   "id": "3a2316d2-2550-4663-8b72-21bb183c419a",
   "metadata": {},
   "source": [
    "### Best Model & ROC"
   ]
  },
  {
   "cell_type": "code",
   "execution_count": 172,
   "id": "93f9c49d-aded-4ea0-a862-fec54b16177c",
   "metadata": {
    "tags": []
   },
   "outputs": [
    {
     "name": "stderr",
     "output_type": "stream",
     "text": [
      "/var/tmp/ipykernel_374275/3255369871.py:18: RuntimeWarning: invalid value encountered in divide\n"
     ]
    },
    {
     "data": {
      "image/png": "[encoded data removed]",
      "text/plain": [
       "<Figure size 640x480 with 1 Axes>"
      ]
     },
     "metadata": {},
     "output_type": "display_data"
    }
   ],
   "source": [
    "# weight decay: 0.01, batch size: 16\n",
    "precision, recall, thresholds = draw_roc_curve(best_model, X_train, y_train)"
   ]
  },
  {
   "cell_type": "code",
   "execution_count": 174,
   "id": "d61629db-67e0-4817-ac61-493ca5fcfb6e",
   "metadata": {
    "tags": []
   },
   "outputs": [
    {
     "name": "stdout",
     "output_type": "stream",
     "text": [
      "best threshold: 0\n",
      "              precision    recall  f1-score   support\n",
      "\n",
      "  Non-Active       0.00      0.00      0.00      2080\n",
      "      Active       0.81      1.00      0.90      9091\n",
      "\n",
      "    accuracy                           0.81     11171\n",
      "   macro avg       0.41      0.50      0.45     11171\n",
      "weighted avg       0.66      0.81      0.73     11171\n",
      "\n"
     ]
    },
    {
     "name": "stderr",
     "output_type": "stream",
     "text": [
      "/opt/conda/lib/python3.10/site-packages/sklearn/metrics/_classification.py:1509: UndefinedMetricWarning: Precision is ill-defined and being set to 0.0 in labels with no predicted samples. Use `zero_division` parameter to control this behavior.\n",
      "/opt/conda/lib/python3.10/site-packages/sklearn/metrics/_classification.py:1509: UndefinedMetricWarning: Precision is ill-defined and being set to 0.0 in labels with no predicted samples. Use `zero_division` parameter to control this behavior.\n",
      "/opt/conda/lib/python3.10/site-packages/sklearn/metrics/_classification.py:1509: UndefinedMetricWarning: Precision is ill-defined and being set to 0.0 in labels with no predicted samples. Use `zero_division` parameter to control this behavior.\n"
     ]
    }
   ],
   "source": [
    "# threshold: 0, weight decay: 0.01, batch size: 16\n",
    "evaluate_model_best_threshold(best_model, X_test, y_test, precision, recall, thresholds)"
   ]
  },
  {
   "cell_type": "code",
   "execution_count": 177,
   "id": "084b4025-140f-455a-8ac8-396bcb26ac1d",
   "metadata": {
    "tags": []
   },
   "outputs": [
    {
     "name": "stdout",
     "output_type": "stream",
     "text": [
      "              precision    recall  f1-score   support\n",
      "\n",
      "  Non-Active       0.71      0.79      0.75      2080\n",
      "      Active       0.95      0.93      0.94      9091\n",
      "\n",
      "    accuracy                           0.90     11171\n",
      "   macro avg       0.83      0.86      0.84     11171\n",
      "weighted avg       0.91      0.90      0.90     11171\n",
      "\n"
     ]
    }
   ],
   "source": [
    "# threshold: 0.1, weight decay: 0.1, batch size: 16\n",
    "best_model.eval()\n",
    "with torch.no_grad():\n",
    "    y_test_list = []\n",
    "    y_pred_list = [] \n",
    "    for seq, labels in zip(X_test, y_test):\n",
    "        seq, labels = seq.to(device).float(), labels.to(device).float()\n",
    "        y_pred = best_model(seq.unsqueeze(0))\n",
    "        y_pred = (y_pred > 0.6).float()\n",
    "\n",
    "        y_test_list.append(labels.squeeze().tolist())\n",
    "        y_pred_list.append(y_pred.squeeze().tolist())\n",
    "\n",
    "\n",
    "target_names = ['Non-Active', 'Active']\n",
    "print(classification_report(y_test_list, y_pred_list, target_names=target_names))"
   ]
  },
  {
   "cell_type": "code",
   "execution_count": 178,
   "id": "ee14da5f-7a41-438d-bb45-c397192655a7",
   "metadata": {
    "tags": []
   },
   "outputs": [
    {
     "name": "stdout",
     "output_type": "stream",
     "text": [
      "              precision    recall  f1-score   support\n",
      "\n",
      "  Non-Active       0.78      0.67      0.72      2080\n",
      "      Active       0.93      0.96      0.94      9091\n",
      "\n",
      "    accuracy                           0.90     11171\n",
      "   macro avg       0.86      0.82      0.83     11171\n",
      "weighted avg       0.90      0.90      0.90     11171\n",
      "\n"
     ]
    }
   ],
   "source": [
    "# threshold: 0.1, weight decay: 0.1, batch size: 16\n",
    "best_model.eval()\n",
    "with torch.no_grad():\n",
    "    y_test_list = []\n",
    "    y_pred_list = [] \n",
    "    for seq, labels in zip(X_test, y_test):\n",
    "        seq, labels = seq.to(device).float(), labels.to(device).float()\n",
    "        y_pred = best_model(seq.unsqueeze(0))\n",
    "        y_pred = (y_pred > 0.4).float()\n",
    "\n",
    "        y_test_list.append(labels.squeeze().tolist())\n",
    "        y_pred_list.append(y_pred.squeeze().tolist())\n",
    "\n",
    "\n",
    "target_names = ['Non-Active', 'Active']\n",
    "print(classification_report(y_test_list, y_pred_list, target_names=target_names))"
   ]
  },
  {
   "cell_type": "markdown",
   "id": "24eda806-21dc-4be5-9e37-f51b2bafa064",
   "metadata": {},
   "source": [
    "## GRU"
   ]
  },
  {
   "cell_type": "code",
   "execution_count": 9,
   "id": "b7c1e2c5-6216-4fb6-a275-4c8f10039adc",
   "metadata": {
    "tags": []
   },
   "outputs": [],
   "source": [
    "device = torch.device('cuda' if torch.cuda.is_available() else 'cpu')"
   ]
  },
  {
   "cell_type": "code",
   "execution_count": 37,
   "id": "adf9baa0-db86-4bec-839c-9b1cbafe8efc",
   "metadata": {
    "tags": []
   },
   "outputs": [],
   "source": [
    "batch_size = 32\n",
    "\n",
    "dataset_train = TensorDataset(X_train, y_train)\n",
    "dataloader_train = DataLoader(dataset_train, batch_size=batch_size, shuffle=True)\n",
    "\n",
    "dataset_val = TensorDataset(X_val, y_val)\n",
    "dataloader_val = DataLoader(dataset_val, batch_size=batch_size, shuffle=True)"
   ]
  },
  {
   "cell_type": "code",
   "execution_count": 38,
   "id": "b69483b8-b431-42fa-8733-f7e4cba8e2b3",
   "metadata": {
    "tags": []
   },
   "outputs": [],
   "source": [
    "class GRUModel(nn.Module):\n",
    "    def __init__(self, input_dim, hidden_dim, output_dim, num_layers=2):\n",
    "        super(GRUModel, self).__init__()\n",
    "        self.relu = nn.ReLU()\n",
    "        self.dropout = nn.Dropout(p=0.5)\n",
    "        self.extracter = nn.Linear(input_dim, input_dim)\n",
    "        self.gru = nn.GRU(input_dim, hidden_dim, num_layers, batch_first=True)\n",
    "        self.mid_fc = nn.Linear(hidden_dim, hidden_dim)\n",
    "        self.fc = nn.Linear(hidden_dim, output_dim)\n",
    "    \n",
    "    def forward(self, x):\n",
    "        # x: (batch_size, seq_len, input_dim)\n",
    "        x = self.dropout(self.relu(self.extracter(x)))\n",
    "        _, hidden = self.gru(x)\n",
    "        mid_output = self.dropout(self.relu(self.mid_fc(hidden[-1])))\n",
    "        output = torch.sigmoid(self.fc(mid_output))\n",
    "        return output"
   ]
  },
  {
   "cell_type": "code",
   "execution_count": 36,
   "id": "976751d5-12a5-4a1d-8798-8444bb56f69a",
   "metadata": {
    "tags": []
   },
   "outputs": [
    {
     "data": {
      "text/plain": [
       "39.28125"
      ]
     },
     "execution_count": 36,
     "metadata": {},
     "output_type": "execute_result"
    }
   ],
   "source": [
    "len(dataloader_train) / batch_size"
   ]
  },
  {
   "cell_type": "code",
   "execution_count": 39,
   "id": "7e1a5d13-7338-401d-b39c-1f3201836ba3",
   "metadata": {
    "tags": []
   },
   "outputs": [],
   "source": [
    "model = GRUModel(input_dim=X_train.shape[2], hidden_dim=128, output_dim=y_train.shape[1]).to(device) # input_dim, hidden_dim, output_dim\n",
    "\n",
    "# Loss function & Optimizer\n",
    "loss_function = nn.BCELoss()\n",
    "optimizer = torch.optim.AdamW(model.parameters(), lr=0.00001, weight_decay=0.1) # , weight_decay=0.01\n",
    "\n",
    "# Learning rate scheduler\n",
    "epochs = 100\n",
    "# steps_per_epoch = len(dataloader_train) // batch_size\n",
    "total_steps = len(dataloader_train) * epochs\n",
    "scheduler = OneCycleLR(optimizer, max_lr=0.0001, total_steps=total_steps, epochs=epochs)"
   ]
  },
  {
   "cell_type": "code",
   "execution_count": 40,
   "id": "87e2c3fa-654a-4704-b9e4-b2a08827ace9",
   "metadata": {
    "tags": []
   },
   "outputs": [],
   "source": [
    "def train_model(model, optimizer, dataloader_train, dataloader_val, scheduler, epochs):\n",
    "    \n",
    "    # patience = 20\n",
    "    best_val_loss = float('inf')\n",
    "    # counter = 0\n",
    "    # epoch = 0\n",
    "\n",
    "    train_losses = []\n",
    "    val_losses = []\n",
    "    \n",
    "    for epoch in tqdm.tqdm(range(epochs)):\n",
    "        model.train()\n",
    "        epoch += 1\n",
    "        for batch in dataloader_train:\n",
    "            seqs, labels = batch\n",
    "            seqs, labels = seqs.to(device).float(), labels.to(device).float()\n",
    "            optimizer.zero_grad()\n",
    "\n",
    "            y_pred = model(seqs)\n",
    "            loss = loss_function(y_pred, labels)\n",
    "            loss.backward()\n",
    "            optimizer.step()\n",
    "            scheduler.step()\n",
    "        \n",
    "        train_losses.append(loss.item())\n",
    "        \n",
    "        \n",
    "        model.eval()\n",
    "        with torch.no_grad():\n",
    "            for batch in dataloader_val:\n",
    "                seqs, labels = batch\n",
    "                seqs, labels = seqs.to(device).float(), labels.to(device).float()\n",
    "                val_pred = model(seqs)\n",
    "                val_pred = val_pred\n",
    "                labels = labels\n",
    "                val_loss = loss_function(val_pred, labels)\n",
    "            val_losses.append(val_loss.item())\n",
    "        \n",
    "        # if epoch % 10 == 0:\n",
    "        #     \n",
    "        print(f'Epoch {epoch:3}, Train Loss: {loss.item():10.8f}, Val Loss: {val_loss.item():10.8f}')\n",
    "        current_lr = scheduler.get_last_lr()[0]\n",
    "        print(f'Epoch {epoch:3}, Loss: {loss.item()}, Learning Rate: {current_lr}')\n",
    "\n",
    "\n",
    "                \n",
    "        # best model weight\n",
    "        if val_loss < best_val_loss:\n",
    "            best_val_loss = val_loss\n",
    "            torch.save(model.state_dict(), f'/home/jupyter/lstm/model/gru_best_model_weightdecay01_v3.pt')\n",
    "    \n",
    "    \n",
    "    plt.plot(list(range(1, epochs+1, 1)), val_losses)\n",
    "    plt.plot(list(range(1, epochs+1, 1)), train_losses)\n",
    "    plt.xlabel('Model Complexity')\n",
    "    plt.ylabel('Validation Loss')\n",
    "    plt.title('Validation Loss vs. Model Complexity')\n",
    "    plt.show()"
   ]
  },
  {
   "cell_type": "code",
   "execution_count": 41,
   "id": "4b2a2650-0c89-4f33-8de8-47285099efad",
   "metadata": {
    "collapsed": true,
    "jupyter": {
     "outputs_hidden": true
    },
    "tags": []
   },
   "outputs": [
    {
     "name": "stderr",
     "output_type": "stream",
     "text": [
      "  1%|          | 1/100 [00:03<06:08,  3.72s/it]"
     ]
    },
    {
     "name": "stdout",
     "output_type": "stream",
     "text": [
      "Epoch   1, Train Loss: 0.55787051, Val Loss: 0.58009636\n",
      "Epoch   1, Loss: 0.5578705072402954, Learning Rate: 4.2629629559807634e-06\n"
     ]
    },
    {
     "name": "stderr",
     "output_type": "stream",
     "text": [
      "  2%|▏         | 2/100 [00:07<06:01,  3.68s/it]"
     ]
    },
    {
     "name": "stdout",
     "output_type": "stream",
     "text": [
      "Epoch   2, Train Loss: 0.41817069, Val Loss: 0.59279424\n",
      "Epoch   2, Loss: 0.418170690536499, Learning Rate: 5.048970594080608e-06\n"
     ]
    },
    {
     "name": "stderr",
     "output_type": "stream",
     "text": [
      "  3%|▎         | 3/100 [00:11<05:59,  3.71s/it]"
     ]
    },
    {
     "name": "stdout",
     "output_type": "stream",
     "text": [
      "Epoch   3, Train Loss: 0.30229703, Val Loss: 0.46863639\n",
      "Epoch   3, Loss: 0.30229702591896057, Learning Rate: 6.349410793802135e-06\n"
     ]
    },
    {
     "name": "stderr",
     "output_type": "stream",
     "text": [
      "  4%|▍         | 4/100 [00:14<05:53,  3.69s/it]"
     ]
    },
    {
     "name": "stdout",
     "output_type": "stream",
     "text": [
      "Epoch   4, Train Loss: 0.34397143, Val Loss: 0.40554142\n",
      "Epoch   4, Loss: 0.3439714312553406, Learning Rate: 8.150034905187202e-06\n"
     ]
    },
    {
     "name": "stderr",
     "output_type": "stream",
     "text": [
      "  5%|▌         | 5/100 [00:18<05:52,  3.72s/it]"
     ]
    },
    {
     "name": "stdout",
     "output_type": "stream",
     "text": [
      "Epoch   5, Train Loss: 0.32351860, Val Loss: 0.40844390\n",
      "Epoch   5, Loss: 0.3235186040401459, Learning Rate: 1.043111386827998e-05\n"
     ]
    },
    {
     "name": "stderr",
     "output_type": "stream",
     "text": [
      "  6%|▌         | 6/100 [00:22<05:48,  3.71s/it]"
     ]
    },
    {
     "name": "stdout",
     "output_type": "stream",
     "text": [
      "Epoch   6, Train Loss: 0.27127719, Val Loss: 0.30626890\n",
      "Epoch   6, Loss: 0.27127718925476074, Learning Rate: 1.3167654380290438e-05\n"
     ]
    },
    {
     "name": "stderr",
     "output_type": "stream",
     "text": [
      "  7%|▋         | 7/100 [00:25<05:44,  3.71s/it]"
     ]
    },
    {
     "name": "stdout",
     "output_type": "stream",
     "text": [
      "Epoch   7, Train Loss: 0.57582104, Val Loss: 0.19754046\n",
      "Epoch   7, Loss: 0.575821042060852, Learning Rate: 1.6329672741960283e-05\n"
     ]
    },
    {
     "name": "stderr",
     "output_type": "stream",
     "text": [
      "  8%|▊         | 8/100 [00:29<05:45,  3.76s/it]"
     ]
    },
    {
     "name": "stdout",
     "output_type": "stream",
     "text": [
      "Epoch   8, Train Loss: 0.30956259, Val Loss: 0.25126675\n",
      "Epoch   8, Loss: 0.3095625936985016, Learning Rate: 1.9882523382654094e-05\n"
     ]
    },
    {
     "name": "stderr",
     "output_type": "stream",
     "text": [
      "  9%|▉         | 9/100 [00:33<05:39,  3.74s/it]"
     ]
    },
    {
     "name": "stdout",
     "output_type": "stream",
     "text": [
      "Epoch   9, Train Loss: 0.19851108, Val Loss: 0.15780149\n",
      "Epoch   9, Loss: 0.19851107895374298, Learning Rate: 2.3787278464595425e-05\n"
     ]
    },
    {
     "name": "stderr",
     "output_type": "stream",
     "text": [
      " 10%|█         | 10/100 [00:37<05:34,  3.72s/it]"
     ]
    },
    {
     "name": "stdout",
     "output_type": "stream",
     "text": [
      "Epoch  10, Train Loss: 0.16394930, Val Loss: 0.25422794\n",
      "Epoch  10, Loss: 0.16394929587841034, Learning Rate: 2.800115440700391e-05\n"
     ]
    },
    {
     "name": "stderr",
     "output_type": "stream",
     "text": [
      " 11%|█         | 11/100 [00:40<05:32,  3.73s/it]"
     ]
    },
    {
     "name": "stdout",
     "output_type": "stream",
     "text": [
      "Epoch  11, Train Loss: 0.19672364, Val Loss: 0.22723471\n",
      "Epoch  11, Loss: 0.19672363996505737, Learning Rate: 3.247798065679823e-05\n"
     ]
    },
    {
     "name": "stderr",
     "output_type": "stream",
     "text": [
      " 12%|█▏        | 12/100 [00:44<05:25,  3.70s/it]"
     ]
    },
    {
     "name": "stdout",
     "output_type": "stream",
     "text": [
      "Epoch  12, Train Loss: 0.17419596, Val Loss: 0.19013095\n",
      "Epoch  12, Loss: 0.17419596016407013, Learning Rate: 3.7168705569642636e-05\n"
     ]
    },
    {
     "name": "stderr",
     "output_type": "stream",
     "text": [
      " 13%|█▎        | 13/100 [00:48<05:23,  3.72s/it]"
     ]
    },
    {
     "name": "stdout",
     "output_type": "stream",
     "text": [
      "Epoch  13, Train Loss: 0.22634156, Val Loss: 0.23452841\n",
      "Epoch  13, Loss: 0.22634156048297882, Learning Rate: 4.2021933858504865e-05\n"
     ]
    },
    {
     "name": "stderr",
     "output_type": "stream",
     "text": [
      " 14%|█▍        | 14/100 [00:52<05:21,  3.73s/it]"
     ]
    },
    {
     "name": "stdout",
     "output_type": "stream",
     "text": [
      "Epoch  14, Train Loss: 0.11879089, Val Loss: 0.21698886\n",
      "Epoch  14, Loss: 0.1187908872961998, Learning Rate: 4.698448972101454e-05\n"
     ]
    },
    {
     "name": "stderr",
     "output_type": "stream",
     "text": [
      " 15%|█▌        | 15/100 [00:55<05:18,  3.74s/it]"
     ]
    },
    {
     "name": "stdout",
     "output_type": "stream",
     "text": [
      "Epoch  15, Train Loss: 0.25818461, Val Loss: 0.20688610\n",
      "Epoch  15, Loss: 0.25818461179733276, Learning Rate: 5.200199947555397e-05\n"
     ]
    },
    {
     "name": "stderr",
     "output_type": "stream",
     "text": [
      " 16%|█▌        | 16/100 [00:59<05:15,  3.75s/it]"
     ]
    },
    {
     "name": "stdout",
     "output_type": "stream",
     "text": [
      "Epoch  16, Train Loss: 0.10646139, Val Loss: 0.34558791\n",
      "Epoch  16, Loss: 0.10646139085292816, Learning Rate: 5.7019487322259976e-05\n"
     ]
    },
    {
     "name": "stderr",
     "output_type": "stream",
     "text": [
      " 17%|█▋        | 17/100 [01:03<05:10,  3.74s/it]"
     ]
    },
    {
     "name": "stdout",
     "output_type": "stream",
     "text": [
      "Epoch  17, Train Loss: 0.20748113, Val Loss: 0.10302392\n",
      "Epoch  17, Loss: 0.20748113095760345, Learning Rate: 6.198197770130893e-05\n"
     ]
    },
    {
     "name": "stderr",
     "output_type": "stream",
     "text": [
      " 18%|█▊        | 18/100 [01:07<05:07,  3.75s/it]"
     ]
    },
    {
     "name": "stdout",
     "output_type": "stream",
     "text": [
      "Epoch  18, Train Loss: 0.15284292, Val Loss: 0.36230174\n",
      "Epoch  18, Loss: 0.1528429239988327, Learning Rate: 6.683509764857161e-05\n"
     ]
    },
    {
     "name": "stderr",
     "output_type": "stream",
     "text": [
      " 19%|█▉        | 19/100 [01:10<05:04,  3.76s/it]"
     ]
    },
    {
     "name": "stdout",
     "output_type": "stream",
     "text": [
      "Epoch  19, Train Loss: 0.08620037, Val Loss: 0.20909461\n",
      "Epoch  19, Loss: 0.08620037138462067, Learning Rate: 7.152567254875382e-05\n"
     ]
    },
    {
     "name": "stderr",
     "output_type": "stream",
     "text": [
      " 20%|██        | 20/100 [01:14<04:59,  3.75s/it]"
     ]
    },
    {
     "name": "stdout",
     "output_type": "stream",
     "text": [
      "Epoch  20, Train Loss: 0.12151117, Val Loss: 0.28471592\n",
      "Epoch  20, Loss: 0.12151116877794266, Learning Rate: 7.60023087584805e-05\n"
     ]
    },
    {
     "name": "stderr",
     "output_type": "stream",
     "text": [
      " 21%|██        | 21/100 [01:18<04:56,  3.75s/it]"
     ]
    },
    {
     "name": "stdout",
     "output_type": "stream",
     "text": [
      "Epoch  21, Train Loss: 0.25026479, Val Loss: 0.47827911\n",
      "Epoch  21, Loss: 0.2502647936344147, Learning Rate: 8.021595671564498e-05\n"
     ]
    },
    {
     "name": "stderr",
     "output_type": "stream",
     "text": [
      " 22%|██▏       | 22/100 [01:22<04:53,  3.76s/it]"
     ]
    },
    {
     "name": "stdout",
     "output_type": "stream",
     "text": [
      "Epoch  22, Train Loss: 0.23265900, Val Loss: 0.27768195\n",
      "Epoch  22, Loss: 0.2326589971780777, Learning Rate: 8.412044836515233e-05\n"
     ]
    },
    {
     "name": "stderr",
     "output_type": "stream",
     "text": [
      " 23%|██▎       | 23/100 [01:26<04:52,  3.79s/it]"
     ]
    },
    {
     "name": "stdout",
     "output_type": "stream",
     "text": [
      "Epoch  23, Train Loss: 0.19316523, Val Loss: 0.29922438\n",
      "Epoch  23, Loss: 0.19316522777080536, Learning Rate: 8.767300301259602e-05\n"
     ]
    },
    {
     "name": "stderr",
     "output_type": "stream",
     "text": [
      " 24%|██▍       | 24/100 [01:29<04:46,  3.77s/it]"
     ]
    },
    {
     "name": "stdout",
     "output_type": "stream",
     "text": [
      "Epoch  24, Train Loss: 0.27470294, Val Loss: 0.15914103\n",
      "Epoch  24, Loss: 0.27470293641090393, Learning Rate: 9.083469606333543e-05\n"
     ]
    },
    {
     "name": "stderr",
     "output_type": "stream",
     "text": [
      " 25%|██▌       | 25/100 [01:33<04:42,  3.77s/it]"
     ]
    },
    {
     "name": "stdout",
     "output_type": "stream",
     "text": [
      "Epoch  25, Train Loss: 0.18221444, Val Loss: 0.23878670\n",
      "Epoch  25, Loss: 0.18221443891525269, Learning Rate: 9.357088551109864e-05\n"
     ]
    },
    {
     "name": "stderr",
     "output_type": "stream",
     "text": [
      " 26%|██▌       | 26/100 [01:37<04:36,  3.73s/it]"
     ]
    },
    {
     "name": "stdout",
     "output_type": "stream",
     "text": [
      "Epoch  26, Train Loss: 0.17761165, Val Loss: 0.06538530\n",
      "Epoch  26, Loss: 0.17761164903640747, Learning Rate: 9.585159150316451e-05\n"
     ]
    },
    {
     "name": "stderr",
     "output_type": "stream",
     "text": [
      " 27%|██▋       | 27/100 [01:40<04:33,  3.75s/it]"
     ]
    },
    {
     "name": "stdout",
     "output_type": "stream",
     "text": [
      "Epoch  27, Train Loss: 0.18147664, Val Loss: 0.14171270\n",
      "Epoch  27, Loss: 0.1814766377210617, Learning Rate: 9.765182482330818e-05\n"
     ]
    },
    {
     "name": "stderr",
     "output_type": "stream",
     "text": [
      " 28%|██▊       | 28/100 [01:44<04:28,  3.73s/it]"
     ]
    },
    {
     "name": "stdout",
     "output_type": "stream",
     "text": [
      "Epoch  28, Train Loss: 0.25100189, Val Loss: 0.17858006\n",
      "Epoch  28, Loss: 0.25100189447402954, Learning Rate: 9.89518606933913e-05\n"
     ]
    },
    {
     "name": "stderr",
     "output_type": "stream",
     "text": [
      " 29%|██▉       | 29/100 [01:48<04:24,  3.72s/it]"
     ]
    },
    {
     "name": "stdout",
     "output_type": "stream",
     "text": [
      "Epoch  29, Train Loss: 0.25416997, Val Loss: 0.19923715\n",
      "Epoch  29, Loss: 0.2541699707508087, Learning Rate: 9.973745489361064e-05\n"
     ]
    },
    {
     "name": "stderr",
     "output_type": "stream",
     "text": [
      " 30%|███       | 30/100 [01:52<04:20,  3.72s/it]"
     ]
    },
    {
     "name": "stdout",
     "output_type": "stream",
     "text": [
      "Epoch  30, Train Loss: 0.34908998, Val Loss: 0.18681698\n",
      "Epoch  30, Loss: 0.34908998012542725, Learning Rate: 9.999999996813078e-05\n"
     ]
    },
    {
     "name": "stderr",
     "output_type": "stream",
     "text": [
      " 31%|███       | 31/100 [01:55<04:15,  3.70s/it]"
     ]
    },
    {
     "name": "stdout",
     "output_type": "stream",
     "text": [
      "Epoch  31, Train Loss: 0.21767738, Val Loss: 0.32747239\n",
      "Epoch  31, Loss: 0.21767738461494446, Learning Rate: 9.994957340429934e-05\n"
     ]
    },
    {
     "name": "stderr",
     "output_type": "stream",
     "text": [
      " 32%|███▏      | 32/100 [01:59<04:10,  3.68s/it]"
     ]
    },
    {
     "name": "stdout",
     "output_type": "stream",
     "text": [
      "Epoch  32, Train Loss: 0.32276925, Val Loss: 0.12046246\n",
      "Epoch  32, Loss: 0.32276925444602966, Learning Rate: 9.97985554498256e-05\n"
     ]
    },
    {
     "name": "stderr",
     "output_type": "stream",
     "text": [
      " 33%|███▎      | 33/100 [02:02<04:06,  3.67s/it]"
     ]
    },
    {
     "name": "stdout",
     "output_type": "stream",
     "text": [
      "Epoch  33, Train Loss: 0.16569310, Val Loss: 0.19002384\n",
      "Epoch  33, Loss: 0.16569310426712036, Learning Rate: 9.954725023477196e-05\n"
     ]
    },
    {
     "name": "stderr",
     "output_type": "stream",
     "text": [
      " 34%|███▍      | 34/100 [02:06<04:03,  3.69s/it]"
     ]
    },
    {
     "name": "stdout",
     "output_type": "stream",
     "text": [
      "Epoch  34, Train Loss: 0.17997403, Val Loss: 0.22982112\n",
      "Epoch  34, Loss: 0.1799740344285965, Learning Rate: 9.919616385439723e-05\n"
     ]
    },
    {
     "name": "stderr",
     "output_type": "stream",
     "text": [
      " 35%|███▌      | 35/100 [02:10<04:02,  3.73s/it]"
     ]
    },
    {
     "name": "stdout",
     "output_type": "stream",
     "text": [
      "Epoch  35, Train Loss: 0.05989427, Val Loss: 0.31089661\n",
      "Epoch  35, Loss: 0.059894271194934845, Learning Rate: 9.874600334994796e-05\n"
     ]
    },
    {
     "name": "stderr",
     "output_type": "stream",
     "text": [
      " 36%|███▌      | 36/100 [02:14<03:57,  3.71s/it]"
     ]
    },
    {
     "name": "stdout",
     "output_type": "stream",
     "text": [
      "Epoch  36, Train Loss: 0.18902504, Val Loss: 0.20872453\n",
      "Epoch  36, Loss: 0.18902504444122314, Learning Rate: 9.819767528477156e-05\n"
     ]
    },
    {
     "name": "stderr",
     "output_type": "stream",
     "text": [
      " 37%|███▋      | 37/100 [02:17<03:54,  3.73s/it]"
     ]
    },
    {
     "name": "stdout",
     "output_type": "stream",
     "text": [
      "Epoch  37, Train Loss: 0.12828968, Val Loss: 0.15959394\n",
      "Epoch  37, Loss: 0.12828968465328217, Learning Rate: 9.755228391861838e-05\n"
     ]
    },
    {
     "name": "stderr",
     "output_type": "stream",
     "text": [
      " 38%|███▊      | 38/100 [02:21<03:53,  3.76s/it]"
     ]
    },
    {
     "name": "stdout",
     "output_type": "stream",
     "text": [
      "Epoch  38, Train Loss: 0.46115693, Val Loss: 0.19755338\n",
      "Epoch  38, Loss: 0.4611569344997406, Learning Rate: 9.681112898380945e-05\n"
     ]
    },
    {
     "name": "stderr",
     "output_type": "stream",
     "text": [
      " 39%|███▉      | 39/100 [02:25<03:48,  3.75s/it]"
     ]
    },
    {
     "name": "stdout",
     "output_type": "stream",
     "text": [
      "Epoch  39, Train Loss: 0.29257318, Val Loss: 0.04428281\n",
      "Epoch  39, Loss: 0.2925731837749481, Learning Rate: 9.597570306774865e-05\n"
     ]
    },
    {
     "name": "stderr",
     "output_type": "stream",
     "text": [
      " 40%|████      | 40/100 [02:29<03:43,  3.73s/it]"
     ]
    },
    {
     "name": "stdout",
     "output_type": "stream",
     "text": [
      "Epoch  40, Train Loss: 0.26904440, Val Loss: 0.29723307\n",
      "Epoch  40, Loss: 0.2690443992614746, Learning Rate: 9.504768860705023e-05\n"
     ]
    },
    {
     "name": "stderr",
     "output_type": "stream",
     "text": [
      " 41%|████      | 41/100 [02:33<03:41,  3.75s/it]"
     ]
    },
    {
     "name": "stdout",
     "output_type": "stream",
     "text": [
      "Epoch  41, Train Loss: 0.25546366, Val Loss: 0.22317283\n",
      "Epoch  41, Loss: 0.2554636597633362, Learning Rate: 9.402895449933542e-05\n"
     ]
    },
    {
     "name": "stderr",
     "output_type": "stream",
     "text": [
      " 42%|████▏     | 42/100 [02:36<03:34,  3.71s/it]"
     ]
    },
    {
     "name": "stdout",
     "output_type": "stream",
     "text": [
      "Epoch  42, Train Loss: 0.22721812, Val Loss: 0.43547076\n",
      "Epoch  42, Loss: 0.2272181212902069, Learning Rate: 9.292155233952138e-05\n"
     ]
    },
    {
     "name": "stderr",
     "output_type": "stream",
     "text": [
      " 43%|████▎     | 43/100 [02:40<03:32,  3.72s/it]"
     ]
    },
    {
     "name": "stdout",
     "output_type": "stream",
     "text": [
      "Epoch  43, Train Loss: 0.13542059, Val Loss: 0.18131885\n",
      "Epoch  43, Loss: 0.13542059063911438, Learning Rate: 9.172771228818198e-05\n"
     ]
    },
    {
     "name": "stderr",
     "output_type": "stream",
     "text": [
      " 44%|████▍     | 44/100 [02:44<03:27,  3.71s/it]"
     ]
    },
    {
     "name": "stdout",
     "output_type": "stream",
     "text": [
      "Epoch  44, Train Loss: 0.33233756, Val Loss: 0.09100112\n",
      "Epoch  44, Loss: 0.33233755826950073, Learning Rate: 9.04498385803012e-05\n"
     ]
    },
    {
     "name": "stderr",
     "output_type": "stream",
     "text": [
      " 45%|████▌     | 45/100 [02:47<03:23,  3.70s/it]"
     ]
    },
    {
     "name": "stdout",
     "output_type": "stream",
     "text": [
      "Epoch  45, Train Loss: 0.30079460, Val Loss: 0.07113933\n",
      "Epoch  45, Loss: 0.3007946014404297, Learning Rate: 8.909050468346397e-05\n"
     ]
    },
    {
     "name": "stderr",
     "output_type": "stream",
     "text": [
      " 46%|████▌     | 46/100 [02:51<03:19,  3.70s/it]"
     ]
    },
    {
     "name": "stdout",
     "output_type": "stream",
     "text": [
      "Epoch  46, Train Loss: 0.20926251, Val Loss: 0.15590513\n",
      "Epoch  46, Loss: 0.20926250517368317, Learning Rate: 8.765244811523477e-05\n"
     ]
    },
    {
     "name": "stderr",
     "output_type": "stream",
     "text": [
      " 47%|████▋     | 47/100 [02:55<03:17,  3.72s/it]"
     ]
    },
    {
     "name": "stdout",
     "output_type": "stream",
     "text": [
      "Epoch  47, Train Loss: 0.21756458, Val Loss: 0.12026709\n",
      "Epoch  47, Loss: 0.21756458282470703, Learning Rate: 8.613856493016166e-05\n"
     ]
    },
    {
     "name": "stderr",
     "output_type": "stream",
     "text": [
      " 48%|████▊     | 48/100 [02:58<03:13,  3.72s/it]"
     ]
    },
    {
     "name": "stdout",
     "output_type": "stream",
     "text": [
      "Epoch  48, Train Loss: 0.15356971, Val Loss: 0.52635241\n",
      "Epoch  48, Loss: 0.15356971323490143, Learning Rate: 8.455190388750782e-05\n"
     ]
    },
    {
     "name": "stderr",
     "output_type": "stream",
     "text": [
      " 49%|████▉     | 49/100 [03:02<03:08,  3.70s/it]"
     ]
    },
    {
     "name": "stdout",
     "output_type": "stream",
     "text": [
      "Epoch  49, Train Loss: 0.23266767, Val Loss: 0.22518691\n",
      "Epoch  49, Loss: 0.23266766965389252, Learning Rate: 8.289566031145615e-05\n"
     ]
    },
    {
     "name": "stderr",
     "output_type": "stream",
     "text": [
      " 50%|█████     | 50/100 [03:06<03:03,  3.67s/it]"
     ]
    },
    {
     "name": "stdout",
     "output_type": "stream",
     "text": [
      "Epoch  50, Train Loss: 0.21837452, Val Loss: 0.28248516\n",
      "Epoch  50, Loss: 0.21837452054023743, Learning Rate: 8.117316965615154e-05\n"
     ]
    },
    {
     "name": "stderr",
     "output_type": "stream",
     "text": [
      " 51%|█████     | 51/100 [03:09<03:00,  3.68s/it]"
     ]
    },
    {
     "name": "stdout",
     "output_type": "stream",
     "text": [
      "Epoch  51, Train Loss: 0.08787612, Val Loss: 0.17089969\n",
      "Epoch  51, Loss: 0.08787611871957779, Learning Rate: 7.938790078854023e-05\n"
     ]
    },
    {
     "name": "stderr",
     "output_type": "stream",
     "text": [
      " 52%|█████▏    | 52/100 [03:13<02:56,  3.68s/it]"
     ]
    },
    {
     "name": "stdout",
     "output_type": "stream",
     "text": [
      "Epoch  52, Train Loss: 0.26838028, Val Loss: 0.27062061\n",
      "Epoch  52, Loss: 0.2683802843093872, Learning Rate: 7.754344900253327e-05\n"
     ]
    },
    {
     "name": "stderr",
     "output_type": "stream",
     "text": [
      " 53%|█████▎    | 53/100 [03:17<02:54,  3.71s/it]"
     ]
    },
    {
     "name": "stdout",
     "output_type": "stream",
     "text": [
      "Epoch  53, Train Loss: 0.06502317, Val Loss: 0.17444016\n",
      "Epoch  53, Loss: 0.06502316892147064, Learning Rate: 7.564352877856322e-05\n"
     ]
    },
    {
     "name": "stderr",
     "output_type": "stream",
     "text": [
      " 54%|█████▍    | 54/100 [03:21<02:52,  3.74s/it]"
     ]
    },
    {
     "name": "stdout",
     "output_type": "stream",
     "text": [
      "Epoch  54, Train Loss: 0.15040192, Val Loss: 0.18281178\n",
      "Epoch  54, Loss: 0.15040192008018494, Learning Rate: 7.369196630311475e-05\n"
     ]
    },
    {
     "name": "stderr",
     "output_type": "stream",
     "text": [
      " 55%|█████▌    | 55/100 [03:24<02:47,  3.72s/it]"
     ]
    },
    {
     "name": "stdout",
     "output_type": "stream",
     "text": [
      "Epoch  55, Train Loss: 0.07811432, Val Loss: 0.11413463\n",
      "Epoch  55, Loss: 0.07811432331800461, Learning Rate: 7.169269176329436e-05\n"
     ]
    },
    {
     "name": "stderr",
     "output_type": "stream",
     "text": [
      " 56%|█████▌    | 56/100 [03:28<02:42,  3.70s/it]"
     ]
    },
    {
     "name": "stdout",
     "output_type": "stream",
     "text": [
      "Epoch  56, Train Loss: 0.16315827, Val Loss: 0.37529165\n",
      "Epoch  56, Loss: 0.16315826773643494, Learning Rate: 6.964973143195654e-05\n"
     ]
    },
    {
     "name": "stderr",
     "output_type": "stream",
     "text": [
      " 57%|█████▋    | 57/100 [03:32<02:39,  3.71s/it]"
     ]
    },
    {
     "name": "stdout",
     "output_type": "stream",
     "text": [
      "Epoch  57, Train Loss: 0.15707317, Val Loss: 0.12026455\n",
      "Epoch  57, Loss: 0.15707316994667053, Learning Rate: 6.756719955932607e-05\n"
     ]
    },
    {
     "name": "stderr",
     "output_type": "stream",
     "text": [
      " 58%|█████▊    | 58/100 [03:36<02:37,  3.75s/it]"
     ]
    },
    {
     "name": "stdout",
     "output_type": "stream",
     "text": [
      "Epoch  58, Train Loss: 0.28145701, Val Loss: 0.38633034\n",
      "Epoch  58, Loss: 0.28145700693130493, Learning Rate: 6.54492900874456e-05\n"
     ]
    },
    {
     "name": "stderr",
     "output_type": "stream",
     "text": [
      " 59%|█████▉    | 59/100 [03:39<02:31,  3.71s/it]"
     ]
    },
    {
     "name": "stdout",
     "output_type": "stream",
     "text": [
      "Epoch  59, Train Loss: 0.06094230, Val Loss: 0.29541689\n",
      "Epoch  59, Loss: 0.06094229966402054, Learning Rate: 6.330026820413457e-05\n"
     ]
    },
    {
     "name": "stderr",
     "output_type": "stream",
     "text": [
      " 60%|██████    | 60/100 [03:43<02:27,  3.69s/it]"
     ]
    },
    {
     "name": "stdout",
     "output_type": "stream",
     "text": [
      "Epoch  60, Train Loss: 0.15793128, Val Loss: 0.10733003\n",
      "Epoch  60, Loss: 0.15793128311634064, Learning Rate: 6.112446175346842e-05\n"
     ]
    },
    {
     "name": "stderr",
     "output_type": "stream",
     "text": [
      " 61%|██████    | 61/100 [03:47<02:25,  3.72s/it]"
     ]
    },
    {
     "name": "stdout",
     "output_type": "stream",
     "text": [
      "Epoch  61, Train Loss: 0.15190753, Val Loss: 0.14402160\n",
      "Epoch  61, Loss: 0.1519075334072113, Learning Rate: 5.8926252520076814e-05\n"
     ]
    },
    {
     "name": "stderr",
     "output_type": "stream",
     "text": [
      " 62%|██████▏   | 62/100 [03:50<02:20,  3.70s/it]"
     ]
    },
    {
     "name": "stdout",
     "output_type": "stream",
     "text": [
      "Epoch  62, Train Loss: 0.21777570, Val Loss: 0.19657172\n",
      "Epoch  62, Loss: 0.21777570247650146, Learning Rate: 5.671006740481229e-05\n"
     ]
    },
    {
     "name": "stderr",
     "output_type": "stream",
     "text": [
      " 63%|██████▎   | 63/100 [03:54<02:18,  3.74s/it]"
     ]
    },
    {
     "name": "stdout",
     "output_type": "stream",
     "text": [
      "Epoch  63, Train Loss: 0.18705361, Val Loss: 0.39915320\n",
      "Epoch  63, Loss: 0.1870536059141159, Learning Rate: 5.4480369509561295e-05\n"
     ]
    },
    {
     "name": "stderr",
     "output_type": "stream",
     "text": [
      " 64%|██████▍   | 64/100 [03:58<02:13,  3.72s/it]"
     ]
    },
    {
     "name": "stdout",
     "output_type": "stream",
     "text": [
      "Epoch  64, Train Loss: 0.31448379, Val Loss: 0.39856112\n",
      "Epoch  64, Loss: 0.31448379158973694, Learning Rate: 5.2241649149150764e-05\n"
     ]
    },
    {
     "name": "stderr",
     "output_type": "stream",
     "text": [
      " 65%|██████▌   | 65/100 [04:01<02:09,  3.69s/it]"
     ]
    },
    {
     "name": "stdout",
     "output_type": "stream",
     "text": [
      "Epoch  65, Train Loss: 0.22597472, Val Loss: 0.17664938\n",
      "Epoch  65, Loss: 0.22597472369670868, Learning Rate: 4.9998414808451786e-05\n"
     ]
    },
    {
     "name": "stderr",
     "output_type": "stream",
     "text": [
      " 66%|██████▌   | 66/100 [04:05<02:05,  3.70s/it]"
     ]
    },
    {
     "name": "stdout",
     "output_type": "stream",
     "text": [
      "Epoch  66, Train Loss: 0.21322668, Val Loss: 0.15551786\n",
      "Epoch  66, Loss: 0.21322667598724365, Learning Rate: 4.775518406289102e-05\n"
     ]
    },
    {
     "name": "stderr",
     "output_type": "stream",
     "text": [
      " 67%|██████▋   | 67/100 [04:09<02:01,  3.67s/it]"
     ]
    },
    {
     "name": "stdout",
     "output_type": "stream",
     "text": [
      "Epoch  67, Train Loss: 0.13303714, Val Loss: 0.16838855\n",
      "Epoch  67, Loss: 0.13303713500499725, Learning Rate: 4.551647448065496e-05\n"
     ]
    },
    {
     "name": "stderr",
     "output_type": "stream",
     "text": [
      " 67%|██████▋   | 67/100 [04:11<02:03,  3.76s/it]\n"
     ]
    },
    {
     "ename": "KeyboardInterrupt",
     "evalue": "",
     "output_type": "error",
     "traceback": [
      "\u001b[0;31m---------------------------------------------------------------------------\u001b[0m",
      "\u001b[0;31mKeyboardInterrupt\u001b[0m                         Traceback (most recent call last)",
      "Cell \u001b[0;32mIn[41], line 1\u001b[0m\n\u001b[0;32m----> 1\u001b[0m \u001b[43mtrain_model\u001b[49m\u001b[43m(\u001b[49m\u001b[43mmodel\u001b[49m\u001b[43m,\u001b[49m\u001b[43m \u001b[49m\u001b[43moptimizer\u001b[49m\u001b[43m,\u001b[49m\u001b[43m \u001b[49m\u001b[43mdataloader_train\u001b[49m\u001b[43m,\u001b[49m\u001b[43m \u001b[49m\u001b[43mdataloader_val\u001b[49m\u001b[43m,\u001b[49m\u001b[43m \u001b[49m\u001b[43mscheduler\u001b[49m\u001b[43m,\u001b[49m\u001b[43m \u001b[49m\u001b[43mepochs\u001b[49m\u001b[43m)\u001b[49m\n",
      "Cell \u001b[0;32mIn[40], line 22\u001b[0m, in \u001b[0;36mtrain_model\u001b[0;34m(model, optimizer, dataloader_train, dataloader_val, scheduler, epochs)\u001b[0m\n\u001b[1;32m     20\u001b[0m     loss \u001b[38;5;241m=\u001b[39m loss_function(y_pred, labels)\n\u001b[1;32m     21\u001b[0m     loss\u001b[38;5;241m.\u001b[39mbackward()\n\u001b[0;32m---> 22\u001b[0m     \u001b[43moptimizer\u001b[49m\u001b[38;5;241;43m.\u001b[39;49m\u001b[43mstep\u001b[49m\u001b[43m(\u001b[49m\u001b[43m)\u001b[49m\n\u001b[1;32m     23\u001b[0m     scheduler\u001b[38;5;241m.\u001b[39mstep()\n\u001b[1;32m     25\u001b[0m train_losses\u001b[38;5;241m.\u001b[39mappend(loss\u001b[38;5;241m.\u001b[39mitem())\n",
      "File \u001b[0;32m/opt/conda/lib/python3.10/site-packages/torch/optim/lr_scheduler.py:75\u001b[0m, in \u001b[0;36mLRScheduler.__init__.<locals>.with_counter.<locals>.wrapper\u001b[0;34m(*args, **kwargs)\u001b[0m\n\u001b[1;32m     73\u001b[0m instance\u001b[38;5;241m.\u001b[39m_step_count \u001b[38;5;241m+\u001b[39m\u001b[38;5;241m=\u001b[39m \u001b[38;5;241m1\u001b[39m\n\u001b[1;32m     74\u001b[0m wrapped \u001b[38;5;241m=\u001b[39m func\u001b[38;5;241m.\u001b[39m\u001b[38;5;21m__get__\u001b[39m(instance, \u001b[38;5;28mcls\u001b[39m)\n\u001b[0;32m---> 75\u001b[0m \u001b[38;5;28;01mreturn\u001b[39;00m \u001b[43mwrapped\u001b[49m\u001b[43m(\u001b[49m\u001b[38;5;241;43m*\u001b[39;49m\u001b[43margs\u001b[49m\u001b[43m,\u001b[49m\u001b[43m \u001b[49m\u001b[38;5;241;43m*\u001b[39;49m\u001b[38;5;241;43m*\u001b[39;49m\u001b[43mkwargs\u001b[49m\u001b[43m)\u001b[49m\n",
      "File \u001b[0;32m/opt/conda/lib/python3.10/site-packages/torch/optim/optimizer.py:385\u001b[0m, in \u001b[0;36mOptimizer.profile_hook_step.<locals>.wrapper\u001b[0;34m(*args, **kwargs)\u001b[0m\n\u001b[1;32m    380\u001b[0m         \u001b[38;5;28;01melse\u001b[39;00m:\n\u001b[1;32m    381\u001b[0m             \u001b[38;5;28;01mraise\u001b[39;00m \u001b[38;5;167;01mRuntimeError\u001b[39;00m(\n\u001b[1;32m    382\u001b[0m                 \u001b[38;5;124mf\u001b[39m\u001b[38;5;124m\"\u001b[39m\u001b[38;5;132;01m{\u001b[39;00mfunc\u001b[38;5;132;01m}\u001b[39;00m\u001b[38;5;124m must return None or a tuple of (new_args, new_kwargs), but got \u001b[39m\u001b[38;5;132;01m{\u001b[39;00mresult\u001b[38;5;132;01m}\u001b[39;00m\u001b[38;5;124m.\u001b[39m\u001b[38;5;124m\"\u001b[39m\n\u001b[1;32m    383\u001b[0m             )\n\u001b[0;32m--> 385\u001b[0m out \u001b[38;5;241m=\u001b[39m \u001b[43mfunc\u001b[49m\u001b[43m(\u001b[49m\u001b[38;5;241;43m*\u001b[39;49m\u001b[43margs\u001b[49m\u001b[43m,\u001b[49m\u001b[43m \u001b[49m\u001b[38;5;241;43m*\u001b[39;49m\u001b[38;5;241;43m*\u001b[39;49m\u001b[43mkwargs\u001b[49m\u001b[43m)\u001b[49m\n\u001b[1;32m    386\u001b[0m \u001b[38;5;28mself\u001b[39m\u001b[38;5;241m.\u001b[39m_optimizer_step_code()\n\u001b[1;32m    388\u001b[0m \u001b[38;5;66;03m# call optimizer step post hooks\u001b[39;00m\n",
      "File \u001b[0;32m/opt/conda/lib/python3.10/site-packages/torch/optim/optimizer.py:76\u001b[0m, in \u001b[0;36m_use_grad_for_differentiable.<locals>._use_grad\u001b[0;34m(self, *args, **kwargs)\u001b[0m\n\u001b[1;32m     74\u001b[0m     torch\u001b[38;5;241m.\u001b[39mset_grad_enabled(\u001b[38;5;28mself\u001b[39m\u001b[38;5;241m.\u001b[39mdefaults[\u001b[38;5;124m'\u001b[39m\u001b[38;5;124mdifferentiable\u001b[39m\u001b[38;5;124m'\u001b[39m])\n\u001b[1;32m     75\u001b[0m     torch\u001b[38;5;241m.\u001b[39m_dynamo\u001b[38;5;241m.\u001b[39mgraph_break()\n\u001b[0;32m---> 76\u001b[0m     ret \u001b[38;5;241m=\u001b[39m \u001b[43mfunc\u001b[49m\u001b[43m(\u001b[49m\u001b[38;5;28;43mself\u001b[39;49m\u001b[43m,\u001b[49m\u001b[43m \u001b[49m\u001b[38;5;241;43m*\u001b[39;49m\u001b[43margs\u001b[49m\u001b[43m,\u001b[49m\u001b[43m \u001b[49m\u001b[38;5;241;43m*\u001b[39;49m\u001b[38;5;241;43m*\u001b[39;49m\u001b[43mkwargs\u001b[49m\u001b[43m)\u001b[49m\n\u001b[1;32m     77\u001b[0m \u001b[38;5;28;01mfinally\u001b[39;00m:\n\u001b[1;32m     78\u001b[0m     torch\u001b[38;5;241m.\u001b[39m_dynamo\u001b[38;5;241m.\u001b[39mgraph_break()\n",
      "File \u001b[0;32m/opt/conda/lib/python3.10/site-packages/torch/optim/adamw.py:187\u001b[0m, in \u001b[0;36mAdamW.step\u001b[0;34m(self, closure)\u001b[0m\n\u001b[1;32m    174\u001b[0m     beta1, beta2 \u001b[38;5;241m=\u001b[39m group[\u001b[38;5;124m\"\u001b[39m\u001b[38;5;124mbetas\u001b[39m\u001b[38;5;124m\"\u001b[39m]\n\u001b[1;32m    176\u001b[0m     has_complex \u001b[38;5;241m=\u001b[39m \u001b[38;5;28mself\u001b[39m\u001b[38;5;241m.\u001b[39m_init_group(\n\u001b[1;32m    177\u001b[0m         group,\n\u001b[1;32m    178\u001b[0m         params_with_grad,\n\u001b[0;32m   (...)\u001b[0m\n\u001b[1;32m    184\u001b[0m         state_steps,\n\u001b[1;32m    185\u001b[0m     )\n\u001b[0;32m--> 187\u001b[0m     \u001b[43madamw\u001b[49m\u001b[43m(\u001b[49m\n\u001b[1;32m    188\u001b[0m \u001b[43m        \u001b[49m\u001b[43mparams_with_grad\u001b[49m\u001b[43m,\u001b[49m\n\u001b[1;32m    189\u001b[0m \u001b[43m        \u001b[49m\u001b[43mgrads\u001b[49m\u001b[43m,\u001b[49m\n\u001b[1;32m    190\u001b[0m \u001b[43m        \u001b[49m\u001b[43mexp_avgs\u001b[49m\u001b[43m,\u001b[49m\n\u001b[1;32m    191\u001b[0m \u001b[43m        \u001b[49m\u001b[43mexp_avg_sqs\u001b[49m\u001b[43m,\u001b[49m\n\u001b[1;32m    192\u001b[0m \u001b[43m        \u001b[49m\u001b[43mmax_exp_avg_sqs\u001b[49m\u001b[43m,\u001b[49m\n\u001b[1;32m    193\u001b[0m \u001b[43m        \u001b[49m\u001b[43mstate_steps\u001b[49m\u001b[43m,\u001b[49m\n\u001b[1;32m    194\u001b[0m \u001b[43m        \u001b[49m\u001b[43mamsgrad\u001b[49m\u001b[38;5;241;43m=\u001b[39;49m\u001b[43mamsgrad\u001b[49m\u001b[43m,\u001b[49m\n\u001b[1;32m    195\u001b[0m \u001b[43m        \u001b[49m\u001b[43mbeta1\u001b[49m\u001b[38;5;241;43m=\u001b[39;49m\u001b[43mbeta1\u001b[49m\u001b[43m,\u001b[49m\n\u001b[1;32m    196\u001b[0m \u001b[43m        \u001b[49m\u001b[43mbeta2\u001b[49m\u001b[38;5;241;43m=\u001b[39;49m\u001b[43mbeta2\u001b[49m\u001b[43m,\u001b[49m\n\u001b[1;32m    197\u001b[0m \u001b[43m        \u001b[49m\u001b[43mlr\u001b[49m\u001b[38;5;241;43m=\u001b[39;49m\u001b[43mgroup\u001b[49m\u001b[43m[\u001b[49m\u001b[38;5;124;43m\"\u001b[39;49m\u001b[38;5;124;43mlr\u001b[39;49m\u001b[38;5;124;43m\"\u001b[39;49m\u001b[43m]\u001b[49m\u001b[43m,\u001b[49m\n\u001b[1;32m    198\u001b[0m \u001b[43m        \u001b[49m\u001b[43mweight_decay\u001b[49m\u001b[38;5;241;43m=\u001b[39;49m\u001b[43mgroup\u001b[49m\u001b[43m[\u001b[49m\u001b[38;5;124;43m\"\u001b[39;49m\u001b[38;5;124;43mweight_decay\u001b[39;49m\u001b[38;5;124;43m\"\u001b[39;49m\u001b[43m]\u001b[49m\u001b[43m,\u001b[49m\n\u001b[1;32m    199\u001b[0m \u001b[43m        \u001b[49m\u001b[43meps\u001b[49m\u001b[38;5;241;43m=\u001b[39;49m\u001b[43mgroup\u001b[49m\u001b[43m[\u001b[49m\u001b[38;5;124;43m\"\u001b[39;49m\u001b[38;5;124;43meps\u001b[39;49m\u001b[38;5;124;43m\"\u001b[39;49m\u001b[43m]\u001b[49m\u001b[43m,\u001b[49m\n\u001b[1;32m    200\u001b[0m \u001b[43m        \u001b[49m\u001b[43mmaximize\u001b[49m\u001b[38;5;241;43m=\u001b[39;49m\u001b[43mgroup\u001b[49m\u001b[43m[\u001b[49m\u001b[38;5;124;43m\"\u001b[39;49m\u001b[38;5;124;43mmaximize\u001b[39;49m\u001b[38;5;124;43m\"\u001b[39;49m\u001b[43m]\u001b[49m\u001b[43m,\u001b[49m\n\u001b[1;32m    201\u001b[0m \u001b[43m        \u001b[49m\u001b[43mforeach\u001b[49m\u001b[38;5;241;43m=\u001b[39;49m\u001b[43mgroup\u001b[49m\u001b[43m[\u001b[49m\u001b[38;5;124;43m\"\u001b[39;49m\u001b[38;5;124;43mforeach\u001b[39;49m\u001b[38;5;124;43m\"\u001b[39;49m\u001b[43m]\u001b[49m\u001b[43m,\u001b[49m\n\u001b[1;32m    202\u001b[0m \u001b[43m        \u001b[49m\u001b[43mcapturable\u001b[49m\u001b[38;5;241;43m=\u001b[39;49m\u001b[43mgroup\u001b[49m\u001b[43m[\u001b[49m\u001b[38;5;124;43m\"\u001b[39;49m\u001b[38;5;124;43mcapturable\u001b[39;49m\u001b[38;5;124;43m\"\u001b[39;49m\u001b[43m]\u001b[49m\u001b[43m,\u001b[49m\n\u001b[1;32m    203\u001b[0m \u001b[43m        \u001b[49m\u001b[43mdifferentiable\u001b[49m\u001b[38;5;241;43m=\u001b[39;49m\u001b[43mgroup\u001b[49m\u001b[43m[\u001b[49m\u001b[38;5;124;43m\"\u001b[39;49m\u001b[38;5;124;43mdifferentiable\u001b[39;49m\u001b[38;5;124;43m\"\u001b[39;49m\u001b[43m]\u001b[49m\u001b[43m,\u001b[49m\n\u001b[1;32m    204\u001b[0m \u001b[43m        \u001b[49m\u001b[43mfused\u001b[49m\u001b[38;5;241;43m=\u001b[39;49m\u001b[43mgroup\u001b[49m\u001b[43m[\u001b[49m\u001b[38;5;124;43m\"\u001b[39;49m\u001b[38;5;124;43mfused\u001b[39;49m\u001b[38;5;124;43m\"\u001b[39;49m\u001b[43m]\u001b[49m\u001b[43m,\u001b[49m\n\u001b[1;32m    205\u001b[0m \u001b[43m        \u001b[49m\u001b[43mgrad_scale\u001b[49m\u001b[38;5;241;43m=\u001b[39;49m\u001b[38;5;28;43mgetattr\u001b[39;49m\u001b[43m(\u001b[49m\u001b[38;5;28;43mself\u001b[39;49m\u001b[43m,\u001b[49m\u001b[43m \u001b[49m\u001b[38;5;124;43m\"\u001b[39;49m\u001b[38;5;124;43mgrad_scale\u001b[39;49m\u001b[38;5;124;43m\"\u001b[39;49m\u001b[43m,\u001b[49m\u001b[43m \u001b[49m\u001b[38;5;28;43;01mNone\u001b[39;49;00m\u001b[43m)\u001b[49m\u001b[43m,\u001b[49m\n\u001b[1;32m    206\u001b[0m \u001b[43m        \u001b[49m\u001b[43mfound_inf\u001b[49m\u001b[38;5;241;43m=\u001b[39;49m\u001b[38;5;28;43mgetattr\u001b[39;49m\u001b[43m(\u001b[49m\u001b[38;5;28;43mself\u001b[39;49m\u001b[43m,\u001b[49m\u001b[43m \u001b[49m\u001b[38;5;124;43m\"\u001b[39;49m\u001b[38;5;124;43mfound_inf\u001b[39;49m\u001b[38;5;124;43m\"\u001b[39;49m\u001b[43m,\u001b[49m\u001b[43m \u001b[49m\u001b[38;5;28;43;01mNone\u001b[39;49;00m\u001b[43m)\u001b[49m\u001b[43m,\u001b[49m\n\u001b[1;32m    207\u001b[0m \u001b[43m        \u001b[49m\u001b[43mhas_complex\u001b[49m\u001b[38;5;241;43m=\u001b[39;49m\u001b[43mhas_complex\u001b[49m\u001b[43m,\u001b[49m\n\u001b[1;32m    208\u001b[0m \u001b[43m    \u001b[49m\u001b[43m)\u001b[49m\n\u001b[1;32m    210\u001b[0m \u001b[38;5;28;01mreturn\u001b[39;00m loss\n",
      "File \u001b[0;32m/opt/conda/lib/python3.10/site-packages/torch/optim/adamw.py:339\u001b[0m, in \u001b[0;36madamw\u001b[0;34m(params, grads, exp_avgs, exp_avg_sqs, max_exp_avg_sqs, state_steps, foreach, capturable, differentiable, fused, grad_scale, found_inf, has_complex, amsgrad, beta1, beta2, lr, weight_decay, eps, maximize)\u001b[0m\n\u001b[1;32m    336\u001b[0m \u001b[38;5;28;01melse\u001b[39;00m:\n\u001b[1;32m    337\u001b[0m     func \u001b[38;5;241m=\u001b[39m _single_tensor_adamw\n\u001b[0;32m--> 339\u001b[0m \u001b[43mfunc\u001b[49m\u001b[43m(\u001b[49m\n\u001b[1;32m    340\u001b[0m \u001b[43m    \u001b[49m\u001b[43mparams\u001b[49m\u001b[43m,\u001b[49m\n\u001b[1;32m    341\u001b[0m \u001b[43m    \u001b[49m\u001b[43mgrads\u001b[49m\u001b[43m,\u001b[49m\n\u001b[1;32m    342\u001b[0m \u001b[43m    \u001b[49m\u001b[43mexp_avgs\u001b[49m\u001b[43m,\u001b[49m\n\u001b[1;32m    343\u001b[0m \u001b[43m    \u001b[49m\u001b[43mexp_avg_sqs\u001b[49m\u001b[43m,\u001b[49m\n\u001b[1;32m    344\u001b[0m \u001b[43m    \u001b[49m\u001b[43mmax_exp_avg_sqs\u001b[49m\u001b[43m,\u001b[49m\n\u001b[1;32m    345\u001b[0m \u001b[43m    \u001b[49m\u001b[43mstate_steps\u001b[49m\u001b[43m,\u001b[49m\n\u001b[1;32m    346\u001b[0m \u001b[43m    \u001b[49m\u001b[43mamsgrad\u001b[49m\u001b[38;5;241;43m=\u001b[39;49m\u001b[43mamsgrad\u001b[49m\u001b[43m,\u001b[49m\n\u001b[1;32m    347\u001b[0m \u001b[43m    \u001b[49m\u001b[43mbeta1\u001b[49m\u001b[38;5;241;43m=\u001b[39;49m\u001b[43mbeta1\u001b[49m\u001b[43m,\u001b[49m\n\u001b[1;32m    348\u001b[0m \u001b[43m    \u001b[49m\u001b[43mbeta2\u001b[49m\u001b[38;5;241;43m=\u001b[39;49m\u001b[43mbeta2\u001b[49m\u001b[43m,\u001b[49m\n\u001b[1;32m    349\u001b[0m \u001b[43m    \u001b[49m\u001b[43mlr\u001b[49m\u001b[38;5;241;43m=\u001b[39;49m\u001b[43mlr\u001b[49m\u001b[43m,\u001b[49m\n\u001b[1;32m    350\u001b[0m \u001b[43m    \u001b[49m\u001b[43mweight_decay\u001b[49m\u001b[38;5;241;43m=\u001b[39;49m\u001b[43mweight_decay\u001b[49m\u001b[43m,\u001b[49m\n\u001b[1;32m    351\u001b[0m \u001b[43m    \u001b[49m\u001b[43meps\u001b[49m\u001b[38;5;241;43m=\u001b[39;49m\u001b[43meps\u001b[49m\u001b[43m,\u001b[49m\n\u001b[1;32m    352\u001b[0m \u001b[43m    \u001b[49m\u001b[43mmaximize\u001b[49m\u001b[38;5;241;43m=\u001b[39;49m\u001b[43mmaximize\u001b[49m\u001b[43m,\u001b[49m\n\u001b[1;32m    353\u001b[0m \u001b[43m    \u001b[49m\u001b[43mcapturable\u001b[49m\u001b[38;5;241;43m=\u001b[39;49m\u001b[43mcapturable\u001b[49m\u001b[43m,\u001b[49m\n\u001b[1;32m    354\u001b[0m \u001b[43m    \u001b[49m\u001b[43mdifferentiable\u001b[49m\u001b[38;5;241;43m=\u001b[39;49m\u001b[43mdifferentiable\u001b[49m\u001b[43m,\u001b[49m\n\u001b[1;32m    355\u001b[0m \u001b[43m    \u001b[49m\u001b[43mgrad_scale\u001b[49m\u001b[38;5;241;43m=\u001b[39;49m\u001b[43mgrad_scale\u001b[49m\u001b[43m,\u001b[49m\n\u001b[1;32m    356\u001b[0m \u001b[43m    \u001b[49m\u001b[43mfound_inf\u001b[49m\u001b[38;5;241;43m=\u001b[39;49m\u001b[43mfound_inf\u001b[49m\u001b[43m,\u001b[49m\n\u001b[1;32m    357\u001b[0m \u001b[43m    \u001b[49m\u001b[43mhas_complex\u001b[49m\u001b[38;5;241;43m=\u001b[39;49m\u001b[43mhas_complex\u001b[49m\u001b[43m,\u001b[49m\n\u001b[1;32m    358\u001b[0m \u001b[43m\u001b[49m\u001b[43m)\u001b[49m\n",
      "File \u001b[0;32m/opt/conda/lib/python3.10/site-packages/torch/optim/adamw.py:540\u001b[0m, in \u001b[0;36m_multi_tensor_adamw\u001b[0;34m(params, grads, exp_avgs, exp_avg_sqs, max_exp_avg_sqs, state_steps, grad_scale, found_inf, amsgrad, beta1, beta2, lr, weight_decay, eps, maximize, capturable, differentiable, has_complex)\u001b[0m\n\u001b[1;32m    535\u001b[0m \u001b[38;5;66;03m# Update steps\u001b[39;00m\n\u001b[1;32m    536\u001b[0m \u001b[38;5;66;03m# If steps are on CPU, foreach will fall back to the slow path, which is a for-loop calling t.add(1) over\u001b[39;00m\n\u001b[1;32m    537\u001b[0m \u001b[38;5;66;03m# and over. 1 will then be wrapped into a Tensor over and over again, which is slower than if we just\u001b[39;00m\n\u001b[1;32m    538\u001b[0m \u001b[38;5;66;03m# wrapped it once now. The alpha is required to assure we go to the right overload.\u001b[39;00m\n\u001b[1;32m    539\u001b[0m \u001b[38;5;28;01mif\u001b[39;00m device_state_steps[\u001b[38;5;241m0\u001b[39m]\u001b[38;5;241m.\u001b[39mis_cpu:\n\u001b[0;32m--> 540\u001b[0m     torch\u001b[38;5;241m.\u001b[39m_foreach_add_(device_state_steps, \u001b[43mtorch\u001b[49m\u001b[38;5;241;43m.\u001b[39;49m\u001b[43mtensor\u001b[49m\u001b[43m(\u001b[49m\u001b[38;5;241;43m1.0\u001b[39;49m\u001b[43m,\u001b[49m\u001b[43m \u001b[49m\u001b[43mdevice\u001b[49m\u001b[38;5;241;43m=\u001b[39;49m\u001b[38;5;124;43m'\u001b[39;49m\u001b[38;5;124;43mcpu\u001b[39;49m\u001b[38;5;124;43m'\u001b[39;49m\u001b[43m)\u001b[49m, alpha\u001b[38;5;241m=\u001b[39m\u001b[38;5;241m1.0\u001b[39m)\n\u001b[1;32m    541\u001b[0m \u001b[38;5;28;01melse\u001b[39;00m:\n\u001b[1;32m    542\u001b[0m     torch\u001b[38;5;241m.\u001b[39m_foreach_add_(device_state_steps, \u001b[38;5;241m1\u001b[39m)\n",
      "\u001b[0;31mKeyboardInterrupt\u001b[0m: "
     ]
    }
   ],
   "source": [
    "train_model(model, optimizer, dataloader_train, dataloader_val, scheduler, epochs)"
   ]
  },
  {
   "cell_type": "markdown",
   "id": "5d6e97f1-b838-4c83-ac4c-09a01f161c3e",
   "metadata": {},
   "source": [
    "### Add Learning rate scheduler"
   ]
  },
  {
   "cell_type": "code",
   "execution_count": 44,
   "id": "3aa342d1-0dbe-4e0b-b683-64ddd48ad54a",
   "metadata": {
    "tags": []
   },
   "outputs": [
    {
     "name": "stdout",
     "output_type": "stream",
     "text": [
      "              precision    recall  f1-score   support\n",
      "\n",
      "  Non-Active       0.76      0.74      0.75      2080\n",
      "      Active       0.94      0.95      0.94      9091\n",
      "\n",
      "    accuracy                           0.91     11171\n",
      "   macro avg       0.85      0.84      0.85     11171\n",
      "weighted avg       0.91      0.91      0.91     11171\n",
      "\n"
     ]
    }
   ],
   "source": [
    "evaluate_model(model, X_test, y_test)"
   ]
  },
  {
   "cell_type": "code",
   "execution_count": 45,
   "id": "d73e0f52-d5f6-4ec6-b38c-a9bb9f652304",
   "metadata": {
    "tags": []
   },
   "outputs": [
    {
     "name": "stdout",
     "output_type": "stream",
     "text": [
      "              precision    recall  f1-score   support\n",
      "\n",
      "  Non-Active       0.79      0.75      0.77      7503\n",
      "      Active       0.94      0.95      0.95     32711\n",
      "\n",
      "    accuracy                           0.91     40214\n",
      "   macro avg       0.86      0.85      0.86     40214\n",
      "weighted avg       0.91      0.91      0.91     40214\n",
      "\n"
     ]
    }
   ],
   "source": [
    "evaluate_model(model, X_train, y_train)"
   ]
  },
  {
   "cell_type": "code",
   "execution_count": 46,
   "id": "1333afe1-eb69-4562-b03a-0e7ec89c0fe0",
   "metadata": {
    "tags": []
   },
   "outputs": [
    {
     "name": "stdout",
     "output_type": "stream",
     "text": [
      "              precision    recall  f1-score   support\n",
      "\n",
      "  Non-Active       0.77      0.74      0.75       842\n",
      "      Active       0.94      0.95      0.94      3627\n",
      "\n",
      "    accuracy                           0.91      4469\n",
      "   macro avg       0.86      0.84      0.85      4469\n",
      "weighted avg       0.91      0.91      0.91      4469\n",
      "\n"
     ]
    }
   ],
   "source": [
    "evaluate_model(model, X_val, y_val)"
   ]
  },
  {
   "cell_type": "markdown",
   "id": "78f10bf0-df1f-4242-a5ed-ba875115018a",
   "metadata": {},
   "source": [
    "### Add Learning rate scheduler (Best Model)"
   ]
  },
  {
   "cell_type": "code",
   "execution_count": 47,
   "id": "00fbb10b-d475-4f29-a05c-f3ef24edb609",
   "metadata": {
    "tags": []
   },
   "outputs": [
    {
     "data": {
      "text/plain": [
       "<All keys matched successfully>"
      ]
     },
     "execution_count": 47,
     "metadata": {},
     "output_type": "execute_result"
    }
   ],
   "source": [
    "best_model_path = '/home/jupyter/lstm/model/gru_best_model_weightdecay01_v3.pt'\n",
    "best_model = GRUModel(input_dim=X_train.shape[2], hidden_dim=128, output_dim=y_train.shape[1]).to(device)\n",
    "best_model.load_state_dict(torch.load(best_model_path))"
   ]
  },
  {
   "cell_type": "code",
   "execution_count": 48,
   "id": "358b3fc8-41c9-432d-88a8-3131ac053cf6",
   "metadata": {
    "tags": []
   },
   "outputs": [
    {
     "name": "stdout",
     "output_type": "stream",
     "text": [
      "              precision    recall  f1-score   support\n",
      "\n",
      "  Non-Active       0.77      0.72      0.75      2080\n",
      "      Active       0.94      0.95      0.94      9091\n",
      "\n",
      "    accuracy                           0.91     11171\n",
      "   macro avg       0.85      0.84      0.85     11171\n",
      "weighted avg       0.91      0.91      0.91     11171\n",
      "\n"
     ]
    }
   ],
   "source": [
    "evaluate_model(best_model, X_test, y_test)"
   ]
  },
  {
   "cell_type": "code",
   "execution_count": 49,
   "id": "c639e72b-b9b3-465b-b8a6-f2410fb9a04b",
   "metadata": {
    "tags": []
   },
   "outputs": [
    {
     "name": "stdout",
     "output_type": "stream",
     "text": [
      "              precision    recall  f1-score   support\n",
      "\n",
      "  Non-Active       0.79      0.73      0.76      7503\n",
      "      Active       0.94      0.96      0.95     32711\n",
      "\n",
      "    accuracy                           0.91     40214\n",
      "   macro avg       0.87      0.84      0.85     40214\n",
      "weighted avg       0.91      0.91      0.91     40214\n",
      "\n"
     ]
    }
   ],
   "source": [
    "evaluate_model(best_model, X_train, y_train)"
   ]
  },
  {
   "cell_type": "code",
   "execution_count": 50,
   "id": "71c16109-b4f8-4244-b0ff-3ec03356259c",
   "metadata": {
    "tags": []
   },
   "outputs": [
    {
     "name": "stdout",
     "output_type": "stream",
     "text": [
      "              precision    recall  f1-score   support\n",
      "\n",
      "  Non-Active       0.79      0.72      0.75       842\n",
      "      Active       0.94      0.95      0.94      3627\n",
      "\n",
      "    accuracy                           0.91      4469\n",
      "   macro avg       0.86      0.84      0.85      4469\n",
      "weighted avg       0.91      0.91      0.91      4469\n",
      "\n"
     ]
    }
   ],
   "source": [
    "evaluate_model(best_model, X_val, y_val)"
   ]
  },
  {
   "cell_type": "markdown",
   "id": "3f8ff850-f4f5-44c5-81f9-28edb566d4f6",
   "metadata": {},
   "source": [
    "### Last epoch weight (Vanilla)"
   ]
  },
  {
   "cell_type": "code",
   "execution_count": 206,
   "id": "e098c284-7d35-48b7-bd5b-3011c2119cd6",
   "metadata": {
    "tags": []
   },
   "outputs": [
    {
     "name": "stdout",
     "output_type": "stream",
     "text": [
      "              precision    recall  f1-score   support\n",
      "\n",
      "  Non-Active       0.68      0.70      0.69      2080\n",
      "      Active       0.93      0.93      0.93      9091\n",
      "\n",
      "    accuracy                           0.88     11171\n",
      "   macro avg       0.81      0.81      0.81     11171\n",
      "weighted avg       0.88      0.88      0.88     11171\n",
      "\n"
     ]
    }
   ],
   "source": [
    "# last epoch weight\n",
    "evaluate_model(model, X_test, y_test)"
   ]
  },
  {
   "cell_type": "code",
   "execution_count": 207,
   "id": "37660906-be1e-47be-b939-d5b101ceeb8d",
   "metadata": {
    "tags": []
   },
   "outputs": [
    {
     "name": "stdout",
     "output_type": "stream",
     "text": [
      "              precision    recall  f1-score   support\n",
      "\n",
      "  Non-Active       0.97      0.98      0.98      7503\n",
      "      Active       0.99      0.99      0.99     32711\n",
      "\n",
      "    accuracy                           0.99     40214\n",
      "   macro avg       0.98      0.98      0.98     40214\n",
      "weighted avg       0.99      0.99      0.99     40214\n",
      "\n"
     ]
    }
   ],
   "source": [
    "evaluate_model(model, X_train, y_train)"
   ]
  },
  {
   "cell_type": "code",
   "execution_count": 208,
   "id": "a7d46d80-8fc9-47ff-a0e2-01cf66069add",
   "metadata": {
    "tags": []
   },
   "outputs": [
    {
     "name": "stdout",
     "output_type": "stream",
     "text": [
      "              precision    recall  f1-score   support\n",
      "\n",
      "  Non-Active       0.71      0.67      0.69       842\n",
      "      Active       0.92      0.94      0.93      3627\n",
      "\n",
      "    accuracy                           0.89      4469\n",
      "   macro avg       0.82      0.80      0.81      4469\n",
      "weighted avg       0.88      0.89      0.88      4469\n",
      "\n"
     ]
    }
   ],
   "source": [
    "evaluate_model(model, X_val, y_val)"
   ]
  },
  {
   "cell_type": "markdown",
   "id": "68440ac9-3b96-40e8-87f0-b682009ad0ee",
   "metadata": {},
   "source": [
    "##### Weight decay"
   ]
  },
  {
   "cell_type": "code",
   "execution_count": 184,
   "id": "137ff9dc-beb0-4283-8227-13f4dbd478dc",
   "metadata": {
    "tags": []
   },
   "outputs": [
    {
     "name": "stdout",
     "output_type": "stream",
     "text": [
      "              precision    recall  f1-score   support\n",
      "\n",
      "  Non-Active       0.78      0.71      0.74      2080\n",
      "      Active       0.94      0.95      0.94      9091\n",
      "\n",
      "    accuracy                           0.91     11171\n",
      "   macro avg       0.86      0.83      0.84     11171\n",
      "weighted avg       0.91      0.91      0.91     11171\n",
      "\n"
     ]
    }
   ],
   "source": [
    "# last epoch weight\n",
    "evaluate_model(model, X_test, y_test)"
   ]
  },
  {
   "cell_type": "code",
   "execution_count": 185,
   "id": "4361438c-128d-47bf-af0c-c860bc9a277e",
   "metadata": {
    "tags": []
   },
   "outputs": [
    {
     "name": "stdout",
     "output_type": "stream",
     "text": [
      "              precision    recall  f1-score   support\n",
      "\n",
      "  Non-Active       0.81      0.72      0.76      7503\n",
      "      Active       0.94      0.96      0.95     32711\n",
      "\n",
      "    accuracy                           0.91     40214\n",
      "   macro avg       0.87      0.84      0.85     40214\n",
      "weighted avg       0.91      0.91      0.91     40214\n",
      "\n"
     ]
    }
   ],
   "source": [
    "evaluate_model(model, X_train, y_train)"
   ]
  },
  {
   "cell_type": "code",
   "execution_count": 186,
   "id": "7ad2efed-a1f9-4e1d-bf60-2734edbdd9e2",
   "metadata": {
    "tags": []
   },
   "outputs": [
    {
     "name": "stdout",
     "output_type": "stream",
     "text": [
      "              precision    recall  f1-score   support\n",
      "\n",
      "  Non-Active       0.79      0.70      0.74       842\n",
      "      Active       0.93      0.96      0.94      3627\n",
      "\n",
      "    accuracy                           0.91      4469\n",
      "   macro avg       0.86      0.83      0.84      4469\n",
      "weighted avg       0.91      0.91      0.91      4469\n",
      "\n"
     ]
    }
   ],
   "source": [
    "evaluate_model(model, X_val, y_val)"
   ]
  },
  {
   "cell_type": "markdown",
   "id": "1c8ceab6-377d-4d4d-94fc-26ed1104c1be",
   "metadata": {},
   "source": [
    "### Best Model"
   ]
  },
  {
   "cell_type": "markdown",
   "id": "528932b6-7491-4c59-9615-1a7b868d5e98",
   "metadata": {},
   "source": [
    "#### no weight decay"
   ]
  },
  {
   "cell_type": "code",
   "execution_count": 251,
   "id": "6a73971b-13fe-4113-81b9-aed56688b304",
   "metadata": {
    "tags": []
   },
   "outputs": [
    {
     "data": {
      "text/plain": [
       "<All keys matched successfully>"
      ]
     },
     "execution_count": 251,
     "metadata": {},
     "output_type": "execute_result"
    }
   ],
   "source": [
    "best_model_path = '/home/jupyter/lstm/model/gru_best_model.pt'\n",
    "best_model = GRUModel(input_dim=X_train.shape[2], hidden_dim=128, output_dim=y_train.shape[1]).to(device)\n",
    "best_model.load_state_dict(torch.load(best_model_path))"
   ]
  },
  {
   "cell_type": "code",
   "execution_count": 252,
   "id": "bff536ca-7473-44e3-a60a-62f53bfb78c5",
   "metadata": {
    "tags": []
   },
   "outputs": [
    {
     "name": "stdout",
     "output_type": "stream",
     "text": [
      "              precision    recall  f1-score   support\n",
      "\n",
      "  Non-Active       0.69      0.67      0.68      2080\n",
      "      Active       0.93      0.93      0.93      9091\n",
      "\n",
      "    accuracy                           0.88     11171\n",
      "   macro avg       0.81      0.80      0.80     11171\n",
      "weighted avg       0.88      0.88      0.88     11171\n",
      "\n"
     ]
    }
   ],
   "source": [
    "evaluate_model(best_model, X_test, y_test)"
   ]
  },
  {
   "cell_type": "code",
   "execution_count": 253,
   "id": "53c82786-119b-4453-b404-21ab4107d31f",
   "metadata": {
    "tags": []
   },
   "outputs": [
    {
     "name": "stdout",
     "output_type": "stream",
     "text": [
      "              precision    recall  f1-score   support\n",
      "\n",
      "  Non-Active       0.97      0.98      0.98      7503\n",
      "      Active       1.00      0.99      0.99     32711\n",
      "\n",
      "    accuracy                           0.99     40214\n",
      "   macro avg       0.98      0.99      0.99     40214\n",
      "weighted avg       0.99      0.99      0.99     40214\n",
      "\n"
     ]
    }
   ],
   "source": [
    "evaluate_model(best_model, X_train, y_train)"
   ]
  },
  {
   "cell_type": "code",
   "execution_count": 254,
   "id": "aeacfb6f-718a-441e-a7f0-4e4248530990",
   "metadata": {
    "tags": []
   },
   "outputs": [
    {
     "name": "stdout",
     "output_type": "stream",
     "text": [
      "              precision    recall  f1-score   support\n",
      "\n",
      "  Non-Active       0.69      0.65      0.67       842\n",
      "      Active       0.92      0.93      0.93      3627\n",
      "\n",
      "    accuracy                           0.88      4469\n",
      "   macro avg       0.81      0.79      0.80      4469\n",
      "weighted avg       0.88      0.88      0.88      4469\n",
      "\n"
     ]
    }
   ],
   "source": [
    "evaluate_model(best_model, X_val, y_val)"
   ]
  },
  {
   "cell_type": "markdown",
   "id": "1c64b4a0-a391-4b7c-864b-0d4f7e06ea38",
   "metadata": {},
   "source": [
    "#### weight decay 0.1"
   ]
  },
  {
   "cell_type": "code",
   "execution_count": 260,
   "id": "fcb0fc8e-ae78-4cb7-b4ed-1d600876b8d7",
   "metadata": {
    "tags": []
   },
   "outputs": [
    {
     "data": {
      "text/plain": [
       "<All keys matched successfully>"
      ]
     },
     "execution_count": 260,
     "metadata": {},
     "output_type": "execute_result"
    }
   ],
   "source": [
    "best_model_path = '/home/jupyter/lstm/model/gru_best_model_weightdecay01.pt'\n",
    "best_model = GRUModel(input_dim=X_train.shape[2], hidden_dim=128, output_dim=y_train.shape[1]).to(device)\n",
    "best_model.load_state_dict(torch.load(best_model_path))"
   ]
  },
  {
   "cell_type": "code",
   "execution_count": 261,
   "id": "d4264644-f959-489a-8005-10cec3412285",
   "metadata": {
    "tags": []
   },
   "outputs": [
    {
     "name": "stdout",
     "output_type": "stream",
     "text": [
      "              precision    recall  f1-score   support\n",
      "\n",
      "  Non-Active       0.74      0.77      0.75      2080\n",
      "      Active       0.95      0.94      0.94      9091\n",
      "\n",
      "    accuracy                           0.91     11171\n",
      "   macro avg       0.84      0.85      0.85     11171\n",
      "weighted avg       0.91      0.91      0.91     11171\n",
      "\n"
     ]
    }
   ],
   "source": [
    "evaluate_model(best_model, X_test, y_test)"
   ]
  },
  {
   "cell_type": "code",
   "execution_count": 262,
   "id": "b3fb6dfc-60ae-462b-a781-f32e03c6db60",
   "metadata": {
    "tags": []
   },
   "outputs": [
    {
     "name": "stdout",
     "output_type": "stream",
     "text": [
      "              precision    recall  f1-score   support\n",
      "\n",
      "  Non-Active       0.75      0.78      0.77      7503\n",
      "      Active       0.95      0.94      0.95     32711\n",
      "\n",
      "    accuracy                           0.91     40214\n",
      "   macro avg       0.85      0.86      0.86     40214\n",
      "weighted avg       0.91      0.91      0.91     40214\n",
      "\n"
     ]
    }
   ],
   "source": [
    "evaluate_model(best_model, X_train, y_train)"
   ]
  },
  {
   "cell_type": "code",
   "execution_count": 263,
   "id": "ebcf8bab-d3c1-4012-9240-7840c5fd610b",
   "metadata": {
    "tags": []
   },
   "outputs": [
    {
     "name": "stdout",
     "output_type": "stream",
     "text": [
      "              precision    recall  f1-score   support\n",
      "\n",
      "  Non-Active       0.76      0.78      0.77       842\n",
      "      Active       0.95      0.94      0.95      3627\n",
      "\n",
      "    accuracy                           0.91      4469\n",
      "   macro avg       0.85      0.86      0.86      4469\n",
      "weighted avg       0.91      0.91      0.91      4469\n",
      "\n"
     ]
    }
   ],
   "source": [
    "evaluate_model(best_model, X_val, y_val)"
   ]
  },
  {
   "cell_type": "markdown",
   "id": "6f7a585f-ec62-41e9-a155-ebc7e38350f8",
   "metadata": {},
   "source": [
    "### Add Feature Extracter Layer & Add Regularization Layer after model ouput"
   ]
  },
  {
   "cell_type": "markdown",
   "id": "3a233226-230a-4863-9404-086745644118",
   "metadata": {},
   "source": [
    "#### Add Feature Extracter Layer, weight decay 0.1"
   ]
  },
  {
   "cell_type": "code",
   "execution_count": 279,
   "id": "642d4f08-4470-43aa-97e7-6e43db092db4",
   "metadata": {
    "tags": []
   },
   "outputs": [
    {
     "data": {
      "text/plain": [
       "<All keys matched successfully>"
      ]
     },
     "execution_count": 279,
     "metadata": {},
     "output_type": "execute_result"
    }
   ],
   "source": [
    "best_model_path = '/home/jupyter/lstm/model/gru_best_model_weightdecay01_v2.pt'\n",
    "best_model = GRUModel(input_dim=X_train.shape[2], hidden_dim=128, output_dim=y_train.shape[1]).to(device)\n",
    "best_model.load_state_dict(torch.load(best_model_path))"
   ]
  },
  {
   "cell_type": "code",
   "execution_count": 273,
   "id": "a76de215-1718-4177-9662-5b35cbb55810",
   "metadata": {
    "tags": []
   },
   "outputs": [
    {
     "name": "stdout",
     "output_type": "stream",
     "text": [
      "              precision    recall  f1-score   support\n",
      "\n",
      "  Non-Active       0.74      0.76      0.75      2080\n",
      "      Active       0.95      0.94      0.94      9091\n",
      "\n",
      "    accuracy                           0.90     11171\n",
      "   macro avg       0.84      0.85      0.85     11171\n",
      "weighted avg       0.91      0.90      0.91     11171\n",
      "\n"
     ]
    }
   ],
   "source": [
    "evaluate_model(best_model, X_test, y_test)"
   ]
  },
  {
   "cell_type": "code",
   "execution_count": 274,
   "id": "ee1ea9f5-50f7-42a1-8d1d-7c2b274efdfb",
   "metadata": {
    "tags": []
   },
   "outputs": [
    {
     "name": "stdout",
     "output_type": "stream",
     "text": [
      "              precision    recall  f1-score   support\n",
      "\n",
      "  Non-Active       0.76      0.78      0.77      7503\n",
      "      Active       0.95      0.94      0.95     32711\n",
      "\n",
      "    accuracy                           0.91     40214\n",
      "   macro avg       0.85      0.86      0.86     40214\n",
      "weighted avg       0.91      0.91      0.91     40214\n",
      "\n"
     ]
    }
   ],
   "source": [
    "evaluate_model(best_model, X_train, y_train)"
   ]
  },
  {
   "cell_type": "code",
   "execution_count": 275,
   "id": "fb0b84f0-2fa3-4557-97d0-a412c7748c6d",
   "metadata": {
    "tags": []
   },
   "outputs": [
    {
     "name": "stdout",
     "output_type": "stream",
     "text": [
      "              precision    recall  f1-score   support\n",
      "\n",
      "  Non-Active       0.76      0.76      0.76       842\n",
      "      Active       0.94      0.94      0.94      3627\n",
      "\n",
      "    accuracy                           0.91      4469\n",
      "   macro avg       0.85      0.85      0.85      4469\n",
      "weighted avg       0.91      0.91      0.91      4469\n",
      "\n"
     ]
    }
   ],
   "source": [
    "evaluate_model(best_model, X_val, y_val)"
   ]
  },
  {
   "cell_type": "markdown",
   "id": "e49562e5-ade4-449a-abf1-69185c3c5d5f",
   "metadata": {},
   "source": [
    "#### Add Feature Extracter Layer & Add Regularization Layer after model output, weight decay 0.1"
   ]
  },
  {
   "cell_type": "code",
   "execution_count": 280,
   "id": "f14c6a76-3739-49ab-b16e-13558f53b1cc",
   "metadata": {
    "tags": []
   },
   "outputs": [
    {
     "name": "stdout",
     "output_type": "stream",
     "text": [
      "              precision    recall  f1-score   support\n",
      "\n",
      "  Non-Active       0.76      0.72      0.74      2080\n",
      "      Active       0.94      0.95      0.94      9091\n",
      "\n",
      "    accuracy                           0.91     11171\n",
      "   macro avg       0.85      0.84      0.84     11171\n",
      "weighted avg       0.91      0.91      0.91     11171\n",
      "\n"
     ]
    }
   ],
   "source": [
    "evaluate_model(best_model, X_test, y_test)"
   ]
  },
  {
   "cell_type": "code",
   "execution_count": 281,
   "id": "8e6ec31d-ddec-4fd4-8f49-30675ba4517a",
   "metadata": {
    "tags": []
   },
   "outputs": [
    {
     "name": "stdout",
     "output_type": "stream",
     "text": [
      "              precision    recall  f1-score   support\n",
      "\n",
      "  Non-Active       0.79      0.73      0.76      7503\n",
      "      Active       0.94      0.96      0.95     32711\n",
      "\n",
      "    accuracy                           0.91     40214\n",
      "   macro avg       0.86      0.84      0.85     40214\n",
      "weighted avg       0.91      0.91      0.91     40214\n",
      "\n"
     ]
    }
   ],
   "source": [
    "evaluate_model(best_model, X_train, y_train)"
   ]
  },
  {
   "cell_type": "code",
   "execution_count": 282,
   "id": "3771d191-a3f7-4643-8db4-f9a5ab304d43",
   "metadata": {
    "tags": []
   },
   "outputs": [
    {
     "name": "stdout",
     "output_type": "stream",
     "text": [
      "              precision    recall  f1-score   support\n",
      "\n",
      "  Non-Active       0.78      0.72      0.75       842\n",
      "      Active       0.94      0.95      0.94      3627\n",
      "\n",
      "    accuracy                           0.91      4469\n",
      "   macro avg       0.86      0.84      0.85      4469\n",
      "weighted avg       0.91      0.91      0.91      4469\n",
      "\n"
     ]
    }
   ],
   "source": [
    "evaluate_model(best_model, X_val, y_val)"
   ]
  },
  {
   "cell_type": "markdown",
   "id": "32ec5237-c50f-4e86-a6a1-b503ad413f43",
   "metadata": {
    "tags": []
   },
   "source": [
    "### Best model & Weight decay"
   ]
  },
  {
   "cell_type": "code",
   "execution_count": 187,
   "id": "21c60395-ea9b-4429-a88c-ae04a1413a3b",
   "metadata": {
    "tags": []
   },
   "outputs": [
    {
     "data": {
      "text/plain": [
       "<All keys matched successfully>"
      ]
     },
     "execution_count": 187,
     "metadata": {},
     "output_type": "execute_result"
    }
   ],
   "source": [
    "best_model_path = '/home/jupyter/lstm/model/gru_best_model_weightdecay01.pt'\n",
    "best_model = GRUModel(input_dim=X_train.shape[2], hidden_dim=128, output_dim=y_train.shape[1]).to(device)\n",
    "best_model.load_state_dict(torch.load(best_model_path))"
   ]
  },
  {
   "cell_type": "code",
   "execution_count": 188,
   "id": "e7b288fc-4311-4907-af5b-441af36d621b",
   "metadata": {
    "tags": []
   },
   "outputs": [
    {
     "name": "stdout",
     "output_type": "stream",
     "text": [
      "              precision    recall  f1-score   support\n",
      "\n",
      "  Non-Active       0.75      0.75      0.75      2080\n",
      "      Active       0.94      0.94      0.94      9091\n",
      "\n",
      "    accuracy                           0.91     11171\n",
      "   macro avg       0.84      0.85      0.85     11171\n",
      "weighted avg       0.91      0.91      0.91     11171\n",
      "\n"
     ]
    }
   ],
   "source": [
    "evaluate_model(best_model, X_test, y_test)"
   ]
  },
  {
   "cell_type": "code",
   "execution_count": 189,
   "id": "ce0c4efc-e9f2-4c23-8240-b3eb7076352f",
   "metadata": {
    "tags": []
   },
   "outputs": [
    {
     "name": "stdout",
     "output_type": "stream",
     "text": [
      "              precision    recall  f1-score   support\n",
      "\n",
      "  Non-Active       0.78      0.76      0.77      7503\n",
      "      Active       0.94      0.95      0.95     32711\n",
      "\n",
      "    accuracy                           0.91     40214\n",
      "   macro avg       0.86      0.85      0.86     40214\n",
      "weighted avg       0.91      0.91      0.91     40214\n",
      "\n"
     ]
    }
   ],
   "source": [
    "evaluate_model(best_model, X_train, y_train)"
   ]
  },
  {
   "cell_type": "code",
   "execution_count": 190,
   "id": "07b54b1a-9ac4-416e-b54f-aa0bd3c03bcd",
   "metadata": {
    "tags": []
   },
   "outputs": [
    {
     "name": "stdout",
     "output_type": "stream",
     "text": [
      "              precision    recall  f1-score   support\n",
      "\n",
      "  Non-Active       0.76      0.75      0.75       842\n",
      "      Active       0.94      0.95      0.94      3627\n",
      "\n",
      "    accuracy                           0.91      4469\n",
      "   macro avg       0.85      0.85      0.85      4469\n",
      "weighted avg       0.91      0.91      0.91      4469\n",
      "\n"
     ]
    }
   ],
   "source": [
    "evaluate_model(best_model, X_val, y_val)"
   ]
  },
  {
   "cell_type": "code",
   "execution_count": 191,
   "id": "12243c16-15ab-4a34-b431-0ad62f2e638e",
   "metadata": {
    "tags": []
   },
   "outputs": [
    {
     "name": "stderr",
     "output_type": "stream",
     "text": [
      "/var/tmp/ipykernel_374275/3255369871.py:18: RuntimeWarning: invalid value encountered in divide\n"
     ]
    },
    {
     "data": {
      "image/png": "[encoded data removed]",
      "text/plain": [
       "<Figure size 640x480 with 1 Axes>"
      ]
     },
     "metadata": {},
     "output_type": "display_data"
    }
   ],
   "source": [
    "# weight decay: 0.01, batch size: 16\n",
    "precision, recall, thresholds = draw_roc_curve(best_model, X_train, y_train)"
   ]
  },
  {
   "cell_type": "code",
   "execution_count": 193,
   "id": "a786bceb-85b5-4eb8-8db8-0943823805a3",
   "metadata": {
    "tags": []
   },
   "outputs": [
    {
     "name": "stdout",
     "output_type": "stream",
     "text": [
      "              precision    recall  f1-score   support\n",
      "\n",
      "  Non-Active       0.71      0.80      0.75      2080\n",
      "      Active       0.95      0.93      0.94      9091\n",
      "\n",
      "    accuracy                           0.90     11171\n",
      "   macro avg       0.83      0.86      0.85     11171\n",
      "weighted avg       0.91      0.90      0.90     11171\n",
      "\n"
     ]
    }
   ],
   "source": [
    "# threshold: 0.1, weight decay: 0.1, batch size: 16\n",
    "best_model.eval()\n",
    "with torch.no_grad():\n",
    "    y_test_list = []\n",
    "    y_pred_list = [] \n",
    "    for seq, labels in zip(X_test, y_test):\n",
    "        seq, labels = seq.to(device).float(), labels.to(device).float()\n",
    "        y_pred = best_model(seq.unsqueeze(0))\n",
    "        y_pred = (y_pred > 0.6).float()\n",
    "\n",
    "        y_test_list.append(labels.squeeze().tolist())\n",
    "        y_pred_list.append(y_pred.squeeze().tolist())\n",
    "\n",
    "\n",
    "target_names = ['Non-Active', 'Active']\n",
    "print(classification_report(y_test_list, y_pred_list, target_names=target_names))"
   ]
  },
  {
   "cell_type": "code",
   "execution_count": 202,
   "id": "aa73cabb-a726-44c8-bd8a-2868161c676b",
   "metadata": {
    "tags": []
   },
   "outputs": [
    {
     "name": "stdout",
     "output_type": "stream",
     "text": [
      "              precision    recall  f1-score   support\n",
      "\n",
      "  Non-Active       0.77      0.73      0.75      2080\n",
      "      Active       0.94      0.95      0.94      9091\n",
      "\n",
      "    accuracy                           0.91     11171\n",
      "   macro avg       0.85      0.84      0.85     11171\n",
      "weighted avg       0.91      0.91      0.91     11171\n",
      "\n"
     ]
    }
   ],
   "source": [
    "# threshold: 0.1, weight decay: 0.1, batch size: 16\n",
    "best_model.eval()\n",
    "with torch.no_grad():\n",
    "    y_test_list = []\n",
    "    y_pred_list = [] \n",
    "    for seq, labels in zip(X_test, y_test):\n",
    "        seq, labels = seq.to(device).float(), labels.to(device).float()\n",
    "        y_pred = best_model(seq.unsqueeze(0))\n",
    "        y_pred = (y_pred > 0.45).float()\n",
    "\n",
    "        y_test_list.append(labels.squeeze().tolist())\n",
    "        y_pred_list.append(y_pred.squeeze().tolist())\n",
    "\n",
    "\n",
    "target_names = ['Non-Active', 'Active']\n",
    "print(classification_report(y_test_list, y_pred_list, target_names=target_names))"
   ]
  },
  {
   "cell_type": "code",
   "execution_count": 195,
   "id": "f1c591df-a90c-4ab2-b847-4d6d7f89d4bf",
   "metadata": {
    "tags": []
   },
   "outputs": [
    {
     "name": "stdout",
     "output_type": "stream",
     "text": [
      "              precision    recall  f1-score   support\n",
      "\n",
      "  Non-Active       0.81      0.65      0.72      2080\n",
      "      Active       0.92      0.96      0.94      9091\n",
      "\n",
      "    accuracy                           0.91     11171\n",
      "   macro avg       0.86      0.81      0.83     11171\n",
      "weighted avg       0.90      0.91      0.90     11171\n",
      "\n"
     ]
    }
   ],
   "source": [
    "# threshold: 0.1, weight decay: 0.1, batch size: 16\n",
    "best_model.eval()\n",
    "with torch.no_grad():\n",
    "    y_test_list = []\n",
    "    y_pred_list = [] \n",
    "    for seq, labels in zip(X_test, y_test):\n",
    "        seq, labels = seq.to(device).float(), labels.to(device).float()\n",
    "        y_pred = best_model(seq.unsqueeze(0))\n",
    "        y_pred = (y_pred > 0.35).float()\n",
    "\n",
    "        y_test_list.append(labels.squeeze().tolist())\n",
    "        y_pred_list.append(y_pred.squeeze().tolist())\n",
    "\n",
    "\n",
    "target_names = ['Non-Active', 'Active']\n",
    "print(classification_report(y_test_list, y_pred_list, target_names=target_names))"
   ]
  },
  {
   "cell_type": "code",
   "execution_count": null,
   "id": "2d8cfca4-9ee2-4e16-a258-62d16011b17c",
   "metadata": {},
   "outputs": [],
   "source": []
  }
 ],
 "metadata": {
  "environment": {
   "kernel": "python3",
   "name": ".m119",
   "type": "gcloud",
   "uri": "us-docker.pkg.dev/deeplearning-platform-release/gcr.io/:m119"
  },
  "kernelspec": {
   "display_name": "Python 3",
   "language": "python",
   "name": "python3"
  },
  "language_info": {
   "codemirror_mode": {
    "name": "ipython",
    "version": 3
   },
   "file_extension": ".py",
   "mimetype": "text/x-python",
   "name": "python",
   "nbconvert_exporter": "python",
   "pygments_lexer": "ipython3",
   "version": "3.10.14"
  },
  "toc-autonumbering": true,
  "toc-showcode": false,
  "toc-showmarkdowntxt": false
 },
 "nbformat": 4,
 "nbformat_minor": 5
}
