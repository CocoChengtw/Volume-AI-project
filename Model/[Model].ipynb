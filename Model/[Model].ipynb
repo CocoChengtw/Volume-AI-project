{
 "cells": [
  {
   "cell_type": "code",
   "execution_count": 1,
   "id": "4da0cd0d-476d-49db-8095-e587c6e4d762",
   "metadata": {
    "tags": []
   },
   "outputs": [],
   "source": [
    "# !gsutil cp -r gs://volume_ai_1yr_daily_data/* /home/jupyter/lstm/"
   ]
  },
  {
   "cell_type": "code",
   "execution_count": null,
   "id": "1383dc60-bc41-4b25-a404-4ba57a87282f",
   "metadata": {
    "collapsed": true,
    "jupyter": {
     "outputs_hidden": true
    },
    "tags": []
   },
   "outputs": [],
   "source": [
    "# !pip install captum"
   ]
  },
  {
   "cell_type": "markdown",
   "id": "b2d50e4e-5aad-43f1-acad-6a8c9f6b9ab3",
   "metadata": {},
   "source": [
    "## Install Package"
   ]
  },
  {
   "cell_type": "code",
   "execution_count": 1,
   "id": "b825cdd6-e04f-482b-97a6-9725630ec112",
   "metadata": {
    "tags": []
   },
   "outputs": [],
   "source": [
    "import pandas as pd\n",
    "import numpy as np\n",
    "from sklearn.preprocessing import MinMaxScaler, StandardScaler\n",
    "from sklearn.model_selection import train_test_split\n",
    "import torch\n",
    "import torch.nn as nn\n",
    "import torch.optim as optim\n",
    "import tqdm\n",
    "from plotnine import *\n",
    "from plotnine.data import *\n",
    "import random\n",
    "from sklearn.utils import resample\n",
    "from torch.utils.data import DataLoader, TensorDataset\n",
    "from sklearn.metrics import classification_report\n",
    "from sklearn.metrics import roc_curve, auc\n",
    "import matplotlib.pyplot as plt\n",
    "from torch.optim.lr_scheduler import ExponentialLR, OneCycleLR\n",
    "from captum.attr import IntegratedGradients\n",
    "from plotnine.data import *\n",
    "import seaborn as sns\n",
    "import gc"
   ]
  },
  {
   "cell_type": "markdown",
   "id": "2d3e7828-bb07-4085-8eb9-d15717bdf301",
   "metadata": {},
   "source": [
    "## Import Training Data"
   ]
  },
  {
   "cell_type": "code",
   "execution_count": 5,
   "id": "25af9aa3-1fe3-46fc-80cd-7f4e2ad592c9",
   "metadata": {
    "tags": []
   },
   "outputs": [],
   "source": [
    "X_30d_minmaxscaler = np.load('/home/jupyter/lstm/training_array/X_30d_minmaxscaler_feaonly_first4mon_202401_03.npy')\n",
    "y_30d_minmaxscaler = np.load('/home/jupyter/lstm/training_array/y_30d_minmaxscaler_feaonly_first4mon_202401_03.npy')"
   ]
  },
  {
   "cell_type": "code",
   "execution_count": 28,
   "id": "edd6b70c-a129-43ef-b8bd-eb63261f1762",
   "metadata": {
    "tags": []
   },
   "outputs": [],
   "source": [
    "user_df_minmaxscaler = np.load('/home/jupyter/lstm/training_array/static_array_first4mon_202401_03.npy')"
   ]
  },
  {
   "cell_type": "markdown",
   "id": "7d2dccde-46f9-44e0-a2fd-df5adc79d9ac",
   "metadata": {},
   "source": [
    "### Split Train-Test data"
   ]
  },
  {
   "cell_type": "code",
   "execution_count": 6,
   "id": "6a0b04da-9c25-4362-9b27-1bc1faaaa1f2",
   "metadata": {
    "tags": []
   },
   "outputs": [],
   "source": [
    "X_train_all, X_test, y_train_all, y_test, fea_train_all, fea_test = train_test_split(X_30d_minmaxscaler, y_30d_minmaxscaler, user_array, test_size=0.2, random_state=42)\n",
    "X_train, X_val, y_train, y_val, fea_train, fea_val = train_test_split(X_train_all, y_train_all, fea_train_all, test_size=0.1, random_state=42)"
   ]
  },
  {
   "cell_type": "code",
   "execution_count": 7,
   "id": "ebc64340-a765-40f1-a9fa-a0c96c26f58a",
   "metadata": {
    "tags": []
   },
   "outputs": [
    {
     "data": {
      "text/plain": [
       "0.8392102252946735"
      ]
     },
     "execution_count": 7,
     "metadata": {},
     "output_type": "execute_result"
    }
   ],
   "source": [
    "y_train.sum()/len(y_train)"
   ]
  },
  {
   "cell_type": "code",
   "execution_count": 8,
   "id": "48041ca6-6049-4a4a-8a5f-eec9b76eef55",
   "metadata": {
    "tags": []
   },
   "outputs": [
    {
     "data": {
      "text/plain": [
       "0.8376152537821144"
      ]
     },
     "execution_count": 8,
     "metadata": {},
     "output_type": "execute_result"
    }
   ],
   "source": [
    "y_test.sum()/len(y_test)"
   ]
  },
  {
   "cell_type": "code",
   "execution_count": 9,
   "id": "8fd5a595-5200-4cdf-9da2-954e6a31f981",
   "metadata": {
    "tags": []
   },
   "outputs": [
    {
     "data": {
      "text/plain": [
       "0.8379950771984784"
      ]
     },
     "execution_count": 9,
     "metadata": {},
     "output_type": "execute_result"
    }
   ],
   "source": [
    "y_val.sum()/len(y_val)"
   ]
  },
  {
   "cell_type": "code",
   "execution_count": 13,
   "id": "3cb1dc65-cf7f-4022-9bcd-b2b6b85da77a",
   "metadata": {
    "tags": []
   },
   "outputs": [],
   "source": [
    "X_train = torch.from_numpy(X_train).float()\n",
    "y_train = torch.from_numpy(y_train).float().unsqueeze(-1)\n",
    "fea_train = torch.from_numpy(fea_train).float()\n",
    "X_test = torch.from_numpy(X_test).float()\n",
    "y_test = torch.from_numpy(y_test).float().unsqueeze(-1)\n",
    "fea_test = torch.from_numpy(fea_test).float()\n",
    "X_val = torch.from_numpy(X_val).float()\n",
    "y_val = torch.from_numpy(y_val).float().unsqueeze(-1)\n",
    "fea_val = torch.from_numpy(fea_val).float()"
   ]
  },
  {
   "cell_type": "markdown",
   "id": "f774f9bb-ce02-4bf7-b958-057f544f19dc",
   "metadata": {},
   "source": [
    "## Performance Evaluation Function"
   ]
  },
  {
   "cell_type": "code",
   "execution_count": 15,
   "id": "745695f4-19fb-4653-8ed2-12b7d66ee181",
   "metadata": {
    "tags": []
   },
   "outputs": [],
   "source": [
    "def evaluate_model(model, X_test, y_test, fea_test):\n",
    "    model.eval()\n",
    "    with torch.no_grad():\n",
    "        y_test_list = []\n",
    "        y_pred_list = [] \n",
    "        for seq, labels, feature in zip(X_test, y_test, fea_test):\n",
    "            seq, labels, feature = seq.to(device).float(), labels.to(device).float(), feature.to(device).float()\n",
    "            y_pred = model(seq.unsqueeze(0), feature.unsqueeze(0))\n",
    "            y_pred = (y_pred > 0.5).float()\n",
    "            \n",
    "            y_test_list.append(labels.squeeze().tolist())\n",
    "            y_pred_list.append(y_pred.squeeze().tolist())\n",
    "    \n",
    "    \n",
    "    target_names = ['Non-Active', 'Active']\n",
    "    print(classification_report(y_test_list, y_pred_list, target_names=target_names))"
   ]
  },
  {
   "cell_type": "markdown",
   "id": "9d426d30",
   "metadata": {},
   "source": [
    "## GRU Model, Add Static feature layer"
   ]
  },
  {
   "cell_type": "code",
   "execution_count": null,
   "id": "7a854942",
   "metadata": {},
   "outputs": [],
   "source": [
    "device = torch.device('cuda' if torch.cuda.is_available() else 'cpu')"
   ]
  },
  {
   "cell_type": "code",
   "execution_count": null,
   "id": "e8ec7def",
   "metadata": {},
   "outputs": [],
   "source": [
    "batch_size = 32\n",
    "\n",
    "dataset_train = TensorDataset(X_train, y_train, fea_train)\n",
    "dataloader_train = DataLoader(dataset_train, batch_size=batch_size, shuffle=True)\n",
    "\n",
    "dataset_val = TensorDataset(X_val, y_val, fea_val)\n",
    "dataloader_val = DataLoader(dataset_val, batch_size=batch_size, shuffle=True)"
   ]
  },
  {
   "cell_type": "code",
   "execution_count": null,
   "id": "424542b3",
   "metadata": {},
   "outputs": [],
   "source": [
    "class GRUModel(nn.Module):\n",
    "    def __init__(self, input_dim, hidden_dim, output_dim, feature_dim, num_layers=2):\n",
    "        super(GRUModel, self).__init__()\n",
    "        self.relu = nn.ReLU()\n",
    "        self.dropout = nn.Dropout(p=0.5)\n",
    "        self.extracter = nn.Linear(input_dim, input_dim)\n",
    "        self.gru = nn.GRU(input_dim, hidden_dim, num_layers, batch_first=True)\n",
    "        self.mid_fc = nn.Linear(hidden_dim, hidden_dim)\n",
    "        # self.fc = nn.Linear(hidden_dim, output_dim)\n",
    "        self.fc = nn.Linear(hidden_dim + feature_dim, output_dim)\n",
    "    \n",
    "    def forward(self, x, important_features):\n",
    "        # x: (batch_size, seq_len, input_dim)\n",
    "        x = self.dropout(self.relu(self.extracter(x)))\n",
    "        output, hidden = self.gru(x)\n",
    "        mid_output = self.dropout(self.relu(self.mid_fc(output[:, -1, :])))\n",
    "        concat_input = torch.cat((mid_output, important_features), dim=1)  # (batch_size, hidden_dim + feature_dim)\n",
    "        output = torch.sigmoid(self.fc(concat_input))\n",
    "        return output"
   ]
  },
  {
   "cell_type": "code",
   "execution_count": null,
   "id": "11fff4e1",
   "metadata": {},
   "outputs": [],
   "source": [
    "model = GRUModel(input_dim=X_train.shape[2], hidden_dim=128, output_dim=y_train.shape[1], feature_dim=fea_train.shape[1]).to(device) # input_dim, hidden_dim, output_dim\n",
    "\n",
    "# Loss function & Optimizer\n",
    "loss_function = nn.BCELoss()\n",
    "optimizer = torch.optim.AdamW(model.parameters(), lr=0.00001, weight_decay=0.01) # , weight_decay=0.01\n",
    "\n",
    "# Learning rate scheduler\n",
    "epochs = 100\n",
    "total_steps = len(dataloader_train) * epochs\n",
    "scheduler = OneCycleLR(optimizer, max_lr=0.0001, total_steps=total_steps, epochs=epochs)"
   ]
  },
  {
   "cell_type": "code",
   "execution_count": null,
   "id": "8364a525",
   "metadata": {},
   "outputs": [],
   "source": [
    "def train_model(model, optimizer, dataloader_train, dataloader_val, scheduler, epochs):\n",
    "    \n",
    "    # patience = 20\n",
    "    best_val_loss = float('inf')\n",
    "    # counter = 0\n",
    "    # epoch = 0\n",
    "\n",
    "    train_losses = []\n",
    "    val_losses = []\n",
    "    \n",
    "    for epoch in tqdm.tqdm(range(epochs)):\n",
    "        model.train()\n",
    "        epoch += 1\n",
    "        for batch in dataloader_train:\n",
    "            seqs, labels, features = batch\n",
    "            seqs, labels, features = seqs.to(device).float(), labels.to(device).float(), features.to(device).float(),\n",
    "            optimizer.zero_grad()\n",
    "\n",
    "            y_pred = model(seqs, features)\n",
    "            loss = loss_function(y_pred, labels)\n",
    "            loss.backward()\n",
    "            optimizer.step()\n",
    "            scheduler.step()\n",
    "        \n",
    "        train_losses.append(loss.item())\n",
    "        \n",
    "        \n",
    "        model.eval()\n",
    "        with torch.no_grad():\n",
    "            for batch in dataloader_val:\n",
    "                seqs, labels, features = batch\n",
    "                seqs, labels, features = seqs.to(device).float(), labels.to(device).float(), features.to(device).float(),\n",
    "                val_pred = model(seqs, features)\n",
    "                val_pred = val_pred\n",
    "                labels = labels\n",
    "                val_loss = loss_function(val_pred, labels)\n",
    "            val_losses.append(val_loss.item())\n",
    "        \n",
    "        if epoch % 10 == 0:\n",
    "            print(f'Epoch {epoch:3}, Train Loss: {loss.item():10.8f}, Val Loss: {val_loss.item():10.8f}')\n",
    "            current_lr = scheduler.get_last_lr()[0]\n",
    "            print(f'Epoch {epoch:3}, Loss: {loss.item()}, Learning Rate: {current_lr}')\n",
    "\n",
    "\n",
    "                \n",
    "        # best model weight\n",
    "        if val_loss < best_val_loss:\n",
    "            best_val_loss = val_loss\n",
    "            torch.save(model.state_dict(), f'/home/jupyter/lstm/model/gru_best_model_weightdecay001_staticfea_first4mon.pt')\n",
    "    \n",
    "    \n",
    "    plt.plot(list(range(1, epochs+1, 1)), val_losses)\n",
    "    plt.plot(list(range(1, epochs+1, 1)), train_losses)\n",
    "    plt.xlabel('Model Complexity')\n",
    "    plt.ylabel('Validation Loss')\n",
    "    plt.title('Validation Loss vs. Model Complexity')\n",
    "    plt.show()"
   ]
  },
  {
   "cell_type": "markdown",
   "metadata": {},
   "source": [
    "### Static Data Concat"
   ]
  },
  {
   "cell_type": "markdown",
   "metadata": {},
   "source": [
    "#### Final Model"
   ]
  },
  {
   "cell_type": "code",
   "execution_count": null,
   "metadata": {},
   "outputs": [
    {
     "name": "stderr",
     "output_type": "stream",
     "text": [
      " 10%|█         | 10/100 [00:38<05:47,  3.86s/it]"
     ]
    },
    {
     "name": "stdout",
     "output_type": "stream",
     "text": [
      "Epoch  10, Train Loss: 0.17129144, Val Loss: 0.33350199\n",
      "Epoch  10, Loss: 0.17129144072532654, Learning Rate: 2.800115440700391e-05\n"
     ]
    },
    {
     "name": "stderr",
     "output_type": "stream",
     "text": [
      " 20%|██        | 20/100 [01:17<05:07,  3.85s/it]"
     ]
    },
    {
     "name": "stdout",
     "output_type": "stream",
     "text": [
      "Epoch  20, Train Loss: 0.29069829, Val Loss: 0.29834172\n",
      "Epoch  20, Loss: 0.2906982898712158, Learning Rate: 7.60023087584805e-05\n"
     ]
    },
    {
     "name": "stderr",
     "output_type": "stream",
     "text": [
      " 30%|███       | 30/100 [01:55<04:28,  3.83s/it]"
     ]
    },
    {
     "name": "stdout",
     "output_type": "stream",
     "text": [
      "Epoch  30, Train Loss: 0.29749402, Val Loss: 0.12137920\n",
      "Epoch  30, Loss: 0.2974940240383148, Learning Rate: 9.999999996813078e-05\n"
     ]
    },
    {
     "name": "stderr",
     "output_type": "stream",
     "text": [
      " 40%|████      | 40/100 [02:34<03:49,  3.82s/it]"
     ]
    },
    {
     "name": "stdout",
     "output_type": "stream",
     "text": [
      "Epoch  40, Train Loss: 0.25750342, Val Loss: 0.27815869\n",
      "Epoch  40, Loss: 0.2575034201145172, Learning Rate: 9.504768860705023e-05\n"
     ]
    },
    {
     "name": "stderr",
     "output_type": "stream",
     "text": [
      " 50%|█████     | 50/100 [03:12<03:11,  3.83s/it]"
     ]
    },
    {
     "name": "stdout",
     "output_type": "stream",
     "text": [
      "Epoch  50, Train Loss: 0.21424437, Val Loss: 0.24807462\n",
      "Epoch  50, Loss: 0.21424436569213867, Learning Rate: 8.117316965615154e-05\n"
     ]
    },
    {
     "name": "stderr",
     "output_type": "stream",
     "text": [
      " 60%|██████    | 60/100 [03:50<02:32,  3.82s/it]"
     ]
    },
    {
     "name": "stdout",
     "output_type": "stream",
     "text": [
      "Epoch  60, Train Loss: 0.17890437, Val Loss: 0.18598947\n",
      "Epoch  60, Loss: 0.17890436947345734, Learning Rate: 6.112446175346842e-05\n"
     ]
    },
    {
     "name": "stderr",
     "output_type": "stream",
     "text": [
      " 70%|███████   | 70/100 [04:28<01:54,  3.80s/it]"
     ]
    },
    {
     "name": "stdout",
     "output_type": "stream",
     "text": [
      "Epoch  70, Train Loss: 0.27366138, Val Loss: 0.27417797\n",
      "Epoch  70, Loss: 0.27366137504577637, Learning Rate: 3.88724573803937e-05\n"
     ]
    },
    {
     "name": "stderr",
     "output_type": "stream",
     "text": [
      " 80%|████████  | 80/100 [05:07<01:17,  3.87s/it]"
     ]
    },
    {
     "name": "stdout",
     "output_type": "stream",
     "text": [
      "Epoch  80, Train Loss: 0.32966918, Val Loss: 0.26438719\n",
      "Epoch  80, Loss: 0.32966917753219604, Learning Rate: 1.8824438905939206e-05\n"
     ]
    },
    {
     "name": "stderr",
     "output_type": "stream",
     "text": [
      " 90%|█████████ | 90/100 [05:45<00:38,  3.83s/it]"
     ]
    },
    {
     "name": "stdout",
     "output_type": "stream",
     "text": [
      "Epoch  90, Train Loss: 0.35073099, Val Loss: 0.10550983\n",
      "Epoch  90, Loss: 0.3507309854030609, Learning Rate: 4.951162261781821e-06\n"
     ]
    },
    {
     "name": "stderr",
     "output_type": "stream",
     "text": [
      "100%|██████████| 100/100 [06:24<00:00,  3.84s/it]"
     ]
    },
    {
     "name": "stdout",
     "output_type": "stream",
     "text": [
      "Epoch 100, Train Loss: 0.19502337, Val Loss: 0.14021774\n",
      "Epoch 100, Loss: 0.19502337276935577, Learning Rate: 4.000318692185736e-10\n"
     ]
    },
    {
     "name": "stderr",
     "output_type": "stream",
     "text": [
      "\n"
     ]
    },
    {
     "data": {
      "image/png": "[encoded data removed]",
      "text/plain": [
       "<Figure size 640x480 with 1 Axes>"
      ]
     },
     "metadata": {},
     "output_type": "display_data"
    }
   ],
   "source": [
    "# Min-max Scaler (Final Version)\n",
    "train_model(model, optimizer, dataloader_train, dataloader_val, scheduler, epochs)"
   ]
  },
  {
   "cell_type": "code",
   "execution_count": null,
   "metadata": {},
   "outputs": [
    {
     "data": {
      "text/plain": [
       "<All keys matched successfully>"
      ]
     },
     "metadata": {},
     "output_type": "display_data"
    }
   ],
   "source": [
    "best_model_path = '/home/jupyter/lstm/model/gru_best_model_weightdecay001_staticfea3.pt'\n",
    "best_model = GRUModel(input_dim=X_train.shape[2], hidden_dim=128, output_dim=y_train.shape[1], feature_dim=fea_train.shape[1]).to(device)\n",
    "best_model.load_state_dict(torch.load(best_model_path))"
   ]
  },
  {
   "cell_type": "code",
   "execution_count": null,
   "metadata": {},
   "outputs": [
    {
     "name": "stdout",
     "output_type": "stream",
     "text": [
      "              precision    recall  f1-score   support\n",
      "\n",
      "  Non-Active       0.77      0.72      0.74      2080\n",
      "      Active       0.94      0.95      0.94      9091\n",
      "\n",
      "    accuracy                           0.91     11171\n",
      "   macro avg       0.85      0.84      0.84     11171\n",
      "weighted avg       0.91      0.91      0.91     11171\n",
      "\n"
     ]
    }
   ],
   "source": [
    "evaluate_model(model, X_test, y_test, fea_test)"
   ]
  },
  {
   "cell_type": "code",
   "execution_count": null,
   "metadata": {},
   "outputs": [
    {
     "name": "stdout",
     "output_type": "stream",
     "text": [
      "              precision    recall  f1-score   support\n",
      "\n",
      "  Non-Active       0.79      0.73      0.76      7503\n",
      "      Active       0.94      0.96      0.95     32711\n",
      "\n",
      "    accuracy                           0.91     40214\n",
      "   macro avg       0.87      0.84      0.85     40214\n",
      "weighted avg       0.91      0.91      0.91     40214\n",
      "\n"
     ]
    }
   ],
   "source": [
    "evaluate_model(best_model, X_train, y_train, fea_train)"
   ]
  },
  {
   "cell_type": "code",
   "execution_count": null,
   "metadata": {},
   "outputs": [
    {
     "name": "stdout",
     "output_type": "stream",
     "text": [
      "              precision    recall  f1-score   support\n",
      "\n",
      "  Non-Active       0.79      0.71      0.75       842\n",
      "      Active       0.93      0.96      0.94      3627\n",
      "\n",
      "    accuracy                           0.91      4469\n",
      "   macro avg       0.86      0.83      0.85      4469\n",
      "weighted avg       0.91      0.91      0.91      4469\n",
      "\n"
     ]
    }
   ],
   "source": [
    "evaluate_model(best_model, X_val, y_val, fea_val)"
   ]
  },
  {
   "cell_type": "code",
   "execution_count": null,
   "metadata": {},
   "outputs": [
    {
     "name": "stdout",
     "output_type": "stream",
     "text": [
      "              precision    recall  f1-score   support\n",
      "\n",
      "  Non-Active       0.80      0.68      0.73      2080\n",
      "      Active       0.93      0.96      0.94      9091\n",
      "\n",
      "    accuracy                           0.91     11171\n",
      "   macro avg       0.86      0.82      0.84     11171\n",
      "weighted avg       0.90      0.91      0.90     11171\n",
      "\n"
     ]
    }
   ],
   "source": [
    "## Final Model\n",
    "# Min-max Scaler\n",
    "best_model.eval()\n",
    "with torch.no_grad():\n",
    "    y_test_list = []\n",
    "    y_pred_list = [] \n",
    "    for seq, labels, feature in zip(X_test, y_test, fea_test):\n",
    "        seq, labels, feature = seq.to(device).float(), labels.to(device).float(), feature.to(device).float()\n",
    "        y_pred = best_model(seq.unsqueeze(0), feature.unsqueeze(0))\n",
    "        y_pred = (y_pred > 0.45).float()\n",
    "\n",
    "        y_test_list.append(labels.squeeze().tolist())\n",
    "        y_pred_list.append(y_pred.squeeze().tolist())\n",
    "\n",
    "\n",
    "target_names = ['Non-Active', 'Active']\n",
    "print(classification_report(y_test_list, y_pred_list, target_names=target_names))"
   ]
  }
 ],
 "metadata": {
  "environment": {
   "kernel": "python3",
   "name": ".m119",
   "type": "gcloud",
   "uri": "us-docker.pkg.dev/deeplearning-platform-release/gcr.io/:m119"
  },
  "kernelspec": {
   "display_name": "Python 3",
   "language": "python",
   "name": "python3"
  },
  "language_info": {
   "codemirror_mode": {
    "name": "ipython",
    "version": 3
   },
   "file_extension": ".py",
   "mimetype": "text/x-python",
   "name": "python",
   "nbconvert_exporter": "python",
   "pygments_lexer": "ipython3",
   "version": "3.10.12"
  },
  "toc-autonumbering": true,
  "toc-showcode": false,
  "toc-showmarkdowntxt": false
 },
 "nbformat": 4,
 "nbformat_minor": 5
}
